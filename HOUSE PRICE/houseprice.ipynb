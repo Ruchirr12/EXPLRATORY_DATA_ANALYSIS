{
  "nbformat": 4,
  "nbformat_minor": 0,
  "metadata": {
    "colab": {
      "provenance": []
    },
    "kernelspec": {
      "name": "python3",
      "display_name": "Python 3"
    },
    "language_info": {
      "name": "python"
    }
  },
  "cells": [
    {
      "cell_type": "code",
      "execution_count": null,
      "metadata": {
        "id": "rfoGQKKZniNs"
      },
      "outputs": [],
      "source": [
        "import pandas as pd\n",
        "import numpy as np"
      ]
    },
    {
      "cell_type": "code",
      "source": [
        "df = pd.read_csv(\"house_prices.csv\")"
      ],
      "metadata": {
        "id": "DuxkyXuIn6qq"
      },
      "execution_count": null,
      "outputs": []
    },
    {
      "cell_type": "code",
      "source": [
        "df"
      ],
      "metadata": {
        "colab": {
          "base_uri": "https://localhost:8080/",
          "height": 487
        },
        "id": "ue941vgFoDuk",
        "outputId": "433a8240-e358-4d4c-ad74-318bb1fc5d67"
      },
      "execution_count": null,
      "outputs": [
        {
          "output_type": "execute_result",
          "data": {
            "text/plain": [
              "      LotFrontage  LotArea  OverallQual  OverallCond  YearBuilt  YearRemodAdd  \\\n",
              "0            65.0     8450            7            5       2003          2003   \n",
              "1            80.0     9600            6            8       1976          1976   \n",
              "2            68.0    11250            7            5       2001          2002   \n",
              "3            60.0     9550            7            5       1915          1970   \n",
              "4            84.0    14260            8            5       2000          2000   \n",
              "...           ...      ...          ...          ...        ...           ...   \n",
              "1374         62.0     7917            6            5       1999          2000   \n",
              "1375         85.0    13175            6            6       1978          1988   \n",
              "1376         66.0     9042            7            9       1941          2006   \n",
              "1377         68.0     9717            5            6       1950          1996   \n",
              "1378         75.0     9937            5            6       1965          1965   \n",
              "\n",
              "      MasVnrArea  BsmtFinSF1  BsmtFinSF2  BsmtUnfSF  ...  GarageArea  \\\n",
              "0          196.0         706           0        150  ...         548   \n",
              "1            0.0         978           0        284  ...         460   \n",
              "2          162.0         486           0        434  ...         608   \n",
              "3            0.0         216           0        540  ...         642   \n",
              "4          350.0         655           0        490  ...         836   \n",
              "...          ...         ...         ...        ...  ...         ...   \n",
              "1374         0.0           0           0        953  ...         460   \n",
              "1375       119.0         790         163        589  ...         500   \n",
              "1376         0.0         275           0        877  ...         252   \n",
              "1377         0.0          49        1029          0  ...         240   \n",
              "1378         0.0         830         290        136  ...         276   \n",
              "\n",
              "      WoodDeckSF  OpenPorchSF  EnclosedPorch  3SsnPorch  ScreenPorch  \\\n",
              "0              0           61              0          0            0   \n",
              "1            298            0              0          0            0   \n",
              "2              0           42              0          0            0   \n",
              "3              0           35            272          0            0   \n",
              "4            192           84              0          0            0   \n",
              "...          ...          ...            ...        ...          ...   \n",
              "1374           0           40              0          0            0   \n",
              "1375         349            0              0          0            0   \n",
              "1376           0           60              0          0            0   \n",
              "1377         366            0            112          0            0   \n",
              "1378         736           68              0          0            0   \n",
              "\n",
              "      PoolArea  MiscVal  YrSold  SalePrice  \n",
              "0            0        0    2008     208500  \n",
              "1            0        0    2007     181500  \n",
              "2            0        0    2008     223500  \n",
              "3            0        0    2006     140000  \n",
              "4            0        0    2008     250000  \n",
              "...        ...      ...     ...        ...  \n",
              "1374         0        0    2007     175000  \n",
              "1375         0        0    2010     210000  \n",
              "1376         0     2500    2010     266500  \n",
              "1377         0        0    2010     142125  \n",
              "1378         0        0    2008     147500  \n",
              "\n",
              "[1379 rows x 35 columns]"
            ],
            "text/html": [
              "\n",
              "  <div id=\"df-cf79e1c9-23cb-439d-a250-5bf7bf570803\">\n",
              "    <div class=\"colab-df-container\">\n",
              "      <div>\n",
              "<style scoped>\n",
              "    .dataframe tbody tr th:only-of-type {\n",
              "        vertical-align: middle;\n",
              "    }\n",
              "\n",
              "    .dataframe tbody tr th {\n",
              "        vertical-align: top;\n",
              "    }\n",
              "\n",
              "    .dataframe thead th {\n",
              "        text-align: right;\n",
              "    }\n",
              "</style>\n",
              "<table border=\"1\" class=\"dataframe\">\n",
              "  <thead>\n",
              "    <tr style=\"text-align: right;\">\n",
              "      <th></th>\n",
              "      <th>LotFrontage</th>\n",
              "      <th>LotArea</th>\n",
              "      <th>OverallQual</th>\n",
              "      <th>OverallCond</th>\n",
              "      <th>YearBuilt</th>\n",
              "      <th>YearRemodAdd</th>\n",
              "      <th>MasVnrArea</th>\n",
              "      <th>BsmtFinSF1</th>\n",
              "      <th>BsmtFinSF2</th>\n",
              "      <th>BsmtUnfSF</th>\n",
              "      <th>...</th>\n",
              "      <th>GarageArea</th>\n",
              "      <th>WoodDeckSF</th>\n",
              "      <th>OpenPorchSF</th>\n",
              "      <th>EnclosedPorch</th>\n",
              "      <th>3SsnPorch</th>\n",
              "      <th>ScreenPorch</th>\n",
              "      <th>PoolArea</th>\n",
              "      <th>MiscVal</th>\n",
              "      <th>YrSold</th>\n",
              "      <th>SalePrice</th>\n",
              "    </tr>\n",
              "  </thead>\n",
              "  <tbody>\n",
              "    <tr>\n",
              "      <th>0</th>\n",
              "      <td>65.0</td>\n",
              "      <td>8450</td>\n",
              "      <td>7</td>\n",
              "      <td>5</td>\n",
              "      <td>2003</td>\n",
              "      <td>2003</td>\n",
              "      <td>196.0</td>\n",
              "      <td>706</td>\n",
              "      <td>0</td>\n",
              "      <td>150</td>\n",
              "      <td>...</td>\n",
              "      <td>548</td>\n",
              "      <td>0</td>\n",
              "      <td>61</td>\n",
              "      <td>0</td>\n",
              "      <td>0</td>\n",
              "      <td>0</td>\n",
              "      <td>0</td>\n",
              "      <td>0</td>\n",
              "      <td>2008</td>\n",
              "      <td>208500</td>\n",
              "    </tr>\n",
              "    <tr>\n",
              "      <th>1</th>\n",
              "      <td>80.0</td>\n",
              "      <td>9600</td>\n",
              "      <td>6</td>\n",
              "      <td>8</td>\n",
              "      <td>1976</td>\n",
              "      <td>1976</td>\n",
              "      <td>0.0</td>\n",
              "      <td>978</td>\n",
              "      <td>0</td>\n",
              "      <td>284</td>\n",
              "      <td>...</td>\n",
              "      <td>460</td>\n",
              "      <td>298</td>\n",
              "      <td>0</td>\n",
              "      <td>0</td>\n",
              "      <td>0</td>\n",
              "      <td>0</td>\n",
              "      <td>0</td>\n",
              "      <td>0</td>\n",
              "      <td>2007</td>\n",
              "      <td>181500</td>\n",
              "    </tr>\n",
              "    <tr>\n",
              "      <th>2</th>\n",
              "      <td>68.0</td>\n",
              "      <td>11250</td>\n",
              "      <td>7</td>\n",
              "      <td>5</td>\n",
              "      <td>2001</td>\n",
              "      <td>2002</td>\n",
              "      <td>162.0</td>\n",
              "      <td>486</td>\n",
              "      <td>0</td>\n",
              "      <td>434</td>\n",
              "      <td>...</td>\n",
              "      <td>608</td>\n",
              "      <td>0</td>\n",
              "      <td>42</td>\n",
              "      <td>0</td>\n",
              "      <td>0</td>\n",
              "      <td>0</td>\n",
              "      <td>0</td>\n",
              "      <td>0</td>\n",
              "      <td>2008</td>\n",
              "      <td>223500</td>\n",
              "    </tr>\n",
              "    <tr>\n",
              "      <th>3</th>\n",
              "      <td>60.0</td>\n",
              "      <td>9550</td>\n",
              "      <td>7</td>\n",
              "      <td>5</td>\n",
              "      <td>1915</td>\n",
              "      <td>1970</td>\n",
              "      <td>0.0</td>\n",
              "      <td>216</td>\n",
              "      <td>0</td>\n",
              "      <td>540</td>\n",
              "      <td>...</td>\n",
              "      <td>642</td>\n",
              "      <td>0</td>\n",
              "      <td>35</td>\n",
              "      <td>272</td>\n",
              "      <td>0</td>\n",
              "      <td>0</td>\n",
              "      <td>0</td>\n",
              "      <td>0</td>\n",
              "      <td>2006</td>\n",
              "      <td>140000</td>\n",
              "    </tr>\n",
              "    <tr>\n",
              "      <th>4</th>\n",
              "      <td>84.0</td>\n",
              "      <td>14260</td>\n",
              "      <td>8</td>\n",
              "      <td>5</td>\n",
              "      <td>2000</td>\n",
              "      <td>2000</td>\n",
              "      <td>350.0</td>\n",
              "      <td>655</td>\n",
              "      <td>0</td>\n",
              "      <td>490</td>\n",
              "      <td>...</td>\n",
              "      <td>836</td>\n",
              "      <td>192</td>\n",
              "      <td>84</td>\n",
              "      <td>0</td>\n",
              "      <td>0</td>\n",
              "      <td>0</td>\n",
              "      <td>0</td>\n",
              "      <td>0</td>\n",
              "      <td>2008</td>\n",
              "      <td>250000</td>\n",
              "    </tr>\n",
              "    <tr>\n",
              "      <th>...</th>\n",
              "      <td>...</td>\n",
              "      <td>...</td>\n",
              "      <td>...</td>\n",
              "      <td>...</td>\n",
              "      <td>...</td>\n",
              "      <td>...</td>\n",
              "      <td>...</td>\n",
              "      <td>...</td>\n",
              "      <td>...</td>\n",
              "      <td>...</td>\n",
              "      <td>...</td>\n",
              "      <td>...</td>\n",
              "      <td>...</td>\n",
              "      <td>...</td>\n",
              "      <td>...</td>\n",
              "      <td>...</td>\n",
              "      <td>...</td>\n",
              "      <td>...</td>\n",
              "      <td>...</td>\n",
              "      <td>...</td>\n",
              "      <td>...</td>\n",
              "    </tr>\n",
              "    <tr>\n",
              "      <th>1374</th>\n",
              "      <td>62.0</td>\n",
              "      <td>7917</td>\n",
              "      <td>6</td>\n",
              "      <td>5</td>\n",
              "      <td>1999</td>\n",
              "      <td>2000</td>\n",
              "      <td>0.0</td>\n",
              "      <td>0</td>\n",
              "      <td>0</td>\n",
              "      <td>953</td>\n",
              "      <td>...</td>\n",
              "      <td>460</td>\n",
              "      <td>0</td>\n",
              "      <td>40</td>\n",
              "      <td>0</td>\n",
              "      <td>0</td>\n",
              "      <td>0</td>\n",
              "      <td>0</td>\n",
              "      <td>0</td>\n",
              "      <td>2007</td>\n",
              "      <td>175000</td>\n",
              "    </tr>\n",
              "    <tr>\n",
              "      <th>1375</th>\n",
              "      <td>85.0</td>\n",
              "      <td>13175</td>\n",
              "      <td>6</td>\n",
              "      <td>6</td>\n",
              "      <td>1978</td>\n",
              "      <td>1988</td>\n",
              "      <td>119.0</td>\n",
              "      <td>790</td>\n",
              "      <td>163</td>\n",
              "      <td>589</td>\n",
              "      <td>...</td>\n",
              "      <td>500</td>\n",
              "      <td>349</td>\n",
              "      <td>0</td>\n",
              "      <td>0</td>\n",
              "      <td>0</td>\n",
              "      <td>0</td>\n",
              "      <td>0</td>\n",
              "      <td>0</td>\n",
              "      <td>2010</td>\n",
              "      <td>210000</td>\n",
              "    </tr>\n",
              "    <tr>\n",
              "      <th>1376</th>\n",
              "      <td>66.0</td>\n",
              "      <td>9042</td>\n",
              "      <td>7</td>\n",
              "      <td>9</td>\n",
              "      <td>1941</td>\n",
              "      <td>2006</td>\n",
              "      <td>0.0</td>\n",
              "      <td>275</td>\n",
              "      <td>0</td>\n",
              "      <td>877</td>\n",
              "      <td>...</td>\n",
              "      <td>252</td>\n",
              "      <td>0</td>\n",
              "      <td>60</td>\n",
              "      <td>0</td>\n",
              "      <td>0</td>\n",
              "      <td>0</td>\n",
              "      <td>0</td>\n",
              "      <td>2500</td>\n",
              "      <td>2010</td>\n",
              "      <td>266500</td>\n",
              "    </tr>\n",
              "    <tr>\n",
              "      <th>1377</th>\n",
              "      <td>68.0</td>\n",
              "      <td>9717</td>\n",
              "      <td>5</td>\n",
              "      <td>6</td>\n",
              "      <td>1950</td>\n",
              "      <td>1996</td>\n",
              "      <td>0.0</td>\n",
              "      <td>49</td>\n",
              "      <td>1029</td>\n",
              "      <td>0</td>\n",
              "      <td>...</td>\n",
              "      <td>240</td>\n",
              "      <td>366</td>\n",
              "      <td>0</td>\n",
              "      <td>112</td>\n",
              "      <td>0</td>\n",
              "      <td>0</td>\n",
              "      <td>0</td>\n",
              "      <td>0</td>\n",
              "      <td>2010</td>\n",
              "      <td>142125</td>\n",
              "    </tr>\n",
              "    <tr>\n",
              "      <th>1378</th>\n",
              "      <td>75.0</td>\n",
              "      <td>9937</td>\n",
              "      <td>5</td>\n",
              "      <td>6</td>\n",
              "      <td>1965</td>\n",
              "      <td>1965</td>\n",
              "      <td>0.0</td>\n",
              "      <td>830</td>\n",
              "      <td>290</td>\n",
              "      <td>136</td>\n",
              "      <td>...</td>\n",
              "      <td>276</td>\n",
              "      <td>736</td>\n",
              "      <td>68</td>\n",
              "      <td>0</td>\n",
              "      <td>0</td>\n",
              "      <td>0</td>\n",
              "      <td>0</td>\n",
              "      <td>0</td>\n",
              "      <td>2008</td>\n",
              "      <td>147500</td>\n",
              "    </tr>\n",
              "  </tbody>\n",
              "</table>\n",
              "<p>1379 rows × 35 columns</p>\n",
              "</div>\n",
              "      <button class=\"colab-df-convert\" onclick=\"convertToInteractive('df-cf79e1c9-23cb-439d-a250-5bf7bf570803')\"\n",
              "              title=\"Convert this dataframe to an interactive table.\"\n",
              "              style=\"display:none;\">\n",
              "        \n",
              "  <svg xmlns=\"http://www.w3.org/2000/svg\" height=\"24px\"viewBox=\"0 0 24 24\"\n",
              "       width=\"24px\">\n",
              "    <path d=\"M0 0h24v24H0V0z\" fill=\"none\"/>\n",
              "    <path d=\"M18.56 5.44l.94 2.06.94-2.06 2.06-.94-2.06-.94-.94-2.06-.94 2.06-2.06.94zm-11 1L8.5 8.5l.94-2.06 2.06-.94-2.06-.94L8.5 2.5l-.94 2.06-2.06.94zm10 10l.94 2.06.94-2.06 2.06-.94-2.06-.94-.94-2.06-.94 2.06-2.06.94z\"/><path d=\"M17.41 7.96l-1.37-1.37c-.4-.4-.92-.59-1.43-.59-.52 0-1.04.2-1.43.59L10.3 9.45l-7.72 7.72c-.78.78-.78 2.05 0 2.83L4 21.41c.39.39.9.59 1.41.59.51 0 1.02-.2 1.41-.59l7.78-7.78 2.81-2.81c.8-.78.8-2.07 0-2.86zM5.41 20L4 18.59l7.72-7.72 1.47 1.35L5.41 20z\"/>\n",
              "  </svg>\n",
              "      </button>\n",
              "      \n",
              "  <style>\n",
              "    .colab-df-container {\n",
              "      display:flex;\n",
              "      flex-wrap:wrap;\n",
              "      gap: 12px;\n",
              "    }\n",
              "\n",
              "    .colab-df-convert {\n",
              "      background-color: #E8F0FE;\n",
              "      border: none;\n",
              "      border-radius: 50%;\n",
              "      cursor: pointer;\n",
              "      display: none;\n",
              "      fill: #1967D2;\n",
              "      height: 32px;\n",
              "      padding: 0 0 0 0;\n",
              "      width: 32px;\n",
              "    }\n",
              "\n",
              "    .colab-df-convert:hover {\n",
              "      background-color: #E2EBFA;\n",
              "      box-shadow: 0px 1px 2px rgba(60, 64, 67, 0.3), 0px 1px 3px 1px rgba(60, 64, 67, 0.15);\n",
              "      fill: #174EA6;\n",
              "    }\n",
              "\n",
              "    [theme=dark] .colab-df-convert {\n",
              "      background-color: #3B4455;\n",
              "      fill: #D2E3FC;\n",
              "    }\n",
              "\n",
              "    [theme=dark] .colab-df-convert:hover {\n",
              "      background-color: #434B5C;\n",
              "      box-shadow: 0px 1px 3px 1px rgba(0, 0, 0, 0.15);\n",
              "      filter: drop-shadow(0px 1px 2px rgba(0, 0, 0, 0.3));\n",
              "      fill: #FFFFFF;\n",
              "    }\n",
              "  </style>\n",
              "\n",
              "      <script>\n",
              "        const buttonEl =\n",
              "          document.querySelector('#df-cf79e1c9-23cb-439d-a250-5bf7bf570803 button.colab-df-convert');\n",
              "        buttonEl.style.display =\n",
              "          google.colab.kernel.accessAllowed ? 'block' : 'none';\n",
              "\n",
              "        async function convertToInteractive(key) {\n",
              "          const element = document.querySelector('#df-cf79e1c9-23cb-439d-a250-5bf7bf570803');\n",
              "          const dataTable =\n",
              "            await google.colab.kernel.invokeFunction('convertToInteractive',\n",
              "                                                     [key], {});\n",
              "          if (!dataTable) return;\n",
              "\n",
              "          const docLinkHtml = 'Like what you see? Visit the ' +\n",
              "            '<a target=\"_blank\" href=https://colab.research.google.com/notebooks/data_table.ipynb>data table notebook</a>'\n",
              "            + ' to learn more about interactive tables.';\n",
              "          element.innerHTML = '';\n",
              "          dataTable['output_type'] = 'display_data';\n",
              "          await google.colab.output.renderOutput(dataTable, element);\n",
              "          const docLink = document.createElement('div');\n",
              "          docLink.innerHTML = docLinkHtml;\n",
              "          element.appendChild(docLink);\n",
              "        }\n",
              "      </script>\n",
              "    </div>\n",
              "  </div>\n",
              "  "
            ]
          },
          "metadata": {},
          "execution_count": 3
        }
      ]
    },
    {
      "cell_type": "code",
      "source": [
        "df.tail()"
      ],
      "metadata": {
        "colab": {
          "base_uri": "https://localhost:8080/",
          "height": 299
        },
        "id": "mI5hl8xFoPuA",
        "outputId": "30ded722-9ad2-4666-9856-68309103e3a5"
      },
      "execution_count": null,
      "outputs": [
        {
          "output_type": "execute_result",
          "data": {
            "text/plain": [
              "      LotFrontage  LotArea  OverallQual  OverallCond  YearBuilt  YearRemodAdd  \\\n",
              "1374         62.0     7917            6            5       1999          2000   \n",
              "1375         85.0    13175            6            6       1978          1988   \n",
              "1376         66.0     9042            7            9       1941          2006   \n",
              "1377         68.0     9717            5            6       1950          1996   \n",
              "1378         75.0     9937            5            6       1965          1965   \n",
              "\n",
              "      MasVnrArea  BsmtFinSF1  BsmtFinSF2  BsmtUnfSF  ...  GarageArea  \\\n",
              "1374         0.0           0           0        953  ...         460   \n",
              "1375       119.0         790         163        589  ...         500   \n",
              "1376         0.0         275           0        877  ...         252   \n",
              "1377         0.0          49        1029          0  ...         240   \n",
              "1378         0.0         830         290        136  ...         276   \n",
              "\n",
              "      WoodDeckSF  OpenPorchSF  EnclosedPorch  3SsnPorch  ScreenPorch  \\\n",
              "1374           0           40              0          0            0   \n",
              "1375         349            0              0          0            0   \n",
              "1376           0           60              0          0            0   \n",
              "1377         366            0            112          0            0   \n",
              "1378         736           68              0          0            0   \n",
              "\n",
              "      PoolArea  MiscVal  YrSold  SalePrice  \n",
              "1374         0        0    2007     175000  \n",
              "1375         0        0    2010     210000  \n",
              "1376         0     2500    2010     266500  \n",
              "1377         0        0    2010     142125  \n",
              "1378         0        0    2008     147500  \n",
              "\n",
              "[5 rows x 35 columns]"
            ],
            "text/html": [
              "\n",
              "  <div id=\"df-ea2bd93b-5e2a-45e4-9b19-ec413cafdeb5\">\n",
              "    <div class=\"colab-df-container\">\n",
              "      <div>\n",
              "<style scoped>\n",
              "    .dataframe tbody tr th:only-of-type {\n",
              "        vertical-align: middle;\n",
              "    }\n",
              "\n",
              "    .dataframe tbody tr th {\n",
              "        vertical-align: top;\n",
              "    }\n",
              "\n",
              "    .dataframe thead th {\n",
              "        text-align: right;\n",
              "    }\n",
              "</style>\n",
              "<table border=\"1\" class=\"dataframe\">\n",
              "  <thead>\n",
              "    <tr style=\"text-align: right;\">\n",
              "      <th></th>\n",
              "      <th>LotFrontage</th>\n",
              "      <th>LotArea</th>\n",
              "      <th>OverallQual</th>\n",
              "      <th>OverallCond</th>\n",
              "      <th>YearBuilt</th>\n",
              "      <th>YearRemodAdd</th>\n",
              "      <th>MasVnrArea</th>\n",
              "      <th>BsmtFinSF1</th>\n",
              "      <th>BsmtFinSF2</th>\n",
              "      <th>BsmtUnfSF</th>\n",
              "      <th>...</th>\n",
              "      <th>GarageArea</th>\n",
              "      <th>WoodDeckSF</th>\n",
              "      <th>OpenPorchSF</th>\n",
              "      <th>EnclosedPorch</th>\n",
              "      <th>3SsnPorch</th>\n",
              "      <th>ScreenPorch</th>\n",
              "      <th>PoolArea</th>\n",
              "      <th>MiscVal</th>\n",
              "      <th>YrSold</th>\n",
              "      <th>SalePrice</th>\n",
              "    </tr>\n",
              "  </thead>\n",
              "  <tbody>\n",
              "    <tr>\n",
              "      <th>1374</th>\n",
              "      <td>62.0</td>\n",
              "      <td>7917</td>\n",
              "      <td>6</td>\n",
              "      <td>5</td>\n",
              "      <td>1999</td>\n",
              "      <td>2000</td>\n",
              "      <td>0.0</td>\n",
              "      <td>0</td>\n",
              "      <td>0</td>\n",
              "      <td>953</td>\n",
              "      <td>...</td>\n",
              "      <td>460</td>\n",
              "      <td>0</td>\n",
              "      <td>40</td>\n",
              "      <td>0</td>\n",
              "      <td>0</td>\n",
              "      <td>0</td>\n",
              "      <td>0</td>\n",
              "      <td>0</td>\n",
              "      <td>2007</td>\n",
              "      <td>175000</td>\n",
              "    </tr>\n",
              "    <tr>\n",
              "      <th>1375</th>\n",
              "      <td>85.0</td>\n",
              "      <td>13175</td>\n",
              "      <td>6</td>\n",
              "      <td>6</td>\n",
              "      <td>1978</td>\n",
              "      <td>1988</td>\n",
              "      <td>119.0</td>\n",
              "      <td>790</td>\n",
              "      <td>163</td>\n",
              "      <td>589</td>\n",
              "      <td>...</td>\n",
              "      <td>500</td>\n",
              "      <td>349</td>\n",
              "      <td>0</td>\n",
              "      <td>0</td>\n",
              "      <td>0</td>\n",
              "      <td>0</td>\n",
              "      <td>0</td>\n",
              "      <td>0</td>\n",
              "      <td>2010</td>\n",
              "      <td>210000</td>\n",
              "    </tr>\n",
              "    <tr>\n",
              "      <th>1376</th>\n",
              "      <td>66.0</td>\n",
              "      <td>9042</td>\n",
              "      <td>7</td>\n",
              "      <td>9</td>\n",
              "      <td>1941</td>\n",
              "      <td>2006</td>\n",
              "      <td>0.0</td>\n",
              "      <td>275</td>\n",
              "      <td>0</td>\n",
              "      <td>877</td>\n",
              "      <td>...</td>\n",
              "      <td>252</td>\n",
              "      <td>0</td>\n",
              "      <td>60</td>\n",
              "      <td>0</td>\n",
              "      <td>0</td>\n",
              "      <td>0</td>\n",
              "      <td>0</td>\n",
              "      <td>2500</td>\n",
              "      <td>2010</td>\n",
              "      <td>266500</td>\n",
              "    </tr>\n",
              "    <tr>\n",
              "      <th>1377</th>\n",
              "      <td>68.0</td>\n",
              "      <td>9717</td>\n",
              "      <td>5</td>\n",
              "      <td>6</td>\n",
              "      <td>1950</td>\n",
              "      <td>1996</td>\n",
              "      <td>0.0</td>\n",
              "      <td>49</td>\n",
              "      <td>1029</td>\n",
              "      <td>0</td>\n",
              "      <td>...</td>\n",
              "      <td>240</td>\n",
              "      <td>366</td>\n",
              "      <td>0</td>\n",
              "      <td>112</td>\n",
              "      <td>0</td>\n",
              "      <td>0</td>\n",
              "      <td>0</td>\n",
              "      <td>0</td>\n",
              "      <td>2010</td>\n",
              "      <td>142125</td>\n",
              "    </tr>\n",
              "    <tr>\n",
              "      <th>1378</th>\n",
              "      <td>75.0</td>\n",
              "      <td>9937</td>\n",
              "      <td>5</td>\n",
              "      <td>6</td>\n",
              "      <td>1965</td>\n",
              "      <td>1965</td>\n",
              "      <td>0.0</td>\n",
              "      <td>830</td>\n",
              "      <td>290</td>\n",
              "      <td>136</td>\n",
              "      <td>...</td>\n",
              "      <td>276</td>\n",
              "      <td>736</td>\n",
              "      <td>68</td>\n",
              "      <td>0</td>\n",
              "      <td>0</td>\n",
              "      <td>0</td>\n",
              "      <td>0</td>\n",
              "      <td>0</td>\n",
              "      <td>2008</td>\n",
              "      <td>147500</td>\n",
              "    </tr>\n",
              "  </tbody>\n",
              "</table>\n",
              "<p>5 rows × 35 columns</p>\n",
              "</div>\n",
              "      <button class=\"colab-df-convert\" onclick=\"convertToInteractive('df-ea2bd93b-5e2a-45e4-9b19-ec413cafdeb5')\"\n",
              "              title=\"Convert this dataframe to an interactive table.\"\n",
              "              style=\"display:none;\">\n",
              "        \n",
              "  <svg xmlns=\"http://www.w3.org/2000/svg\" height=\"24px\"viewBox=\"0 0 24 24\"\n",
              "       width=\"24px\">\n",
              "    <path d=\"M0 0h24v24H0V0z\" fill=\"none\"/>\n",
              "    <path d=\"M18.56 5.44l.94 2.06.94-2.06 2.06-.94-2.06-.94-.94-2.06-.94 2.06-2.06.94zm-11 1L8.5 8.5l.94-2.06 2.06-.94-2.06-.94L8.5 2.5l-.94 2.06-2.06.94zm10 10l.94 2.06.94-2.06 2.06-.94-2.06-.94-.94-2.06-.94 2.06-2.06.94z\"/><path d=\"M17.41 7.96l-1.37-1.37c-.4-.4-.92-.59-1.43-.59-.52 0-1.04.2-1.43.59L10.3 9.45l-7.72 7.72c-.78.78-.78 2.05 0 2.83L4 21.41c.39.39.9.59 1.41.59.51 0 1.02-.2 1.41-.59l7.78-7.78 2.81-2.81c.8-.78.8-2.07 0-2.86zM5.41 20L4 18.59l7.72-7.72 1.47 1.35L5.41 20z\"/>\n",
              "  </svg>\n",
              "      </button>\n",
              "      \n",
              "  <style>\n",
              "    .colab-df-container {\n",
              "      display:flex;\n",
              "      flex-wrap:wrap;\n",
              "      gap: 12px;\n",
              "    }\n",
              "\n",
              "    .colab-df-convert {\n",
              "      background-color: #E8F0FE;\n",
              "      border: none;\n",
              "      border-radius: 50%;\n",
              "      cursor: pointer;\n",
              "      display: none;\n",
              "      fill: #1967D2;\n",
              "      height: 32px;\n",
              "      padding: 0 0 0 0;\n",
              "      width: 32px;\n",
              "    }\n",
              "\n",
              "    .colab-df-convert:hover {\n",
              "      background-color: #E2EBFA;\n",
              "      box-shadow: 0px 1px 2px rgba(60, 64, 67, 0.3), 0px 1px 3px 1px rgba(60, 64, 67, 0.15);\n",
              "      fill: #174EA6;\n",
              "    }\n",
              "\n",
              "    [theme=dark] .colab-df-convert {\n",
              "      background-color: #3B4455;\n",
              "      fill: #D2E3FC;\n",
              "    }\n",
              "\n",
              "    [theme=dark] .colab-df-convert:hover {\n",
              "      background-color: #434B5C;\n",
              "      box-shadow: 0px 1px 3px 1px rgba(0, 0, 0, 0.15);\n",
              "      filter: drop-shadow(0px 1px 2px rgba(0, 0, 0, 0.3));\n",
              "      fill: #FFFFFF;\n",
              "    }\n",
              "  </style>\n",
              "\n",
              "      <script>\n",
              "        const buttonEl =\n",
              "          document.querySelector('#df-ea2bd93b-5e2a-45e4-9b19-ec413cafdeb5 button.colab-df-convert');\n",
              "        buttonEl.style.display =\n",
              "          google.colab.kernel.accessAllowed ? 'block' : 'none';\n",
              "\n",
              "        async function convertToInteractive(key) {\n",
              "          const element = document.querySelector('#df-ea2bd93b-5e2a-45e4-9b19-ec413cafdeb5');\n",
              "          const dataTable =\n",
              "            await google.colab.kernel.invokeFunction('convertToInteractive',\n",
              "                                                     [key], {});\n",
              "          if (!dataTable) return;\n",
              "\n",
              "          const docLinkHtml = 'Like what you see? Visit the ' +\n",
              "            '<a target=\"_blank\" href=https://colab.research.google.com/notebooks/data_table.ipynb>data table notebook</a>'\n",
              "            + ' to learn more about interactive tables.';\n",
              "          element.innerHTML = '';\n",
              "          dataTable['output_type'] = 'display_data';\n",
              "          await google.colab.output.renderOutput(dataTable, element);\n",
              "          const docLink = document.createElement('div');\n",
              "          docLink.innerHTML = docLinkHtml;\n",
              "          element.appendChild(docLink);\n",
              "        }\n",
              "      </script>\n",
              "    </div>\n",
              "  </div>\n",
              "  "
            ]
          },
          "metadata": {},
          "execution_count": 4
        }
      ]
    },
    {
      "cell_type": "code",
      "source": [
        "df.info()"
      ],
      "metadata": {
        "colab": {
          "base_uri": "https://localhost:8080/"
        },
        "id": "rUkMfT7moSV5",
        "outputId": "2a2382ac-be19-4a4e-b34c-45ffc3032aa6"
      },
      "execution_count": null,
      "outputs": [
        {
          "output_type": "stream",
          "name": "stdout",
          "text": [
            "<class 'pandas.core.frame.DataFrame'>\n",
            "RangeIndex: 1379 entries, 0 to 1378\n",
            "Data columns (total 35 columns):\n",
            " #   Column         Non-Null Count  Dtype  \n",
            "---  ------         --------------  -----  \n",
            " 0   LotFrontage    1379 non-null   float64\n",
            " 1   LotArea        1379 non-null   int64  \n",
            " 2   OverallQual    1379 non-null   int64  \n",
            " 3   OverallCond    1379 non-null   int64  \n",
            " 4   YearBuilt      1379 non-null   int64  \n",
            " 5   YearRemodAdd   1379 non-null   int64  \n",
            " 6   MasVnrArea     1379 non-null   float64\n",
            " 7   BsmtFinSF1     1379 non-null   int64  \n",
            " 8   BsmtFinSF2     1379 non-null   int64  \n",
            " 9   BsmtUnfSF      1379 non-null   int64  \n",
            " 10  TotalBsmtSF    1379 non-null   int64  \n",
            " 11  1stFlrSF       1379 non-null   int64  \n",
            " 12  2ndFlrSF       1379 non-null   int64  \n",
            " 13  LowQualFinSF   1379 non-null   int64  \n",
            " 14  GrLivArea      1379 non-null   int64  \n",
            " 15  BsmtFullBath   1379 non-null   int64  \n",
            " 16  BsmtHalfBath   1379 non-null   int64  \n",
            " 17  FullBath       1379 non-null   int64  \n",
            " 18  HalfBath       1379 non-null   int64  \n",
            " 19  BedroomAbvGr   1379 non-null   int64  \n",
            " 20  KitchenAbvGr   1379 non-null   int64  \n",
            " 21  TotRmsAbvGrd   1379 non-null   int64  \n",
            " 22  Fireplaces     1379 non-null   int64  \n",
            " 23  GarageYrBlt    1379 non-null   float64\n",
            " 24  GarageCars     1379 non-null   int64  \n",
            " 25  GarageArea     1379 non-null   int64  \n",
            " 26  WoodDeckSF     1379 non-null   int64  \n",
            " 27  OpenPorchSF    1379 non-null   int64  \n",
            " 28  EnclosedPorch  1379 non-null   int64  \n",
            " 29  3SsnPorch      1379 non-null   int64  \n",
            " 30  ScreenPorch    1379 non-null   int64  \n",
            " 31  PoolArea       1379 non-null   int64  \n",
            " 32  MiscVal        1379 non-null   int64  \n",
            " 33  YrSold         1379 non-null   int64  \n",
            " 34  SalePrice      1379 non-null   int64  \n",
            "dtypes: float64(3), int64(32)\n",
            "memory usage: 377.2 KB\n"
          ]
        }
      ]
    },
    {
      "cell_type": "code",
      "source": [
        "df.describe()"
      ],
      "metadata": {
        "colab": {
          "base_uri": "https://localhost:8080/",
          "height": 393
        },
        "id": "fdcv47fIoaBw",
        "outputId": "646a0d25-ea79-435f-d790-31df16537900"
      },
      "execution_count": null,
      "outputs": [
        {
          "output_type": "execute_result",
          "data": {
            "text/plain": [
              "       LotFrontage        LotArea  OverallQual  OverallCond    YearBuilt  \\\n",
              "count  1379.000000    1379.000000  1379.000000  1379.000000  1379.000000   \n",
              "mean     57.766497   10695.812183     6.187092     5.577955  1972.958666   \n",
              "std      35.038221   10214.702133     1.345780     1.081031    29.379883   \n",
              "min       0.000000    1300.000000     2.000000     2.000000  1880.000000   \n",
              "25%      41.500000    7741.000000     5.000000     5.000000  1955.000000   \n",
              "50%      64.000000    9591.000000     6.000000     5.000000  1976.000000   \n",
              "75%      79.000000   11708.500000     7.000000     6.000000  2001.000000   \n",
              "max     313.000000  215245.000000    10.000000     9.000000  2010.000000   \n",
              "\n",
              "       YearRemodAdd   MasVnrArea   BsmtFinSF1   BsmtFinSF2    BsmtUnfSF  ...  \\\n",
              "count   1379.000000  1379.000000  1379.000000  1379.000000  1379.000000  ...   \n",
              "mean    1985.435098   108.364757   455.578680    48.102248   570.765047  ...   \n",
              "std       20.444852   184.195220   459.691379   164.324665   443.677845  ...   \n",
              "min     1950.000000     0.000000     0.000000     0.000000     0.000000  ...   \n",
              "25%     1968.000000     0.000000     0.000000     0.000000   228.000000  ...   \n",
              "50%     1994.000000     0.000000   400.000000     0.000000   476.000000  ...   \n",
              "75%     2004.000000   170.500000   732.000000     0.000000   811.000000  ...   \n",
              "max     2010.000000  1600.000000  5644.000000  1474.000000  2336.000000  ...   \n",
              "\n",
              "        GarageArea   WoodDeckSF  OpenPorchSF  EnclosedPorch    3SsnPorch  \\\n",
              "count  1379.000000  1379.000000  1379.000000    1379.000000  1379.000000   \n",
              "mean    500.762146    97.456853    47.276287      21.039159     3.609862   \n",
              "std     185.680520   126.699192    65.210465      60.535107    30.154682   \n",
              "min     160.000000     0.000000     0.000000       0.000000     0.000000   \n",
              "25%     380.000000     0.000000     0.000000       0.000000     0.000000   \n",
              "50%     484.000000     0.000000    27.000000       0.000000     0.000000   \n",
              "75%     580.000000   171.000000    69.500000       0.000000     0.000000   \n",
              "max    1418.000000   857.000000   547.000000     552.000000   508.000000   \n",
              "\n",
              "       ScreenPorch     PoolArea       MiscVal       YrSold     SalePrice  \n",
              "count  1379.000000  1379.000000   1379.000000  1379.000000    1379.00000  \n",
              "mean     15.945613     2.920957     42.889050  2007.812183  185479.51124  \n",
              "std      57.249593    41.335545    501.613931     1.330221   79023.89060  \n",
              "min       0.000000     0.000000      0.000000  2006.000000   35311.00000  \n",
              "25%       0.000000     0.000000      0.000000  2007.000000  134000.00000  \n",
              "50%       0.000000     0.000000      0.000000  2008.000000  167500.00000  \n",
              "75%       0.000000     0.000000      0.000000  2009.000000  217750.00000  \n",
              "max     480.000000   738.000000  15500.000000  2010.000000  755000.00000  \n",
              "\n",
              "[8 rows x 35 columns]"
            ],
            "text/html": [
              "\n",
              "  <div id=\"df-82ddc78a-1a00-4207-9ea7-2035d68c22e3\">\n",
              "    <div class=\"colab-df-container\">\n",
              "      <div>\n",
              "<style scoped>\n",
              "    .dataframe tbody tr th:only-of-type {\n",
              "        vertical-align: middle;\n",
              "    }\n",
              "\n",
              "    .dataframe tbody tr th {\n",
              "        vertical-align: top;\n",
              "    }\n",
              "\n",
              "    .dataframe thead th {\n",
              "        text-align: right;\n",
              "    }\n",
              "</style>\n",
              "<table border=\"1\" class=\"dataframe\">\n",
              "  <thead>\n",
              "    <tr style=\"text-align: right;\">\n",
              "      <th></th>\n",
              "      <th>LotFrontage</th>\n",
              "      <th>LotArea</th>\n",
              "      <th>OverallQual</th>\n",
              "      <th>OverallCond</th>\n",
              "      <th>YearBuilt</th>\n",
              "      <th>YearRemodAdd</th>\n",
              "      <th>MasVnrArea</th>\n",
              "      <th>BsmtFinSF1</th>\n",
              "      <th>BsmtFinSF2</th>\n",
              "      <th>BsmtUnfSF</th>\n",
              "      <th>...</th>\n",
              "      <th>GarageArea</th>\n",
              "      <th>WoodDeckSF</th>\n",
              "      <th>OpenPorchSF</th>\n",
              "      <th>EnclosedPorch</th>\n",
              "      <th>3SsnPorch</th>\n",
              "      <th>ScreenPorch</th>\n",
              "      <th>PoolArea</th>\n",
              "      <th>MiscVal</th>\n",
              "      <th>YrSold</th>\n",
              "      <th>SalePrice</th>\n",
              "    </tr>\n",
              "  </thead>\n",
              "  <tbody>\n",
              "    <tr>\n",
              "      <th>count</th>\n",
              "      <td>1379.000000</td>\n",
              "      <td>1379.000000</td>\n",
              "      <td>1379.000000</td>\n",
              "      <td>1379.000000</td>\n",
              "      <td>1379.000000</td>\n",
              "      <td>1379.000000</td>\n",
              "      <td>1379.000000</td>\n",
              "      <td>1379.000000</td>\n",
              "      <td>1379.000000</td>\n",
              "      <td>1379.000000</td>\n",
              "      <td>...</td>\n",
              "      <td>1379.000000</td>\n",
              "      <td>1379.000000</td>\n",
              "      <td>1379.000000</td>\n",
              "      <td>1379.000000</td>\n",
              "      <td>1379.000000</td>\n",
              "      <td>1379.000000</td>\n",
              "      <td>1379.000000</td>\n",
              "      <td>1379.000000</td>\n",
              "      <td>1379.000000</td>\n",
              "      <td>1379.00000</td>\n",
              "    </tr>\n",
              "    <tr>\n",
              "      <th>mean</th>\n",
              "      <td>57.766497</td>\n",
              "      <td>10695.812183</td>\n",
              "      <td>6.187092</td>\n",
              "      <td>5.577955</td>\n",
              "      <td>1972.958666</td>\n",
              "      <td>1985.435098</td>\n",
              "      <td>108.364757</td>\n",
              "      <td>455.578680</td>\n",
              "      <td>48.102248</td>\n",
              "      <td>570.765047</td>\n",
              "      <td>...</td>\n",
              "      <td>500.762146</td>\n",
              "      <td>97.456853</td>\n",
              "      <td>47.276287</td>\n",
              "      <td>21.039159</td>\n",
              "      <td>3.609862</td>\n",
              "      <td>15.945613</td>\n",
              "      <td>2.920957</td>\n",
              "      <td>42.889050</td>\n",
              "      <td>2007.812183</td>\n",
              "      <td>185479.51124</td>\n",
              "    </tr>\n",
              "    <tr>\n",
              "      <th>std</th>\n",
              "      <td>35.038221</td>\n",
              "      <td>10214.702133</td>\n",
              "      <td>1.345780</td>\n",
              "      <td>1.081031</td>\n",
              "      <td>29.379883</td>\n",
              "      <td>20.444852</td>\n",
              "      <td>184.195220</td>\n",
              "      <td>459.691379</td>\n",
              "      <td>164.324665</td>\n",
              "      <td>443.677845</td>\n",
              "      <td>...</td>\n",
              "      <td>185.680520</td>\n",
              "      <td>126.699192</td>\n",
              "      <td>65.210465</td>\n",
              "      <td>60.535107</td>\n",
              "      <td>30.154682</td>\n",
              "      <td>57.249593</td>\n",
              "      <td>41.335545</td>\n",
              "      <td>501.613931</td>\n",
              "      <td>1.330221</td>\n",
              "      <td>79023.89060</td>\n",
              "    </tr>\n",
              "    <tr>\n",
              "      <th>min</th>\n",
              "      <td>0.000000</td>\n",
              "      <td>1300.000000</td>\n",
              "      <td>2.000000</td>\n",
              "      <td>2.000000</td>\n",
              "      <td>1880.000000</td>\n",
              "      <td>1950.000000</td>\n",
              "      <td>0.000000</td>\n",
              "      <td>0.000000</td>\n",
              "      <td>0.000000</td>\n",
              "      <td>0.000000</td>\n",
              "      <td>...</td>\n",
              "      <td>160.000000</td>\n",
              "      <td>0.000000</td>\n",
              "      <td>0.000000</td>\n",
              "      <td>0.000000</td>\n",
              "      <td>0.000000</td>\n",
              "      <td>0.000000</td>\n",
              "      <td>0.000000</td>\n",
              "      <td>0.000000</td>\n",
              "      <td>2006.000000</td>\n",
              "      <td>35311.00000</td>\n",
              "    </tr>\n",
              "    <tr>\n",
              "      <th>25%</th>\n",
              "      <td>41.500000</td>\n",
              "      <td>7741.000000</td>\n",
              "      <td>5.000000</td>\n",
              "      <td>5.000000</td>\n",
              "      <td>1955.000000</td>\n",
              "      <td>1968.000000</td>\n",
              "      <td>0.000000</td>\n",
              "      <td>0.000000</td>\n",
              "      <td>0.000000</td>\n",
              "      <td>228.000000</td>\n",
              "      <td>...</td>\n",
              "      <td>380.000000</td>\n",
              "      <td>0.000000</td>\n",
              "      <td>0.000000</td>\n",
              "      <td>0.000000</td>\n",
              "      <td>0.000000</td>\n",
              "      <td>0.000000</td>\n",
              "      <td>0.000000</td>\n",
              "      <td>0.000000</td>\n",
              "      <td>2007.000000</td>\n",
              "      <td>134000.00000</td>\n",
              "    </tr>\n",
              "    <tr>\n",
              "      <th>50%</th>\n",
              "      <td>64.000000</td>\n",
              "      <td>9591.000000</td>\n",
              "      <td>6.000000</td>\n",
              "      <td>5.000000</td>\n",
              "      <td>1976.000000</td>\n",
              "      <td>1994.000000</td>\n",
              "      <td>0.000000</td>\n",
              "      <td>400.000000</td>\n",
              "      <td>0.000000</td>\n",
              "      <td>476.000000</td>\n",
              "      <td>...</td>\n",
              "      <td>484.000000</td>\n",
              "      <td>0.000000</td>\n",
              "      <td>27.000000</td>\n",
              "      <td>0.000000</td>\n",
              "      <td>0.000000</td>\n",
              "      <td>0.000000</td>\n",
              "      <td>0.000000</td>\n",
              "      <td>0.000000</td>\n",
              "      <td>2008.000000</td>\n",
              "      <td>167500.00000</td>\n",
              "    </tr>\n",
              "    <tr>\n",
              "      <th>75%</th>\n",
              "      <td>79.000000</td>\n",
              "      <td>11708.500000</td>\n",
              "      <td>7.000000</td>\n",
              "      <td>6.000000</td>\n",
              "      <td>2001.000000</td>\n",
              "      <td>2004.000000</td>\n",
              "      <td>170.500000</td>\n",
              "      <td>732.000000</td>\n",
              "      <td>0.000000</td>\n",
              "      <td>811.000000</td>\n",
              "      <td>...</td>\n",
              "      <td>580.000000</td>\n",
              "      <td>171.000000</td>\n",
              "      <td>69.500000</td>\n",
              "      <td>0.000000</td>\n",
              "      <td>0.000000</td>\n",
              "      <td>0.000000</td>\n",
              "      <td>0.000000</td>\n",
              "      <td>0.000000</td>\n",
              "      <td>2009.000000</td>\n",
              "      <td>217750.00000</td>\n",
              "    </tr>\n",
              "    <tr>\n",
              "      <th>max</th>\n",
              "      <td>313.000000</td>\n",
              "      <td>215245.000000</td>\n",
              "      <td>10.000000</td>\n",
              "      <td>9.000000</td>\n",
              "      <td>2010.000000</td>\n",
              "      <td>2010.000000</td>\n",
              "      <td>1600.000000</td>\n",
              "      <td>5644.000000</td>\n",
              "      <td>1474.000000</td>\n",
              "      <td>2336.000000</td>\n",
              "      <td>...</td>\n",
              "      <td>1418.000000</td>\n",
              "      <td>857.000000</td>\n",
              "      <td>547.000000</td>\n",
              "      <td>552.000000</td>\n",
              "      <td>508.000000</td>\n",
              "      <td>480.000000</td>\n",
              "      <td>738.000000</td>\n",
              "      <td>15500.000000</td>\n",
              "      <td>2010.000000</td>\n",
              "      <td>755000.00000</td>\n",
              "    </tr>\n",
              "  </tbody>\n",
              "</table>\n",
              "<p>8 rows × 35 columns</p>\n",
              "</div>\n",
              "      <button class=\"colab-df-convert\" onclick=\"convertToInteractive('df-82ddc78a-1a00-4207-9ea7-2035d68c22e3')\"\n",
              "              title=\"Convert this dataframe to an interactive table.\"\n",
              "              style=\"display:none;\">\n",
              "        \n",
              "  <svg xmlns=\"http://www.w3.org/2000/svg\" height=\"24px\"viewBox=\"0 0 24 24\"\n",
              "       width=\"24px\">\n",
              "    <path d=\"M0 0h24v24H0V0z\" fill=\"none\"/>\n",
              "    <path d=\"M18.56 5.44l.94 2.06.94-2.06 2.06-.94-2.06-.94-.94-2.06-.94 2.06-2.06.94zm-11 1L8.5 8.5l.94-2.06 2.06-.94-2.06-.94L8.5 2.5l-.94 2.06-2.06.94zm10 10l.94 2.06.94-2.06 2.06-.94-2.06-.94-.94-2.06-.94 2.06-2.06.94z\"/><path d=\"M17.41 7.96l-1.37-1.37c-.4-.4-.92-.59-1.43-.59-.52 0-1.04.2-1.43.59L10.3 9.45l-7.72 7.72c-.78.78-.78 2.05 0 2.83L4 21.41c.39.39.9.59 1.41.59.51 0 1.02-.2 1.41-.59l7.78-7.78 2.81-2.81c.8-.78.8-2.07 0-2.86zM5.41 20L4 18.59l7.72-7.72 1.47 1.35L5.41 20z\"/>\n",
              "  </svg>\n",
              "      </button>\n",
              "      \n",
              "  <style>\n",
              "    .colab-df-container {\n",
              "      display:flex;\n",
              "      flex-wrap:wrap;\n",
              "      gap: 12px;\n",
              "    }\n",
              "\n",
              "    .colab-df-convert {\n",
              "      background-color: #E8F0FE;\n",
              "      border: none;\n",
              "      border-radius: 50%;\n",
              "      cursor: pointer;\n",
              "      display: none;\n",
              "      fill: #1967D2;\n",
              "      height: 32px;\n",
              "      padding: 0 0 0 0;\n",
              "      width: 32px;\n",
              "    }\n",
              "\n",
              "    .colab-df-convert:hover {\n",
              "      background-color: #E2EBFA;\n",
              "      box-shadow: 0px 1px 2px rgba(60, 64, 67, 0.3), 0px 1px 3px 1px rgba(60, 64, 67, 0.15);\n",
              "      fill: #174EA6;\n",
              "    }\n",
              "\n",
              "    [theme=dark] .colab-df-convert {\n",
              "      background-color: #3B4455;\n",
              "      fill: #D2E3FC;\n",
              "    }\n",
              "\n",
              "    [theme=dark] .colab-df-convert:hover {\n",
              "      background-color: #434B5C;\n",
              "      box-shadow: 0px 1px 3px 1px rgba(0, 0, 0, 0.15);\n",
              "      filter: drop-shadow(0px 1px 2px rgba(0, 0, 0, 0.3));\n",
              "      fill: #FFFFFF;\n",
              "    }\n",
              "  </style>\n",
              "\n",
              "      <script>\n",
              "        const buttonEl =\n",
              "          document.querySelector('#df-82ddc78a-1a00-4207-9ea7-2035d68c22e3 button.colab-df-convert');\n",
              "        buttonEl.style.display =\n",
              "          google.colab.kernel.accessAllowed ? 'block' : 'none';\n",
              "\n",
              "        async function convertToInteractive(key) {\n",
              "          const element = document.querySelector('#df-82ddc78a-1a00-4207-9ea7-2035d68c22e3');\n",
              "          const dataTable =\n",
              "            await google.colab.kernel.invokeFunction('convertToInteractive',\n",
              "                                                     [key], {});\n",
              "          if (!dataTable) return;\n",
              "\n",
              "          const docLinkHtml = 'Like what you see? Visit the ' +\n",
              "            '<a target=\"_blank\" href=https://colab.research.google.com/notebooks/data_table.ipynb>data table notebook</a>'\n",
              "            + ' to learn more about interactive tables.';\n",
              "          element.innerHTML = '';\n",
              "          dataTable['output_type'] = 'display_data';\n",
              "          await google.colab.output.renderOutput(dataTable, element);\n",
              "          const docLink = document.createElement('div');\n",
              "          docLink.innerHTML = docLinkHtml;\n",
              "          element.appendChild(docLink);\n",
              "        }\n",
              "      </script>\n",
              "    </div>\n",
              "  </div>\n",
              "  "
            ]
          },
          "metadata": {},
          "execution_count": 6
        }
      ]
    },
    {
      "cell_type": "code",
      "source": [
        "df.shape"
      ],
      "metadata": {
        "colab": {
          "base_uri": "https://localhost:8080/"
        },
        "id": "HLDDmVKRodD5",
        "outputId": "0c3dfdbd-6b3b-4372-e0fb-a7522fdaf458"
      },
      "execution_count": null,
      "outputs": [
        {
          "output_type": "execute_result",
          "data": {
            "text/plain": [
              "(1379, 35)"
            ]
          },
          "metadata": {},
          "execution_count": 7
        }
      ]
    },
    {
      "cell_type": "code",
      "source": [
        "df.abs"
      ],
      "metadata": {
        "colab": {
          "base_uri": "https://localhost:8080/"
        },
        "id": "AsRt53XpohBf",
        "outputId": "80ff6a89-eb77-4147-f666-ae45496c6c65"
      },
      "execution_count": null,
      "outputs": [
        {
          "output_type": "execute_result",
          "data": {
            "text/plain": [
              "<bound method NDFrame.abs of       LotFrontage  LotArea  OverallQual  OverallCond  YearBuilt  YearRemodAdd  \\\n",
              "0            65.0     8450            7            5       2003          2003   \n",
              "1            80.0     9600            6            8       1976          1976   \n",
              "2            68.0    11250            7            5       2001          2002   \n",
              "3            60.0     9550            7            5       1915          1970   \n",
              "4            84.0    14260            8            5       2000          2000   \n",
              "...           ...      ...          ...          ...        ...           ...   \n",
              "1374         62.0     7917            6            5       1999          2000   \n",
              "1375         85.0    13175            6            6       1978          1988   \n",
              "1376         66.0     9042            7            9       1941          2006   \n",
              "1377         68.0     9717            5            6       1950          1996   \n",
              "1378         75.0     9937            5            6       1965          1965   \n",
              "\n",
              "      MasVnrArea  BsmtFinSF1  BsmtFinSF2  BsmtUnfSF  ...  GarageArea  \\\n",
              "0          196.0         706           0        150  ...         548   \n",
              "1            0.0         978           0        284  ...         460   \n",
              "2          162.0         486           0        434  ...         608   \n",
              "3            0.0         216           0        540  ...         642   \n",
              "4          350.0         655           0        490  ...         836   \n",
              "...          ...         ...         ...        ...  ...         ...   \n",
              "1374         0.0           0           0        953  ...         460   \n",
              "1375       119.0         790         163        589  ...         500   \n",
              "1376         0.0         275           0        877  ...         252   \n",
              "1377         0.0          49        1029          0  ...         240   \n",
              "1378         0.0         830         290        136  ...         276   \n",
              "\n",
              "      WoodDeckSF  OpenPorchSF  EnclosedPorch  3SsnPorch  ScreenPorch  \\\n",
              "0              0           61              0          0            0   \n",
              "1            298            0              0          0            0   \n",
              "2              0           42              0          0            0   \n",
              "3              0           35            272          0            0   \n",
              "4            192           84              0          0            0   \n",
              "...          ...          ...            ...        ...          ...   \n",
              "1374           0           40              0          0            0   \n",
              "1375         349            0              0          0            0   \n",
              "1376           0           60              0          0            0   \n",
              "1377         366            0            112          0            0   \n",
              "1378         736           68              0          0            0   \n",
              "\n",
              "      PoolArea  MiscVal  YrSold  SalePrice  \n",
              "0            0        0    2008     208500  \n",
              "1            0        0    2007     181500  \n",
              "2            0        0    2008     223500  \n",
              "3            0        0    2006     140000  \n",
              "4            0        0    2008     250000  \n",
              "...        ...      ...     ...        ...  \n",
              "1374         0        0    2007     175000  \n",
              "1375         0        0    2010     210000  \n",
              "1376         0     2500    2010     266500  \n",
              "1377         0        0    2010     142125  \n",
              "1378         0        0    2008     147500  \n",
              "\n",
              "[1379 rows x 35 columns]>"
            ]
          },
          "metadata": {},
          "execution_count": 8
        }
      ]
    },
    {
      "cell_type": "code",
      "source": [
        "df.describe().T"
      ],
      "metadata": {
        "colab": {
          "base_uri": "https://localhost:8080/",
          "height": 1000
        },
        "id": "1PJDoHoao6lM",
        "outputId": "6255eda4-cfb5-4dec-c62a-7c20d5894304"
      },
      "execution_count": null,
      "outputs": [
        {
          "output_type": "execute_result",
          "data": {
            "text/plain": [
              "                count           mean           std      min       25%  \\\n",
              "LotFrontage    1379.0      57.766497     35.038221      0.0      41.5   \n",
              "LotArea        1379.0   10695.812183  10214.702133   1300.0    7741.0   \n",
              "OverallQual    1379.0       6.187092      1.345780      2.0       5.0   \n",
              "OverallCond    1379.0       5.577955      1.081031      2.0       5.0   \n",
              "YearBuilt      1379.0    1972.958666     29.379883   1880.0    1955.0   \n",
              "YearRemodAdd   1379.0    1985.435098     20.444852   1950.0    1968.0   \n",
              "MasVnrArea     1379.0     108.364757    184.195220      0.0       0.0   \n",
              "BsmtFinSF1     1379.0     455.578680    459.691379      0.0       0.0   \n",
              "BsmtFinSF2     1379.0      48.102248    164.324665      0.0       0.0   \n",
              "BsmtUnfSF      1379.0     570.765047    443.677845      0.0     228.0   \n",
              "TotalBsmtSF    1379.0    1074.445975    436.371874      0.0     810.0   \n",
              "1stFlrSF       1379.0    1177.129804    387.014961    438.0     894.0   \n",
              "2ndFlrSF       1379.0     353.424946    439.553171      0.0       0.0   \n",
              "LowQualFinSF   1379.0       4.134880     40.130546      0.0       0.0   \n",
              "GrLivArea      1379.0    1534.689630    519.140514    438.0    1154.0   \n",
              "BsmtFullBath   1379.0       0.430747      0.514052      0.0       0.0   \n",
              "BsmtHalfBath   1379.0       0.058738      0.238285      0.0       0.0   \n",
              "FullBath       1379.0       1.580131      0.548051      0.0       1.0   \n",
              "HalfBath       1379.0       0.395939      0.502402      0.0       0.0   \n",
              "BedroomAbvGr   1379.0       2.865120      0.783961      0.0       2.0   \n",
              "KitchenAbvGr   1379.0       1.038434      0.196048      1.0       1.0   \n",
              "TotRmsAbvGrd   1379.0       6.552574      1.589821      3.0       5.0   \n",
              "Fireplaces     1379.0       0.641769      0.645985      0.0       0.0   \n",
              "GarageYrBlt    1379.0    1978.506164     24.689725   1900.0    1961.0   \n",
              "GarageCars     1379.0       1.870921      0.630055      1.0       1.0   \n",
              "GarageArea     1379.0     500.762146    185.680520    160.0     380.0   \n",
              "WoodDeckSF     1379.0      97.456853    126.699192      0.0       0.0   \n",
              "OpenPorchSF    1379.0      47.276287     65.210465      0.0       0.0   \n",
              "EnclosedPorch  1379.0      21.039159     60.535107      0.0       0.0   \n",
              "3SsnPorch      1379.0       3.609862     30.154682      0.0       0.0   \n",
              "ScreenPorch    1379.0      15.945613     57.249593      0.0       0.0   \n",
              "PoolArea       1379.0       2.920957     41.335545      0.0       0.0   \n",
              "MiscVal        1379.0      42.889050    501.613931      0.0       0.0   \n",
              "YrSold         1379.0    2007.812183      1.330221   2006.0    2007.0   \n",
              "SalePrice      1379.0  185479.511240  79023.890600  35311.0  134000.0   \n",
              "\n",
              "                    50%       75%       max  \n",
              "LotFrontage        64.0      79.0     313.0  \n",
              "LotArea          9591.0   11708.5  215245.0  \n",
              "OverallQual         6.0       7.0      10.0  \n",
              "OverallCond         5.0       6.0       9.0  \n",
              "YearBuilt        1976.0    2001.0    2010.0  \n",
              "YearRemodAdd     1994.0    2004.0    2010.0  \n",
              "MasVnrArea          0.0     170.5    1600.0  \n",
              "BsmtFinSF1        400.0     732.0    5644.0  \n",
              "BsmtFinSF2          0.0       0.0    1474.0  \n",
              "BsmtUnfSF         476.0     811.0    2336.0  \n",
              "TotalBsmtSF      1008.0    1314.0    6110.0  \n",
              "1stFlrSF         1098.0    1414.0    4692.0  \n",
              "2ndFlrSF            0.0     738.5    2065.0  \n",
              "LowQualFinSF        0.0       0.0     572.0  \n",
              "GrLivArea        1479.0    1790.0    5642.0  \n",
              "BsmtFullBath        0.0       1.0       2.0  \n",
              "BsmtHalfBath        0.0       0.0       2.0  \n",
              "FullBath            2.0       2.0       3.0  \n",
              "HalfBath            0.0       1.0       2.0  \n",
              "BedroomAbvGr        3.0       3.0       6.0  \n",
              "KitchenAbvGr        1.0       1.0       3.0  \n",
              "TotRmsAbvGrd        6.0       7.0      12.0  \n",
              "Fireplaces          1.0       1.0       3.0  \n",
              "GarageYrBlt      1980.0    2002.0    2010.0  \n",
              "GarageCars          2.0       2.0       4.0  \n",
              "GarageArea        484.0     580.0    1418.0  \n",
              "WoodDeckSF          0.0     171.0     857.0  \n",
              "OpenPorchSF        27.0      69.5     547.0  \n",
              "EnclosedPorch       0.0       0.0     552.0  \n",
              "3SsnPorch           0.0       0.0     508.0  \n",
              "ScreenPorch         0.0       0.0     480.0  \n",
              "PoolArea            0.0       0.0     738.0  \n",
              "MiscVal             0.0       0.0   15500.0  \n",
              "YrSold           2008.0    2009.0    2010.0  \n",
              "SalePrice      167500.0  217750.0  755000.0  "
            ],
            "text/html": [
              "\n",
              "  <div id=\"df-a7d84fa2-baef-4c4e-9508-284c760aa367\">\n",
              "    <div class=\"colab-df-container\">\n",
              "      <div>\n",
              "<style scoped>\n",
              "    .dataframe tbody tr th:only-of-type {\n",
              "        vertical-align: middle;\n",
              "    }\n",
              "\n",
              "    .dataframe tbody tr th {\n",
              "        vertical-align: top;\n",
              "    }\n",
              "\n",
              "    .dataframe thead th {\n",
              "        text-align: right;\n",
              "    }\n",
              "</style>\n",
              "<table border=\"1\" class=\"dataframe\">\n",
              "  <thead>\n",
              "    <tr style=\"text-align: right;\">\n",
              "      <th></th>\n",
              "      <th>count</th>\n",
              "      <th>mean</th>\n",
              "      <th>std</th>\n",
              "      <th>min</th>\n",
              "      <th>25%</th>\n",
              "      <th>50%</th>\n",
              "      <th>75%</th>\n",
              "      <th>max</th>\n",
              "    </tr>\n",
              "  </thead>\n",
              "  <tbody>\n",
              "    <tr>\n",
              "      <th>LotFrontage</th>\n",
              "      <td>1379.0</td>\n",
              "      <td>57.766497</td>\n",
              "      <td>35.038221</td>\n",
              "      <td>0.0</td>\n",
              "      <td>41.5</td>\n",
              "      <td>64.0</td>\n",
              "      <td>79.0</td>\n",
              "      <td>313.0</td>\n",
              "    </tr>\n",
              "    <tr>\n",
              "      <th>LotArea</th>\n",
              "      <td>1379.0</td>\n",
              "      <td>10695.812183</td>\n",
              "      <td>10214.702133</td>\n",
              "      <td>1300.0</td>\n",
              "      <td>7741.0</td>\n",
              "      <td>9591.0</td>\n",
              "      <td>11708.5</td>\n",
              "      <td>215245.0</td>\n",
              "    </tr>\n",
              "    <tr>\n",
              "      <th>OverallQual</th>\n",
              "      <td>1379.0</td>\n",
              "      <td>6.187092</td>\n",
              "      <td>1.345780</td>\n",
              "      <td>2.0</td>\n",
              "      <td>5.0</td>\n",
              "      <td>6.0</td>\n",
              "      <td>7.0</td>\n",
              "      <td>10.0</td>\n",
              "    </tr>\n",
              "    <tr>\n",
              "      <th>OverallCond</th>\n",
              "      <td>1379.0</td>\n",
              "      <td>5.577955</td>\n",
              "      <td>1.081031</td>\n",
              "      <td>2.0</td>\n",
              "      <td>5.0</td>\n",
              "      <td>5.0</td>\n",
              "      <td>6.0</td>\n",
              "      <td>9.0</td>\n",
              "    </tr>\n",
              "    <tr>\n",
              "      <th>YearBuilt</th>\n",
              "      <td>1379.0</td>\n",
              "      <td>1972.958666</td>\n",
              "      <td>29.379883</td>\n",
              "      <td>1880.0</td>\n",
              "      <td>1955.0</td>\n",
              "      <td>1976.0</td>\n",
              "      <td>2001.0</td>\n",
              "      <td>2010.0</td>\n",
              "    </tr>\n",
              "    <tr>\n",
              "      <th>YearRemodAdd</th>\n",
              "      <td>1379.0</td>\n",
              "      <td>1985.435098</td>\n",
              "      <td>20.444852</td>\n",
              "      <td>1950.0</td>\n",
              "      <td>1968.0</td>\n",
              "      <td>1994.0</td>\n",
              "      <td>2004.0</td>\n",
              "      <td>2010.0</td>\n",
              "    </tr>\n",
              "    <tr>\n",
              "      <th>MasVnrArea</th>\n",
              "      <td>1379.0</td>\n",
              "      <td>108.364757</td>\n",
              "      <td>184.195220</td>\n",
              "      <td>0.0</td>\n",
              "      <td>0.0</td>\n",
              "      <td>0.0</td>\n",
              "      <td>170.5</td>\n",
              "      <td>1600.0</td>\n",
              "    </tr>\n",
              "    <tr>\n",
              "      <th>BsmtFinSF1</th>\n",
              "      <td>1379.0</td>\n",
              "      <td>455.578680</td>\n",
              "      <td>459.691379</td>\n",
              "      <td>0.0</td>\n",
              "      <td>0.0</td>\n",
              "      <td>400.0</td>\n",
              "      <td>732.0</td>\n",
              "      <td>5644.0</td>\n",
              "    </tr>\n",
              "    <tr>\n",
              "      <th>BsmtFinSF2</th>\n",
              "      <td>1379.0</td>\n",
              "      <td>48.102248</td>\n",
              "      <td>164.324665</td>\n",
              "      <td>0.0</td>\n",
              "      <td>0.0</td>\n",
              "      <td>0.0</td>\n",
              "      <td>0.0</td>\n",
              "      <td>1474.0</td>\n",
              "    </tr>\n",
              "    <tr>\n",
              "      <th>BsmtUnfSF</th>\n",
              "      <td>1379.0</td>\n",
              "      <td>570.765047</td>\n",
              "      <td>443.677845</td>\n",
              "      <td>0.0</td>\n",
              "      <td>228.0</td>\n",
              "      <td>476.0</td>\n",
              "      <td>811.0</td>\n",
              "      <td>2336.0</td>\n",
              "    </tr>\n",
              "    <tr>\n",
              "      <th>TotalBsmtSF</th>\n",
              "      <td>1379.0</td>\n",
              "      <td>1074.445975</td>\n",
              "      <td>436.371874</td>\n",
              "      <td>0.0</td>\n",
              "      <td>810.0</td>\n",
              "      <td>1008.0</td>\n",
              "      <td>1314.0</td>\n",
              "      <td>6110.0</td>\n",
              "    </tr>\n",
              "    <tr>\n",
              "      <th>1stFlrSF</th>\n",
              "      <td>1379.0</td>\n",
              "      <td>1177.129804</td>\n",
              "      <td>387.014961</td>\n",
              "      <td>438.0</td>\n",
              "      <td>894.0</td>\n",
              "      <td>1098.0</td>\n",
              "      <td>1414.0</td>\n",
              "      <td>4692.0</td>\n",
              "    </tr>\n",
              "    <tr>\n",
              "      <th>2ndFlrSF</th>\n",
              "      <td>1379.0</td>\n",
              "      <td>353.424946</td>\n",
              "      <td>439.553171</td>\n",
              "      <td>0.0</td>\n",
              "      <td>0.0</td>\n",
              "      <td>0.0</td>\n",
              "      <td>738.5</td>\n",
              "      <td>2065.0</td>\n",
              "    </tr>\n",
              "    <tr>\n",
              "      <th>LowQualFinSF</th>\n",
              "      <td>1379.0</td>\n",
              "      <td>4.134880</td>\n",
              "      <td>40.130546</td>\n",
              "      <td>0.0</td>\n",
              "      <td>0.0</td>\n",
              "      <td>0.0</td>\n",
              "      <td>0.0</td>\n",
              "      <td>572.0</td>\n",
              "    </tr>\n",
              "    <tr>\n",
              "      <th>GrLivArea</th>\n",
              "      <td>1379.0</td>\n",
              "      <td>1534.689630</td>\n",
              "      <td>519.140514</td>\n",
              "      <td>438.0</td>\n",
              "      <td>1154.0</td>\n",
              "      <td>1479.0</td>\n",
              "      <td>1790.0</td>\n",
              "      <td>5642.0</td>\n",
              "    </tr>\n",
              "    <tr>\n",
              "      <th>BsmtFullBath</th>\n",
              "      <td>1379.0</td>\n",
              "      <td>0.430747</td>\n",
              "      <td>0.514052</td>\n",
              "      <td>0.0</td>\n",
              "      <td>0.0</td>\n",
              "      <td>0.0</td>\n",
              "      <td>1.0</td>\n",
              "      <td>2.0</td>\n",
              "    </tr>\n",
              "    <tr>\n",
              "      <th>BsmtHalfBath</th>\n",
              "      <td>1379.0</td>\n",
              "      <td>0.058738</td>\n",
              "      <td>0.238285</td>\n",
              "      <td>0.0</td>\n",
              "      <td>0.0</td>\n",
              "      <td>0.0</td>\n",
              "      <td>0.0</td>\n",
              "      <td>2.0</td>\n",
              "    </tr>\n",
              "    <tr>\n",
              "      <th>FullBath</th>\n",
              "      <td>1379.0</td>\n",
              "      <td>1.580131</td>\n",
              "      <td>0.548051</td>\n",
              "      <td>0.0</td>\n",
              "      <td>1.0</td>\n",
              "      <td>2.0</td>\n",
              "      <td>2.0</td>\n",
              "      <td>3.0</td>\n",
              "    </tr>\n",
              "    <tr>\n",
              "      <th>HalfBath</th>\n",
              "      <td>1379.0</td>\n",
              "      <td>0.395939</td>\n",
              "      <td>0.502402</td>\n",
              "      <td>0.0</td>\n",
              "      <td>0.0</td>\n",
              "      <td>0.0</td>\n",
              "      <td>1.0</td>\n",
              "      <td>2.0</td>\n",
              "    </tr>\n",
              "    <tr>\n",
              "      <th>BedroomAbvGr</th>\n",
              "      <td>1379.0</td>\n",
              "      <td>2.865120</td>\n",
              "      <td>0.783961</td>\n",
              "      <td>0.0</td>\n",
              "      <td>2.0</td>\n",
              "      <td>3.0</td>\n",
              "      <td>3.0</td>\n",
              "      <td>6.0</td>\n",
              "    </tr>\n",
              "    <tr>\n",
              "      <th>KitchenAbvGr</th>\n",
              "      <td>1379.0</td>\n",
              "      <td>1.038434</td>\n",
              "      <td>0.196048</td>\n",
              "      <td>1.0</td>\n",
              "      <td>1.0</td>\n",
              "      <td>1.0</td>\n",
              "      <td>1.0</td>\n",
              "      <td>3.0</td>\n",
              "    </tr>\n",
              "    <tr>\n",
              "      <th>TotRmsAbvGrd</th>\n",
              "      <td>1379.0</td>\n",
              "      <td>6.552574</td>\n",
              "      <td>1.589821</td>\n",
              "      <td>3.0</td>\n",
              "      <td>5.0</td>\n",
              "      <td>6.0</td>\n",
              "      <td>7.0</td>\n",
              "      <td>12.0</td>\n",
              "    </tr>\n",
              "    <tr>\n",
              "      <th>Fireplaces</th>\n",
              "      <td>1379.0</td>\n",
              "      <td>0.641769</td>\n",
              "      <td>0.645985</td>\n",
              "      <td>0.0</td>\n",
              "      <td>0.0</td>\n",
              "      <td>1.0</td>\n",
              "      <td>1.0</td>\n",
              "      <td>3.0</td>\n",
              "    </tr>\n",
              "    <tr>\n",
              "      <th>GarageYrBlt</th>\n",
              "      <td>1379.0</td>\n",
              "      <td>1978.506164</td>\n",
              "      <td>24.689725</td>\n",
              "      <td>1900.0</td>\n",
              "      <td>1961.0</td>\n",
              "      <td>1980.0</td>\n",
              "      <td>2002.0</td>\n",
              "      <td>2010.0</td>\n",
              "    </tr>\n",
              "    <tr>\n",
              "      <th>GarageCars</th>\n",
              "      <td>1379.0</td>\n",
              "      <td>1.870921</td>\n",
              "      <td>0.630055</td>\n",
              "      <td>1.0</td>\n",
              "      <td>1.0</td>\n",
              "      <td>2.0</td>\n",
              "      <td>2.0</td>\n",
              "      <td>4.0</td>\n",
              "    </tr>\n",
              "    <tr>\n",
              "      <th>GarageArea</th>\n",
              "      <td>1379.0</td>\n",
              "      <td>500.762146</td>\n",
              "      <td>185.680520</td>\n",
              "      <td>160.0</td>\n",
              "      <td>380.0</td>\n",
              "      <td>484.0</td>\n",
              "      <td>580.0</td>\n",
              "      <td>1418.0</td>\n",
              "    </tr>\n",
              "    <tr>\n",
              "      <th>WoodDeckSF</th>\n",
              "      <td>1379.0</td>\n",
              "      <td>97.456853</td>\n",
              "      <td>126.699192</td>\n",
              "      <td>0.0</td>\n",
              "      <td>0.0</td>\n",
              "      <td>0.0</td>\n",
              "      <td>171.0</td>\n",
              "      <td>857.0</td>\n",
              "    </tr>\n",
              "    <tr>\n",
              "      <th>OpenPorchSF</th>\n",
              "      <td>1379.0</td>\n",
              "      <td>47.276287</td>\n",
              "      <td>65.210465</td>\n",
              "      <td>0.0</td>\n",
              "      <td>0.0</td>\n",
              "      <td>27.0</td>\n",
              "      <td>69.5</td>\n",
              "      <td>547.0</td>\n",
              "    </tr>\n",
              "    <tr>\n",
              "      <th>EnclosedPorch</th>\n",
              "      <td>1379.0</td>\n",
              "      <td>21.039159</td>\n",
              "      <td>60.535107</td>\n",
              "      <td>0.0</td>\n",
              "      <td>0.0</td>\n",
              "      <td>0.0</td>\n",
              "      <td>0.0</td>\n",
              "      <td>552.0</td>\n",
              "    </tr>\n",
              "    <tr>\n",
              "      <th>3SsnPorch</th>\n",
              "      <td>1379.0</td>\n",
              "      <td>3.609862</td>\n",
              "      <td>30.154682</td>\n",
              "      <td>0.0</td>\n",
              "      <td>0.0</td>\n",
              "      <td>0.0</td>\n",
              "      <td>0.0</td>\n",
              "      <td>508.0</td>\n",
              "    </tr>\n",
              "    <tr>\n",
              "      <th>ScreenPorch</th>\n",
              "      <td>1379.0</td>\n",
              "      <td>15.945613</td>\n",
              "      <td>57.249593</td>\n",
              "      <td>0.0</td>\n",
              "      <td>0.0</td>\n",
              "      <td>0.0</td>\n",
              "      <td>0.0</td>\n",
              "      <td>480.0</td>\n",
              "    </tr>\n",
              "    <tr>\n",
              "      <th>PoolArea</th>\n",
              "      <td>1379.0</td>\n",
              "      <td>2.920957</td>\n",
              "      <td>41.335545</td>\n",
              "      <td>0.0</td>\n",
              "      <td>0.0</td>\n",
              "      <td>0.0</td>\n",
              "      <td>0.0</td>\n",
              "      <td>738.0</td>\n",
              "    </tr>\n",
              "    <tr>\n",
              "      <th>MiscVal</th>\n",
              "      <td>1379.0</td>\n",
              "      <td>42.889050</td>\n",
              "      <td>501.613931</td>\n",
              "      <td>0.0</td>\n",
              "      <td>0.0</td>\n",
              "      <td>0.0</td>\n",
              "      <td>0.0</td>\n",
              "      <td>15500.0</td>\n",
              "    </tr>\n",
              "    <tr>\n",
              "      <th>YrSold</th>\n",
              "      <td>1379.0</td>\n",
              "      <td>2007.812183</td>\n",
              "      <td>1.330221</td>\n",
              "      <td>2006.0</td>\n",
              "      <td>2007.0</td>\n",
              "      <td>2008.0</td>\n",
              "      <td>2009.0</td>\n",
              "      <td>2010.0</td>\n",
              "    </tr>\n",
              "    <tr>\n",
              "      <th>SalePrice</th>\n",
              "      <td>1379.0</td>\n",
              "      <td>185479.511240</td>\n",
              "      <td>79023.890600</td>\n",
              "      <td>35311.0</td>\n",
              "      <td>134000.0</td>\n",
              "      <td>167500.0</td>\n",
              "      <td>217750.0</td>\n",
              "      <td>755000.0</td>\n",
              "    </tr>\n",
              "  </tbody>\n",
              "</table>\n",
              "</div>\n",
              "      <button class=\"colab-df-convert\" onclick=\"convertToInteractive('df-a7d84fa2-baef-4c4e-9508-284c760aa367')\"\n",
              "              title=\"Convert this dataframe to an interactive table.\"\n",
              "              style=\"display:none;\">\n",
              "        \n",
              "  <svg xmlns=\"http://www.w3.org/2000/svg\" height=\"24px\"viewBox=\"0 0 24 24\"\n",
              "       width=\"24px\">\n",
              "    <path d=\"M0 0h24v24H0V0z\" fill=\"none\"/>\n",
              "    <path d=\"M18.56 5.44l.94 2.06.94-2.06 2.06-.94-2.06-.94-.94-2.06-.94 2.06-2.06.94zm-11 1L8.5 8.5l.94-2.06 2.06-.94-2.06-.94L8.5 2.5l-.94 2.06-2.06.94zm10 10l.94 2.06.94-2.06 2.06-.94-2.06-.94-.94-2.06-.94 2.06-2.06.94z\"/><path d=\"M17.41 7.96l-1.37-1.37c-.4-.4-.92-.59-1.43-.59-.52 0-1.04.2-1.43.59L10.3 9.45l-7.72 7.72c-.78.78-.78 2.05 0 2.83L4 21.41c.39.39.9.59 1.41.59.51 0 1.02-.2 1.41-.59l7.78-7.78 2.81-2.81c.8-.78.8-2.07 0-2.86zM5.41 20L4 18.59l7.72-7.72 1.47 1.35L5.41 20z\"/>\n",
              "  </svg>\n",
              "      </button>\n",
              "      \n",
              "  <style>\n",
              "    .colab-df-container {\n",
              "      display:flex;\n",
              "      flex-wrap:wrap;\n",
              "      gap: 12px;\n",
              "    }\n",
              "\n",
              "    .colab-df-convert {\n",
              "      background-color: #E8F0FE;\n",
              "      border: none;\n",
              "      border-radius: 50%;\n",
              "      cursor: pointer;\n",
              "      display: none;\n",
              "      fill: #1967D2;\n",
              "      height: 32px;\n",
              "      padding: 0 0 0 0;\n",
              "      width: 32px;\n",
              "    }\n",
              "\n",
              "    .colab-df-convert:hover {\n",
              "      background-color: #E2EBFA;\n",
              "      box-shadow: 0px 1px 2px rgba(60, 64, 67, 0.3), 0px 1px 3px 1px rgba(60, 64, 67, 0.15);\n",
              "      fill: #174EA6;\n",
              "    }\n",
              "\n",
              "    [theme=dark] .colab-df-convert {\n",
              "      background-color: #3B4455;\n",
              "      fill: #D2E3FC;\n",
              "    }\n",
              "\n",
              "    [theme=dark] .colab-df-convert:hover {\n",
              "      background-color: #434B5C;\n",
              "      box-shadow: 0px 1px 3px 1px rgba(0, 0, 0, 0.15);\n",
              "      filter: drop-shadow(0px 1px 2px rgba(0, 0, 0, 0.3));\n",
              "      fill: #FFFFFF;\n",
              "    }\n",
              "  </style>\n",
              "\n",
              "      <script>\n",
              "        const buttonEl =\n",
              "          document.querySelector('#df-a7d84fa2-baef-4c4e-9508-284c760aa367 button.colab-df-convert');\n",
              "        buttonEl.style.display =\n",
              "          google.colab.kernel.accessAllowed ? 'block' : 'none';\n",
              "\n",
              "        async function convertToInteractive(key) {\n",
              "          const element = document.querySelector('#df-a7d84fa2-baef-4c4e-9508-284c760aa367');\n",
              "          const dataTable =\n",
              "            await google.colab.kernel.invokeFunction('convertToInteractive',\n",
              "                                                     [key], {});\n",
              "          if (!dataTable) return;\n",
              "\n",
              "          const docLinkHtml = 'Like what you see? Visit the ' +\n",
              "            '<a target=\"_blank\" href=https://colab.research.google.com/notebooks/data_table.ipynb>data table notebook</a>'\n",
              "            + ' to learn more about interactive tables.';\n",
              "          element.innerHTML = '';\n",
              "          dataTable['output_type'] = 'display_data';\n",
              "          await google.colab.output.renderOutput(dataTable, element);\n",
              "          const docLink = document.createElement('div');\n",
              "          docLink.innerHTML = docLinkHtml;\n",
              "          element.appendChild(docLink);\n",
              "        }\n",
              "      </script>\n",
              "    </div>\n",
              "  </div>\n",
              "  "
            ]
          },
          "metadata": {},
          "execution_count": 9
        }
      ]
    },
    {
      "cell_type": "code",
      "source": [
        "df.abs"
      ],
      "metadata": {
        "colab": {
          "base_uri": "https://localhost:8080/"
        },
        "id": "fuzN3x4Sqozl",
        "outputId": "1748d8e7-f385-4080-c356-4198308c109f"
      },
      "execution_count": null,
      "outputs": [
        {
          "output_type": "execute_result",
          "data": {
            "text/plain": [
              "<bound method NDFrame.abs of       LotFrontage  LotArea  OverallQual  OverallCond  YearBuilt  YearRemodAdd  \\\n",
              "0            65.0     8450            7            5       2003          2003   \n",
              "1            80.0     9600            6            8       1976          1976   \n",
              "2            68.0    11250            7            5       2001          2002   \n",
              "3            60.0     9550            7            5       1915          1970   \n",
              "4            84.0    14260            8            5       2000          2000   \n",
              "...           ...      ...          ...          ...        ...           ...   \n",
              "1374         62.0     7917            6            5       1999          2000   \n",
              "1375         85.0    13175            6            6       1978          1988   \n",
              "1376         66.0     9042            7            9       1941          2006   \n",
              "1377         68.0     9717            5            6       1950          1996   \n",
              "1378         75.0     9937            5            6       1965          1965   \n",
              "\n",
              "      MasVnrArea  BsmtFinSF1  BsmtFinSF2  BsmtUnfSF  ...  GarageArea  \\\n",
              "0          196.0         706           0        150  ...         548   \n",
              "1            0.0         978           0        284  ...         460   \n",
              "2          162.0         486           0        434  ...         608   \n",
              "3            0.0         216           0        540  ...         642   \n",
              "4          350.0         655           0        490  ...         836   \n",
              "...          ...         ...         ...        ...  ...         ...   \n",
              "1374         0.0           0           0        953  ...         460   \n",
              "1375       119.0         790         163        589  ...         500   \n",
              "1376         0.0         275           0        877  ...         252   \n",
              "1377         0.0          49        1029          0  ...         240   \n",
              "1378         0.0         830         290        136  ...         276   \n",
              "\n",
              "      WoodDeckSF  OpenPorchSF  EnclosedPorch  3SsnPorch  ScreenPorch  \\\n",
              "0              0           61              0          0            0   \n",
              "1            298            0              0          0            0   \n",
              "2              0           42              0          0            0   \n",
              "3              0           35            272          0            0   \n",
              "4            192           84              0          0            0   \n",
              "...          ...          ...            ...        ...          ...   \n",
              "1374           0           40              0          0            0   \n",
              "1375         349            0              0          0            0   \n",
              "1376           0           60              0          0            0   \n",
              "1377         366            0            112          0            0   \n",
              "1378         736           68              0          0            0   \n",
              "\n",
              "      PoolArea  MiscVal  YrSold  SalePrice  \n",
              "0            0        0    2008     208500  \n",
              "1            0        0    2007     181500  \n",
              "2            0        0    2008     223500  \n",
              "3            0        0    2006     140000  \n",
              "4            0        0    2008     250000  \n",
              "...        ...      ...     ...        ...  \n",
              "1374         0        0    2007     175000  \n",
              "1375         0        0    2010     210000  \n",
              "1376         0     2500    2010     266500  \n",
              "1377         0        0    2010     142125  \n",
              "1378         0        0    2008     147500  \n",
              "\n",
              "[1379 rows x 35 columns]>"
            ]
          },
          "metadata": {},
          "execution_count": 10
        }
      ]
    },
    {
      "cell_type": "code",
      "source": [
        "s=pd.Series([-1.10,2,-3.33,4,5.40,7,2])"
      ],
      "metadata": {
        "id": "rGylr-8kqJ7C"
      },
      "execution_count": null,
      "outputs": []
    },
    {
      "cell_type": "code",
      "source": [
        "s.abs"
      ],
      "metadata": {
        "colab": {
          "base_uri": "https://localhost:8080/"
        },
        "id": "hk7TBUR9qjWj",
        "outputId": "b3d01097-6a89-4851-b8b6-29c72f64d3d0"
      },
      "execution_count": null,
      "outputs": [
        {
          "output_type": "execute_result",
          "data": {
            "text/plain": [
              "<bound method NDFrame.abs of 0   -1.10\n",
              "1    2.00\n",
              "2   -3.33\n",
              "3    4.00\n",
              "4    5.40\n",
              "5    7.00\n",
              "6    2.00\n",
              "dtype: float64>"
            ]
          },
          "metadata": {},
          "execution_count": 12
        }
      ]
    },
    {
      "cell_type": "code",
      "source": [
        "df.corr()"
      ],
      "metadata": {
        "colab": {
          "base_uri": "https://localhost:8080/",
          "height": 1000
        },
        "id": "fLg5MIClq3mU",
        "outputId": "9363d86f-f081-42c9-e869-e663aff47bf9"
      },
      "execution_count": null,
      "outputs": [
        {
          "output_type": "execute_result",
          "data": {
            "text/plain": [
              "               LotFrontage   LotArea  OverallQual  OverallCond  YearBuilt  \\\n",
              "LotFrontage       1.000000  0.096486     0.181773    -0.055003   0.036465   \n",
              "LotArea           0.096486  1.000000     0.090016    -0.002869  -0.005921   \n",
              "OverallQual       0.181773  0.090016     1.000000    -0.136232   0.572082   \n",
              "OverallCond      -0.055003 -0.002869    -0.136232     1.000000  -0.403602   \n",
              "YearBuilt         0.036465 -0.005921     0.572082    -0.403602   1.000000   \n",
              "YearRemodAdd      0.078981  0.002764     0.557772     0.048340   0.618058   \n",
              "MasVnrArea        0.105703  0.095510     0.398334    -0.132515   0.298459   \n",
              "BsmtFinSF1        0.081660  0.210145     0.223690    -0.050818   0.229643   \n",
              "BsmtFinSF2       -0.011105  0.110011    -0.073166     0.038770  -0.066657   \n",
              "BsmtUnfSF         0.155099 -0.009707     0.318552    -0.140730   0.157525   \n",
              "TotalBsmtSF       0.239537  0.252932     0.531977    -0.182020   0.376977   \n",
              "1stFlrSF          0.243530  0.291478     0.467425    -0.147171   0.258161   \n",
              "2ndFlrSF          0.039884  0.046253     0.286109     0.016720   0.017152   \n",
              "LowQualFinSF      0.023274  0.010177    -0.014550     0.043216  -0.159333   \n",
              "GrLivArea         0.217118  0.257243     0.589584    -0.092217   0.194663   \n",
              "BsmtFullBath      0.016265  0.161040     0.108955    -0.061775   0.181559   \n",
              "BsmtHalfBath     -0.025648  0.046480    -0.056924     0.121662  -0.054074   \n",
              "FullBath          0.112496  0.117064     0.556231    -0.218474   0.482739   \n",
              "HalfBath         -0.016263  0.005700     0.264944    -0.062217   0.235722   \n",
              "BedroomAbvGr      0.143522  0.119746     0.081714     0.014985  -0.071794   \n",
              "KitchenAbvGr      0.032789 -0.012477    -0.173051    -0.101463  -0.164898   \n",
              "TotRmsAbvGrd      0.218991  0.185724     0.426834    -0.068573   0.101539   \n",
              "Fireplaces        0.044074  0.265083     0.380163    -0.026489   0.113546   \n",
              "GarageYrBlt       0.044045 -0.024947     0.547766    -0.324297   0.825667   \n",
              "GarageCars        0.193139  0.137978     0.581381    -0.247317   0.523349   \n",
              "GarageArea        0.231974  0.167622     0.528107    -0.196678   0.444951   \n",
              "WoodDeckSF       -0.021568  0.166600     0.227272    -0.005638   0.213102   \n",
              "OpenPorchSF       0.073032  0.085056     0.319045    -0.053090   0.220775   \n",
              "EnclosedPorch     0.026765 -0.013427    -0.106609     0.063196  -0.378630   \n",
              "3SsnPorch         0.023441  0.018443     0.024314     0.026735   0.026285   \n",
              "ScreenPorch       0.022293  0.038605     0.050580     0.057507  -0.069431   \n",
              "PoolArea          0.115886  0.076868     0.064305    -0.002274   0.001167   \n",
              "MiscVal          -0.064162  0.040288    -0.029078     0.079088  -0.033892   \n",
              "YrSold           -0.014347 -0.013797    -0.019273     0.050309  -0.006809   \n",
              "SalePrice         0.213331  0.252921     0.787228    -0.095278   0.507584   \n",
              "\n",
              "               YearRemodAdd  MasVnrArea  BsmtFinSF1  BsmtFinSF2  BsmtUnfSF  \\\n",
              "LotFrontage        0.078981    0.105703    0.081660   -0.011105   0.155099   \n",
              "LotArea            0.002764    0.095510    0.210145    0.110011  -0.009707   \n",
              "OverallQual        0.557772    0.398334    0.223690   -0.073166   0.318552   \n",
              "OverallCond        0.048340   -0.132515   -0.050818    0.038770  -0.140730   \n",
              "YearBuilt          0.618058    0.298459    0.229643   -0.066657   0.157525   \n",
              "YearRemodAdd       1.000000    0.171066    0.114668   -0.077820   0.188918   \n",
              "MasVnrArea         0.171066    1.000000    0.253765   -0.077065   0.113269   \n",
              "BsmtFinSF1         0.114668    0.253765    1.000000   -0.054966  -0.502954   \n",
              "BsmtFinSF2        -0.077820   -0.077065   -0.054966    1.000000  -0.214549   \n",
              "BsmtUnfSF          0.188918    0.113269   -0.502954   -0.214549   1.000000   \n",
              "TotalBsmtSF        0.283572    0.353471    0.521366    0.100526   0.406118   \n",
              "1stFlrSF           0.235044    0.332127    0.446596    0.094006   0.311394   \n",
              "2ndFlrSF           0.128197    0.173013   -0.142969   -0.106641  -0.006450   \n",
              "LowQualFinSF      -0.063419   -0.060661   -0.050021    0.007453  -0.000859   \n",
              "GrLivArea          0.278864    0.389398    0.208016   -0.019636   0.226614   \n",
              "BsmtFullBath       0.112381    0.082783    0.647400    0.159399  -0.425382   \n",
              "BsmtHalfBath      -0.020593    0.018344    0.060852    0.074146  -0.096290   \n",
              "FullBath           0.444677    0.268730    0.044227   -0.089523   0.294838   \n",
              "HalfBath           0.182239    0.193239   -0.007579   -0.035581  -0.052574   \n",
              "BedroomAbvGr      -0.067375    0.108731   -0.118036   -0.007734   0.148676   \n",
              "KitchenAbvGr      -0.173640   -0.019801   -0.065825   -0.037808   0.018942   \n",
              "TotRmsAbvGrd       0.173375    0.285401    0.044389   -0.041156   0.233023   \n",
              "Fireplaces         0.100770    0.234058    0.253887    0.039251   0.047401   \n",
              "GarageYrBlt        0.642277    0.248546    0.153484   -0.088011   0.190708   \n",
              "GarageCars         0.450659    0.361334    0.201996   -0.075257   0.244263   \n",
              "GarageArea         0.382323    0.366771    0.289128   -0.047320   0.201121   \n",
              "WoodDeckSF         0.204308    0.151293    0.194729    0.063257  -0.005322   \n",
              "OpenPorchSF        0.235763    0.126715    0.120338    0.004866   0.131830   \n",
              "EnclosedPorch     -0.210831   -0.104787   -0.096743    0.045387   0.001498   \n",
              "3SsnPorch          0.043737    0.015923    0.023903   -0.031442   0.020335   \n",
              "ScreenPorch       -0.048102    0.055041    0.056216    0.087332  -0.015133   \n",
              "PoolArea           0.004089    0.010030    0.141615    0.041470  -0.036528   \n",
              "MiscVal           -0.003292   -0.029238    0.006846    0.006052  -0.019059   \n",
              "YrSold             0.039937   -0.004871    0.017754    0.032719  -0.044258   \n",
              "SalePrice          0.505434    0.463139    0.375563   -0.023243   0.213135   \n",
              "\n",
              "               ...  GarageArea  WoodDeckSF  OpenPorchSF  EnclosedPorch  \\\n",
              "LotFrontage    ...    0.231974   -0.021568     0.073032       0.026765   \n",
              "LotArea        ...    0.167622    0.166600     0.085056      -0.013427   \n",
              "OverallQual    ...    0.528107    0.227272     0.319045      -0.106609   \n",
              "OverallCond    ...   -0.196678   -0.005638    -0.053090       0.063196   \n",
              "YearBuilt      ...    0.444951    0.213102     0.220775      -0.378630   \n",
              "YearRemodAdd   ...    0.382323    0.204308     0.235763      -0.210831   \n",
              "MasVnrArea     ...    0.366771    0.151293     0.126715      -0.104787   \n",
              "BsmtFinSF1     ...    0.289128    0.194729     0.120338      -0.096743   \n",
              "BsmtFinSF2     ...   -0.047320    0.063257     0.004866       0.045387   \n",
              "BsmtUnfSF      ...    0.201121   -0.005322     0.131830       0.001498   \n",
              "TotalBsmtSF    ...    0.491248    0.223545     0.262639      -0.083298   \n",
              "1stFlrSF       ...    0.495321    0.225905     0.224826      -0.051324   \n",
              "2ndFlrSF       ...    0.128010    0.089892     0.203821       0.064856   \n",
              "LowQualFinSF   ...    0.015119   -0.006935     0.020296       0.049594   \n",
              "GrLivArea      ...    0.478811    0.243985     0.341749       0.020485   \n",
              "BsmtFullBath   ...    0.192149    0.169312     0.084253      -0.041446   \n",
              "BsmtHalfBath   ...   -0.043608    0.042690    -0.032429      -0.002122   \n",
              "FullBath       ...    0.422969    0.181549     0.277189      -0.117010   \n",
              "HalfBath       ...    0.129413    0.095782     0.211717      -0.086005   \n",
              "BedroomAbvGr   ...    0.087321    0.052647     0.081911       0.051674   \n",
              "KitchenAbvGr   ...    0.023795   -0.094343    -0.066110       0.028674   \n",
              "TotRmsAbvGrd   ...    0.362053    0.165911     0.238234       0.003937   \n",
              "Fireplaces     ...    0.207316    0.189866     0.174880      -0.013392   \n",
              "GarageYrBlt    ...    0.564567    0.224577     0.228425      -0.297003   \n",
              "GarageCars     ...    0.831481    0.205853     0.244436      -0.147096   \n",
              "GarageArea     ...    1.000000    0.202534     0.273570      -0.109105   \n",
              "WoodDeckSF     ...    0.202534    1.000000     0.065364      -0.127077   \n",
              "OpenPorchSF    ...    0.273570    0.065364     1.000000      -0.103668   \n",
              "EnclosedPorch  ...   -0.109105   -0.127077    -0.103668       1.000000   \n",
              "3SsnPorch      ...    0.023664   -0.036409    -0.007242      -0.036961   \n",
              "ScreenPorch    ...    0.019341   -0.082740     0.075217      -0.082060   \n",
              "PoolArea       ...    0.061760    0.072911     0.062866       0.057388   \n",
              "MiscVal        ...   -0.029811   -0.010342    -0.016078       0.022988   \n",
              "YrSold         ...   -0.026080    0.018460    -0.069992      -0.005271   \n",
              "SalePrice      ...    0.608405    0.312631     0.333036      -0.120164   \n",
              "\n",
              "               3SsnPorch  ScreenPorch  PoolArea   MiscVal    YrSold  SalePrice  \n",
              "LotFrontage     0.023441     0.022293  0.115886 -0.064162 -0.014347   0.213331  \n",
              "LotArea         0.018443     0.038605  0.076868  0.040288 -0.013797   0.252921  \n",
              "OverallQual     0.024314     0.050580  0.064305 -0.029078 -0.019273   0.787228  \n",
              "OverallCond     0.026735     0.057507 -0.002274  0.079088  0.050309  -0.095278  \n",
              "YearBuilt       0.026285    -0.069431  0.001167 -0.033892 -0.006809   0.507584  \n",
              "YearRemodAdd    0.043737    -0.048102  0.004089 -0.003292  0.039937   0.505434  \n",
              "MasVnrArea      0.015923     0.055041  0.010030 -0.029238 -0.004871   0.463139  \n",
              "BsmtFinSF1      0.023903     0.056216  0.141615  0.006846  0.017754   0.375563  \n",
              "BsmtFinSF2     -0.031442     0.087332  0.041470  0.006052  0.032719  -0.023243  \n",
              "BsmtUnfSF       0.020335    -0.015133 -0.036528 -0.019059 -0.044258   0.213135  \n",
              "TotalBsmtSF     0.034016     0.076720  0.127659 -0.009887 -0.013975   0.603583  \n",
              "1stFlrSF        0.053200     0.080980  0.132555 -0.015264 -0.016442   0.594935  \n",
              "2ndFlrSF       -0.026654     0.037506  0.082247  0.012266 -0.030946   0.313336  \n",
              "LowQualFinSF   -0.000254     0.045358  0.080516 -0.000251 -0.022023  -0.008364  \n",
              "GrLivArea       0.017073     0.095632  0.174681 -0.001013 -0.040162   0.708172  \n",
              "BsmtFullBath   -0.001370     0.021165  0.069498 -0.021181  0.067457   0.225988  \n",
              "BsmtHalfBath    0.035611     0.031780  0.020291 -0.006642 -0.043011  -0.025651  \n",
              "FullBath        0.033290    -0.016063  0.049371 -0.020144 -0.022642   0.556550  \n",
              "HalfBath       -0.008238     0.067509  0.021217  0.002772 -0.016779   0.270721  \n",
              "BedroomAbvGr   -0.026018     0.048004  0.075833  0.007535 -0.031269   0.164655  \n",
              "KitchenAbvGr   -0.023486    -0.048242 -0.013863  0.052592  0.008221  -0.135574  \n",
              "TotRmsAbvGrd   -0.009653     0.056509  0.086578  0.023505 -0.038735   0.538309  \n",
              "Fireplaces      0.006232     0.177489  0.094494  0.003635 -0.020928   0.448877  \n",
              "GarageYrBlt     0.023544    -0.075418 -0.014501 -0.032417 -0.001014   0.486362  \n",
              "GarageCars      0.023932     0.015840  0.013902 -0.049955 -0.041069   0.637095  \n",
              "GarageArea      0.023664     0.019341  0.061760 -0.029811 -0.026080   0.608405  \n",
              "WoodDeckSF     -0.036409    -0.082740  0.072911 -0.010342  0.018460   0.312631  \n",
              "OpenPorchSF    -0.007242     0.075217  0.062866 -0.016078 -0.069992   0.333036  \n",
              "EnclosedPorch  -0.036961    -0.082060  0.057388  0.022988 -0.005271  -0.120164  \n",
              "3SsnPorch       1.000000    -0.033367 -0.008465  0.000504  0.019484   0.039226  \n",
              "ScreenPorch    -0.033367     1.000000  0.050332  0.032915  0.011758   0.099453  \n",
              "PoolArea       -0.008465     0.050332  1.000000  0.030283 -0.061139   0.091518  \n",
              "MiscVal         0.000504     0.032915  0.030283  1.000000 -0.004974  -0.017933  \n",
              "YrSold          0.019484     0.011758 -0.061139 -0.004974  1.000000  -0.026726  \n",
              "SalePrice       0.039226     0.099453  0.091518 -0.017933 -0.026726   1.000000  \n",
              "\n",
              "[35 rows x 35 columns]"
            ],
            "text/html": [
              "\n",
              "  <div id=\"df-5b8eca3e-fb6d-4c3d-9073-9f73a04a5117\">\n",
              "    <div class=\"colab-df-container\">\n",
              "      <div>\n",
              "<style scoped>\n",
              "    .dataframe tbody tr th:only-of-type {\n",
              "        vertical-align: middle;\n",
              "    }\n",
              "\n",
              "    .dataframe tbody tr th {\n",
              "        vertical-align: top;\n",
              "    }\n",
              "\n",
              "    .dataframe thead th {\n",
              "        text-align: right;\n",
              "    }\n",
              "</style>\n",
              "<table border=\"1\" class=\"dataframe\">\n",
              "  <thead>\n",
              "    <tr style=\"text-align: right;\">\n",
              "      <th></th>\n",
              "      <th>LotFrontage</th>\n",
              "      <th>LotArea</th>\n",
              "      <th>OverallQual</th>\n",
              "      <th>OverallCond</th>\n",
              "      <th>YearBuilt</th>\n",
              "      <th>YearRemodAdd</th>\n",
              "      <th>MasVnrArea</th>\n",
              "      <th>BsmtFinSF1</th>\n",
              "      <th>BsmtFinSF2</th>\n",
              "      <th>BsmtUnfSF</th>\n",
              "      <th>...</th>\n",
              "      <th>GarageArea</th>\n",
              "      <th>WoodDeckSF</th>\n",
              "      <th>OpenPorchSF</th>\n",
              "      <th>EnclosedPorch</th>\n",
              "      <th>3SsnPorch</th>\n",
              "      <th>ScreenPorch</th>\n",
              "      <th>PoolArea</th>\n",
              "      <th>MiscVal</th>\n",
              "      <th>YrSold</th>\n",
              "      <th>SalePrice</th>\n",
              "    </tr>\n",
              "  </thead>\n",
              "  <tbody>\n",
              "    <tr>\n",
              "      <th>LotFrontage</th>\n",
              "      <td>1.000000</td>\n",
              "      <td>0.096486</td>\n",
              "      <td>0.181773</td>\n",
              "      <td>-0.055003</td>\n",
              "      <td>0.036465</td>\n",
              "      <td>0.078981</td>\n",
              "      <td>0.105703</td>\n",
              "      <td>0.081660</td>\n",
              "      <td>-0.011105</td>\n",
              "      <td>0.155099</td>\n",
              "      <td>...</td>\n",
              "      <td>0.231974</td>\n",
              "      <td>-0.021568</td>\n",
              "      <td>0.073032</td>\n",
              "      <td>0.026765</td>\n",
              "      <td>0.023441</td>\n",
              "      <td>0.022293</td>\n",
              "      <td>0.115886</td>\n",
              "      <td>-0.064162</td>\n",
              "      <td>-0.014347</td>\n",
              "      <td>0.213331</td>\n",
              "    </tr>\n",
              "    <tr>\n",
              "      <th>LotArea</th>\n",
              "      <td>0.096486</td>\n",
              "      <td>1.000000</td>\n",
              "      <td>0.090016</td>\n",
              "      <td>-0.002869</td>\n",
              "      <td>-0.005921</td>\n",
              "      <td>0.002764</td>\n",
              "      <td>0.095510</td>\n",
              "      <td>0.210145</td>\n",
              "      <td>0.110011</td>\n",
              "      <td>-0.009707</td>\n",
              "      <td>...</td>\n",
              "      <td>0.167622</td>\n",
              "      <td>0.166600</td>\n",
              "      <td>0.085056</td>\n",
              "      <td>-0.013427</td>\n",
              "      <td>0.018443</td>\n",
              "      <td>0.038605</td>\n",
              "      <td>0.076868</td>\n",
              "      <td>0.040288</td>\n",
              "      <td>-0.013797</td>\n",
              "      <td>0.252921</td>\n",
              "    </tr>\n",
              "    <tr>\n",
              "      <th>OverallQual</th>\n",
              "      <td>0.181773</td>\n",
              "      <td>0.090016</td>\n",
              "      <td>1.000000</td>\n",
              "      <td>-0.136232</td>\n",
              "      <td>0.572082</td>\n",
              "      <td>0.557772</td>\n",
              "      <td>0.398334</td>\n",
              "      <td>0.223690</td>\n",
              "      <td>-0.073166</td>\n",
              "      <td>0.318552</td>\n",
              "      <td>...</td>\n",
              "      <td>0.528107</td>\n",
              "      <td>0.227272</td>\n",
              "      <td>0.319045</td>\n",
              "      <td>-0.106609</td>\n",
              "      <td>0.024314</td>\n",
              "      <td>0.050580</td>\n",
              "      <td>0.064305</td>\n",
              "      <td>-0.029078</td>\n",
              "      <td>-0.019273</td>\n",
              "      <td>0.787228</td>\n",
              "    </tr>\n",
              "    <tr>\n",
              "      <th>OverallCond</th>\n",
              "      <td>-0.055003</td>\n",
              "      <td>-0.002869</td>\n",
              "      <td>-0.136232</td>\n",
              "      <td>1.000000</td>\n",
              "      <td>-0.403602</td>\n",
              "      <td>0.048340</td>\n",
              "      <td>-0.132515</td>\n",
              "      <td>-0.050818</td>\n",
              "      <td>0.038770</td>\n",
              "      <td>-0.140730</td>\n",
              "      <td>...</td>\n",
              "      <td>-0.196678</td>\n",
              "      <td>-0.005638</td>\n",
              "      <td>-0.053090</td>\n",
              "      <td>0.063196</td>\n",
              "      <td>0.026735</td>\n",
              "      <td>0.057507</td>\n",
              "      <td>-0.002274</td>\n",
              "      <td>0.079088</td>\n",
              "      <td>0.050309</td>\n",
              "      <td>-0.095278</td>\n",
              "    </tr>\n",
              "    <tr>\n",
              "      <th>YearBuilt</th>\n",
              "      <td>0.036465</td>\n",
              "      <td>-0.005921</td>\n",
              "      <td>0.572082</td>\n",
              "      <td>-0.403602</td>\n",
              "      <td>1.000000</td>\n",
              "      <td>0.618058</td>\n",
              "      <td>0.298459</td>\n",
              "      <td>0.229643</td>\n",
              "      <td>-0.066657</td>\n",
              "      <td>0.157525</td>\n",
              "      <td>...</td>\n",
              "      <td>0.444951</td>\n",
              "      <td>0.213102</td>\n",
              "      <td>0.220775</td>\n",
              "      <td>-0.378630</td>\n",
              "      <td>0.026285</td>\n",
              "      <td>-0.069431</td>\n",
              "      <td>0.001167</td>\n",
              "      <td>-0.033892</td>\n",
              "      <td>-0.006809</td>\n",
              "      <td>0.507584</td>\n",
              "    </tr>\n",
              "    <tr>\n",
              "      <th>YearRemodAdd</th>\n",
              "      <td>0.078981</td>\n",
              "      <td>0.002764</td>\n",
              "      <td>0.557772</td>\n",
              "      <td>0.048340</td>\n",
              "      <td>0.618058</td>\n",
              "      <td>1.000000</td>\n",
              "      <td>0.171066</td>\n",
              "      <td>0.114668</td>\n",
              "      <td>-0.077820</td>\n",
              "      <td>0.188918</td>\n",
              "      <td>...</td>\n",
              "      <td>0.382323</td>\n",
              "      <td>0.204308</td>\n",
              "      <td>0.235763</td>\n",
              "      <td>-0.210831</td>\n",
              "      <td>0.043737</td>\n",
              "      <td>-0.048102</td>\n",
              "      <td>0.004089</td>\n",
              "      <td>-0.003292</td>\n",
              "      <td>0.039937</td>\n",
              "      <td>0.505434</td>\n",
              "    </tr>\n",
              "    <tr>\n",
              "      <th>MasVnrArea</th>\n",
              "      <td>0.105703</td>\n",
              "      <td>0.095510</td>\n",
              "      <td>0.398334</td>\n",
              "      <td>-0.132515</td>\n",
              "      <td>0.298459</td>\n",
              "      <td>0.171066</td>\n",
              "      <td>1.000000</td>\n",
              "      <td>0.253765</td>\n",
              "      <td>-0.077065</td>\n",
              "      <td>0.113269</td>\n",
              "      <td>...</td>\n",
              "      <td>0.366771</td>\n",
              "      <td>0.151293</td>\n",
              "      <td>0.126715</td>\n",
              "      <td>-0.104787</td>\n",
              "      <td>0.015923</td>\n",
              "      <td>0.055041</td>\n",
              "      <td>0.010030</td>\n",
              "      <td>-0.029238</td>\n",
              "      <td>-0.004871</td>\n",
              "      <td>0.463139</td>\n",
              "    </tr>\n",
              "    <tr>\n",
              "      <th>BsmtFinSF1</th>\n",
              "      <td>0.081660</td>\n",
              "      <td>0.210145</td>\n",
              "      <td>0.223690</td>\n",
              "      <td>-0.050818</td>\n",
              "      <td>0.229643</td>\n",
              "      <td>0.114668</td>\n",
              "      <td>0.253765</td>\n",
              "      <td>1.000000</td>\n",
              "      <td>-0.054966</td>\n",
              "      <td>-0.502954</td>\n",
              "      <td>...</td>\n",
              "      <td>0.289128</td>\n",
              "      <td>0.194729</td>\n",
              "      <td>0.120338</td>\n",
              "      <td>-0.096743</td>\n",
              "      <td>0.023903</td>\n",
              "      <td>0.056216</td>\n",
              "      <td>0.141615</td>\n",
              "      <td>0.006846</td>\n",
              "      <td>0.017754</td>\n",
              "      <td>0.375563</td>\n",
              "    </tr>\n",
              "    <tr>\n",
              "      <th>BsmtFinSF2</th>\n",
              "      <td>-0.011105</td>\n",
              "      <td>0.110011</td>\n",
              "      <td>-0.073166</td>\n",
              "      <td>0.038770</td>\n",
              "      <td>-0.066657</td>\n",
              "      <td>-0.077820</td>\n",
              "      <td>-0.077065</td>\n",
              "      <td>-0.054966</td>\n",
              "      <td>1.000000</td>\n",
              "      <td>-0.214549</td>\n",
              "      <td>...</td>\n",
              "      <td>-0.047320</td>\n",
              "      <td>0.063257</td>\n",
              "      <td>0.004866</td>\n",
              "      <td>0.045387</td>\n",
              "      <td>-0.031442</td>\n",
              "      <td>0.087332</td>\n",
              "      <td>0.041470</td>\n",
              "      <td>0.006052</td>\n",
              "      <td>0.032719</td>\n",
              "      <td>-0.023243</td>\n",
              "    </tr>\n",
              "    <tr>\n",
              "      <th>BsmtUnfSF</th>\n",
              "      <td>0.155099</td>\n",
              "      <td>-0.009707</td>\n",
              "      <td>0.318552</td>\n",
              "      <td>-0.140730</td>\n",
              "      <td>0.157525</td>\n",
              "      <td>0.188918</td>\n",
              "      <td>0.113269</td>\n",
              "      <td>-0.502954</td>\n",
              "      <td>-0.214549</td>\n",
              "      <td>1.000000</td>\n",
              "      <td>...</td>\n",
              "      <td>0.201121</td>\n",
              "      <td>-0.005322</td>\n",
              "      <td>0.131830</td>\n",
              "      <td>0.001498</td>\n",
              "      <td>0.020335</td>\n",
              "      <td>-0.015133</td>\n",
              "      <td>-0.036528</td>\n",
              "      <td>-0.019059</td>\n",
              "      <td>-0.044258</td>\n",
              "      <td>0.213135</td>\n",
              "    </tr>\n",
              "    <tr>\n",
              "      <th>TotalBsmtSF</th>\n",
              "      <td>0.239537</td>\n",
              "      <td>0.252932</td>\n",
              "      <td>0.531977</td>\n",
              "      <td>-0.182020</td>\n",
              "      <td>0.376977</td>\n",
              "      <td>0.283572</td>\n",
              "      <td>0.353471</td>\n",
              "      <td>0.521366</td>\n",
              "      <td>0.100526</td>\n",
              "      <td>0.406118</td>\n",
              "      <td>...</td>\n",
              "      <td>0.491248</td>\n",
              "      <td>0.223545</td>\n",
              "      <td>0.262639</td>\n",
              "      <td>-0.083298</td>\n",
              "      <td>0.034016</td>\n",
              "      <td>0.076720</td>\n",
              "      <td>0.127659</td>\n",
              "      <td>-0.009887</td>\n",
              "      <td>-0.013975</td>\n",
              "      <td>0.603583</td>\n",
              "    </tr>\n",
              "    <tr>\n",
              "      <th>1stFlrSF</th>\n",
              "      <td>0.243530</td>\n",
              "      <td>0.291478</td>\n",
              "      <td>0.467425</td>\n",
              "      <td>-0.147171</td>\n",
              "      <td>0.258161</td>\n",
              "      <td>0.235044</td>\n",
              "      <td>0.332127</td>\n",
              "      <td>0.446596</td>\n",
              "      <td>0.094006</td>\n",
              "      <td>0.311394</td>\n",
              "      <td>...</td>\n",
              "      <td>0.495321</td>\n",
              "      <td>0.225905</td>\n",
              "      <td>0.224826</td>\n",
              "      <td>-0.051324</td>\n",
              "      <td>0.053200</td>\n",
              "      <td>0.080980</td>\n",
              "      <td>0.132555</td>\n",
              "      <td>-0.015264</td>\n",
              "      <td>-0.016442</td>\n",
              "      <td>0.594935</td>\n",
              "    </tr>\n",
              "    <tr>\n",
              "      <th>2ndFlrSF</th>\n",
              "      <td>0.039884</td>\n",
              "      <td>0.046253</td>\n",
              "      <td>0.286109</td>\n",
              "      <td>0.016720</td>\n",
              "      <td>0.017152</td>\n",
              "      <td>0.128197</td>\n",
              "      <td>0.173013</td>\n",
              "      <td>-0.142969</td>\n",
              "      <td>-0.106641</td>\n",
              "      <td>-0.006450</td>\n",
              "      <td>...</td>\n",
              "      <td>0.128010</td>\n",
              "      <td>0.089892</td>\n",
              "      <td>0.203821</td>\n",
              "      <td>0.064856</td>\n",
              "      <td>-0.026654</td>\n",
              "      <td>0.037506</td>\n",
              "      <td>0.082247</td>\n",
              "      <td>0.012266</td>\n",
              "      <td>-0.030946</td>\n",
              "      <td>0.313336</td>\n",
              "    </tr>\n",
              "    <tr>\n",
              "      <th>LowQualFinSF</th>\n",
              "      <td>0.023274</td>\n",
              "      <td>0.010177</td>\n",
              "      <td>-0.014550</td>\n",
              "      <td>0.043216</td>\n",
              "      <td>-0.159333</td>\n",
              "      <td>-0.063419</td>\n",
              "      <td>-0.060661</td>\n",
              "      <td>-0.050021</td>\n",
              "      <td>0.007453</td>\n",
              "      <td>-0.000859</td>\n",
              "      <td>...</td>\n",
              "      <td>0.015119</td>\n",
              "      <td>-0.006935</td>\n",
              "      <td>0.020296</td>\n",
              "      <td>0.049594</td>\n",
              "      <td>-0.000254</td>\n",
              "      <td>0.045358</td>\n",
              "      <td>0.080516</td>\n",
              "      <td>-0.000251</td>\n",
              "      <td>-0.022023</td>\n",
              "      <td>-0.008364</td>\n",
              "    </tr>\n",
              "    <tr>\n",
              "      <th>GrLivArea</th>\n",
              "      <td>0.217118</td>\n",
              "      <td>0.257243</td>\n",
              "      <td>0.589584</td>\n",
              "      <td>-0.092217</td>\n",
              "      <td>0.194663</td>\n",
              "      <td>0.278864</td>\n",
              "      <td>0.389398</td>\n",
              "      <td>0.208016</td>\n",
              "      <td>-0.019636</td>\n",
              "      <td>0.226614</td>\n",
              "      <td>...</td>\n",
              "      <td>0.478811</td>\n",
              "      <td>0.243985</td>\n",
              "      <td>0.341749</td>\n",
              "      <td>0.020485</td>\n",
              "      <td>0.017073</td>\n",
              "      <td>0.095632</td>\n",
              "      <td>0.174681</td>\n",
              "      <td>-0.001013</td>\n",
              "      <td>-0.040162</td>\n",
              "      <td>0.708172</td>\n",
              "    </tr>\n",
              "    <tr>\n",
              "      <th>BsmtFullBath</th>\n",
              "      <td>0.016265</td>\n",
              "      <td>0.161040</td>\n",
              "      <td>0.108955</td>\n",
              "      <td>-0.061775</td>\n",
              "      <td>0.181559</td>\n",
              "      <td>0.112381</td>\n",
              "      <td>0.082783</td>\n",
              "      <td>0.647400</td>\n",
              "      <td>0.159399</td>\n",
              "      <td>-0.425382</td>\n",
              "      <td>...</td>\n",
              "      <td>0.192149</td>\n",
              "      <td>0.169312</td>\n",
              "      <td>0.084253</td>\n",
              "      <td>-0.041446</td>\n",
              "      <td>-0.001370</td>\n",
              "      <td>0.021165</td>\n",
              "      <td>0.069498</td>\n",
              "      <td>-0.021181</td>\n",
              "      <td>0.067457</td>\n",
              "      <td>0.225988</td>\n",
              "    </tr>\n",
              "    <tr>\n",
              "      <th>BsmtHalfBath</th>\n",
              "      <td>-0.025648</td>\n",
              "      <td>0.046480</td>\n",
              "      <td>-0.056924</td>\n",
              "      <td>0.121662</td>\n",
              "      <td>-0.054074</td>\n",
              "      <td>-0.020593</td>\n",
              "      <td>0.018344</td>\n",
              "      <td>0.060852</td>\n",
              "      <td>0.074146</td>\n",
              "      <td>-0.096290</td>\n",
              "      <td>...</td>\n",
              "      <td>-0.043608</td>\n",
              "      <td>0.042690</td>\n",
              "      <td>-0.032429</td>\n",
              "      <td>-0.002122</td>\n",
              "      <td>0.035611</td>\n",
              "      <td>0.031780</td>\n",
              "      <td>0.020291</td>\n",
              "      <td>-0.006642</td>\n",
              "      <td>-0.043011</td>\n",
              "      <td>-0.025651</td>\n",
              "    </tr>\n",
              "    <tr>\n",
              "      <th>FullBath</th>\n",
              "      <td>0.112496</td>\n",
              "      <td>0.117064</td>\n",
              "      <td>0.556231</td>\n",
              "      <td>-0.218474</td>\n",
              "      <td>0.482739</td>\n",
              "      <td>0.444677</td>\n",
              "      <td>0.268730</td>\n",
              "      <td>0.044227</td>\n",
              "      <td>-0.089523</td>\n",
              "      <td>0.294838</td>\n",
              "      <td>...</td>\n",
              "      <td>0.422969</td>\n",
              "      <td>0.181549</td>\n",
              "      <td>0.277189</td>\n",
              "      <td>-0.117010</td>\n",
              "      <td>0.033290</td>\n",
              "      <td>-0.016063</td>\n",
              "      <td>0.049371</td>\n",
              "      <td>-0.020144</td>\n",
              "      <td>-0.022642</td>\n",
              "      <td>0.556550</td>\n",
              "    </tr>\n",
              "    <tr>\n",
              "      <th>HalfBath</th>\n",
              "      <td>-0.016263</td>\n",
              "      <td>0.005700</td>\n",
              "      <td>0.264944</td>\n",
              "      <td>-0.062217</td>\n",
              "      <td>0.235722</td>\n",
              "      <td>0.182239</td>\n",
              "      <td>0.193239</td>\n",
              "      <td>-0.007579</td>\n",
              "      <td>-0.035581</td>\n",
              "      <td>-0.052574</td>\n",
              "      <td>...</td>\n",
              "      <td>0.129413</td>\n",
              "      <td>0.095782</td>\n",
              "      <td>0.211717</td>\n",
              "      <td>-0.086005</td>\n",
              "      <td>-0.008238</td>\n",
              "      <td>0.067509</td>\n",
              "      <td>0.021217</td>\n",
              "      <td>0.002772</td>\n",
              "      <td>-0.016779</td>\n",
              "      <td>0.270721</td>\n",
              "    </tr>\n",
              "    <tr>\n",
              "      <th>BedroomAbvGr</th>\n",
              "      <td>0.143522</td>\n",
              "      <td>0.119746</td>\n",
              "      <td>0.081714</td>\n",
              "      <td>0.014985</td>\n",
              "      <td>-0.071794</td>\n",
              "      <td>-0.067375</td>\n",
              "      <td>0.108731</td>\n",
              "      <td>-0.118036</td>\n",
              "      <td>-0.007734</td>\n",
              "      <td>0.148676</td>\n",
              "      <td>...</td>\n",
              "      <td>0.087321</td>\n",
              "      <td>0.052647</td>\n",
              "      <td>0.081911</td>\n",
              "      <td>0.051674</td>\n",
              "      <td>-0.026018</td>\n",
              "      <td>0.048004</td>\n",
              "      <td>0.075833</td>\n",
              "      <td>0.007535</td>\n",
              "      <td>-0.031269</td>\n",
              "      <td>0.164655</td>\n",
              "    </tr>\n",
              "    <tr>\n",
              "      <th>KitchenAbvGr</th>\n",
              "      <td>0.032789</td>\n",
              "      <td>-0.012477</td>\n",
              "      <td>-0.173051</td>\n",
              "      <td>-0.101463</td>\n",
              "      <td>-0.164898</td>\n",
              "      <td>-0.173640</td>\n",
              "      <td>-0.019801</td>\n",
              "      <td>-0.065825</td>\n",
              "      <td>-0.037808</td>\n",
              "      <td>0.018942</td>\n",
              "      <td>...</td>\n",
              "      <td>0.023795</td>\n",
              "      <td>-0.094343</td>\n",
              "      <td>-0.066110</td>\n",
              "      <td>0.028674</td>\n",
              "      <td>-0.023486</td>\n",
              "      <td>-0.048242</td>\n",
              "      <td>-0.013863</td>\n",
              "      <td>0.052592</td>\n",
              "      <td>0.008221</td>\n",
              "      <td>-0.135574</td>\n",
              "    </tr>\n",
              "    <tr>\n",
              "      <th>TotRmsAbvGrd</th>\n",
              "      <td>0.218991</td>\n",
              "      <td>0.185724</td>\n",
              "      <td>0.426834</td>\n",
              "      <td>-0.068573</td>\n",
              "      <td>0.101539</td>\n",
              "      <td>0.173375</td>\n",
              "      <td>0.285401</td>\n",
              "      <td>0.044389</td>\n",
              "      <td>-0.041156</td>\n",
              "      <td>0.233023</td>\n",
              "      <td>...</td>\n",
              "      <td>0.362053</td>\n",
              "      <td>0.165911</td>\n",
              "      <td>0.238234</td>\n",
              "      <td>0.003937</td>\n",
              "      <td>-0.009653</td>\n",
              "      <td>0.056509</td>\n",
              "      <td>0.086578</td>\n",
              "      <td>0.023505</td>\n",
              "      <td>-0.038735</td>\n",
              "      <td>0.538309</td>\n",
              "    </tr>\n",
              "    <tr>\n",
              "      <th>Fireplaces</th>\n",
              "      <td>0.044074</td>\n",
              "      <td>0.265083</td>\n",
              "      <td>0.380163</td>\n",
              "      <td>-0.026489</td>\n",
              "      <td>0.113546</td>\n",
              "      <td>0.100770</td>\n",
              "      <td>0.234058</td>\n",
              "      <td>0.253887</td>\n",
              "      <td>0.039251</td>\n",
              "      <td>0.047401</td>\n",
              "      <td>...</td>\n",
              "      <td>0.207316</td>\n",
              "      <td>0.189866</td>\n",
              "      <td>0.174880</td>\n",
              "      <td>-0.013392</td>\n",
              "      <td>0.006232</td>\n",
              "      <td>0.177489</td>\n",
              "      <td>0.094494</td>\n",
              "      <td>0.003635</td>\n",
              "      <td>-0.020928</td>\n",
              "      <td>0.448877</td>\n",
              "    </tr>\n",
              "    <tr>\n",
              "      <th>GarageYrBlt</th>\n",
              "      <td>0.044045</td>\n",
              "      <td>-0.024947</td>\n",
              "      <td>0.547766</td>\n",
              "      <td>-0.324297</td>\n",
              "      <td>0.825667</td>\n",
              "      <td>0.642277</td>\n",
              "      <td>0.248546</td>\n",
              "      <td>0.153484</td>\n",
              "      <td>-0.088011</td>\n",
              "      <td>0.190708</td>\n",
              "      <td>...</td>\n",
              "      <td>0.564567</td>\n",
              "      <td>0.224577</td>\n",
              "      <td>0.228425</td>\n",
              "      <td>-0.297003</td>\n",
              "      <td>0.023544</td>\n",
              "      <td>-0.075418</td>\n",
              "      <td>-0.014501</td>\n",
              "      <td>-0.032417</td>\n",
              "      <td>-0.001014</td>\n",
              "      <td>0.486362</td>\n",
              "    </tr>\n",
              "    <tr>\n",
              "      <th>GarageCars</th>\n",
              "      <td>0.193139</td>\n",
              "      <td>0.137978</td>\n",
              "      <td>0.581381</td>\n",
              "      <td>-0.247317</td>\n",
              "      <td>0.523349</td>\n",
              "      <td>0.450659</td>\n",
              "      <td>0.361334</td>\n",
              "      <td>0.201996</td>\n",
              "      <td>-0.075257</td>\n",
              "      <td>0.244263</td>\n",
              "      <td>...</td>\n",
              "      <td>0.831481</td>\n",
              "      <td>0.205853</td>\n",
              "      <td>0.244436</td>\n",
              "      <td>-0.147096</td>\n",
              "      <td>0.023932</td>\n",
              "      <td>0.015840</td>\n",
              "      <td>0.013902</td>\n",
              "      <td>-0.049955</td>\n",
              "      <td>-0.041069</td>\n",
              "      <td>0.637095</td>\n",
              "    </tr>\n",
              "    <tr>\n",
              "      <th>GarageArea</th>\n",
              "      <td>0.231974</td>\n",
              "      <td>0.167622</td>\n",
              "      <td>0.528107</td>\n",
              "      <td>-0.196678</td>\n",
              "      <td>0.444951</td>\n",
              "      <td>0.382323</td>\n",
              "      <td>0.366771</td>\n",
              "      <td>0.289128</td>\n",
              "      <td>-0.047320</td>\n",
              "      <td>0.201121</td>\n",
              "      <td>...</td>\n",
              "      <td>1.000000</td>\n",
              "      <td>0.202534</td>\n",
              "      <td>0.273570</td>\n",
              "      <td>-0.109105</td>\n",
              "      <td>0.023664</td>\n",
              "      <td>0.019341</td>\n",
              "      <td>0.061760</td>\n",
              "      <td>-0.029811</td>\n",
              "      <td>-0.026080</td>\n",
              "      <td>0.608405</td>\n",
              "    </tr>\n",
              "    <tr>\n",
              "      <th>WoodDeckSF</th>\n",
              "      <td>-0.021568</td>\n",
              "      <td>0.166600</td>\n",
              "      <td>0.227272</td>\n",
              "      <td>-0.005638</td>\n",
              "      <td>0.213102</td>\n",
              "      <td>0.204308</td>\n",
              "      <td>0.151293</td>\n",
              "      <td>0.194729</td>\n",
              "      <td>0.063257</td>\n",
              "      <td>-0.005322</td>\n",
              "      <td>...</td>\n",
              "      <td>0.202534</td>\n",
              "      <td>1.000000</td>\n",
              "      <td>0.065364</td>\n",
              "      <td>-0.127077</td>\n",
              "      <td>-0.036409</td>\n",
              "      <td>-0.082740</td>\n",
              "      <td>0.072911</td>\n",
              "      <td>-0.010342</td>\n",
              "      <td>0.018460</td>\n",
              "      <td>0.312631</td>\n",
              "    </tr>\n",
              "    <tr>\n",
              "      <th>OpenPorchSF</th>\n",
              "      <td>0.073032</td>\n",
              "      <td>0.085056</td>\n",
              "      <td>0.319045</td>\n",
              "      <td>-0.053090</td>\n",
              "      <td>0.220775</td>\n",
              "      <td>0.235763</td>\n",
              "      <td>0.126715</td>\n",
              "      <td>0.120338</td>\n",
              "      <td>0.004866</td>\n",
              "      <td>0.131830</td>\n",
              "      <td>...</td>\n",
              "      <td>0.273570</td>\n",
              "      <td>0.065364</td>\n",
              "      <td>1.000000</td>\n",
              "      <td>-0.103668</td>\n",
              "      <td>-0.007242</td>\n",
              "      <td>0.075217</td>\n",
              "      <td>0.062866</td>\n",
              "      <td>-0.016078</td>\n",
              "      <td>-0.069992</td>\n",
              "      <td>0.333036</td>\n",
              "    </tr>\n",
              "    <tr>\n",
              "      <th>EnclosedPorch</th>\n",
              "      <td>0.026765</td>\n",
              "      <td>-0.013427</td>\n",
              "      <td>-0.106609</td>\n",
              "      <td>0.063196</td>\n",
              "      <td>-0.378630</td>\n",
              "      <td>-0.210831</td>\n",
              "      <td>-0.104787</td>\n",
              "      <td>-0.096743</td>\n",
              "      <td>0.045387</td>\n",
              "      <td>0.001498</td>\n",
              "      <td>...</td>\n",
              "      <td>-0.109105</td>\n",
              "      <td>-0.127077</td>\n",
              "      <td>-0.103668</td>\n",
              "      <td>1.000000</td>\n",
              "      <td>-0.036961</td>\n",
              "      <td>-0.082060</td>\n",
              "      <td>0.057388</td>\n",
              "      <td>0.022988</td>\n",
              "      <td>-0.005271</td>\n",
              "      <td>-0.120164</td>\n",
              "    </tr>\n",
              "    <tr>\n",
              "      <th>3SsnPorch</th>\n",
              "      <td>0.023441</td>\n",
              "      <td>0.018443</td>\n",
              "      <td>0.024314</td>\n",
              "      <td>0.026735</td>\n",
              "      <td>0.026285</td>\n",
              "      <td>0.043737</td>\n",
              "      <td>0.015923</td>\n",
              "      <td>0.023903</td>\n",
              "      <td>-0.031442</td>\n",
              "      <td>0.020335</td>\n",
              "      <td>...</td>\n",
              "      <td>0.023664</td>\n",
              "      <td>-0.036409</td>\n",
              "      <td>-0.007242</td>\n",
              "      <td>-0.036961</td>\n",
              "      <td>1.000000</td>\n",
              "      <td>-0.033367</td>\n",
              "      <td>-0.008465</td>\n",
              "      <td>0.000504</td>\n",
              "      <td>0.019484</td>\n",
              "      <td>0.039226</td>\n",
              "    </tr>\n",
              "    <tr>\n",
              "      <th>ScreenPorch</th>\n",
              "      <td>0.022293</td>\n",
              "      <td>0.038605</td>\n",
              "      <td>0.050580</td>\n",
              "      <td>0.057507</td>\n",
              "      <td>-0.069431</td>\n",
              "      <td>-0.048102</td>\n",
              "      <td>0.055041</td>\n",
              "      <td>0.056216</td>\n",
              "      <td>0.087332</td>\n",
              "      <td>-0.015133</td>\n",
              "      <td>...</td>\n",
              "      <td>0.019341</td>\n",
              "      <td>-0.082740</td>\n",
              "      <td>0.075217</td>\n",
              "      <td>-0.082060</td>\n",
              "      <td>-0.033367</td>\n",
              "      <td>1.000000</td>\n",
              "      <td>0.050332</td>\n",
              "      <td>0.032915</td>\n",
              "      <td>0.011758</td>\n",
              "      <td>0.099453</td>\n",
              "    </tr>\n",
              "    <tr>\n",
              "      <th>PoolArea</th>\n",
              "      <td>0.115886</td>\n",
              "      <td>0.076868</td>\n",
              "      <td>0.064305</td>\n",
              "      <td>-0.002274</td>\n",
              "      <td>0.001167</td>\n",
              "      <td>0.004089</td>\n",
              "      <td>0.010030</td>\n",
              "      <td>0.141615</td>\n",
              "      <td>0.041470</td>\n",
              "      <td>-0.036528</td>\n",
              "      <td>...</td>\n",
              "      <td>0.061760</td>\n",
              "      <td>0.072911</td>\n",
              "      <td>0.062866</td>\n",
              "      <td>0.057388</td>\n",
              "      <td>-0.008465</td>\n",
              "      <td>0.050332</td>\n",
              "      <td>1.000000</td>\n",
              "      <td>0.030283</td>\n",
              "      <td>-0.061139</td>\n",
              "      <td>0.091518</td>\n",
              "    </tr>\n",
              "    <tr>\n",
              "      <th>MiscVal</th>\n",
              "      <td>-0.064162</td>\n",
              "      <td>0.040288</td>\n",
              "      <td>-0.029078</td>\n",
              "      <td>0.079088</td>\n",
              "      <td>-0.033892</td>\n",
              "      <td>-0.003292</td>\n",
              "      <td>-0.029238</td>\n",
              "      <td>0.006846</td>\n",
              "      <td>0.006052</td>\n",
              "      <td>-0.019059</td>\n",
              "      <td>...</td>\n",
              "      <td>-0.029811</td>\n",
              "      <td>-0.010342</td>\n",
              "      <td>-0.016078</td>\n",
              "      <td>0.022988</td>\n",
              "      <td>0.000504</td>\n",
              "      <td>0.032915</td>\n",
              "      <td>0.030283</td>\n",
              "      <td>1.000000</td>\n",
              "      <td>-0.004974</td>\n",
              "      <td>-0.017933</td>\n",
              "    </tr>\n",
              "    <tr>\n",
              "      <th>YrSold</th>\n",
              "      <td>-0.014347</td>\n",
              "      <td>-0.013797</td>\n",
              "      <td>-0.019273</td>\n",
              "      <td>0.050309</td>\n",
              "      <td>-0.006809</td>\n",
              "      <td>0.039937</td>\n",
              "      <td>-0.004871</td>\n",
              "      <td>0.017754</td>\n",
              "      <td>0.032719</td>\n",
              "      <td>-0.044258</td>\n",
              "      <td>...</td>\n",
              "      <td>-0.026080</td>\n",
              "      <td>0.018460</td>\n",
              "      <td>-0.069992</td>\n",
              "      <td>-0.005271</td>\n",
              "      <td>0.019484</td>\n",
              "      <td>0.011758</td>\n",
              "      <td>-0.061139</td>\n",
              "      <td>-0.004974</td>\n",
              "      <td>1.000000</td>\n",
              "      <td>-0.026726</td>\n",
              "    </tr>\n",
              "    <tr>\n",
              "      <th>SalePrice</th>\n",
              "      <td>0.213331</td>\n",
              "      <td>0.252921</td>\n",
              "      <td>0.787228</td>\n",
              "      <td>-0.095278</td>\n",
              "      <td>0.507584</td>\n",
              "      <td>0.505434</td>\n",
              "      <td>0.463139</td>\n",
              "      <td>0.375563</td>\n",
              "      <td>-0.023243</td>\n",
              "      <td>0.213135</td>\n",
              "      <td>...</td>\n",
              "      <td>0.608405</td>\n",
              "      <td>0.312631</td>\n",
              "      <td>0.333036</td>\n",
              "      <td>-0.120164</td>\n",
              "      <td>0.039226</td>\n",
              "      <td>0.099453</td>\n",
              "      <td>0.091518</td>\n",
              "      <td>-0.017933</td>\n",
              "      <td>-0.026726</td>\n",
              "      <td>1.000000</td>\n",
              "    </tr>\n",
              "  </tbody>\n",
              "</table>\n",
              "<p>35 rows × 35 columns</p>\n",
              "</div>\n",
              "      <button class=\"colab-df-convert\" onclick=\"convertToInteractive('df-5b8eca3e-fb6d-4c3d-9073-9f73a04a5117')\"\n",
              "              title=\"Convert this dataframe to an interactive table.\"\n",
              "              style=\"display:none;\">\n",
              "        \n",
              "  <svg xmlns=\"http://www.w3.org/2000/svg\" height=\"24px\"viewBox=\"0 0 24 24\"\n",
              "       width=\"24px\">\n",
              "    <path d=\"M0 0h24v24H0V0z\" fill=\"none\"/>\n",
              "    <path d=\"M18.56 5.44l.94 2.06.94-2.06 2.06-.94-2.06-.94-.94-2.06-.94 2.06-2.06.94zm-11 1L8.5 8.5l.94-2.06 2.06-.94-2.06-.94L8.5 2.5l-.94 2.06-2.06.94zm10 10l.94 2.06.94-2.06 2.06-.94-2.06-.94-.94-2.06-.94 2.06-2.06.94z\"/><path d=\"M17.41 7.96l-1.37-1.37c-.4-.4-.92-.59-1.43-.59-.52 0-1.04.2-1.43.59L10.3 9.45l-7.72 7.72c-.78.78-.78 2.05 0 2.83L4 21.41c.39.39.9.59 1.41.59.51 0 1.02-.2 1.41-.59l7.78-7.78 2.81-2.81c.8-.78.8-2.07 0-2.86zM5.41 20L4 18.59l7.72-7.72 1.47 1.35L5.41 20z\"/>\n",
              "  </svg>\n",
              "      </button>\n",
              "      \n",
              "  <style>\n",
              "    .colab-df-container {\n",
              "      display:flex;\n",
              "      flex-wrap:wrap;\n",
              "      gap: 12px;\n",
              "    }\n",
              "\n",
              "    .colab-df-convert {\n",
              "      background-color: #E8F0FE;\n",
              "      border: none;\n",
              "      border-radius: 50%;\n",
              "      cursor: pointer;\n",
              "      display: none;\n",
              "      fill: #1967D2;\n",
              "      height: 32px;\n",
              "      padding: 0 0 0 0;\n",
              "      width: 32px;\n",
              "    }\n",
              "\n",
              "    .colab-df-convert:hover {\n",
              "      background-color: #E2EBFA;\n",
              "      box-shadow: 0px 1px 2px rgba(60, 64, 67, 0.3), 0px 1px 3px 1px rgba(60, 64, 67, 0.15);\n",
              "      fill: #174EA6;\n",
              "    }\n",
              "\n",
              "    [theme=dark] .colab-df-convert {\n",
              "      background-color: #3B4455;\n",
              "      fill: #D2E3FC;\n",
              "    }\n",
              "\n",
              "    [theme=dark] .colab-df-convert:hover {\n",
              "      background-color: #434B5C;\n",
              "      box-shadow: 0px 1px 3px 1px rgba(0, 0, 0, 0.15);\n",
              "      filter: drop-shadow(0px 1px 2px rgba(0, 0, 0, 0.3));\n",
              "      fill: #FFFFFF;\n",
              "    }\n",
              "  </style>\n",
              "\n",
              "      <script>\n",
              "        const buttonEl =\n",
              "          document.querySelector('#df-5b8eca3e-fb6d-4c3d-9073-9f73a04a5117 button.colab-df-convert');\n",
              "        buttonEl.style.display =\n",
              "          google.colab.kernel.accessAllowed ? 'block' : 'none';\n",
              "\n",
              "        async function convertToInteractive(key) {\n",
              "          const element = document.querySelector('#df-5b8eca3e-fb6d-4c3d-9073-9f73a04a5117');\n",
              "          const dataTable =\n",
              "            await google.colab.kernel.invokeFunction('convertToInteractive',\n",
              "                                                     [key], {});\n",
              "          if (!dataTable) return;\n",
              "\n",
              "          const docLinkHtml = 'Like what you see? Visit the ' +\n",
              "            '<a target=\"_blank\" href=https://colab.research.google.com/notebooks/data_table.ipynb>data table notebook</a>'\n",
              "            + ' to learn more about interactive tables.';\n",
              "          element.innerHTML = '';\n",
              "          dataTable['output_type'] = 'display_data';\n",
              "          await google.colab.output.renderOutput(dataTable, element);\n",
              "          const docLink = document.createElement('div');\n",
              "          docLink.innerHTML = docLinkHtml;\n",
              "          element.appendChild(docLink);\n",
              "        }\n",
              "      </script>\n",
              "    </div>\n",
              "  </div>\n",
              "  "
            ]
          },
          "metadata": {},
          "execution_count": 13
        }
      ]
    },
    {
      "cell_type": "code",
      "source": [
        "df.mean()"
      ],
      "metadata": {
        "colab": {
          "base_uri": "https://localhost:8080/"
        },
        "id": "1s5RWNltq6Jt",
        "outputId": "03898ab9-fdcf-4cd4-839a-0aea5946fd87"
      },
      "execution_count": null,
      "outputs": [
        {
          "output_type": "execute_result",
          "data": {
            "text/plain": [
              "LotFrontage          57.766497\n",
              "LotArea           10695.812183\n",
              "OverallQual           6.187092\n",
              "OverallCond           5.577955\n",
              "YearBuilt          1972.958666\n",
              "YearRemodAdd       1985.435098\n",
              "MasVnrArea          108.364757\n",
              "BsmtFinSF1          455.578680\n",
              "BsmtFinSF2           48.102248\n",
              "BsmtUnfSF           570.765047\n",
              "TotalBsmtSF        1074.445975\n",
              "1stFlrSF           1177.129804\n",
              "2ndFlrSF            353.424946\n",
              "LowQualFinSF          4.134880\n",
              "GrLivArea          1534.689630\n",
              "BsmtFullBath          0.430747\n",
              "BsmtHalfBath          0.058738\n",
              "FullBath              1.580131\n",
              "HalfBath              0.395939\n",
              "BedroomAbvGr          2.865120\n",
              "KitchenAbvGr          1.038434\n",
              "TotRmsAbvGrd          6.552574\n",
              "Fireplaces            0.641769\n",
              "GarageYrBlt        1978.506164\n",
              "GarageCars            1.870921\n",
              "GarageArea          500.762146\n",
              "WoodDeckSF           97.456853\n",
              "OpenPorchSF          47.276287\n",
              "EnclosedPorch        21.039159\n",
              "3SsnPorch             3.609862\n",
              "ScreenPorch          15.945613\n",
              "PoolArea              2.920957\n",
              "MiscVal              42.889050\n",
              "YrSold             2007.812183\n",
              "SalePrice        185479.511240\n",
              "dtype: float64"
            ]
          },
          "metadata": {},
          "execution_count": 14
        }
      ]
    },
    {
      "cell_type": "code",
      "source": [
        "df.median()"
      ],
      "metadata": {
        "colab": {
          "base_uri": "https://localhost:8080/"
        },
        "id": "qexf42ZKsnaB",
        "outputId": "2130776c-798d-435d-e421-48f649356ad7"
      },
      "execution_count": null,
      "outputs": [
        {
          "output_type": "execute_result",
          "data": {
            "text/plain": [
              "LotFrontage          64.0\n",
              "LotArea            9591.0\n",
              "OverallQual           6.0\n",
              "OverallCond           5.0\n",
              "YearBuilt          1976.0\n",
              "YearRemodAdd       1994.0\n",
              "MasVnrArea            0.0\n",
              "BsmtFinSF1          400.0\n",
              "BsmtFinSF2            0.0\n",
              "BsmtUnfSF           476.0\n",
              "TotalBsmtSF        1008.0\n",
              "1stFlrSF           1098.0\n",
              "2ndFlrSF              0.0\n",
              "LowQualFinSF          0.0\n",
              "GrLivArea          1479.0\n",
              "BsmtFullBath          0.0\n",
              "BsmtHalfBath          0.0\n",
              "FullBath              2.0\n",
              "HalfBath              0.0\n",
              "BedroomAbvGr          3.0\n",
              "KitchenAbvGr          1.0\n",
              "TotRmsAbvGrd          6.0\n",
              "Fireplaces            1.0\n",
              "GarageYrBlt        1980.0\n",
              "GarageCars            2.0\n",
              "GarageArea          484.0\n",
              "WoodDeckSF            0.0\n",
              "OpenPorchSF          27.0\n",
              "EnclosedPorch         0.0\n",
              "3SsnPorch             0.0\n",
              "ScreenPorch           0.0\n",
              "PoolArea              0.0\n",
              "MiscVal               0.0\n",
              "YrSold             2008.0\n",
              "SalePrice        167500.0\n",
              "dtype: float64"
            ]
          },
          "metadata": {},
          "execution_count": 15
        }
      ]
    },
    {
      "cell_type": "code",
      "source": [
        "df.mode()"
      ],
      "metadata": {
        "colab": {
          "base_uri": "https://localhost:8080/",
          "height": 174
        },
        "id": "JQ20R_6YsrqZ",
        "outputId": "908af6bf-3461-4557-e747-57864faaf5fb"
      },
      "execution_count": null,
      "outputs": [
        {
          "output_type": "execute_result",
          "data": {
            "text/plain": [
              "   LotFrontage  LotArea  OverallQual  OverallCond  YearBuilt  YearRemodAdd  \\\n",
              "0          0.0     7200            5            5       2006          1950   \n",
              "\n",
              "   MasVnrArea  BsmtFinSF1  BsmtFinSF2  BsmtUnfSF  ...  GarageArea  WoodDeckSF  \\\n",
              "0         0.0           0           0          0  ...         440           0   \n",
              "\n",
              "   OpenPorchSF  EnclosedPorch  3SsnPorch  ScreenPorch  PoolArea  MiscVal  \\\n",
              "0            0              0          0            0         0        0   \n",
              "\n",
              "   YrSold  SalePrice  \n",
              "0    2009     140000  \n",
              "\n",
              "[1 rows x 35 columns]"
            ],
            "text/html": [
              "\n",
              "  <div id=\"df-e98629e9-0808-4ab0-8b9e-e26a8fb00bc7\">\n",
              "    <div class=\"colab-df-container\">\n",
              "      <div>\n",
              "<style scoped>\n",
              "    .dataframe tbody tr th:only-of-type {\n",
              "        vertical-align: middle;\n",
              "    }\n",
              "\n",
              "    .dataframe tbody tr th {\n",
              "        vertical-align: top;\n",
              "    }\n",
              "\n",
              "    .dataframe thead th {\n",
              "        text-align: right;\n",
              "    }\n",
              "</style>\n",
              "<table border=\"1\" class=\"dataframe\">\n",
              "  <thead>\n",
              "    <tr style=\"text-align: right;\">\n",
              "      <th></th>\n",
              "      <th>LotFrontage</th>\n",
              "      <th>LotArea</th>\n",
              "      <th>OverallQual</th>\n",
              "      <th>OverallCond</th>\n",
              "      <th>YearBuilt</th>\n",
              "      <th>YearRemodAdd</th>\n",
              "      <th>MasVnrArea</th>\n",
              "      <th>BsmtFinSF1</th>\n",
              "      <th>BsmtFinSF2</th>\n",
              "      <th>BsmtUnfSF</th>\n",
              "      <th>...</th>\n",
              "      <th>GarageArea</th>\n",
              "      <th>WoodDeckSF</th>\n",
              "      <th>OpenPorchSF</th>\n",
              "      <th>EnclosedPorch</th>\n",
              "      <th>3SsnPorch</th>\n",
              "      <th>ScreenPorch</th>\n",
              "      <th>PoolArea</th>\n",
              "      <th>MiscVal</th>\n",
              "      <th>YrSold</th>\n",
              "      <th>SalePrice</th>\n",
              "    </tr>\n",
              "  </thead>\n",
              "  <tbody>\n",
              "    <tr>\n",
              "      <th>0</th>\n",
              "      <td>0.0</td>\n",
              "      <td>7200</td>\n",
              "      <td>5</td>\n",
              "      <td>5</td>\n",
              "      <td>2006</td>\n",
              "      <td>1950</td>\n",
              "      <td>0.0</td>\n",
              "      <td>0</td>\n",
              "      <td>0</td>\n",
              "      <td>0</td>\n",
              "      <td>...</td>\n",
              "      <td>440</td>\n",
              "      <td>0</td>\n",
              "      <td>0</td>\n",
              "      <td>0</td>\n",
              "      <td>0</td>\n",
              "      <td>0</td>\n",
              "      <td>0</td>\n",
              "      <td>0</td>\n",
              "      <td>2009</td>\n",
              "      <td>140000</td>\n",
              "    </tr>\n",
              "  </tbody>\n",
              "</table>\n",
              "<p>1 rows × 35 columns</p>\n",
              "</div>\n",
              "      <button class=\"colab-df-convert\" onclick=\"convertToInteractive('df-e98629e9-0808-4ab0-8b9e-e26a8fb00bc7')\"\n",
              "              title=\"Convert this dataframe to an interactive table.\"\n",
              "              style=\"display:none;\">\n",
              "        \n",
              "  <svg xmlns=\"http://www.w3.org/2000/svg\" height=\"24px\"viewBox=\"0 0 24 24\"\n",
              "       width=\"24px\">\n",
              "    <path d=\"M0 0h24v24H0V0z\" fill=\"none\"/>\n",
              "    <path d=\"M18.56 5.44l.94 2.06.94-2.06 2.06-.94-2.06-.94-.94-2.06-.94 2.06-2.06.94zm-11 1L8.5 8.5l.94-2.06 2.06-.94-2.06-.94L8.5 2.5l-.94 2.06-2.06.94zm10 10l.94 2.06.94-2.06 2.06-.94-2.06-.94-.94-2.06-.94 2.06-2.06.94z\"/><path d=\"M17.41 7.96l-1.37-1.37c-.4-.4-.92-.59-1.43-.59-.52 0-1.04.2-1.43.59L10.3 9.45l-7.72 7.72c-.78.78-.78 2.05 0 2.83L4 21.41c.39.39.9.59 1.41.59.51 0 1.02-.2 1.41-.59l7.78-7.78 2.81-2.81c.8-.78.8-2.07 0-2.86zM5.41 20L4 18.59l7.72-7.72 1.47 1.35L5.41 20z\"/>\n",
              "  </svg>\n",
              "      </button>\n",
              "      \n",
              "  <style>\n",
              "    .colab-df-container {\n",
              "      display:flex;\n",
              "      flex-wrap:wrap;\n",
              "      gap: 12px;\n",
              "    }\n",
              "\n",
              "    .colab-df-convert {\n",
              "      background-color: #E8F0FE;\n",
              "      border: none;\n",
              "      border-radius: 50%;\n",
              "      cursor: pointer;\n",
              "      display: none;\n",
              "      fill: #1967D2;\n",
              "      height: 32px;\n",
              "      padding: 0 0 0 0;\n",
              "      width: 32px;\n",
              "    }\n",
              "\n",
              "    .colab-df-convert:hover {\n",
              "      background-color: #E2EBFA;\n",
              "      box-shadow: 0px 1px 2px rgba(60, 64, 67, 0.3), 0px 1px 3px 1px rgba(60, 64, 67, 0.15);\n",
              "      fill: #174EA6;\n",
              "    }\n",
              "\n",
              "    [theme=dark] .colab-df-convert {\n",
              "      background-color: #3B4455;\n",
              "      fill: #D2E3FC;\n",
              "    }\n",
              "\n",
              "    [theme=dark] .colab-df-convert:hover {\n",
              "      background-color: #434B5C;\n",
              "      box-shadow: 0px 1px 3px 1px rgba(0, 0, 0, 0.15);\n",
              "      filter: drop-shadow(0px 1px 2px rgba(0, 0, 0, 0.3));\n",
              "      fill: #FFFFFF;\n",
              "    }\n",
              "  </style>\n",
              "\n",
              "      <script>\n",
              "        const buttonEl =\n",
              "          document.querySelector('#df-e98629e9-0808-4ab0-8b9e-e26a8fb00bc7 button.colab-df-convert');\n",
              "        buttonEl.style.display =\n",
              "          google.colab.kernel.accessAllowed ? 'block' : 'none';\n",
              "\n",
              "        async function convertToInteractive(key) {\n",
              "          const element = document.querySelector('#df-e98629e9-0808-4ab0-8b9e-e26a8fb00bc7');\n",
              "          const dataTable =\n",
              "            await google.colab.kernel.invokeFunction('convertToInteractive',\n",
              "                                                     [key], {});\n",
              "          if (!dataTable) return;\n",
              "\n",
              "          const docLinkHtml = 'Like what you see? Visit the ' +\n",
              "            '<a target=\"_blank\" href=https://colab.research.google.com/notebooks/data_table.ipynb>data table notebook</a>'\n",
              "            + ' to learn more about interactive tables.';\n",
              "          element.innerHTML = '';\n",
              "          dataTable['output_type'] = 'display_data';\n",
              "          await google.colab.output.renderOutput(dataTable, element);\n",
              "          const docLink = document.createElement('div');\n",
              "          docLink.innerHTML = docLinkHtml;\n",
              "          element.appendChild(docLink);\n",
              "        }\n",
              "      </script>\n",
              "    </div>\n",
              "  </div>\n",
              "  "
            ]
          },
          "metadata": {},
          "execution_count": 16
        }
      ]
    },
    {
      "cell_type": "code",
      "source": [
        "df.isnull().count()"
      ],
      "metadata": {
        "colab": {
          "base_uri": "https://localhost:8080/"
        },
        "id": "XJmwUgMSst94",
        "outputId": "77af248d-7420-49e3-d0eb-8f5777a7495f"
      },
      "execution_count": null,
      "outputs": [
        {
          "output_type": "execute_result",
          "data": {
            "text/plain": [
              "LotFrontage      1379\n",
              "LotArea          1379\n",
              "OverallQual      1379\n",
              "OverallCond      1379\n",
              "YearBuilt        1379\n",
              "YearRemodAdd     1379\n",
              "MasVnrArea       1379\n",
              "BsmtFinSF1       1379\n",
              "BsmtFinSF2       1379\n",
              "BsmtUnfSF        1379\n",
              "TotalBsmtSF      1379\n",
              "1stFlrSF         1379\n",
              "2ndFlrSF         1379\n",
              "LowQualFinSF     1379\n",
              "GrLivArea        1379\n",
              "BsmtFullBath     1379\n",
              "BsmtHalfBath     1379\n",
              "FullBath         1379\n",
              "HalfBath         1379\n",
              "BedroomAbvGr     1379\n",
              "KitchenAbvGr     1379\n",
              "TotRmsAbvGrd     1379\n",
              "Fireplaces       1379\n",
              "GarageYrBlt      1379\n",
              "GarageCars       1379\n",
              "GarageArea       1379\n",
              "WoodDeckSF       1379\n",
              "OpenPorchSF      1379\n",
              "EnclosedPorch    1379\n",
              "3SsnPorch        1379\n",
              "ScreenPorch      1379\n",
              "PoolArea         1379\n",
              "MiscVal          1379\n",
              "YrSold           1379\n",
              "SalePrice        1379\n",
              "dtype: int64"
            ]
          },
          "metadata": {},
          "execution_count": 17
        }
      ]
    },
    {
      "cell_type": "code",
      "source": [
        "df.isnull().sum()"
      ],
      "metadata": {
        "colab": {
          "base_uri": "https://localhost:8080/"
        },
        "id": "t42SHZ9jtJDl",
        "outputId": "d927df3b-537d-47a0-bfdc-0012861aa471"
      },
      "execution_count": null,
      "outputs": [
        {
          "output_type": "execute_result",
          "data": {
            "text/plain": [
              "LotFrontage      0\n",
              "LotArea          0\n",
              "OverallQual      0\n",
              "OverallCond      0\n",
              "YearBuilt        0\n",
              "YearRemodAdd     0\n",
              "MasVnrArea       0\n",
              "BsmtFinSF1       0\n",
              "BsmtFinSF2       0\n",
              "BsmtUnfSF        0\n",
              "TotalBsmtSF      0\n",
              "1stFlrSF         0\n",
              "2ndFlrSF         0\n",
              "LowQualFinSF     0\n",
              "GrLivArea        0\n",
              "BsmtFullBath     0\n",
              "BsmtHalfBath     0\n",
              "FullBath         0\n",
              "HalfBath         0\n",
              "BedroomAbvGr     0\n",
              "KitchenAbvGr     0\n",
              "TotRmsAbvGrd     0\n",
              "Fireplaces       0\n",
              "GarageYrBlt      0\n",
              "GarageCars       0\n",
              "GarageArea       0\n",
              "WoodDeckSF       0\n",
              "OpenPorchSF      0\n",
              "EnclosedPorch    0\n",
              "3SsnPorch        0\n",
              "ScreenPorch      0\n",
              "PoolArea         0\n",
              "MiscVal          0\n",
              "YrSold           0\n",
              "SalePrice        0\n",
              "dtype: int64"
            ]
          },
          "metadata": {},
          "execution_count": 18
        }
      ]
    },
    {
      "cell_type": "code",
      "source": [
        "df.quantile()"
      ],
      "metadata": {
        "colab": {
          "base_uri": "https://localhost:8080/"
        },
        "id": "9Z3qNYPbtS2W",
        "outputId": "ac2edf28-8c55-4cf8-82b0-5c2bbaff5d97"
      },
      "execution_count": null,
      "outputs": [
        {
          "output_type": "execute_result",
          "data": {
            "text/plain": [
              "LotFrontage          64.0\n",
              "LotArea            9591.0\n",
              "OverallQual           6.0\n",
              "OverallCond           5.0\n",
              "YearBuilt          1976.0\n",
              "YearRemodAdd       1994.0\n",
              "MasVnrArea            0.0\n",
              "BsmtFinSF1          400.0\n",
              "BsmtFinSF2            0.0\n",
              "BsmtUnfSF           476.0\n",
              "TotalBsmtSF        1008.0\n",
              "1stFlrSF           1098.0\n",
              "2ndFlrSF              0.0\n",
              "LowQualFinSF          0.0\n",
              "GrLivArea          1479.0\n",
              "BsmtFullBath          0.0\n",
              "BsmtHalfBath          0.0\n",
              "FullBath              2.0\n",
              "HalfBath              0.0\n",
              "BedroomAbvGr          3.0\n",
              "KitchenAbvGr          1.0\n",
              "TotRmsAbvGrd          6.0\n",
              "Fireplaces            1.0\n",
              "GarageYrBlt        1980.0\n",
              "GarageCars            2.0\n",
              "GarageArea          484.0\n",
              "WoodDeckSF            0.0\n",
              "OpenPorchSF          27.0\n",
              "EnclosedPorch         0.0\n",
              "3SsnPorch             0.0\n",
              "ScreenPorch           0.0\n",
              "PoolArea              0.0\n",
              "MiscVal               0.0\n",
              "YrSold             2008.0\n",
              "SalePrice        167500.0\n",
              "Name: 0.5, dtype: float64"
            ]
          },
          "metadata": {},
          "execution_count": 19
        }
      ]
    },
    {
      "cell_type": "code",
      "source": [
        "df.quantile(0.5)"
      ],
      "metadata": {
        "colab": {
          "base_uri": "https://localhost:8080/"
        },
        "id": "fegZGSoGtgM9",
        "outputId": "9601d6f1-8946-4e14-d0bb-029c9222236a"
      },
      "execution_count": null,
      "outputs": [
        {
          "output_type": "execute_result",
          "data": {
            "text/plain": [
              "LotFrontage          64.0\n",
              "LotArea            9591.0\n",
              "OverallQual           6.0\n",
              "OverallCond           5.0\n",
              "YearBuilt          1976.0\n",
              "YearRemodAdd       1994.0\n",
              "MasVnrArea            0.0\n",
              "BsmtFinSF1          400.0\n",
              "BsmtFinSF2            0.0\n",
              "BsmtUnfSF           476.0\n",
              "TotalBsmtSF        1008.0\n",
              "1stFlrSF           1098.0\n",
              "2ndFlrSF              0.0\n",
              "LowQualFinSF          0.0\n",
              "GrLivArea          1479.0\n",
              "BsmtFullBath          0.0\n",
              "BsmtHalfBath          0.0\n",
              "FullBath              2.0\n",
              "HalfBath              0.0\n",
              "BedroomAbvGr          3.0\n",
              "KitchenAbvGr          1.0\n",
              "TotRmsAbvGrd          6.0\n",
              "Fireplaces            1.0\n",
              "GarageYrBlt        1980.0\n",
              "GarageCars            2.0\n",
              "GarageArea          484.0\n",
              "WoodDeckSF            0.0\n",
              "OpenPorchSF          27.0\n",
              "EnclosedPorch         0.0\n",
              "3SsnPorch             0.0\n",
              "ScreenPorch           0.0\n",
              "PoolArea              0.0\n",
              "MiscVal               0.0\n",
              "YrSold             2008.0\n",
              "SalePrice        167500.0\n",
              "Name: 0.5, dtype: float64"
            ]
          },
          "metadata": {},
          "execution_count": 20
        }
      ]
    },
    {
      "cell_type": "code",
      "source": [
        "df.quantile(0.75)"
      ],
      "metadata": {
        "colab": {
          "base_uri": "https://localhost:8080/"
        },
        "id": "EPzMoqmjuAUY",
        "outputId": "bf1f12a3-4f24-4184-ebad-7520a26c8d0b"
      },
      "execution_count": null,
      "outputs": [
        {
          "output_type": "execute_result",
          "data": {
            "text/plain": [
              "LotFrontage          79.0\n",
              "LotArea           11708.5\n",
              "OverallQual           7.0\n",
              "OverallCond           6.0\n",
              "YearBuilt          2001.0\n",
              "YearRemodAdd       2004.0\n",
              "MasVnrArea          170.5\n",
              "BsmtFinSF1          732.0\n",
              "BsmtFinSF2            0.0\n",
              "BsmtUnfSF           811.0\n",
              "TotalBsmtSF        1314.0\n",
              "1stFlrSF           1414.0\n",
              "2ndFlrSF            738.5\n",
              "LowQualFinSF          0.0\n",
              "GrLivArea          1790.0\n",
              "BsmtFullBath          1.0\n",
              "BsmtHalfBath          0.0\n",
              "FullBath              2.0\n",
              "HalfBath              1.0\n",
              "BedroomAbvGr          3.0\n",
              "KitchenAbvGr          1.0\n",
              "TotRmsAbvGrd          7.0\n",
              "Fireplaces            1.0\n",
              "GarageYrBlt        2002.0\n",
              "GarageCars            2.0\n",
              "GarageArea          580.0\n",
              "WoodDeckSF          171.0\n",
              "OpenPorchSF          69.5\n",
              "EnclosedPorch         0.0\n",
              "3SsnPorch             0.0\n",
              "ScreenPorch           0.0\n",
              "PoolArea              0.0\n",
              "MiscVal               0.0\n",
              "YrSold             2009.0\n",
              "SalePrice        217750.0\n",
              "Name: 0.75, dtype: float64"
            ]
          },
          "metadata": {},
          "execution_count": 21
        }
      ]
    },
    {
      "cell_type": "code",
      "source": [
        "df.var()"
      ],
      "metadata": {
        "colab": {
          "base_uri": "https://localhost:8080/"
        },
        "id": "Dxmv7FBQuyA8",
        "outputId": "45879736-c07c-49d6-b529-b8b1f1c58719"
      },
      "execution_count": null,
      "outputs": [
        {
          "output_type": "execute_result",
          "data": {
            "text/plain": [
              "LotFrontage      1.227677e+03\n",
              "LotArea          1.043401e+08\n",
              "OverallQual      1.811125e+00\n",
              "OverallCond      1.168628e+00\n",
              "YearBuilt        8.631775e+02\n",
              "YearRemodAdd     4.179920e+02\n",
              "MasVnrArea       3.392788e+04\n",
              "BsmtFinSF1       2.113162e+05\n",
              "BsmtFinSF2       2.700260e+04\n",
              "BsmtUnfSF        1.968500e+05\n",
              "TotalBsmtSF      1.904204e+05\n",
              "1stFlrSF         1.497806e+05\n",
              "2ndFlrSF         1.932070e+05\n",
              "LowQualFinSF     1.610461e+03\n",
              "GrLivArea        2.695069e+05\n",
              "BsmtFullBath     2.642499e-01\n",
              "BsmtHalfBath     5.677954e-02\n",
              "FullBath         3.003596e-01\n",
              "HalfBath         2.524073e-01\n",
              "BedroomAbvGr     6.145953e-01\n",
              "KitchenAbvGr     3.843470e-02\n",
              "TotRmsAbvGrd     2.527531e+00\n",
              "Fireplaces       4.172961e-01\n",
              "GarageYrBlt      6.095825e+02\n",
              "GarageCars       3.969695e-01\n",
              "GarageArea       3.447726e+04\n",
              "WoodDeckSF       1.605269e+04\n",
              "OpenPorchSF      4.252405e+03\n",
              "EnclosedPorch    3.664499e+03\n",
              "3SsnPorch        9.093049e+02\n",
              "ScreenPorch      3.277516e+03\n",
              "PoolArea         1.708627e+03\n",
              "MiscVal          2.516165e+05\n",
              "YrSold           1.769489e+00\n",
              "SalePrice        6.244775e+09\n",
              "dtype: float64"
            ]
          },
          "metadata": {},
          "execution_count": 22
        }
      ]
    },
    {
      "cell_type": "code",
      "source": [
        "df.std()"
      ],
      "metadata": {
        "colab": {
          "base_uri": "https://localhost:8080/"
        },
        "id": "vx5nHduYvR_Z",
        "outputId": "ec01723f-0419-4ccf-c500-3f557a219a58"
      },
      "execution_count": null,
      "outputs": [
        {
          "output_type": "execute_result",
          "data": {
            "text/plain": [
              "LotFrontage         35.038221\n",
              "LotArea          10214.702133\n",
              "OverallQual          1.345780\n",
              "OverallCond          1.081031\n",
              "YearBuilt           29.379883\n",
              "YearRemodAdd        20.444852\n",
              "MasVnrArea         184.195220\n",
              "BsmtFinSF1         459.691379\n",
              "BsmtFinSF2         164.324665\n",
              "BsmtUnfSF          443.677845\n",
              "TotalBsmtSF        436.371874\n",
              "1stFlrSF           387.014961\n",
              "2ndFlrSF           439.553171\n",
              "LowQualFinSF        40.130546\n",
              "GrLivArea          519.140514\n",
              "BsmtFullBath         0.514052\n",
              "BsmtHalfBath         0.238285\n",
              "FullBath             0.548051\n",
              "HalfBath             0.502402\n",
              "BedroomAbvGr         0.783961\n",
              "KitchenAbvGr         0.196048\n",
              "TotRmsAbvGrd         1.589821\n",
              "Fireplaces           0.645985\n",
              "GarageYrBlt         24.689725\n",
              "GarageCars           0.630055\n",
              "GarageArea         185.680520\n",
              "WoodDeckSF         126.699192\n",
              "OpenPorchSF         65.210465\n",
              "EnclosedPorch       60.535107\n",
              "3SsnPorch           30.154682\n",
              "ScreenPorch         57.249593\n",
              "PoolArea            41.335545\n",
              "MiscVal            501.613931\n",
              "YrSold               1.330221\n",
              "SalePrice        79023.890600\n",
              "dtype: float64"
            ]
          },
          "metadata": {},
          "execution_count": 23
        }
      ]
    },
    {
      "cell_type": "code",
      "source": [
        "df.skew()"
      ],
      "metadata": {
        "colab": {
          "base_uri": "https://localhost:8080/"
        },
        "id": "Z6kqB_lcvVeI",
        "outputId": "0cf8f791-6414-4f1f-9299-23fc2d40a5d5"
      },
      "execution_count": null,
      "outputs": [
        {
          "output_type": "execute_result",
          "data": {
            "text/plain": [
              "LotFrontage       0.261584\n",
              "LotArea          12.013038\n",
              "OverallQual       0.288081\n",
              "OverallCond       0.866698\n",
              "YearBuilt        -0.659563\n",
              "YearRemodAdd     -0.544065\n",
              "MasVnrArea        2.601035\n",
              "BsmtFinSF1        1.678351\n",
              "BsmtFinSF2        4.194649\n",
              "BsmtUnfSF         0.927963\n",
              "TotalBsmtSF       1.621602\n",
              "1stFlrSF          1.390283\n",
              "2ndFlrSF          0.786109\n",
              "LowQualFinSF     10.712587\n",
              "GrLivArea         1.411296\n",
              "BsmtFullBath      0.488117\n",
              "BsmtHalfBath      3.917582\n",
              "FullBath         -0.015812\n",
              "HalfBath          0.580327\n",
              "BedroomAbvGr     -0.011947\n",
              "KitchenAbvGr      5.093935\n",
              "TotRmsAbvGrd      0.671629\n",
              "Fireplaces        0.586047\n",
              "GarageYrBlt      -0.649415\n",
              "GarageCars        0.194080\n",
              "GarageArea        0.811037\n",
              "WoodDeckSF        1.504088\n",
              "OpenPorchSF       2.246211\n",
              "EnclosedPorch     3.213038\n",
              "3SsnPorch        10.007116\n",
              "ScreenPorch       3.987031\n",
              "PoolArea         14.406273\n",
              "MiscVal          24.841008\n",
              "YrSold            0.096958\n",
              "SalePrice         1.935362\n",
              "dtype: float64"
            ]
          },
          "metadata": {},
          "execution_count": 24
        }
      ]
    },
    {
      "cell_type": "code",
      "source": [
        "df.kurtosis()"
      ],
      "metadata": {
        "colab": {
          "base_uri": "https://localhost:8080/"
        },
        "id": "BBFoTrHMwNSu",
        "outputId": "498bf87d-2676-4fd8-99fa-8796e80c0a72"
      },
      "execution_count": null,
      "outputs": [
        {
          "output_type": "execute_result",
          "data": {
            "text/plain": [
              "LotFrontage        3.592894\n",
              "LotArea          195.275741\n",
              "OverallQual       -0.055031\n",
              "OverallCond        1.044498\n",
              "YearBuilt         -0.342824\n",
              "YearRemodAdd      -1.219420\n",
              "MasVnrArea         9.590540\n",
              "BsmtFinSF1        11.256072\n",
              "BsmtFinSF2        19.465939\n",
              "BsmtUnfSF          0.456174\n",
              "TotalBsmtSF       14.081257\n",
              "1stFlrSF           5.905934\n",
              "2ndFlrSF          -0.599922\n",
              "LowQualFinSF     119.144324\n",
              "GrLivArea          5.235943\n",
              "BsmtFullBath      -1.274368\n",
              "BsmtHalfBath      14.226931\n",
              "FullBath          -0.854832\n",
              "HalfBath          -1.283896\n",
              "BedroomAbvGr       1.406074\n",
              "KitchenAbvGr      25.811719\n",
              "TotRmsAbvGrd       0.708974\n",
              "Fireplaces        -0.252382\n",
              "GarageYrBlt       -0.418341\n",
              "GarageCars        -0.187878\n",
              "GarageArea         1.189637\n",
              "WoodDeckSF         2.876032\n",
              "OpenPorchSF        7.560638\n",
              "EnclosedPorch     11.347227\n",
              "3SsnPorch        116.582219\n",
              "ScreenPorch       17.179033\n",
              "PoolArea         210.649480\n",
              "MiscVal          708.927425\n",
              "YrSold            -1.199906\n",
              "SalePrice          6.735649\n",
              "dtype: float64"
            ]
          },
          "metadata": {},
          "execution_count": 25
        }
      ]
    },
    {
      "cell_type": "code",
      "source": [
        "df.plot()"
      ],
      "metadata": {
        "colab": {
          "base_uri": "https://localhost:8080/",
          "height": 582
        },
        "id": "c3Tk5DW2wXgQ",
        "outputId": "9a52a263-b1b7-4aad-f532-5028a2b1b3ef"
      },
      "execution_count": null,
      "outputs": [
        {
          "output_type": "execute_result",
          "data": {
            "text/plain": [
              "<matplotlib.axes._subplots.AxesSubplot at 0x7f29d5f0df40>"
            ]
          },
          "metadata": {},
          "execution_count": 26
        },
        {
          "output_type": "display_data",
          "data": {
            "text/plain": [
              "<Figure size 432x288 with 1 Axes>"
            ],
            "image/png": "[encoded data removed]"
          },
          "metadata": {
            "needs_background": "light"
          }
        }
      ]
    },
    {
      "cell_type": "code",
      "source": [
        "df.plot.area()"
      ],
      "metadata": {
        "colab": {
          "base_uri": "https://localhost:8080/",
          "height": 599
        },
        "id": "QX_BbUT3w2Oy",
        "outputId": "976f4c16-f648-4312-897d-bb7a03245bae"
      },
      "execution_count": null,
      "outputs": [
        {
          "output_type": "execute_result",
          "data": {
            "text/plain": [
              "<matplotlib.axes._subplots.AxesSubplot at 0x7f29d583dcd0>"
            ]
          },
          "metadata": {},
          "execution_count": 27
        },
        {
          "output_type": "display_data",
          "data": {
            "text/plain": [
              "<Figure size 432x288 with 1 Axes>"
            ],
            "image/png": "[encoded data removed]"
          },
          "metadata": {
            "needs_background": "light"
          }
        }
      ]
    },
    {
      "cell_type": "code",
      "source": [
        "df.plot.line()"
      ],
      "metadata": {
        "colab": {
          "base_uri": "https://localhost:8080/",
          "height": 582
        },
        "id": "DkuzbvXPxD9Q",
        "outputId": "e8ce9134-f4e7-45dc-e4cf-3fa48c7c4f30"
      },
      "execution_count": null,
      "outputs": [
        {
          "output_type": "execute_result",
          "data": {
            "text/plain": [
              "<matplotlib.axes._subplots.AxesSubplot at 0x7f29d3e6eaf0>"
            ]
          },
          "metadata": {},
          "execution_count": 28
        },
        {
          "output_type": "display_data",
          "data": {
            "text/plain": [
              "<Figure size 432x288 with 1 Axes>"
            ],
            "image/png": "[encoded data removed]"
          },
          "metadata": {
            "needs_background": "light"
          }
        }
      ]
    },
    {
      "cell_type": "code",
      "source": [
        "df.plot.hist()"
      ],
      "metadata": {
        "colab": {
          "base_uri": "https://localhost:8080/",
          "height": 599
        },
        "id": "ZkXYGKm8xeP6",
        "outputId": "9efb4e20-090d-4ff5-8f6a-72e251d5ff5e"
      },
      "execution_count": null,
      "outputs": [
        {
          "output_type": "execute_result",
          "data": {
            "text/plain": [
              "<matplotlib.axes._subplots.AxesSubplot at 0x7f29d3daa790>"
            ]
          },
          "metadata": {},
          "execution_count": 29
        },
        {
          "output_type": "display_data",
          "data": {
            "text/plain": [
              "<Figure size 432x288 with 1 Axes>"
            ],
            "image/png": "[encoded data removed]"
          },
          "metadata": {
            "needs_background": "light"
          }
        }
      ]
    },
    {
      "cell_type": "code",
      "source": [
        "df.plot.density()"
      ],
      "metadata": {
        "colab": {
          "base_uri": "https://localhost:8080/",
          "height": 582
        },
        "id": "UU9f0CrXxraG",
        "outputId": "5dc3db1a-027b-4ebb-c5b4-7b845f2d3a3a"
      },
      "execution_count": null,
      "outputs": [
        {
          "output_type": "execute_result",
          "data": {
            "text/plain": [
              "<matplotlib.axes._subplots.AxesSubplot at 0x7f29d3f2a100>"
            ]
          },
          "metadata": {},
          "execution_count": 30
        },
        {
          "output_type": "display_data",
          "data": {
            "text/plain": [
              "<Figure size 432x288 with 1 Axes>"
            ],
            "image/png": "[encoded data removed]"
          },
          "metadata": {
            "needs_background": "light"
          }
        }
      ]
    },
    {
      "cell_type": "code",
      "source": [
        "n=10000"
      ],
      "metadata": {
        "id": "5KiIdPlJyCPl"
      },
      "execution_count": null,
      "outputs": []
    },
    {
      "cell_type": "code",
      "source": [
        "data=pd.DataFrame({'x':np.random.randn(n),'y':np.random.randn(n)})\n",
        "ax=data.plot.hexbin(x='x',y='y',gridsize=20)"
      ],
      "metadata": {
        "colab": {
          "base_uri": "https://localhost:8080/",
          "height": 258
        },
        "id": "ExySrsTpy0rk",
        "outputId": "620ce71f-0ffa-418c-e513-ed0e428c84ba"
      },
      "execution_count": null,
      "outputs": [
        {
          "output_type": "display_data",
          "data": {
            "text/plain": [
              "<Figure size 432x288 with 2 Axes>"
            ],
            "image/png": "[encoded data removed]"
          },
          "metadata": {
            "needs_background": "light"
          }
        }
      ]
    },
    {
      "cell_type": "code",
      "source": [
        "ax=df.plot.hexbin(x='SalePrice',y='MiscVal',gridsize=20,cmap='viridis')"
      ],
      "metadata": {
        "colab": {
          "base_uri": "https://localhost:8080/",
          "height": 255
        },
        "id": "mNAws-s_zDD-",
        "outputId": "83f11815-c2b6-4311-cd9f-f94df98e7a22"
      },
      "execution_count": null,
      "outputs": [
        {
          "output_type": "display_data",
          "data": {
            "text/plain": [
              "<Figure size 432x288 with 2 Axes>"
            ],
            "image/png": "[encoded data removed]"
          },
          "metadata": {
            "needs_background": "light"
          }
        }
      ]
    },
    {
      "cell_type": "code",
      "source": [
        "df.plot.scatter(x='SalePrice',y='MiscVal')"
      ],
      "metadata": {
        "colab": {
          "base_uri": "https://localhost:8080/",
          "height": 298
        },
        "id": "Xs5HPDch05Vz",
        "outputId": "c4489aa3-0f85-4597-c5a0-d3aebab0bd6a"
      },
      "execution_count": null,
      "outputs": [
        {
          "output_type": "execute_result",
          "data": {
            "text/plain": [
              "<matplotlib.axes._subplots.AxesSubplot at 0x7f29cc488a00>"
            ]
          },
          "metadata": {},
          "execution_count": 34
        },
        {
          "output_type": "display_data",
          "data": {
            "text/plain": [
              "<Figure size 432x288 with 1 Axes>"
            ],
            "image/png": "[encoded data removed]"
          },
          "metadata": {
            "needs_background": "light"
          }
        }
      ]
    },
    {
      "cell_type": "code",
      "source": [
        "df.plot.scatter(x='SalePrice',y='MiscVal',colormap='viridis')"
      ],
      "metadata": {
        "colab": {
          "base_uri": "https://localhost:8080/",
          "height": 298
        },
        "id": "v70-dpCO2LaR",
        "outputId": "912d4772-976c-4ca4-b645-e3759c1d34dd"
      },
      "execution_count": null,
      "outputs": [
        {
          "output_type": "execute_result",
          "data": {
            "text/plain": [
              "<matplotlib.axes._subplots.AxesSubplot at 0x7f29ca2184c0>"
            ]
          },
          "metadata": {},
          "execution_count": 35
        },
        {
          "output_type": "display_data",
          "data": {
            "text/plain": [
              "<Figure size 432x288 with 1 Axes>"
            ],
            "image/png": "[encoded data removed]"
          },
          "metadata": {
            "needs_background": "light"
          }
        }
      ]
    },
    {
      "cell_type": "code",
      "source": [
        "ax=df.plot.hexbin(x='SalePrice',y='MiscVal',gridsize=20,cmap='magma')"
      ],
      "metadata": {
        "colab": {
          "base_uri": "https://localhost:8080/",
          "height": 255
        },
        "id": "o1b0VbKE2WG0",
        "outputId": "aef510e1-2f24-4ecc-eb7d-6f03446ee5aa"
      },
      "execution_count": null,
      "outputs": [
        {
          "output_type": "display_data",
          "data": {
            "text/plain": [
              "<Figure size 432x288 with 2 Axes>"
            ],
            "image/png": "[encoded data removed]"
          },
          "metadata": {
            "needs_background": "light"
          }
        }
      ]
    },
    {
      "cell_type": "code",
      "source": [
        "ax=df.plot.hexbin(x='SalePrice',y='MiscVal',gridsize=20,cmap='coolwarm')"
      ],
      "metadata": {
        "colab": {
          "base_uri": "https://localhost:8080/",
          "height": 255
        },
        "id": "kTx-YFWC212S",
        "outputId": "f725a146-510b-46d9-d84c-15e16af6ad84"
      },
      "execution_count": null,
      "outputs": [
        {
          "output_type": "display_data",
          "data": {
            "text/plain": [
              "<Figure size 432x288 with 2 Axes>"
            ],
            "image/png": "[encoded data removed]"
          },
          "metadata": {
            "needs_background": "light"
          }
        }
      ]
    },
    {
      "cell_type": "code",
      "source": [
        "ax=df.plot.hexbin(x='SalePrice',y='MiscVal',gridsize=20,cmap='coolwarm_r')"
      ],
      "metadata": {
        "colab": {
          "base_uri": "https://localhost:8080/",
          "height": 255
        },
        "id": "G7j61uWr3ETF",
        "outputId": "cb621ef7-ec78-41b6-f13d-47e396b78812"
      },
      "execution_count": null,
      "outputs": [
        {
          "output_type": "display_data",
          "data": {
            "text/plain": [
              "<Figure size 432x288 with 2 Axes>"
            ],
            "image/png": "[encoded data removed]"
          },
          "metadata": {
            "needs_background": "light"
          }
        }
      ]
    },
    {
      "cell_type": "code",
      "source": [
        "import matplotlib.pyplot as plt"
      ],
      "metadata": {
        "id": "cu3N8RnC3Pjt"
      },
      "execution_count": null,
      "outputs": []
    },
    {
      "cell_type": "code",
      "source": [
        "saleprice = df['SalePrice']\n",
        "mean=saleprice.mean()\n",
        "median=saleprice.median()\n",
        "mode=saleprice.mode()"
      ],
      "metadata": {
        "id": "ox2NsnzA3xup"
      },
      "execution_count": null,
      "outputs": []
    },
    {
      "cell_type": "code",
      "source": [
        "saleprice.mean()"
      ],
      "metadata": {
        "colab": {
          "base_uri": "https://localhost:8080/"
        },
        "id": "XBSfkvOd4n4n",
        "outputId": "33428dba-9287-4090-9971-ba15e633cb54"
      },
      "execution_count": null,
      "outputs": [
        {
          "output_type": "execute_result",
          "data": {
            "text/plain": [
              "185479.511240029"
            ]
          },
          "metadata": {},
          "execution_count": 41
        }
      ]
    },
    {
      "cell_type": "code",
      "source": [
        "saleprice.median()"
      ],
      "metadata": {
        "colab": {
          "base_uri": "https://localhost:8080/"
        },
        "id": "jT0wHdyk4xRo",
        "outputId": "80bee78f-ac8c-46e7-fee8-f767993fbd23"
      },
      "execution_count": null,
      "outputs": [
        {
          "output_type": "execute_result",
          "data": {
            "text/plain": [
              "167500.0"
            ]
          },
          "metadata": {},
          "execution_count": 42
        }
      ]
    },
    {
      "cell_type": "code",
      "source": [
        "saleprice.mode()"
      ],
      "metadata": {
        "colab": {
          "base_uri": "https://localhost:8080/"
        },
        "id": "08rL214249DR",
        "outputId": "e65393a0-67e1-419f-cc06-cb9238848dad"
      },
      "execution_count": null,
      "outputs": [
        {
          "output_type": "execute_result",
          "data": {
            "text/plain": [
              "0    140000\n",
              "dtype: int64"
            ]
          },
          "metadata": {},
          "execution_count": 43
        }
      ]
    },
    {
      "cell_type": "code",
      "source": [
        "plt.figure(figsize=(10,5)) \n",
        "plt.hist(saleprice,bins=100,color='grey')\n",
        "plt.axvline(mean,color='red',label='mean')\n",
        "plt.axvline(median,color='yellow',label='median')\n",
        "plt.axvline(mode[0],color='green',label='mode')\n",
        "plt.xlabel('saleprice')\n",
        "plt.ylabel('frequency')\n",
        "plt.legend()\n",
        "plt.show()"
      ],
      "metadata": {
        "colab": {
          "base_uri": "https://localhost:8080/",
          "height": 334
        },
        "id": "QUWg5Z8k41Dq",
        "outputId": "979c253a-4472-4d13-fddd-1200edd23e78"
      },
      "execution_count": null,
      "outputs": [
        {
          "output_type": "display_data",
          "data": {
            "text/plain": [
              "<Figure size 720x360 with 1 Axes>"
            ],
            "image/png": "[encoded data removed]"
          },
          "metadata": {
            "needs_background": "light"
          }
        }
      ]
    },
    {
      "cell_type": "code",
      "source": [
        "FullBath = df['FullBath']\n",
        "mean=FullBath.mean()\n",
        "median=FullBath.median()\n",
        "mode=FullBath.mode()"
      ],
      "metadata": {
        "id": "cPcF0qVV6U_4"
      },
      "execution_count": null,
      "outputs": []
    },
    {
      "cell_type": "code",
      "execution_count": null,
      "metadata": {
        "id": "TRfZUHtPZxkg",
        "colab": {
          "base_uri": "https://localhost:8080/"
        },
        "outputId": "ddf71cb8-64f4-46c0-e9c0-6360d09ab656"
      },
      "outputs": [
        {
          "output_type": "execute_result",
          "data": {
            "text/plain": [
              "1.5801305293691081"
            ]
          },
          "metadata": {},
          "execution_count": 46
        }
      ],
      "source": [
        "FullBath.mean()"
      ]
    },
    {
      "cell_type": "code",
      "source": [
        "FullBath.median()"
      ],
      "metadata": {
        "colab": {
          "base_uri": "https://localhost:8080/"
        },
        "id": "nKRDnE2gc0Qz",
        "outputId": "a6f1349d-b06a-4725-e678-4f30044b5409"
      },
      "execution_count": null,
      "outputs": [
        {
          "output_type": "execute_result",
          "data": {
            "text/plain": [
              "2.0"
            ]
          },
          "metadata": {},
          "execution_count": 47
        }
      ]
    },
    {
      "cell_type": "code",
      "source": [
        "FullBath.mode()"
      ],
      "metadata": {
        "colab": {
          "base_uri": "https://localhost:8080/"
        },
        "id": "f_LCakz0c3vv",
        "outputId": "dc582224-1cb8-4d4e-f3c4-d382f46b2144"
      },
      "execution_count": null,
      "outputs": [
        {
          "output_type": "execute_result",
          "data": {
            "text/plain": [
              "0    2\n",
              "dtype: int64"
            ]
          },
          "metadata": {},
          "execution_count": 48
        }
      ]
    },
    {
      "cell_type": "code",
      "source": [
        "plt.figure(figsize=(10,5)) \n",
        "plt.hist(FullBath,bins=100,color='grey')\n",
        "plt.axvline(mean,color='red',label='mean')\n",
        "plt.axvline(median,color='yellow',label='median')\n",
        "plt.axvline(mode[0],color='green',label='mode')\n",
        "plt.xlabel('FullBath')\n",
        "plt.ylabel('frequency')\n",
        "plt.legend()\n",
        "plt.show()"
      ],
      "metadata": {
        "colab": {
          "base_uri": "https://localhost:8080/",
          "height": 334
        },
        "id": "vp5bNA-OdJV3",
        "outputId": "9eabbe9d-88be-450f-a522-7c1c46a89bd9"
      },
      "execution_count": null,
      "outputs": [
        {
          "output_type": "display_data",
          "data": {
            "text/plain": [
              "<Figure size 720x360 with 1 Axes>"
            ],
            "image/png": "[encoded data removed]"
          },
          "metadata": {
            "needs_background": "light"
          }
        }
      ]
    },
    {
      "cell_type": "code",
      "source": [
        "HalfBath = df['HalfBath']\n",
        "mean=HalfBath.mean()\n",
        "median=HalfBath.median()\n",
        "mode=HalfBath.mode()"
      ],
      "metadata": {
        "id": "ywCS7nTcdWdd"
      },
      "execution_count": null,
      "outputs": []
    },
    {
      "cell_type": "code",
      "source": [
        "HalfBath.mean()"
      ],
      "metadata": {
        "colab": {
          "base_uri": "https://localhost:8080/"
        },
        "id": "2OrrX80ijYXp",
        "outputId": "07d9bd48-662c-4528-e121-eb7230a93102"
      },
      "execution_count": null,
      "outputs": [
        {
          "output_type": "execute_result",
          "data": {
            "text/plain": [
              "0.39593908629441626"
            ]
          },
          "metadata": {},
          "execution_count": 51
        }
      ]
    },
    {
      "cell_type": "code",
      "source": [
        "HalfBath.median()"
      ],
      "metadata": {
        "colab": {
          "base_uri": "https://localhost:8080/"
        },
        "id": "4Nt2EvTLjrtX",
        "outputId": "8031ba34-d760-4b37-e435-d0cfd46fd8fe"
      },
      "execution_count": null,
      "outputs": [
        {
          "output_type": "execute_result",
          "data": {
            "text/plain": [
              "0.0"
            ]
          },
          "metadata": {},
          "execution_count": 52
        }
      ]
    },
    {
      "cell_type": "code",
      "source": [
        "HalfBath.mode()"
      ],
      "metadata": {
        "colab": {
          "base_uri": "https://localhost:8080/"
        },
        "id": "jB5TyKmtjw61",
        "outputId": "37d2377d-5d0a-4258-eba4-0ed58c267da1"
      },
      "execution_count": null,
      "outputs": [
        {
          "output_type": "execute_result",
          "data": {
            "text/plain": [
              "0    0\n",
              "dtype: int64"
            ]
          },
          "metadata": {},
          "execution_count": 53
        }
      ]
    },
    {
      "cell_type": "code",
      "source": [
        "plt.figure(figsize=(10,5)) \n",
        "plt.hist(HalfBath,bins=100,color='grey')\n",
        "plt.axvline(mean,color='red',label='mean')\n",
        "plt.axvline(median,color='yellow',label='median')\n",
        "plt.axvline(mode[0],color='green',label='mode')\n",
        "plt.xlabel('HalfBath')\n",
        "plt.ylabel('frequency')\n",
        "plt.legend()\n",
        "plt.show()"
      ],
      "metadata": {
        "colab": {
          "base_uri": "https://localhost:8080/",
          "height": 334
        },
        "id": "u4a-EHvFjzyf",
        "outputId": "73b2c67d-8360-462b-d03b-dbd38260aac8"
      },
      "execution_count": null,
      "outputs": [
        {
          "output_type": "display_data",
          "data": {
            "text/plain": [
              "<Figure size 720x360 with 1 Axes>"
            ],
            "image/png": "[encoded data removed]"
          },
          "metadata": {
            "needs_background": "light"
          }
        }
      ]
    },
    {
      "cell_type": "code",
      "source": [
        "LotArea = df['LotArea']\n",
        "mean=LotArea.mean()\n",
        "median=LotArea.median()\n",
        "mode=LotArea.mode()"
      ],
      "metadata": {
        "id": "f7djtvl1aCgn"
      },
      "execution_count": null,
      "outputs": []
    },
    {
      "cell_type": "code",
      "source": [
        "LotArea.mean()"
      ],
      "metadata": {
        "colab": {
          "base_uri": "https://localhost:8080/"
        },
        "id": "yQqLx67ckzkP",
        "outputId": "6d6209a3-1056-4d1c-9de2-703fa54b426f"
      },
      "execution_count": null,
      "outputs": [
        {
          "output_type": "execute_result",
          "data": {
            "text/plain": [
              "10695.812182741116"
            ]
          },
          "metadata": {},
          "execution_count": 56
        }
      ]
    },
    {
      "cell_type": "code",
      "source": [
        "LotArea.median()"
      ],
      "metadata": {
        "colab": {
          "base_uri": "https://localhost:8080/"
        },
        "id": "dvWTGXRgk4FL",
        "outputId": "7029ae2f-4a43-4447-94f2-a6341890fe0e"
      },
      "execution_count": null,
      "outputs": [
        {
          "output_type": "execute_result",
          "data": {
            "text/plain": [
              "9591.0"
            ]
          },
          "metadata": {},
          "execution_count": 57
        }
      ]
    },
    {
      "cell_type": "code",
      "source": [
        "LotArea.mode()"
      ],
      "metadata": {
        "colab": {
          "base_uri": "https://localhost:8080/"
        },
        "id": "ps6lZrJVk6Ii",
        "outputId": "394ee4e7-d90a-4a19-8d28-79d150eb56b0"
      },
      "execution_count": null,
      "outputs": [
        {
          "output_type": "execute_result",
          "data": {
            "text/plain": [
              "0    7200\n",
              "dtype: int64"
            ]
          },
          "metadata": {},
          "execution_count": 58
        }
      ]
    },
    {
      "cell_type": "code",
      "source": [
        "plt.figure(figsize=(10,5)) \n",
        "plt.hist(LotArea,bins=100,color='grey')\n",
        "plt.axvline(mean,color='red',label='mean')\n",
        "plt.axvline(median,color='yellow',label='median')\n",
        "plt.axvline(mode[0],color='green',label='mode')\n",
        "plt.xlabel('LotArea')\n",
        "plt.ylabel('frequency')\n",
        "plt.legend()\n",
        "plt.show()"
      ],
      "metadata": {
        "colab": {
          "base_uri": "https://localhost:8080/",
          "height": 334
        },
        "id": "ff6aS1Xbk_Ju",
        "outputId": "7e7e6371-f054-4f77-9724-5ae9e86d0dfc"
      },
      "execution_count": null,
      "outputs": [
        {
          "output_type": "display_data",
          "data": {
            "text/plain": [
              "<Figure size 720x360 with 1 Axes>"
            ],
            "image/png": "[encoded data removed]"
          },
          "metadata": {
            "needs_background": "light"
          }
        }
      ]
    },
    {
      "cell_type": "code",
      "source": [
        "saleprice.min()"
      ],
      "metadata": {
        "id": "Xtk1eT55lIor",
        "colab": {
          "base_uri": "https://localhost:8080/"
        },
        "outputId": "6524fe45-c00a-4d4d-b1c2-ee67469ff2af"
      },
      "execution_count": null,
      "outputs": [
        {
          "output_type": "execute_result",
          "data": {
            "text/plain": [
              "35311"
            ]
          },
          "metadata": {},
          "execution_count": 60
        }
      ]
    },
    {
      "cell_type": "code",
      "source": [
        "saleprice.max()"
      ],
      "metadata": {
        "colab": {
          "base_uri": "https://localhost:8080/"
        },
        "id": "Ku7sIio0l8Xo",
        "outputId": "07679f31-5370-40b8-efe1-db743f82a4d3"
      },
      "execution_count": null,
      "outputs": [
        {
          "output_type": "execute_result",
          "data": {
            "text/plain": [
              "755000"
            ]
          },
          "metadata": {},
          "execution_count": 61
        }
      ]
    },
    {
      "cell_type": "code",
      "source": [
        "saleprice.var()"
      ],
      "metadata": {
        "colab": {
          "base_uri": "https://localhost:8080/"
        },
        "id": "Ik-dYZEil_9_",
        "outputId": "17429f83-ab31-4e35-e4d7-ac63e4cd5cfb"
      },
      "execution_count": null,
      "outputs": [
        {
          "output_type": "execute_result",
          "data": {
            "text/plain": [
              "6244775285.521462"
            ]
          },
          "metadata": {},
          "execution_count": 62
        }
      ]
    },
    {
      "cell_type": "code",
      "source": [
        "from math import sqrt"
      ],
      "metadata": {
        "id": "5cMYXNb_miZG"
      },
      "execution_count": null,
      "outputs": []
    },
    {
      "cell_type": "code",
      "source": [
        "std=sqrt(saleprice.var())"
      ],
      "metadata": {
        "id": "o8_l7lQjnBd9"
      },
      "execution_count": null,
      "outputs": []
    },
    {
      "cell_type": "code",
      "source": [
        "std"
      ],
      "metadata": {
        "colab": {
          "base_uri": "https://localhost:8080/"
        },
        "id": "5tj7htz6nkOP",
        "outputId": "a351bebe-ddae-410d-d91c-43671ee858e9"
      },
      "execution_count": null,
      "outputs": [
        {
          "output_type": "execute_result",
          "data": {
            "text/plain": [
              "79023.8905997513"
            ]
          },
          "metadata": {},
          "execution_count": 67
        }
      ]
    },
    {
      "cell_type": "code",
      "source": [
        "saleprice.skew()"
      ],
      "metadata": {
        "colab": {
          "base_uri": "https://localhost:8080/"
        },
        "id": "AQhI-OdRn1U0",
        "outputId": "c970bc89-9954-4199-9ef1-ac7e25c41b84"
      },
      "execution_count": null,
      "outputs": [
        {
          "output_type": "execute_result",
          "data": {
            "text/plain": [
              "1.935362098363132"
            ]
          },
          "metadata": {},
          "execution_count": 69
        }
      ]
    },
    {
      "cell_type": "code",
      "source": [
        "saleprice.kurt()"
      ],
      "metadata": {
        "colab": {
          "base_uri": "https://localhost:8080/"
        },
        "id": "zV9VJJNnpr58",
        "outputId": "a2fa1c8c-5bce-4526-8a1a-119bea2bff56"
      },
      "execution_count": null,
      "outputs": [
        {
          "output_type": "execute_result",
          "data": {
            "text/plain": [
              "6.735649337267559"
            ]
          },
          "metadata": {},
          "execution_count": 70
        }
      ]
    },
    {
      "cell_type": "code",
      "source": [
        "correlation =df[['LotArea','GrLivArea','GarageArea','SalePrice']].corr()"
      ],
      "metadata": {
        "id": "Y7NClUeapxbh"
      },
      "execution_count": null,
      "outputs": []
    },
    {
      "cell_type": "code",
      "source": [
        "correlation"
      ],
      "metadata": {
        "colab": {
          "base_uri": "https://localhost:8080/",
          "height": 175
        },
        "id": "DP1iWmHYssnH",
        "outputId": "26cb6d82-a0d1-4dd7-976c-8700a77f0a74"
      },
      "execution_count": null,
      "outputs": [
        {
          "output_type": "execute_result",
          "data": {
            "text/plain": [
              "             LotArea  GrLivArea  GarageArea  SalePrice\n",
              "LotArea     1.000000   0.257243    0.167622   0.252921\n",
              "GrLivArea   0.257243   1.000000    0.478811   0.708172\n",
              "GarageArea  0.167622   0.478811    1.000000   0.608405\n",
              "SalePrice   0.252921   0.708172    0.608405   1.000000"
            ],
            "text/html": [
              "\n",
              "  <div id=\"df-1a773042-4fa3-4ca1-9338-c9f1671cd41e\">\n",
              "    <div class=\"colab-df-container\">\n",
              "      <div>\n",
              "<style scoped>\n",
              "    .dataframe tbody tr th:only-of-type {\n",
              "        vertical-align: middle;\n",
              "    }\n",
              "\n",
              "    .dataframe tbody tr th {\n",
              "        vertical-align: top;\n",
              "    }\n",
              "\n",
              "    .dataframe thead th {\n",
              "        text-align: right;\n",
              "    }\n",
              "</style>\n",
              "<table border=\"1\" class=\"dataframe\">\n",
              "  <thead>\n",
              "    <tr style=\"text-align: right;\">\n",
              "      <th></th>\n",
              "      <th>LotArea</th>\n",
              "      <th>GrLivArea</th>\n",
              "      <th>GarageArea</th>\n",
              "      <th>SalePrice</th>\n",
              "    </tr>\n",
              "  </thead>\n",
              "  <tbody>\n",
              "    <tr>\n",
              "      <th>LotArea</th>\n",
              "      <td>1.000000</td>\n",
              "      <td>0.257243</td>\n",
              "      <td>0.167622</td>\n",
              "      <td>0.252921</td>\n",
              "    </tr>\n",
              "    <tr>\n",
              "      <th>GrLivArea</th>\n",
              "      <td>0.257243</td>\n",
              "      <td>1.000000</td>\n",
              "      <td>0.478811</td>\n",
              "      <td>0.708172</td>\n",
              "    </tr>\n",
              "    <tr>\n",
              "      <th>GarageArea</th>\n",
              "      <td>0.167622</td>\n",
              "      <td>0.478811</td>\n",
              "      <td>1.000000</td>\n",
              "      <td>0.608405</td>\n",
              "    </tr>\n",
              "    <tr>\n",
              "      <th>SalePrice</th>\n",
              "      <td>0.252921</td>\n",
              "      <td>0.708172</td>\n",
              "      <td>0.608405</td>\n",
              "      <td>1.000000</td>\n",
              "    </tr>\n",
              "  </tbody>\n",
              "</table>\n",
              "</div>\n",
              "      <button class=\"colab-df-convert\" onclick=\"convertToInteractive('df-1a773042-4fa3-4ca1-9338-c9f1671cd41e')\"\n",
              "              title=\"Convert this dataframe to an interactive table.\"\n",
              "              style=\"display:none;\">\n",
              "        \n",
              "  <svg xmlns=\"http://www.w3.org/2000/svg\" height=\"24px\"viewBox=\"0 0 24 24\"\n",
              "       width=\"24px\">\n",
              "    <path d=\"M0 0h24v24H0V0z\" fill=\"none\"/>\n",
              "    <path d=\"M18.56 5.44l.94 2.06.94-2.06 2.06-.94-2.06-.94-.94-2.06-.94 2.06-2.06.94zm-11 1L8.5 8.5l.94-2.06 2.06-.94-2.06-.94L8.5 2.5l-.94 2.06-2.06.94zm10 10l.94 2.06.94-2.06 2.06-.94-2.06-.94-.94-2.06-.94 2.06-2.06.94z\"/><path d=\"M17.41 7.96l-1.37-1.37c-.4-.4-.92-.59-1.43-.59-.52 0-1.04.2-1.43.59L10.3 9.45l-7.72 7.72c-.78.78-.78 2.05 0 2.83L4 21.41c.39.39.9.59 1.41.59.51 0 1.02-.2 1.41-.59l7.78-7.78 2.81-2.81c.8-.78.8-2.07 0-2.86zM5.41 20L4 18.59l7.72-7.72 1.47 1.35L5.41 20z\"/>\n",
              "  </svg>\n",
              "      </button>\n",
              "      \n",
              "  <style>\n",
              "    .colab-df-container {\n",
              "      display:flex;\n",
              "      flex-wrap:wrap;\n",
              "      gap: 12px;\n",
              "    }\n",
              "\n",
              "    .colab-df-convert {\n",
              "      background-color: #E8F0FE;\n",
              "      border: none;\n",
              "      border-radius: 50%;\n",
              "      cursor: pointer;\n",
              "      display: none;\n",
              "      fill: #1967D2;\n",
              "      height: 32px;\n",
              "      padding: 0 0 0 0;\n",
              "      width: 32px;\n",
              "    }\n",
              "\n",
              "    .colab-df-convert:hover {\n",
              "      background-color: #E2EBFA;\n",
              "      box-shadow: 0px 1px 2px rgba(60, 64, 67, 0.3), 0px 1px 3px 1px rgba(60, 64, 67, 0.15);\n",
              "      fill: #174EA6;\n",
              "    }\n",
              "\n",
              "    [theme=dark] .colab-df-convert {\n",
              "      background-color: #3B4455;\n",
              "      fill: #D2E3FC;\n",
              "    }\n",
              "\n",
              "    [theme=dark] .colab-df-convert:hover {\n",
              "      background-color: #434B5C;\n",
              "      box-shadow: 0px 1px 3px 1px rgba(0, 0, 0, 0.15);\n",
              "      filter: drop-shadow(0px 1px 2px rgba(0, 0, 0, 0.3));\n",
              "      fill: #FFFFFF;\n",
              "    }\n",
              "  </style>\n",
              "\n",
              "      <script>\n",
              "        const buttonEl =\n",
              "          document.querySelector('#df-1a773042-4fa3-4ca1-9338-c9f1671cd41e button.colab-df-convert');\n",
              "        buttonEl.style.display =\n",
              "          google.colab.kernel.accessAllowed ? 'block' : 'none';\n",
              "\n",
              "        async function convertToInteractive(key) {\n",
              "          const element = document.querySelector('#df-1a773042-4fa3-4ca1-9338-c9f1671cd41e');\n",
              "          const dataTable =\n",
              "            await google.colab.kernel.invokeFunction('convertToInteractive',\n",
              "                                                     [key], {});\n",
              "          if (!dataTable) return;\n",
              "\n",
              "          const docLinkHtml = 'Like what you see? Visit the ' +\n",
              "            '<a target=\"_blank\" href=https://colab.research.google.com/notebooks/data_table.ipynb>data table notebook</a>'\n",
              "            + ' to learn more about interactive tables.';\n",
              "          element.innerHTML = '';\n",
              "          dataTable['output_type'] = 'display_data';\n",
              "          await google.colab.output.renderOutput(dataTable, element);\n",
              "          const docLink = document.createElement('div');\n",
              "          docLink.innerHTML = docLinkHtml;\n",
              "          element.appendChild(docLink);\n",
              "        }\n",
              "      </script>\n",
              "    </div>\n",
              "  </div>\n",
              "  "
            ]
          },
          "metadata": {},
          "execution_count": 73
        }
      ]
    },
    {
      "cell_type": "code",
      "source": [
        "import seaborn as sns"
      ],
      "metadata": {
        "id": "xofTzVX3tAYM"
      },
      "execution_count": null,
      "outputs": []
    },
    {
      "cell_type": "code",
      "source": [
        "sns.heatmap(correlation)"
      ],
      "metadata": {
        "colab": {
          "base_uri": "https://localhost:8080/",
          "height": 287
        },
        "id": "UrPVB8y_tfTk",
        "outputId": "ecc7bf12-9f61-40e9-8feb-76c001909f96"
      },
      "execution_count": null,
      "outputs": [
        {
          "output_type": "execute_result",
          "data": {
            "text/plain": [
              "<matplotlib.axes._subplots.AxesSubplot at 0x7f29ca143940>"
            ]
          },
          "metadata": {},
          "execution_count": 78
        },
        {
          "output_type": "display_data",
          "data": {
            "text/plain": [
              "<Figure size 432x288 with 2 Axes>"
            ],
            "image/png": "[encoded data removed]"
          },
          "metadata": {
            "needs_background": "light"
          }
        }
      ]
    },
    {
      "cell_type": "code",
      "source": [
        "sns.heatmap(correlation,annot = True)"
      ],
      "metadata": {
        "colab": {
          "base_uri": "https://localhost:8080/",
          "height": 287
        },
        "id": "c7bW7OJVuATz",
        "outputId": "05a5d8bc-53a7-4c72-d897-4f5aa8ec6817"
      },
      "execution_count": null,
      "outputs": [
        {
          "output_type": "execute_result",
          "data": {
            "text/plain": [
              "<matplotlib.axes._subplots.AxesSubplot at 0x7f29ca22eaf0>"
            ]
          },
          "metadata": {},
          "execution_count": 81
        },
        {
          "output_type": "display_data",
          "data": {
            "text/plain": [
              "<Figure size 432x288 with 2 Axes>"
            ],
            "image/png": "[encoded data removed]"
          },
          "metadata": {
            "needs_background": "light"
          }
        }
      ]
    },
    {
      "cell_type": "code",
      "source": [
        "Q3 = saleprice.quantile(0.75)"
      ],
      "metadata": {
        "id": "y990rPFnuiWa"
      },
      "execution_count": null,
      "outputs": []
    },
    {
      "cell_type": "code",
      "source": [
        "saleprice.quantile(0.50)"
      ],
      "metadata": {
        "colab": {
          "base_uri": "https://localhost:8080/"
        },
        "id": "vF7Sl703xRpv",
        "outputId": "5a73e9f5-220b-411d-d241-2ce56602c8b4"
      },
      "execution_count": null,
      "outputs": [
        {
          "output_type": "execute_result",
          "data": {
            "text/plain": [
              "167500.0"
            ]
          },
          "metadata": {},
          "execution_count": 85
        }
      ]
    },
    {
      "cell_type": "code",
      "source": [
        "Q1 = saleprice.quantile(0.25)"
      ],
      "metadata": {
        "id": "ciiZjNAmxZlu"
      },
      "execution_count": null,
      "outputs": []
    },
    {
      "cell_type": "code",
      "source": [
        "IQR = Q3 - Q1\n",
        "IQR"
      ],
      "metadata": {
        "colab": {
          "base_uri": "https://localhost:8080/"
        },
        "id": "Tfq021pMxfEd",
        "outputId": "7aba1fa7-7b03-494f-f5b2-df2c037945a0"
      },
      "execution_count": null,
      "outputs": [
        {
          "output_type": "execute_result",
          "data": {
            "text/plain": [
              "83750.0"
            ]
          },
          "metadata": {},
          "execution_count": 89
        }
      ]
    },
    {
      "cell_type": "code",
      "source": [
        "plt.boxplot(saleprice)\n",
        "plt.show"
      ],
      "metadata": {
        "colab": {
          "base_uri": "https://localhost:8080/",
          "height": 283
        },
        "id": "WjG0zxAPyPk5",
        "outputId": "f560ed44-b24e-4fca-a88c-3941f44c7226"
      },
      "execution_count": null,
      "outputs": [
        {
          "output_type": "execute_result",
          "data": {
            "text/plain": [
              "<function matplotlib.pyplot.show(*args, **kw)>"
            ]
          },
          "metadata": {},
          "execution_count": 92
        },
        {
          "output_type": "display_data",
          "data": {
            "text/plain": [
              "<Figure size 432x288 with 1 Axes>"
            ],
            "image/png": "[encoded data removed]"
          },
          "metadata": {
            "needs_background": "light"
          }
        }
      ]
    },
    {
      "cell_type": "code",
      "source": [
        "from scipy.stats import norm"
      ],
      "metadata": {
        "id": "cv543GVvyleU"
      },
      "execution_count": null,
      "outputs": []
    },
    {
      "cell_type": "code",
      "source": [
        "h = np.asarray(df['SalePrice'])\n",
        "h = sorted(h)"
      ],
      "metadata": {
        "id": "BezdGp3-zjjb"
      },
      "execution_count": null,
      "outputs": []
    },
    {
      "cell_type": "code",
      "source": [
        "fit = norm.pdf(h,np.mean(h),np.std(h))"
      ],
      "metadata": {
        "id": "uLIbyu0X0nNR"
      },
      "execution_count": null,
      "outputs": []
    },
    {
      "cell_type": "code",
      "source": [
        "plt.plot(h,fit,\"-\",linewidth = 2 , label = \"normal distribution with same mean and variations\")\n",
        "plt.hist(h,density = True, bins = 100 , label = \"Actual distribution\" )\n",
        "plt.legend()\n",
        "plt.show()"
      ],
      "metadata": {
        "colab": {
          "base_uri": "https://localhost:8080/",
          "height": 276
        },
        "id": "G-KbIPJi1bBQ",
        "outputId": "2edfcf77-acfe-4fd3-fb50-6c22139a5e6a"
      },
      "execution_count": null,
      "outputs": [
        {
          "output_type": "display_data",
          "data": {
            "text/plain": [
              "<Figure size 432x288 with 1 Axes>"
            ],
            "image/png": "[encoded data removed]"
          },
          "metadata": {
            "needs_background": "light"
          }
        }
      ]
    },
    {
      "cell_type": "code",
      "source": [],
      "metadata": {
        "id": "1p9LwN4e5hgh"
      },
      "execution_count": null,
      "outputs": []
    }
  ]
}