{
  "nbformat": 4,
  "nbformat_minor": 0,
  "metadata": {
    "colab": {
      "provenance": []
    },
    "kernelspec": {
      "name": "python3",
      "display_name": "Python 3"
    },
    "language_info": {
      "name": "python"
    }
  },
  "cells": [
    {
      "cell_type": "code",
      "execution_count": null,
      "metadata": {
        "id": "XU34cQ1JngOZ"
      },
      "outputs": [],
      "source": [
        "import numpy as np\n",
        "import pandas as pd\n",
        "import matplotlib.pyplot as plt\n",
        "import seaborn as sns"
      ]
    },
    {
      "cell_type": "code",
      "source": [
        "df = pd.read_csv(\"COVID19India.csv\")"
      ],
      "metadata": {
        "id": "VJmj1OwJnk9Z"
      },
      "execution_count": null,
      "outputs": []
    },
    {
      "cell_type": "code",
      "source": [
        "df"
      ],
      "metadata": {
        "colab": {
          "base_uri": "https://localhost:8080/",
          "height": 424
        },
        "id": "Nadmw16VnrSm",
        "outputId": "259a6f53-f2b4-48b4-e461-90311dd94793"
      },
      "execution_count": null,
      "outputs": [
        {
          "output_type": "execute_result",
          "data": {
            "text/plain": [
              "                Date    Date_YMD  Daily Confirmed  Daily Deceased\n",
              "0    30 January 2020  2020-01-30                1               0\n",
              "1    31 January 2020  2020-01-31                0               0\n",
              "2    1 February 2020  2020-02-01                0               0\n",
              "3    2 February 2020  2020-02-02                1               0\n",
              "4    3 February 2020  2020-02-03                1               0\n",
              "..               ...         ...              ...             ...\n",
              "715  14 January 2022  2022-01-14           266518             621\n",
              "716  15 January 2022  2022-01-15           271202             314\n",
              "717  16 January 2022  2022-01-16           258089             385\n",
              "718  17 January 2022  2022-01-17           238018             310\n",
              "719  18 January 2022  2022-01-18           282970             441\n",
              "\n",
              "[720 rows x 4 columns]"
            ],
            "text/html": [
              "\n",
              "  <div id=\"df-345ae5ff-6a9b-4cdd-8253-554e760f263a\">\n",
              "    <div class=\"colab-df-container\">\n",
              "      <div>\n",
              "<style scoped>\n",
              "    .dataframe tbody tr th:only-of-type {\n",
              "        vertical-align: middle;\n",
              "    }\n",
              "\n",
              "    .dataframe tbody tr th {\n",
              "        vertical-align: top;\n",
              "    }\n",
              "\n",
              "    .dataframe thead th {\n",
              "        text-align: right;\n",
              "    }\n",
              "</style>\n",
              "<table border=\"1\" class=\"dataframe\">\n",
              "  <thead>\n",
              "    <tr style=\"text-align: right;\">\n",
              "      <th></th>\n",
              "      <th>Date</th>\n",
              "      <th>Date_YMD</th>\n",
              "      <th>Daily Confirmed</th>\n",
              "      <th>Daily Deceased</th>\n",
              "    </tr>\n",
              "  </thead>\n",
              "  <tbody>\n",
              "    <tr>\n",
              "      <th>0</th>\n",
              "      <td>30 January 2020</td>\n",
              "      <td>2020-01-30</td>\n",
              "      <td>1</td>\n",
              "      <td>0</td>\n",
              "    </tr>\n",
              "    <tr>\n",
              "      <th>1</th>\n",
              "      <td>31 January 2020</td>\n",
              "      <td>2020-01-31</td>\n",
              "      <td>0</td>\n",
              "      <td>0</td>\n",
              "    </tr>\n",
              "    <tr>\n",
              "      <th>2</th>\n",
              "      <td>1 February 2020</td>\n",
              "      <td>2020-02-01</td>\n",
              "      <td>0</td>\n",
              "      <td>0</td>\n",
              "    </tr>\n",
              "    <tr>\n",
              "      <th>3</th>\n",
              "      <td>2 February 2020</td>\n",
              "      <td>2020-02-02</td>\n",
              "      <td>1</td>\n",
              "      <td>0</td>\n",
              "    </tr>\n",
              "    <tr>\n",
              "      <th>4</th>\n",
              "      <td>3 February 2020</td>\n",
              "      <td>2020-02-03</td>\n",
              "      <td>1</td>\n",
              "      <td>0</td>\n",
              "    </tr>\n",
              "    <tr>\n",
              "      <th>...</th>\n",
              "      <td>...</td>\n",
              "      <td>...</td>\n",
              "      <td>...</td>\n",
              "      <td>...</td>\n",
              "    </tr>\n",
              "    <tr>\n",
              "      <th>715</th>\n",
              "      <td>14 January 2022</td>\n",
              "      <td>2022-01-14</td>\n",
              "      <td>266518</td>\n",
              "      <td>621</td>\n",
              "    </tr>\n",
              "    <tr>\n",
              "      <th>716</th>\n",
              "      <td>15 January 2022</td>\n",
              "      <td>2022-01-15</td>\n",
              "      <td>271202</td>\n",
              "      <td>314</td>\n",
              "    </tr>\n",
              "    <tr>\n",
              "      <th>717</th>\n",
              "      <td>16 January 2022</td>\n",
              "      <td>2022-01-16</td>\n",
              "      <td>258089</td>\n",
              "      <td>385</td>\n",
              "    </tr>\n",
              "    <tr>\n",
              "      <th>718</th>\n",
              "      <td>17 January 2022</td>\n",
              "      <td>2022-01-17</td>\n",
              "      <td>238018</td>\n",
              "      <td>310</td>\n",
              "    </tr>\n",
              "    <tr>\n",
              "      <th>719</th>\n",
              "      <td>18 January 2022</td>\n",
              "      <td>2022-01-18</td>\n",
              "      <td>282970</td>\n",
              "      <td>441</td>\n",
              "    </tr>\n",
              "  </tbody>\n",
              "</table>\n",
              "<p>720 rows × 4 columns</p>\n",
              "</div>\n",
              "      <button class=\"colab-df-convert\" onclick=\"convertToInteractive('df-345ae5ff-6a9b-4cdd-8253-554e760f263a')\"\n",
              "              title=\"Convert this dataframe to an interactive table.\"\n",
              "              style=\"display:none;\">\n",
              "        \n",
              "  <svg xmlns=\"http://www.w3.org/2000/svg\" height=\"24px\"viewBox=\"0 0 24 24\"\n",
              "       width=\"24px\">\n",
              "    <path d=\"M0 0h24v24H0V0z\" fill=\"none\"/>\n",
              "    <path d=\"M18.56 5.44l.94 2.06.94-2.06 2.06-.94-2.06-.94-.94-2.06-.94 2.06-2.06.94zm-11 1L8.5 8.5l.94-2.06 2.06-.94-2.06-.94L8.5 2.5l-.94 2.06-2.06.94zm10 10l.94 2.06.94-2.06 2.06-.94-2.06-.94-.94-2.06-.94 2.06-2.06.94z\"/><path d=\"M17.41 7.96l-1.37-1.37c-.4-.4-.92-.59-1.43-.59-.52 0-1.04.2-1.43.59L10.3 9.45l-7.72 7.72c-.78.78-.78 2.05 0 2.83L4 21.41c.39.39.9.59 1.41.59.51 0 1.02-.2 1.41-.59l7.78-7.78 2.81-2.81c.8-.78.8-2.07 0-2.86zM5.41 20L4 18.59l7.72-7.72 1.47 1.35L5.41 20z\"/>\n",
              "  </svg>\n",
              "      </button>\n",
              "      \n",
              "  <style>\n",
              "    .colab-df-container {\n",
              "      display:flex;\n",
              "      flex-wrap:wrap;\n",
              "      gap: 12px;\n",
              "    }\n",
              "\n",
              "    .colab-df-convert {\n",
              "      background-color: #E8F0FE;\n",
              "      border: none;\n",
              "      border-radius: 50%;\n",
              "      cursor: pointer;\n",
              "      display: none;\n",
              "      fill: #1967D2;\n",
              "      height: 32px;\n",
              "      padding: 0 0 0 0;\n",
              "      width: 32px;\n",
              "    }\n",
              "\n",
              "    .colab-df-convert:hover {\n",
              "      background-color: #E2EBFA;\n",
              "      box-shadow: 0px 1px 2px rgba(60, 64, 67, 0.3), 0px 1px 3px 1px rgba(60, 64, 67, 0.15);\n",
              "      fill: #174EA6;\n",
              "    }\n",
              "\n",
              "    [theme=dark] .colab-df-convert {\n",
              "      background-color: #3B4455;\n",
              "      fill: #D2E3FC;\n",
              "    }\n",
              "\n",
              "    [theme=dark] .colab-df-convert:hover {\n",
              "      background-color: #434B5C;\n",
              "      box-shadow: 0px 1px 3px 1px rgba(0, 0, 0, 0.15);\n",
              "      filter: drop-shadow(0px 1px 2px rgba(0, 0, 0, 0.3));\n",
              "      fill: #FFFFFF;\n",
              "    }\n",
              "  </style>\n",
              "\n",
              "      <script>\n",
              "        const buttonEl =\n",
              "          document.querySelector('#df-345ae5ff-6a9b-4cdd-8253-554e760f263a button.colab-df-convert');\n",
              "        buttonEl.style.display =\n",
              "          google.colab.kernel.accessAllowed ? 'block' : 'none';\n",
              "\n",
              "        async function convertToInteractive(key) {\n",
              "          const element = document.querySelector('#df-345ae5ff-6a9b-4cdd-8253-554e760f263a');\n",
              "          const dataTable =\n",
              "            await google.colab.kernel.invokeFunction('convertToInteractive',\n",
              "                                                     [key], {});\n",
              "          if (!dataTable) return;\n",
              "\n",
              "          const docLinkHtml = 'Like what you see? Visit the ' +\n",
              "            '<a target=\"_blank\" href=https://colab.research.google.com/notebooks/data_table.ipynb>data table notebook</a>'\n",
              "            + ' to learn more about interactive tables.';\n",
              "          element.innerHTML = '';\n",
              "          dataTable['output_type'] = 'display_data';\n",
              "          await google.colab.output.renderOutput(dataTable, element);\n",
              "          const docLink = document.createElement('div');\n",
              "          docLink.innerHTML = docLinkHtml;\n",
              "          element.appendChild(docLink);\n",
              "        }\n",
              "      </script>\n",
              "    </div>\n",
              "  </div>\n",
              "  "
            ]
          },
          "metadata": {},
          "execution_count": 3
        }
      ]
    },
    {
      "cell_type": "code",
      "source": [
        "df.describe()"
      ],
      "metadata": {
        "colab": {
          "base_uri": "https://localhost:8080/",
          "height": 301
        },
        "id": "cLSfo8t7oS6Q",
        "outputId": "67b639c3-b460-4e72-c1f8-e4c306d7190c"
      },
      "execution_count": null,
      "outputs": [
        {
          "output_type": "execute_result",
          "data": {
            "text/plain": [
              "       Daily Confirmed  Daily Deceased\n",
              "count       720.000000      720.000000\n",
              "mean      52637.915278      675.901389\n",
              "std       78522.746943      932.895333\n",
              "min           0.000000        0.000000\n",
              "25%       10419.250000      159.000000\n",
              "50%       27383.000000      387.000000\n",
              "75%       54300.750000      734.750000\n",
              "max      414280.000000     6139.000000"
            ],
            "text/html": [
              "\n",
              "  <div id=\"df-e6d5f781-ffd6-4aff-88e1-758cb8f79c64\">\n",
              "    <div class=\"colab-df-container\">\n",
              "      <div>\n",
              "<style scoped>\n",
              "    .dataframe tbody tr th:only-of-type {\n",
              "        vertical-align: middle;\n",
              "    }\n",
              "\n",
              "    .dataframe tbody tr th {\n",
              "        vertical-align: top;\n",
              "    }\n",
              "\n",
              "    .dataframe thead th {\n",
              "        text-align: right;\n",
              "    }\n",
              "</style>\n",
              "<table border=\"1\" class=\"dataframe\">\n",
              "  <thead>\n",
              "    <tr style=\"text-align: right;\">\n",
              "      <th></th>\n",
              "      <th>Daily Confirmed</th>\n",
              "      <th>Daily Deceased</th>\n",
              "    </tr>\n",
              "  </thead>\n",
              "  <tbody>\n",
              "    <tr>\n",
              "      <th>count</th>\n",
              "      <td>720.000000</td>\n",
              "      <td>720.000000</td>\n",
              "    </tr>\n",
              "    <tr>\n",
              "      <th>mean</th>\n",
              "      <td>52637.915278</td>\n",
              "      <td>675.901389</td>\n",
              "    </tr>\n",
              "    <tr>\n",
              "      <th>std</th>\n",
              "      <td>78522.746943</td>\n",
              "      <td>932.895333</td>\n",
              "    </tr>\n",
              "    <tr>\n",
              "      <th>min</th>\n",
              "      <td>0.000000</td>\n",
              "      <td>0.000000</td>\n",
              "    </tr>\n",
              "    <tr>\n",
              "      <th>25%</th>\n",
              "      <td>10419.250000</td>\n",
              "      <td>159.000000</td>\n",
              "    </tr>\n",
              "    <tr>\n",
              "      <th>50%</th>\n",
              "      <td>27383.000000</td>\n",
              "      <td>387.000000</td>\n",
              "    </tr>\n",
              "    <tr>\n",
              "      <th>75%</th>\n",
              "      <td>54300.750000</td>\n",
              "      <td>734.750000</td>\n",
              "    </tr>\n",
              "    <tr>\n",
              "      <th>max</th>\n",
              "      <td>414280.000000</td>\n",
              "      <td>6139.000000</td>\n",
              "    </tr>\n",
              "  </tbody>\n",
              "</table>\n",
              "</div>\n",
              "      <button class=\"colab-df-convert\" onclick=\"convertToInteractive('df-e6d5f781-ffd6-4aff-88e1-758cb8f79c64')\"\n",
              "              title=\"Convert this dataframe to an interactive table.\"\n",
              "              style=\"display:none;\">\n",
              "        \n",
              "  <svg xmlns=\"http://www.w3.org/2000/svg\" height=\"24px\"viewBox=\"0 0 24 24\"\n",
              "       width=\"24px\">\n",
              "    <path d=\"M0 0h24v24H0V0z\" fill=\"none\"/>\n",
              "    <path d=\"M18.56 5.44l.94 2.06.94-2.06 2.06-.94-2.06-.94-.94-2.06-.94 2.06-2.06.94zm-11 1L8.5 8.5l.94-2.06 2.06-.94-2.06-.94L8.5 2.5l-.94 2.06-2.06.94zm10 10l.94 2.06.94-2.06 2.06-.94-2.06-.94-.94-2.06-.94 2.06-2.06.94z\"/><path d=\"M17.41 7.96l-1.37-1.37c-.4-.4-.92-.59-1.43-.59-.52 0-1.04.2-1.43.59L10.3 9.45l-7.72 7.72c-.78.78-.78 2.05 0 2.83L4 21.41c.39.39.9.59 1.41.59.51 0 1.02-.2 1.41-.59l7.78-7.78 2.81-2.81c.8-.78.8-2.07 0-2.86zM5.41 20L4 18.59l7.72-7.72 1.47 1.35L5.41 20z\"/>\n",
              "  </svg>\n",
              "      </button>\n",
              "      \n",
              "  <style>\n",
              "    .colab-df-container {\n",
              "      display:flex;\n",
              "      flex-wrap:wrap;\n",
              "      gap: 12px;\n",
              "    }\n",
              "\n",
              "    .colab-df-convert {\n",
              "      background-color: #E8F0FE;\n",
              "      border: none;\n",
              "      border-radius: 50%;\n",
              "      cursor: pointer;\n",
              "      display: none;\n",
              "      fill: #1967D2;\n",
              "      height: 32px;\n",
              "      padding: 0 0 0 0;\n",
              "      width: 32px;\n",
              "    }\n",
              "\n",
              "    .colab-df-convert:hover {\n",
              "      background-color: #E2EBFA;\n",
              "      box-shadow: 0px 1px 2px rgba(60, 64, 67, 0.3), 0px 1px 3px 1px rgba(60, 64, 67, 0.15);\n",
              "      fill: #174EA6;\n",
              "    }\n",
              "\n",
              "    [theme=dark] .colab-df-convert {\n",
              "      background-color: #3B4455;\n",
              "      fill: #D2E3FC;\n",
              "    }\n",
              "\n",
              "    [theme=dark] .colab-df-convert:hover {\n",
              "      background-color: #434B5C;\n",
              "      box-shadow: 0px 1px 3px 1px rgba(0, 0, 0, 0.15);\n",
              "      filter: drop-shadow(0px 1px 2px rgba(0, 0, 0, 0.3));\n",
              "      fill: #FFFFFF;\n",
              "    }\n",
              "  </style>\n",
              "\n",
              "      <script>\n",
              "        const buttonEl =\n",
              "          document.querySelector('#df-e6d5f781-ffd6-4aff-88e1-758cb8f79c64 button.colab-df-convert');\n",
              "        buttonEl.style.display =\n",
              "          google.colab.kernel.accessAllowed ? 'block' : 'none';\n",
              "\n",
              "        async function convertToInteractive(key) {\n",
              "          const element = document.querySelector('#df-e6d5f781-ffd6-4aff-88e1-758cb8f79c64');\n",
              "          const dataTable =\n",
              "            await google.colab.kernel.invokeFunction('convertToInteractive',\n",
              "                                                     [key], {});\n",
              "          if (!dataTable) return;\n",
              "\n",
              "          const docLinkHtml = 'Like what you see? Visit the ' +\n",
              "            '<a target=\"_blank\" href=https://colab.research.google.com/notebooks/data_table.ipynb>data table notebook</a>'\n",
              "            + ' to learn more about interactive tables.';\n",
              "          element.innerHTML = '';\n",
              "          dataTable['output_type'] = 'display_data';\n",
              "          await google.colab.output.renderOutput(dataTable, element);\n",
              "          const docLink = document.createElement('div');\n",
              "          docLink.innerHTML = docLinkHtml;\n",
              "          element.appendChild(docLink);\n",
              "        }\n",
              "      </script>\n",
              "    </div>\n",
              "  </div>\n",
              "  "
            ]
          },
          "metadata": {},
          "execution_count": 4
        }
      ]
    },
    {
      "cell_type": "code",
      "source": [
        "df.shape"
      ],
      "metadata": {
        "colab": {
          "base_uri": "https://localhost:8080/"
        },
        "id": "CYAFMFt2omYV",
        "outputId": "e3318113-c1c2-4a82-c1c5-271446658388"
      },
      "execution_count": null,
      "outputs": [
        {
          "output_type": "execute_result",
          "data": {
            "text/plain": [
              "(720, 4)"
            ]
          },
          "metadata": {},
          "execution_count": 5
        }
      ]
    },
    {
      "cell_type": "code",
      "source": [
        "df.head()"
      ],
      "metadata": {
        "colab": {
          "base_uri": "https://localhost:8080/",
          "height": 206
        },
        "id": "djgIw43PotTB",
        "outputId": "6277d40e-1d10-4414-85bb-1bd98b7f6727"
      },
      "execution_count": null,
      "outputs": [
        {
          "output_type": "execute_result",
          "data": {
            "text/plain": [
              "              Date    Date_YMD  Daily Confirmed  Daily Deceased\n",
              "0  30 January 2020  2020-01-30                1               0\n",
              "1  31 January 2020  2020-01-31                0               0\n",
              "2  1 February 2020  2020-02-01                0               0\n",
              "3  2 February 2020  2020-02-02                1               0\n",
              "4  3 February 2020  2020-02-03                1               0"
            ],
            "text/html": [
              "\n",
              "  <div id=\"df-7bd135ef-ac6f-43a9-af95-2b9dc12ecde8\">\n",
              "    <div class=\"colab-df-container\">\n",
              "      <div>\n",
              "<style scoped>\n",
              "    .dataframe tbody tr th:only-of-type {\n",
              "        vertical-align: middle;\n",
              "    }\n",
              "\n",
              "    .dataframe tbody tr th {\n",
              "        vertical-align: top;\n",
              "    }\n",
              "\n",
              "    .dataframe thead th {\n",
              "        text-align: right;\n",
              "    }\n",
              "</style>\n",
              "<table border=\"1\" class=\"dataframe\">\n",
              "  <thead>\n",
              "    <tr style=\"text-align: right;\">\n",
              "      <th></th>\n",
              "      <th>Date</th>\n",
              "      <th>Date_YMD</th>\n",
              "      <th>Daily Confirmed</th>\n",
              "      <th>Daily Deceased</th>\n",
              "    </tr>\n",
              "  </thead>\n",
              "  <tbody>\n",
              "    <tr>\n",
              "      <th>0</th>\n",
              "      <td>30 January 2020</td>\n",
              "      <td>2020-01-30</td>\n",
              "      <td>1</td>\n",
              "      <td>0</td>\n",
              "    </tr>\n",
              "    <tr>\n",
              "      <th>1</th>\n",
              "      <td>31 January 2020</td>\n",
              "      <td>2020-01-31</td>\n",
              "      <td>0</td>\n",
              "      <td>0</td>\n",
              "    </tr>\n",
              "    <tr>\n",
              "      <th>2</th>\n",
              "      <td>1 February 2020</td>\n",
              "      <td>2020-02-01</td>\n",
              "      <td>0</td>\n",
              "      <td>0</td>\n",
              "    </tr>\n",
              "    <tr>\n",
              "      <th>3</th>\n",
              "      <td>2 February 2020</td>\n",
              "      <td>2020-02-02</td>\n",
              "      <td>1</td>\n",
              "      <td>0</td>\n",
              "    </tr>\n",
              "    <tr>\n",
              "      <th>4</th>\n",
              "      <td>3 February 2020</td>\n",
              "      <td>2020-02-03</td>\n",
              "      <td>1</td>\n",
              "      <td>0</td>\n",
              "    </tr>\n",
              "  </tbody>\n",
              "</table>\n",
              "</div>\n",
              "      <button class=\"colab-df-convert\" onclick=\"convertToInteractive('df-7bd135ef-ac6f-43a9-af95-2b9dc12ecde8')\"\n",
              "              title=\"Convert this dataframe to an interactive table.\"\n",
              "              style=\"display:none;\">\n",
              "        \n",
              "  <svg xmlns=\"http://www.w3.org/2000/svg\" height=\"24px\"viewBox=\"0 0 24 24\"\n",
              "       width=\"24px\">\n",
              "    <path d=\"M0 0h24v24H0V0z\" fill=\"none\"/>\n",
              "    <path d=\"M18.56 5.44l.94 2.06.94-2.06 2.06-.94-2.06-.94-.94-2.06-.94 2.06-2.06.94zm-11 1L8.5 8.5l.94-2.06 2.06-.94-2.06-.94L8.5 2.5l-.94 2.06-2.06.94zm10 10l.94 2.06.94-2.06 2.06-.94-2.06-.94-.94-2.06-.94 2.06-2.06.94z\"/><path d=\"M17.41 7.96l-1.37-1.37c-.4-.4-.92-.59-1.43-.59-.52 0-1.04.2-1.43.59L10.3 9.45l-7.72 7.72c-.78.78-.78 2.05 0 2.83L4 21.41c.39.39.9.59 1.41.59.51 0 1.02-.2 1.41-.59l7.78-7.78 2.81-2.81c.8-.78.8-2.07 0-2.86zM5.41 20L4 18.59l7.72-7.72 1.47 1.35L5.41 20z\"/>\n",
              "  </svg>\n",
              "      </button>\n",
              "      \n",
              "  <style>\n",
              "    .colab-df-container {\n",
              "      display:flex;\n",
              "      flex-wrap:wrap;\n",
              "      gap: 12px;\n",
              "    }\n",
              "\n",
              "    .colab-df-convert {\n",
              "      background-color: #E8F0FE;\n",
              "      border: none;\n",
              "      border-radius: 50%;\n",
              "      cursor: pointer;\n",
              "      display: none;\n",
              "      fill: #1967D2;\n",
              "      height: 32px;\n",
              "      padding: 0 0 0 0;\n",
              "      width: 32px;\n",
              "    }\n",
              "\n",
              "    .colab-df-convert:hover {\n",
              "      background-color: #E2EBFA;\n",
              "      box-shadow: 0px 1px 2px rgba(60, 64, 67, 0.3), 0px 1px 3px 1px rgba(60, 64, 67, 0.15);\n",
              "      fill: #174EA6;\n",
              "    }\n",
              "\n",
              "    [theme=dark] .colab-df-convert {\n",
              "      background-color: #3B4455;\n",
              "      fill: #D2E3FC;\n",
              "    }\n",
              "\n",
              "    [theme=dark] .colab-df-convert:hover {\n",
              "      background-color: #434B5C;\n",
              "      box-shadow: 0px 1px 3px 1px rgba(0, 0, 0, 0.15);\n",
              "      filter: drop-shadow(0px 1px 2px rgba(0, 0, 0, 0.3));\n",
              "      fill: #FFFFFF;\n",
              "    }\n",
              "  </style>\n",
              "\n",
              "      <script>\n",
              "        const buttonEl =\n",
              "          document.querySelector('#df-7bd135ef-ac6f-43a9-af95-2b9dc12ecde8 button.colab-df-convert');\n",
              "        buttonEl.style.display =\n",
              "          google.colab.kernel.accessAllowed ? 'block' : 'none';\n",
              "\n",
              "        async function convertToInteractive(key) {\n",
              "          const element = document.querySelector('#df-7bd135ef-ac6f-43a9-af95-2b9dc12ecde8');\n",
              "          const dataTable =\n",
              "            await google.colab.kernel.invokeFunction('convertToInteractive',\n",
              "                                                     [key], {});\n",
              "          if (!dataTable) return;\n",
              "\n",
              "          const docLinkHtml = 'Like what you see? Visit the ' +\n",
              "            '<a target=\"_blank\" href=https://colab.research.google.com/notebooks/data_table.ipynb>data table notebook</a>'\n",
              "            + ' to learn more about interactive tables.';\n",
              "          element.innerHTML = '';\n",
              "          dataTable['output_type'] = 'display_data';\n",
              "          await google.colab.output.renderOutput(dataTable, element);\n",
              "          const docLink = document.createElement('div');\n",
              "          docLink.innerHTML = docLinkHtml;\n",
              "          element.appendChild(docLink);\n",
              "        }\n",
              "      </script>\n",
              "    </div>\n",
              "  </div>\n",
              "  "
            ]
          },
          "metadata": {},
          "execution_count": 6
        }
      ]
    },
    {
      "cell_type": "code",
      "source": [
        "df.tail()"
      ],
      "metadata": {
        "colab": {
          "base_uri": "https://localhost:8080/",
          "height": 206
        },
        "id": "VXTYceXDowKB",
        "outputId": "91d56075-7b35-4ef4-eed5-304e23ed2b9a"
      },
      "execution_count": null,
      "outputs": [
        {
          "output_type": "execute_result",
          "data": {
            "text/plain": [
              "                Date    Date_YMD  Daily Confirmed  Daily Deceased\n",
              "715  14 January 2022  2022-01-14           266518             621\n",
              "716  15 January 2022  2022-01-15           271202             314\n",
              "717  16 January 2022  2022-01-16           258089             385\n",
              "718  17 January 2022  2022-01-17           238018             310\n",
              "719  18 January 2022  2022-01-18           282970             441"
            ],
            "text/html": [
              "\n",
              "  <div id=\"df-3987c4e7-4243-4634-9ef4-560bf82c7549\">\n",
              "    <div class=\"colab-df-container\">\n",
              "      <div>\n",
              "<style scoped>\n",
              "    .dataframe tbody tr th:only-of-type {\n",
              "        vertical-align: middle;\n",
              "    }\n",
              "\n",
              "    .dataframe tbody tr th {\n",
              "        vertical-align: top;\n",
              "    }\n",
              "\n",
              "    .dataframe thead th {\n",
              "        text-align: right;\n",
              "    }\n",
              "</style>\n",
              "<table border=\"1\" class=\"dataframe\">\n",
              "  <thead>\n",
              "    <tr style=\"text-align: right;\">\n",
              "      <th></th>\n",
              "      <th>Date</th>\n",
              "      <th>Date_YMD</th>\n",
              "      <th>Daily Confirmed</th>\n",
              "      <th>Daily Deceased</th>\n",
              "    </tr>\n",
              "  </thead>\n",
              "  <tbody>\n",
              "    <tr>\n",
              "      <th>715</th>\n",
              "      <td>14 January 2022</td>\n",
              "      <td>2022-01-14</td>\n",
              "      <td>266518</td>\n",
              "      <td>621</td>\n",
              "    </tr>\n",
              "    <tr>\n",
              "      <th>716</th>\n",
              "      <td>15 January 2022</td>\n",
              "      <td>2022-01-15</td>\n",
              "      <td>271202</td>\n",
              "      <td>314</td>\n",
              "    </tr>\n",
              "    <tr>\n",
              "      <th>717</th>\n",
              "      <td>16 January 2022</td>\n",
              "      <td>2022-01-16</td>\n",
              "      <td>258089</td>\n",
              "      <td>385</td>\n",
              "    </tr>\n",
              "    <tr>\n",
              "      <th>718</th>\n",
              "      <td>17 January 2022</td>\n",
              "      <td>2022-01-17</td>\n",
              "      <td>238018</td>\n",
              "      <td>310</td>\n",
              "    </tr>\n",
              "    <tr>\n",
              "      <th>719</th>\n",
              "      <td>18 January 2022</td>\n",
              "      <td>2022-01-18</td>\n",
              "      <td>282970</td>\n",
              "      <td>441</td>\n",
              "    </tr>\n",
              "  </tbody>\n",
              "</table>\n",
              "</div>\n",
              "      <button class=\"colab-df-convert\" onclick=\"convertToInteractive('df-3987c4e7-4243-4634-9ef4-560bf82c7549')\"\n",
              "              title=\"Convert this dataframe to an interactive table.\"\n",
              "              style=\"display:none;\">\n",
              "        \n",
              "  <svg xmlns=\"http://www.w3.org/2000/svg\" height=\"24px\"viewBox=\"0 0 24 24\"\n",
              "       width=\"24px\">\n",
              "    <path d=\"M0 0h24v24H0V0z\" fill=\"none\"/>\n",
              "    <path d=\"M18.56 5.44l.94 2.06.94-2.06 2.06-.94-2.06-.94-.94-2.06-.94 2.06-2.06.94zm-11 1L8.5 8.5l.94-2.06 2.06-.94-2.06-.94L8.5 2.5l-.94 2.06-2.06.94zm10 10l.94 2.06.94-2.06 2.06-.94-2.06-.94-.94-2.06-.94 2.06-2.06.94z\"/><path d=\"M17.41 7.96l-1.37-1.37c-.4-.4-.92-.59-1.43-.59-.52 0-1.04.2-1.43.59L10.3 9.45l-7.72 7.72c-.78.78-.78 2.05 0 2.83L4 21.41c.39.39.9.59 1.41.59.51 0 1.02-.2 1.41-.59l7.78-7.78 2.81-2.81c.8-.78.8-2.07 0-2.86zM5.41 20L4 18.59l7.72-7.72 1.47 1.35L5.41 20z\"/>\n",
              "  </svg>\n",
              "      </button>\n",
              "      \n",
              "  <style>\n",
              "    .colab-df-container {\n",
              "      display:flex;\n",
              "      flex-wrap:wrap;\n",
              "      gap: 12px;\n",
              "    }\n",
              "\n",
              "    .colab-df-convert {\n",
              "      background-color: #E8F0FE;\n",
              "      border: none;\n",
              "      border-radius: 50%;\n",
              "      cursor: pointer;\n",
              "      display: none;\n",
              "      fill: #1967D2;\n",
              "      height: 32px;\n",
              "      padding: 0 0 0 0;\n",
              "      width: 32px;\n",
              "    }\n",
              "\n",
              "    .colab-df-convert:hover {\n",
              "      background-color: #E2EBFA;\n",
              "      box-shadow: 0px 1px 2px rgba(60, 64, 67, 0.3), 0px 1px 3px 1px rgba(60, 64, 67, 0.15);\n",
              "      fill: #174EA6;\n",
              "    }\n",
              "\n",
              "    [theme=dark] .colab-df-convert {\n",
              "      background-color: #3B4455;\n",
              "      fill: #D2E3FC;\n",
              "    }\n",
              "\n",
              "    [theme=dark] .colab-df-convert:hover {\n",
              "      background-color: #434B5C;\n",
              "      box-shadow: 0px 1px 3px 1px rgba(0, 0, 0, 0.15);\n",
              "      filter: drop-shadow(0px 1px 2px rgba(0, 0, 0, 0.3));\n",
              "      fill: #FFFFFF;\n",
              "    }\n",
              "  </style>\n",
              "\n",
              "      <script>\n",
              "        const buttonEl =\n",
              "          document.querySelector('#df-3987c4e7-4243-4634-9ef4-560bf82c7549 button.colab-df-convert');\n",
              "        buttonEl.style.display =\n",
              "          google.colab.kernel.accessAllowed ? 'block' : 'none';\n",
              "\n",
              "        async function convertToInteractive(key) {\n",
              "          const element = document.querySelector('#df-3987c4e7-4243-4634-9ef4-560bf82c7549');\n",
              "          const dataTable =\n",
              "            await google.colab.kernel.invokeFunction('convertToInteractive',\n",
              "                                                     [key], {});\n",
              "          if (!dataTable) return;\n",
              "\n",
              "          const docLinkHtml = 'Like what you see? Visit the ' +\n",
              "            '<a target=\"_blank\" href=https://colab.research.google.com/notebooks/data_table.ipynb>data table notebook</a>'\n",
              "            + ' to learn more about interactive tables.';\n",
              "          element.innerHTML = '';\n",
              "          dataTable['output_type'] = 'display_data';\n",
              "          await google.colab.output.renderOutput(dataTable, element);\n",
              "          const docLink = document.createElement('div');\n",
              "          docLink.innerHTML = docLinkHtml;\n",
              "          element.appendChild(docLink);\n",
              "        }\n",
              "      </script>\n",
              "    </div>\n",
              "  </div>\n",
              "  "
            ]
          },
          "metadata": {},
          "execution_count": 7
        }
      ]
    },
    {
      "cell_type": "code",
      "source": [
        "df.isnull().sum()"
      ],
      "metadata": {
        "colab": {
          "base_uri": "https://localhost:8080/"
        },
        "id": "EfdtXLwTozwd",
        "outputId": "6efcb54c-7388-40b4-940c-17ac6e852abc"
      },
      "execution_count": null,
      "outputs": [
        {
          "output_type": "execute_result",
          "data": {
            "text/plain": [
              "Date               0\n",
              "Date_YMD           0\n",
              "Daily Confirmed    0\n",
              "Daily Deceased     0\n",
              "dtype: int64"
            ]
          },
          "metadata": {},
          "execution_count": 8
        }
      ]
    },
    {
      "cell_type": "code",
      "source": [
        "df=df.drop('Date', axis=1)"
      ],
      "metadata": {
        "id": "hYl0l8ego-mG"
      },
      "execution_count": null,
      "outputs": []
    },
    {
      "cell_type": "code",
      "source": [
        "df"
      ],
      "metadata": {
        "colab": {
          "base_uri": "https://localhost:8080/",
          "height": 424
        },
        "id": "UBwEkWoBpMFE",
        "outputId": "49a7ff49-c551-4c22-ed7f-5fbb197bc971"
      },
      "execution_count": null,
      "outputs": [
        {
          "output_type": "execute_result",
          "data": {
            "text/plain": [
              "       Date_YMD  Daily Confirmed  Daily Deceased\n",
              "0    2020-01-30                1               0\n",
              "1    2020-01-31                0               0\n",
              "2    2020-02-01                0               0\n",
              "3    2020-02-02                1               0\n",
              "4    2020-02-03                1               0\n",
              "..          ...              ...             ...\n",
              "715  2022-01-14           266518             621\n",
              "716  2022-01-15           271202             314\n",
              "717  2022-01-16           258089             385\n",
              "718  2022-01-17           238018             310\n",
              "719  2022-01-18           282970             441\n",
              "\n",
              "[720 rows x 3 columns]"
            ],
            "text/html": [
              "\n",
              "  <div id=\"df-9cde5f80-59ad-4131-9ad9-799dccf04b7c\">\n",
              "    <div class=\"colab-df-container\">\n",
              "      <div>\n",
              "<style scoped>\n",
              "    .dataframe tbody tr th:only-of-type {\n",
              "        vertical-align: middle;\n",
              "    }\n",
              "\n",
              "    .dataframe tbody tr th {\n",
              "        vertical-align: top;\n",
              "    }\n",
              "\n",
              "    .dataframe thead th {\n",
              "        text-align: right;\n",
              "    }\n",
              "</style>\n",
              "<table border=\"1\" class=\"dataframe\">\n",
              "  <thead>\n",
              "    <tr style=\"text-align: right;\">\n",
              "      <th></th>\n",
              "      <th>Date_YMD</th>\n",
              "      <th>Daily Confirmed</th>\n",
              "      <th>Daily Deceased</th>\n",
              "    </tr>\n",
              "  </thead>\n",
              "  <tbody>\n",
              "    <tr>\n",
              "      <th>0</th>\n",
              "      <td>2020-01-30</td>\n",
              "      <td>1</td>\n",
              "      <td>0</td>\n",
              "    </tr>\n",
              "    <tr>\n",
              "      <th>1</th>\n",
              "      <td>2020-01-31</td>\n",
              "      <td>0</td>\n",
              "      <td>0</td>\n",
              "    </tr>\n",
              "    <tr>\n",
              "      <th>2</th>\n",
              "      <td>2020-02-01</td>\n",
              "      <td>0</td>\n",
              "      <td>0</td>\n",
              "    </tr>\n",
              "    <tr>\n",
              "      <th>3</th>\n",
              "      <td>2020-02-02</td>\n",
              "      <td>1</td>\n",
              "      <td>0</td>\n",
              "    </tr>\n",
              "    <tr>\n",
              "      <th>4</th>\n",
              "      <td>2020-02-03</td>\n",
              "      <td>1</td>\n",
              "      <td>0</td>\n",
              "    </tr>\n",
              "    <tr>\n",
              "      <th>...</th>\n",
              "      <td>...</td>\n",
              "      <td>...</td>\n",
              "      <td>...</td>\n",
              "    </tr>\n",
              "    <tr>\n",
              "      <th>715</th>\n",
              "      <td>2022-01-14</td>\n",
              "      <td>266518</td>\n",
              "      <td>621</td>\n",
              "    </tr>\n",
              "    <tr>\n",
              "      <th>716</th>\n",
              "      <td>2022-01-15</td>\n",
              "      <td>271202</td>\n",
              "      <td>314</td>\n",
              "    </tr>\n",
              "    <tr>\n",
              "      <th>717</th>\n",
              "      <td>2022-01-16</td>\n",
              "      <td>258089</td>\n",
              "      <td>385</td>\n",
              "    </tr>\n",
              "    <tr>\n",
              "      <th>718</th>\n",
              "      <td>2022-01-17</td>\n",
              "      <td>238018</td>\n",
              "      <td>310</td>\n",
              "    </tr>\n",
              "    <tr>\n",
              "      <th>719</th>\n",
              "      <td>2022-01-18</td>\n",
              "      <td>282970</td>\n",
              "      <td>441</td>\n",
              "    </tr>\n",
              "  </tbody>\n",
              "</table>\n",
              "<p>720 rows × 3 columns</p>\n",
              "</div>\n",
              "      <button class=\"colab-df-convert\" onclick=\"convertToInteractive('df-9cde5f80-59ad-4131-9ad9-799dccf04b7c')\"\n",
              "              title=\"Convert this dataframe to an interactive table.\"\n",
              "              style=\"display:none;\">\n",
              "        \n",
              "  <svg xmlns=\"http://www.w3.org/2000/svg\" height=\"24px\"viewBox=\"0 0 24 24\"\n",
              "       width=\"24px\">\n",
              "    <path d=\"M0 0h24v24H0V0z\" fill=\"none\"/>\n",
              "    <path d=\"M18.56 5.44l.94 2.06.94-2.06 2.06-.94-2.06-.94-.94-2.06-.94 2.06-2.06.94zm-11 1L8.5 8.5l.94-2.06 2.06-.94-2.06-.94L8.5 2.5l-.94 2.06-2.06.94zm10 10l.94 2.06.94-2.06 2.06-.94-2.06-.94-.94-2.06-.94 2.06-2.06.94z\"/><path d=\"M17.41 7.96l-1.37-1.37c-.4-.4-.92-.59-1.43-.59-.52 0-1.04.2-1.43.59L10.3 9.45l-7.72 7.72c-.78.78-.78 2.05 0 2.83L4 21.41c.39.39.9.59 1.41.59.51 0 1.02-.2 1.41-.59l7.78-7.78 2.81-2.81c.8-.78.8-2.07 0-2.86zM5.41 20L4 18.59l7.72-7.72 1.47 1.35L5.41 20z\"/>\n",
              "  </svg>\n",
              "      </button>\n",
              "      \n",
              "  <style>\n",
              "    .colab-df-container {\n",
              "      display:flex;\n",
              "      flex-wrap:wrap;\n",
              "      gap: 12px;\n",
              "    }\n",
              "\n",
              "    .colab-df-convert {\n",
              "      background-color: #E8F0FE;\n",
              "      border: none;\n",
              "      border-radius: 50%;\n",
              "      cursor: pointer;\n",
              "      display: none;\n",
              "      fill: #1967D2;\n",
              "      height: 32px;\n",
              "      padding: 0 0 0 0;\n",
              "      width: 32px;\n",
              "    }\n",
              "\n",
              "    .colab-df-convert:hover {\n",
              "      background-color: #E2EBFA;\n",
              "      box-shadow: 0px 1px 2px rgba(60, 64, 67, 0.3), 0px 1px 3px 1px rgba(60, 64, 67, 0.15);\n",
              "      fill: #174EA6;\n",
              "    }\n",
              "\n",
              "    [theme=dark] .colab-df-convert {\n",
              "      background-color: #3B4455;\n",
              "      fill: #D2E3FC;\n",
              "    }\n",
              "\n",
              "    [theme=dark] .colab-df-convert:hover {\n",
              "      background-color: #434B5C;\n",
              "      box-shadow: 0px 1px 3px 1px rgba(0, 0, 0, 0.15);\n",
              "      filter: drop-shadow(0px 1px 2px rgba(0, 0, 0, 0.3));\n",
              "      fill: #FFFFFF;\n",
              "    }\n",
              "  </style>\n",
              "\n",
              "      <script>\n",
              "        const buttonEl =\n",
              "          document.querySelector('#df-9cde5f80-59ad-4131-9ad9-799dccf04b7c button.colab-df-convert');\n",
              "        buttonEl.style.display =\n",
              "          google.colab.kernel.accessAllowed ? 'block' : 'none';\n",
              "\n",
              "        async function convertToInteractive(key) {\n",
              "          const element = document.querySelector('#df-9cde5f80-59ad-4131-9ad9-799dccf04b7c');\n",
              "          const dataTable =\n",
              "            await google.colab.kernel.invokeFunction('convertToInteractive',\n",
              "                                                     [key], {});\n",
              "          if (!dataTable) return;\n",
              "\n",
              "          const docLinkHtml = 'Like what you see? Visit the ' +\n",
              "            '<a target=\"_blank\" href=https://colab.research.google.com/notebooks/data_table.ipynb>data table notebook</a>'\n",
              "            + ' to learn more about interactive tables.';\n",
              "          element.innerHTML = '';\n",
              "          dataTable['output_type'] = 'display_data';\n",
              "          await google.colab.output.renderOutput(dataTable, element);\n",
              "          const docLink = document.createElement('div');\n",
              "          docLink.innerHTML = docLinkHtml;\n",
              "          element.appendChild(docLink);\n",
              "        }\n",
              "      </script>\n",
              "    </div>\n",
              "  </div>\n",
              "  "
            ]
          },
          "metadata": {},
          "execution_count": 10
        }
      ]
    },
    {
      "cell_type": "code",
      "source": [
        "import plotly.express as px"
      ],
      "metadata": {
        "id": "o6_6CsngpUwd"
      },
      "execution_count": null,
      "outputs": []
    },
    {
      "cell_type": "code",
      "source": [
        "fig = px.bar(df, x='Date_YMD' , y = 'Daily Deceased')\n",
        "fig.show()"
      ],
      "metadata": {
        "colab": {
          "base_uri": "https://localhost:8080/",
          "height": 542
        },
        "id": "XDGk9QjBph5g",
        "outputId": "ddd7c76d-308a-4d01-896c-bfb3a57ae2af"
      },
      "execution_count": null,
      "outputs": [
        {
          "output_type": "display_data",
          "data": {
            "text/html": [
              "<html>\n",
              "<head><meta charset=\"utf-8\" /></head>\n",
              "<body>\n",
              "    <div>            <script src=\"https://cdnjs.cloudflare.com/ajax/libs/mathjax/2.7.5/MathJax.js?config=TeX-AMS-MML_SVG\"></script><script type=\"text/javascript\">if (window.MathJax) {MathJax.Hub.Config({SVG: {font: \"STIX-Web\"}});}</script>                <script type=\"text/javascript\">window.PlotlyConfig = {MathJaxConfig: 'local'};</script>\n",
              "        <script src=\"https://cdn.plot.ly/plotly-2.8.3.min.js\"></script>                <div id=\"344b332b-773d-4278-aad2-8e3d3a458c4f\" class=\"plotly-graph-div\" style=\"height:525px; width:100%;\"></div>            <script type=\"text/javascript\">                                    window.PLOTLYENV=window.PLOTLYENV || {};                                    if (document.getElementById(\"344b332b-773d-4278-aad2-8e3d3a458c4f\")) {                    Plotly.newPlot(                        \"344b332b-773d-4278-aad2-8e3d3a458c4f\",                        [{\"alignmentgroup\":\"True\",\"hovertemplate\":\"Date_YMD=%{x}<br>Daily Deceased=%{y}<extra></extra>\",\"legendgroup\":\"\",\"marker\":{\"color\":\"#636efa\",\"pattern\":{\"shape\":\"\"}},\"name\":\"\",\"offsetgroup\":\"\",\"orientation\":\"v\",\"showlegend\":false,\"textposition\":\"auto\",\"x\":[\"2020-01-30\",\"2020-01-31\",\"2020-02-01\",\"2020-02-02\",\"2020-02-03\",\"2020-02-04\",\"2020-02-05\",\"2020-02-06\",\"2020-02-07\",\"2020-02-08\",\"2020-02-09\",\"2020-02-10\",\"2020-02-11\",\"2020-02-12\",\"2020-02-13\",\"2020-02-14\",\"2020-02-15\",\"2020-02-16\",\"2020-02-17\",\"2020-02-18\",\"2020-02-19\",\"2020-02-20\",\"2020-02-21\",\"2020-02-22\",\"2020-02-23\",\"2020-02-24\",\"2020-02-25\",\"2020-02-26\",\"2020-02-27\",\"2020-02-28\",\"2020-02-29\",\"2020-03-01\",\"2020-03-02\",\"2020-03-03\",\"2020-03-04\",\"2020-03-05\",\"2020-03-06\",\"2020-03-07\",\"2020-03-08\",\"2020-03-09\",\"2020-03-10\",\"2020-03-11\",\"2020-03-12\",\"2020-03-13\",\"2020-03-14\",\"2020-03-15\",\"2020-03-16\",\"2020-03-17\",\"2020-03-18\",\"2020-03-19\",\"2020-03-20\",\"2020-03-21\",\"2020-03-22\",\"2020-03-23\",\"2020-03-24\",\"2020-03-25\",\"2020-03-26\",\"2020-03-27\",\"2020-03-28\",\"2020-03-29\",\"2020-03-30\",\"2020-03-31\",\"2020-04-01\",\"2020-04-02\",\"2020-04-03\",\"2020-04-04\",\"2020-04-05\",\"2020-04-06\",\"2020-04-07\",\"2020-04-08\",\"2020-04-09\",\"2020-04-10\",\"2020-04-11\",\"2020-04-12\",\"2020-04-13\",\"2020-04-14\",\"2020-04-15\",\"2020-04-16\",\"2020-04-17\",\"2020-04-18\",\"2020-04-19\",\"2020-04-20\",\"2020-04-21\",\"2020-04-22\",\"2020-04-23\",\"2020-04-24\",\"2020-04-25\",\"2020-04-26\",\"2020-04-27\",\"2020-04-28\",\"2020-04-29\",\"2020-04-30\",\"2020-05-01\",\"2020-05-02\",\"2020-05-03\",\"2020-05-04\",\"2020-05-05\",\"2020-05-06\",\"2020-05-07\",\"2020-05-08\",\"2020-05-09\",\"2020-05-10\",\"2020-05-11\",\"2020-05-12\",\"2020-05-13\",\"2020-05-14\",\"2020-05-15\",\"2020-05-16\",\"2020-05-17\",\"2020-05-18\",\"2020-05-19\",\"2020-05-20\",\"2020-05-21\",\"2020-05-22\",\"2020-05-23\",\"2020-05-24\",\"2020-05-25\",\"2020-05-26\",\"2020-05-27\",\"2020-05-28\",\"2020-05-29\",\"2020-05-30\",\"2020-05-31\",\"2020-06-01\",\"2020-06-02\",\"2020-06-03\",\"2020-06-04\",\"2020-06-05\",\"2020-06-06\",\"2020-06-07\",\"2020-06-08\",\"2020-06-09\",\"2020-06-10\",\"2020-06-11\",\"2020-06-12\",\"2020-06-13\",\"2020-06-14\",\"2020-06-15\",\"2020-06-16\",\"2020-06-17\",\"2020-06-18\",\"2020-06-19\",\"2020-06-20\",\"2020-06-21\",\"2020-06-22\",\"2020-06-23\",\"2020-06-24\",\"2020-06-25\",\"2020-06-26\",\"2020-06-27\",\"2020-06-28\",\"2020-06-29\",\"2020-06-30\",\"2020-07-01\",\"2020-07-02\",\"2020-07-03\",\"2020-07-04\",\"2020-07-05\",\"2020-07-06\",\"2020-07-07\",\"2020-07-08\",\"2020-07-09\",\"2020-07-10\",\"2020-07-11\",\"2020-07-12\",\"2020-07-13\",\"2020-07-14\",\"2020-07-15\",\"2020-07-16\",\"2020-07-17\",\"2020-07-18\",\"2020-07-19\",\"2020-07-20\",\"2020-07-21\",\"2020-07-22\",\"2020-07-23\",\"2020-07-24\",\"2020-07-25\",\"2020-07-26\",\"2020-07-27\",\"2020-07-28\",\"2020-07-29\",\"2020-07-30\",\"2020-07-31\",\"2020-08-01\",\"2020-08-02\",\"2020-08-03\",\"2020-08-04\",\"2020-08-05\",\"2020-08-06\",\"2020-08-07\",\"2020-08-08\",\"2020-08-09\",\"2020-08-10\",\"2020-08-11\",\"2020-08-12\",\"2020-08-13\",\"2020-08-14\",\"2020-08-15\",\"2020-08-16\",\"2020-08-17\",\"2020-08-18\",\"2020-08-19\",\"2020-08-20\",\"2020-08-21\",\"2020-08-22\",\"2020-08-23\",\"2020-08-24\",\"2020-08-25\",\"2020-08-26\",\"2020-08-27\",\"2020-08-28\",\"2020-08-29\",\"2020-08-30\",\"2020-08-31\",\"2020-09-01\",\"2020-09-02\",\"2020-09-03\",\"2020-09-04\",\"2020-09-05\",\"2020-09-06\",\"2020-09-07\",\"2020-09-08\",\"2020-09-09\",\"2020-09-10\",\"2020-09-11\",\"2020-09-12\",\"2020-09-13\",\"2020-09-14\",\"2020-09-15\",\"2020-09-16\",\"2020-09-17\",\"2020-09-18\",\"2020-09-19\",\"2020-09-20\",\"2020-09-21\",\"2020-09-22\",\"2020-09-23\",\"2020-09-24\",\"2020-09-25\",\"2020-09-26\",\"2020-09-27\",\"2020-09-28\",\"2020-09-29\",\"2020-09-30\",\"2020-10-01\",\"2020-10-02\",\"2020-10-03\",\"2020-10-04\",\"2020-10-05\",\"2020-10-06\",\"2020-10-07\",\"2020-10-08\",\"2020-10-09\",\"2020-10-10\",\"2020-10-11\",\"2020-10-12\",\"2020-10-13\",\"2020-10-14\",\"2020-10-15\",\"2020-10-16\",\"2020-10-17\",\"2020-10-18\",\"2020-10-19\",\"2020-10-20\",\"2020-10-21\",\"2020-10-22\",\"2020-10-23\",\"2020-10-24\",\"2020-10-25\",\"2020-10-26\",\"2020-10-27\",\"2020-10-28\",\"2020-10-29\",\"2020-10-30\",\"2020-10-31\",\"2020-11-01\",\"2020-11-02\",\"2020-11-03\",\"2020-11-04\",\"2020-11-05\",\"2020-11-06\",\"2020-11-07\",\"2020-11-08\",\"2020-11-09\",\"2020-11-10\",\"2020-11-11\",\"2020-11-12\",\"2020-11-13\",\"2020-11-14\",\"2020-11-15\",\"2020-11-16\",\"2020-11-17\",\"2020-11-18\",\"2020-11-19\",\"2020-11-20\",\"2020-11-21\",\"2020-11-22\",\"2020-11-23\",\"2020-11-24\",\"2020-11-25\",\"2020-11-26\",\"2020-11-27\",\"2020-11-28\",\"2020-11-29\",\"2020-11-30\",\"2020-12-01\",\"2020-12-02\",\"2020-12-03\",\"2020-12-04\",\"2020-12-05\",\"2020-12-06\",\"2020-12-07\",\"2020-12-08\",\"2020-12-09\",\"2020-12-10\",\"2020-12-11\",\"2020-12-12\",\"2020-12-13\",\"2020-12-14\",\"2020-12-15\",\"2020-12-16\",\"2020-12-17\",\"2020-12-18\",\"2020-12-19\",\"2020-12-20\",\"2020-12-21\",\"2020-12-22\",\"2020-12-23\",\"2020-12-24\",\"2020-12-25\",\"2020-12-26\",\"2020-12-27\",\"2020-12-28\",\"2020-12-29\",\"2020-12-30\",\"2020-12-31\",\"2021-01-01\",\"2021-01-02\",\"2021-01-03\",\"2021-01-04\",\"2021-01-05\",\"2021-01-06\",\"2021-01-07\",\"2021-01-08\",\"2021-01-09\",\"2021-01-10\",\"2021-01-11\",\"2021-01-12\",\"2021-01-13\",\"2021-01-14\",\"2021-01-15\",\"2021-01-16\",\"2021-01-17\",\"2021-01-18\",\"2021-01-19\",\"2021-01-20\",\"2021-01-21\",\"2021-01-22\",\"2021-01-23\",\"2021-01-24\",\"2021-01-25\",\"2021-01-26\",\"2021-01-27\",\"2021-01-28\",\"2021-01-29\",\"2021-01-30\",\"2021-01-31\",\"2021-02-01\",\"2021-02-02\",\"2021-02-03\",\"2021-02-04\",\"2021-02-05\",\"2021-02-06\",\"2021-02-07\",\"2021-02-08\",\"2021-02-09\",\"2021-02-10\",\"2021-02-11\",\"2021-02-12\",\"2021-02-13\",\"2021-02-14\",\"2021-02-15\",\"2021-02-16\",\"2021-02-17\",\"2021-02-18\",\"2021-02-19\",\"2021-02-20\",\"2021-02-21\",\"2021-02-22\",\"2021-02-23\",\"2021-02-24\",\"2021-02-25\",\"2021-02-26\",\"2021-02-27\",\"2021-02-28\",\"2021-03-01\",\"2021-03-02\",\"2021-03-03\",\"2021-03-04\",\"2021-03-05\",\"2021-03-06\",\"2021-03-07\",\"2021-03-08\",\"2021-03-09\",\"2021-03-10\",\"2021-03-11\",\"2021-03-12\",\"2021-03-13\",\"2021-03-14\",\"2021-03-15\",\"2021-03-16\",\"2021-03-17\",\"2021-03-18\",\"2021-03-19\",\"2021-03-20\",\"2021-03-21\",\"2021-03-22\",\"2021-03-23\",\"2021-03-24\",\"2021-03-25\",\"2021-03-26\",\"2021-03-27\",\"2021-03-28\",\"2021-03-29\",\"2021-03-30\",\"2021-03-31\",\"2021-04-01\",\"2021-04-02\",\"2021-04-03\",\"2021-04-04\",\"2021-04-05\",\"2021-04-06\",\"2021-04-07\",\"2021-04-08\",\"2021-04-09\",\"2021-04-10\",\"2021-04-11\",\"2021-04-12\",\"2021-04-13\",\"2021-04-14\",\"2021-04-15\",\"2021-04-16\",\"2021-04-17\",\"2021-04-18\",\"2021-04-19\",\"2021-04-20\",\"2021-04-21\",\"2021-04-22\",\"2021-04-23\",\"2021-04-24\",\"2021-04-25\",\"2021-04-26\",\"2021-04-27\",\"2021-04-28\",\"2021-04-29\",\"2021-04-30\",\"2021-05-01\",\"2021-05-02\",\"2021-05-03\",\"2021-05-04\",\"2021-05-05\",\"2021-05-06\",\"2021-05-07\",\"2021-05-08\",\"2021-05-09\",\"2021-05-10\",\"2021-05-11\",\"2021-05-12\",\"2021-05-13\",\"2021-05-14\",\"2021-05-15\",\"2021-05-16\",\"2021-05-17\",\"2021-05-18\",\"2021-05-19\",\"2021-05-20\",\"2021-05-21\",\"2021-05-22\",\"2021-05-23\",\"2021-05-24\",\"2021-05-25\",\"2021-05-26\",\"2021-05-27\",\"2021-05-28\",\"2021-05-29\",\"2021-05-30\",\"2021-05-31\",\"2021-06-01\",\"2021-06-02\",\"2021-06-03\",\"2021-06-04\",\"2021-06-05\",\"2021-06-06\",\"2021-06-07\",\"2021-06-08\",\"2021-06-09\",\"2021-06-10\",\"2021-06-11\",\"2021-06-12\",\"2021-06-13\",\"2021-06-14\",\"2021-06-15\",\"2021-06-16\",\"2021-06-17\",\"2021-06-18\",\"2021-06-19\",\"2021-06-20\",\"2021-06-21\",\"2021-06-22\",\"2021-06-23\",\"2021-06-24\",\"2021-06-25\",\"2021-06-26\",\"2021-06-27\",\"2021-06-28\",\"2021-06-29\",\"2021-06-30\",\"2021-07-01\",\"2021-07-02\",\"2021-07-03\",\"2021-07-04\",\"2021-07-05\",\"2021-07-06\",\"2021-07-07\",\"2021-07-08\",\"2021-07-09\",\"2021-07-10\",\"2021-07-11\",\"2021-07-12\",\"2021-07-13\",\"2021-07-14\",\"2021-07-15\",\"2021-07-16\",\"2021-07-17\",\"2021-07-18\",\"2021-07-19\",\"2021-07-20\",\"2021-07-21\",\"2021-07-22\",\"2021-07-23\",\"2021-07-24\",\"2021-07-25\",\"2021-07-26\",\"2021-07-27\",\"2021-07-28\",\"2021-07-29\",\"2021-07-30\",\"2021-07-31\",\"2021-08-01\",\"2021-08-02\",\"2021-08-03\",\"2021-08-04\",\"2021-08-05\",\"2021-08-06\",\"2021-08-07\",\"2021-08-08\",\"2021-08-09\",\"2021-08-10\",\"2021-08-11\",\"2021-08-12\",\"2021-08-13\",\"2021-08-14\",\"2021-08-15\",\"2021-08-16\",\"2021-08-17\",\"2021-08-18\",\"2021-08-19\",\"2021-08-20\",\"2021-08-21\",\"2021-08-22\",\"2021-08-23\",\"2021-08-24\",\"2021-08-25\",\"2021-08-26\",\"2021-08-27\",\"2021-08-28\",\"2021-08-29\",\"2021-08-30\",\"2021-08-31\",\"2021-09-01\",\"2021-09-02\",\"2021-09-03\",\"2021-09-04\",\"2021-09-05\",\"2021-09-06\",\"2021-09-07\",\"2021-09-08\",\"2021-09-09\",\"2021-09-10\",\"2021-09-11\",\"2021-09-12\",\"2021-09-13\",\"2021-09-14\",\"2021-09-15\",\"2021-09-16\",\"2021-09-17\",\"2021-09-18\",\"2021-09-19\",\"2021-09-20\",\"2021-09-21\",\"2021-09-22\",\"2021-09-23\",\"2021-09-24\",\"2021-09-25\",\"2021-09-26\",\"2021-09-27\",\"2021-09-28\",\"2021-09-29\",\"2021-09-30\",\"2021-10-01\",\"2021-10-02\",\"2021-10-03\",\"2021-10-04\",\"2021-10-05\",\"2021-10-06\",\"2021-10-07\",\"2021-10-08\",\"2021-10-09\",\"2021-10-10\",\"2021-10-11\",\"2021-10-12\",\"2021-10-13\",\"2021-10-14\",\"2021-10-15\",\"2021-10-16\",\"2021-10-17\",\"2021-10-18\",\"2021-10-19\",\"2021-10-20\",\"2021-10-21\",\"2021-10-22\",\"2021-10-23\",\"2021-10-24\",\"2021-10-25\",\"2021-10-26\",\"2021-10-27\",\"2021-10-28\",\"2021-10-29\",\"2021-10-30\",\"2021-10-31\",\"2021-11-01\",\"2021-11-02\",\"2021-11-03\",\"2021-11-04\",\"2021-11-05\",\"2021-11-06\",\"2021-11-07\",\"2021-11-08\",\"2021-11-09\",\"2021-11-10\",\"2021-11-11\",\"2021-11-12\",\"2021-11-13\",\"2021-11-14\",\"2021-11-15\",\"2021-11-16\",\"2021-11-17\",\"2021-11-18\",\"2021-11-19\",\"2021-11-20\",\"2021-11-21\",\"2021-11-22\",\"2021-11-23\",\"2021-11-24\",\"2021-11-25\",\"2021-11-26\",\"2021-11-27\",\"2021-11-28\",\"2021-11-29\",\"2021-11-30\",\"2021-12-01\",\"2021-12-02\",\"2021-12-03\",\"2021-12-04\",\"2021-12-05\",\"2021-12-06\",\"2021-12-07\",\"2021-12-08\",\"2021-12-09\",\"2021-12-10\",\"2021-12-11\",\"2021-12-12\",\"2021-12-13\",\"2021-12-14\",\"2021-12-15\",\"2021-12-16\",\"2021-12-17\",\"2021-12-18\",\"2021-12-19\",\"2021-12-20\",\"2021-12-21\",\"2021-12-22\",\"2021-12-23\",\"2021-12-24\",\"2021-12-25\",\"2021-12-26\",\"2021-12-27\",\"2021-12-28\",\"2021-12-29\",\"2021-12-30\",\"2021-12-31\",\"2022-01-01\",\"2022-01-02\",\"2022-01-03\",\"2022-01-04\",\"2022-01-05\",\"2022-01-06\",\"2022-01-07\",\"2022-01-08\",\"2022-01-09\",\"2022-01-10\",\"2022-01-11\",\"2022-01-12\",\"2022-01-13\",\"2022-01-14\",\"2022-01-15\",\"2022-01-16\",\"2022-01-17\",\"2022-01-18\"],\"xaxis\":\"x\",\"y\":[0,0,0,0,0,0,0,0,0,0,0,0,0,0,0,0,0,0,0,0,0,0,0,0,0,0,0,0,0,0,0,0,0,0,0,0,0,0,0,0,0,0,1,0,1,0,0,1,0,1,0,0,3,2,1,1,5,3,5,3,14,6,6,16,14,13,22,16,27,20,46,22,41,42,27,37,27,26,38,35,38,33,53,36,40,59,44,56,58,69,71,75,77,92,140,103,128,91,104,97,115,112,81,120,137,97,104,120,152,131,146,134,148,142,142,156,150,173,188,176,269,205,222,201,222,259,274,286,297,261,271,272,358,394,388,309,324,396,2004,341,343,364,308,426,312,468,424,401,381,414,384,417,506,438,378,444,611,421,473,479,492,479,520,543,500,541,587,614,680,676,543,675,596,671,1130,755,763,703,704,642,774,775,784,764,854,760,806,849,919,899,936,875,1013,887,835,950,1006,989,952,952,880,1099,979,981,953,918,846,854,1066,1017,1066,1019,943,960,816,892,913,979,950,916,1005,1129,1107,1168,1213,1202,1111,1140,1054,1281,1140,1175,1221,1149,1135,1056,1085,1123,1144,1093,1124,1040,775,1178,1179,1099,1068,937,903,886,990,963,967,929,921,813,710,727,690,882,840,1032,582,589,714,701,686,655,578,483,485,511,515,562,550,469,491,498,510,707,672,577,557,491,450,511,550,544,517,450,434,451,472,586,582,564,499,510,481,489,518,491,486,495,444,482,501,526,541,511,482,390,386,402,413,411,442,391,338,354,384,356,342,342,342,332,302,329,315,337,251,280,281,250,285,299,244,237,216,215,200,265,222,233,229,213,150,166,200,201,189,176,181,145,137,162,152,161,153,156,131,116,138,123,162,137,128,116,94,113,107,120,95,75,86,78,94,110,85,104,89,91,82,99,100,100,100,89,83,76,103,141,119,114,111,108,92,98,87,113,109,100,97,76,133,125,119,140,159,120,130,187,171,156,188,196,213,197,277,249,257,292,311,295,266,355,458,468,713,514,477,446,630,684,802,773,838,904,880,1026,1038,1184,1338,1498,1620,1757,2021,2101,2257,2620,2761,2808,2762,3286,3646,3502,3525,3685,3423,3439,3786,3979,3923,4233,4092,3749,3879,4198,4128,4000,3889,4077,4098,4334,4529,3877,4209,4194,3739,4454,3509,4160,3843,3659,3611,3463,3130,2783,3205,2898,2717,3372,2682,2444,2107,2222,6139,3414,3996,3300,3922,2733,2540,2329,1591,1645,1574,1424,1167,1359,1323,1328,1183,1258,978,907,819,1002,857,737,950,725,552,930,819,908,1207,898,720,2024,625,578,544,560,517,501,372,3998,510,481,542,541,411,418,641,640,549,598,542,424,420,561,532,465,616,491,447,376,496,491,583,477,491,421,438,440,527,543,376,401,385,357,650,605,493,514,457,527,205,462,507,355,342,309,218,290,368,339,258,310,338,219,340,281,432,318,285,306,296,251,385,280,318,291,259,276,181,375,313,278,233,242,182,263,276,316,277,247,213,193,177,229,249,378,163,146,165,164,199,160,232,666,559,442,357,584,734,805,551,445,251,443,311,461,221,392,526,266,332,460,340,501,555,285,125,197,301,470,459,267,313,249,236,437,396,488,465,621,236,190,267,477,391,415,1500,1507,220,195,159,368,393,562,202,252,247,343,391,285,246,247,303,313,326,323,379,361,349,293,302,268,220,406,284,123,124,534,325,302,285,327,146,277,411,411,96,621,314,385,310,441],\"yaxis\":\"y\",\"type\":\"bar\"}],                        {\"template\":{\"data\":{\"bar\":[{\"error_x\":{\"color\":\"#2a3f5f\"},\"error_y\":{\"color\":\"#2a3f5f\"},\"marker\":{\"line\":{\"color\":\"#E5ECF6\",\"width\":0.5},\"pattern\":{\"fillmode\":\"overlay\",\"size\":10,\"solidity\":0.2}},\"type\":\"bar\"}],\"barpolar\":[{\"marker\":{\"line\":{\"color\":\"#E5ECF6\",\"width\":0.5},\"pattern\":{\"fillmode\":\"overlay\",\"size\":10,\"solidity\":0.2}},\"type\":\"barpolar\"}],\"carpet\":[{\"aaxis\":{\"endlinecolor\":\"#2a3f5f\",\"gridcolor\":\"white\",\"linecolor\":\"white\",\"minorgridcolor\":\"white\",\"startlinecolor\":\"#2a3f5f\"},\"baxis\":{\"endlinecolor\":\"#2a3f5f\",\"gridcolor\":\"white\",\"linecolor\":\"white\",\"minorgridcolor\":\"white\",\"startlinecolor\":\"#2a3f5f\"},\"type\":\"carpet\"}],\"choropleth\":[{\"colorbar\":{\"outlinewidth\":0,\"ticks\":\"\"},\"type\":\"choropleth\"}],\"contour\":[{\"colorbar\":{\"outlinewidth\":0,\"ticks\":\"\"},\"colorscale\":[[0.0,\"#0d0887\"],[0.1111111111111111,\"#46039f\"],[0.2222222222222222,\"#7201a8\"],[0.3333333333333333,\"#9c179e\"],[0.4444444444444444,\"#bd3786\"],[0.5555555555555556,\"#d8576b\"],[0.6666666666666666,\"#ed7953\"],[0.7777777777777778,\"#fb9f3a\"],[0.8888888888888888,\"#fdca26\"],[1.0,\"#f0f921\"]],\"type\":\"contour\"}],\"contourcarpet\":[{\"colorbar\":{\"outlinewidth\":0,\"ticks\":\"\"},\"type\":\"contourcarpet\"}],\"heatmap\":[{\"colorbar\":{\"outlinewidth\":0,\"ticks\":\"\"},\"colorscale\":[[0.0,\"#0d0887\"],[0.1111111111111111,\"#46039f\"],[0.2222222222222222,\"#7201a8\"],[0.3333333333333333,\"#9c179e\"],[0.4444444444444444,\"#bd3786\"],[0.5555555555555556,\"#d8576b\"],[0.6666666666666666,\"#ed7953\"],[0.7777777777777778,\"#fb9f3a\"],[0.8888888888888888,\"#fdca26\"],[1.0,\"#f0f921\"]],\"type\":\"heatmap\"}],\"heatmapgl\":[{\"colorbar\":{\"outlinewidth\":0,\"ticks\":\"\"},\"colorscale\":[[0.0,\"#0d0887\"],[0.1111111111111111,\"#46039f\"],[0.2222222222222222,\"#7201a8\"],[0.3333333333333333,\"#9c179e\"],[0.4444444444444444,\"#bd3786\"],[0.5555555555555556,\"#d8576b\"],[0.6666666666666666,\"#ed7953\"],[0.7777777777777778,\"#fb9f3a\"],[0.8888888888888888,\"#fdca26\"],[1.0,\"#f0f921\"]],\"type\":\"heatmapgl\"}],\"histogram\":[{\"marker\":{\"pattern\":{\"fillmode\":\"overlay\",\"size\":10,\"solidity\":0.2}},\"type\":\"histogram\"}],\"histogram2d\":[{\"colorbar\":{\"outlinewidth\":0,\"ticks\":\"\"},\"colorscale\":[[0.0,\"#0d0887\"],[0.1111111111111111,\"#46039f\"],[0.2222222222222222,\"#7201a8\"],[0.3333333333333333,\"#9c179e\"],[0.4444444444444444,\"#bd3786\"],[0.5555555555555556,\"#d8576b\"],[0.6666666666666666,\"#ed7953\"],[0.7777777777777778,\"#fb9f3a\"],[0.8888888888888888,\"#fdca26\"],[1.0,\"#f0f921\"]],\"type\":\"histogram2d\"}],\"histogram2dcontour\":[{\"colorbar\":{\"outlinewidth\":0,\"ticks\":\"\"},\"colorscale\":[[0.0,\"#0d0887\"],[0.1111111111111111,\"#46039f\"],[0.2222222222222222,\"#7201a8\"],[0.3333333333333333,\"#9c179e\"],[0.4444444444444444,\"#bd3786\"],[0.5555555555555556,\"#d8576b\"],[0.6666666666666666,\"#ed7953\"],[0.7777777777777778,\"#fb9f3a\"],[0.8888888888888888,\"#fdca26\"],[1.0,\"#f0f921\"]],\"type\":\"histogram2dcontour\"}],\"mesh3d\":[{\"colorbar\":{\"outlinewidth\":0,\"ticks\":\"\"},\"type\":\"mesh3d\"}],\"parcoords\":[{\"line\":{\"colorbar\":{\"outlinewidth\":0,\"ticks\":\"\"}},\"type\":\"parcoords\"}],\"pie\":[{\"automargin\":true,\"type\":\"pie\"}],\"scatter\":[{\"marker\":{\"colorbar\":{\"outlinewidth\":0,\"ticks\":\"\"}},\"type\":\"scatter\"}],\"scatter3d\":[{\"line\":{\"colorbar\":{\"outlinewidth\":0,\"ticks\":\"\"}},\"marker\":{\"colorbar\":{\"outlinewidth\":0,\"ticks\":\"\"}},\"type\":\"scatter3d\"}],\"scattercarpet\":[{\"marker\":{\"colorbar\":{\"outlinewidth\":0,\"ticks\":\"\"}},\"type\":\"scattercarpet\"}],\"scattergeo\":[{\"marker\":{\"colorbar\":{\"outlinewidth\":0,\"ticks\":\"\"}},\"type\":\"scattergeo\"}],\"scattergl\":[{\"marker\":{\"colorbar\":{\"outlinewidth\":0,\"ticks\":\"\"}},\"type\":\"scattergl\"}],\"scattermapbox\":[{\"marker\":{\"colorbar\":{\"outlinewidth\":0,\"ticks\":\"\"}},\"type\":\"scattermapbox\"}],\"scatterpolar\":[{\"marker\":{\"colorbar\":{\"outlinewidth\":0,\"ticks\":\"\"}},\"type\":\"scatterpolar\"}],\"scatterpolargl\":[{\"marker\":{\"colorbar\":{\"outlinewidth\":0,\"ticks\":\"\"}},\"type\":\"scatterpolargl\"}],\"scatterternary\":[{\"marker\":{\"colorbar\":{\"outlinewidth\":0,\"ticks\":\"\"}},\"type\":\"scatterternary\"}],\"surface\":[{\"colorbar\":{\"outlinewidth\":0,\"ticks\":\"\"},\"colorscale\":[[0.0,\"#0d0887\"],[0.1111111111111111,\"#46039f\"],[0.2222222222222222,\"#7201a8\"],[0.3333333333333333,\"#9c179e\"],[0.4444444444444444,\"#bd3786\"],[0.5555555555555556,\"#d8576b\"],[0.6666666666666666,\"#ed7953\"],[0.7777777777777778,\"#fb9f3a\"],[0.8888888888888888,\"#fdca26\"],[1.0,\"#f0f921\"]],\"type\":\"surface\"}],\"table\":[{\"cells\":{\"fill\":{\"color\":\"#EBF0F8\"},\"line\":{\"color\":\"white\"}},\"header\":{\"fill\":{\"color\":\"#C8D4E3\"},\"line\":{\"color\":\"white\"}},\"type\":\"table\"}]},\"layout\":{\"annotationdefaults\":{\"arrowcolor\":\"#2a3f5f\",\"arrowhead\":0,\"arrowwidth\":1},\"autotypenumbers\":\"strict\",\"coloraxis\":{\"colorbar\":{\"outlinewidth\":0,\"ticks\":\"\"}},\"colorscale\":{\"diverging\":[[0,\"#8e0152\"],[0.1,\"#c51b7d\"],[0.2,\"#de77ae\"],[0.3,\"#f1b6da\"],[0.4,\"#fde0ef\"],[0.5,\"#f7f7f7\"],[0.6,\"#e6f5d0\"],[0.7,\"#b8e186\"],[0.8,\"#7fbc41\"],[0.9,\"#4d9221\"],[1,\"#276419\"]],\"sequential\":[[0.0,\"#0d0887\"],[0.1111111111111111,\"#46039f\"],[0.2222222222222222,\"#7201a8\"],[0.3333333333333333,\"#9c179e\"],[0.4444444444444444,\"#bd3786\"],[0.5555555555555556,\"#d8576b\"],[0.6666666666666666,\"#ed7953\"],[0.7777777777777778,\"#fb9f3a\"],[0.8888888888888888,\"#fdca26\"],[1.0,\"#f0f921\"]],\"sequentialminus\":[[0.0,\"#0d0887\"],[0.1111111111111111,\"#46039f\"],[0.2222222222222222,\"#7201a8\"],[0.3333333333333333,\"#9c179e\"],[0.4444444444444444,\"#bd3786\"],[0.5555555555555556,\"#d8576b\"],[0.6666666666666666,\"#ed7953\"],[0.7777777777777778,\"#fb9f3a\"],[0.8888888888888888,\"#fdca26\"],[1.0,\"#f0f921\"]]},\"colorway\":[\"#636efa\",\"#EF553B\",\"#00cc96\",\"#ab63fa\",\"#FFA15A\",\"#19d3f3\",\"#FF6692\",\"#B6E880\",\"#FF97FF\",\"#FECB52\"],\"font\":{\"color\":\"#2a3f5f\"},\"geo\":{\"bgcolor\":\"white\",\"lakecolor\":\"white\",\"landcolor\":\"#E5ECF6\",\"showlakes\":true,\"showland\":true,\"subunitcolor\":\"white\"},\"hoverlabel\":{\"align\":\"left\"},\"hovermode\":\"closest\",\"mapbox\":{\"style\":\"light\"},\"paper_bgcolor\":\"white\",\"plot_bgcolor\":\"#E5ECF6\",\"polar\":{\"angularaxis\":{\"gridcolor\":\"white\",\"linecolor\":\"white\",\"ticks\":\"\"},\"bgcolor\":\"#E5ECF6\",\"radialaxis\":{\"gridcolor\":\"white\",\"linecolor\":\"white\",\"ticks\":\"\"}},\"scene\":{\"xaxis\":{\"backgroundcolor\":\"#E5ECF6\",\"gridcolor\":\"white\",\"gridwidth\":2,\"linecolor\":\"white\",\"showbackground\":true,\"ticks\":\"\",\"zerolinecolor\":\"white\"},\"yaxis\":{\"backgroundcolor\":\"#E5ECF6\",\"gridcolor\":\"white\",\"gridwidth\":2,\"linecolor\":\"white\",\"showbackground\":true,\"ticks\":\"\",\"zerolinecolor\":\"white\"},\"zaxis\":{\"backgroundcolor\":\"#E5ECF6\",\"gridcolor\":\"white\",\"gridwidth\":2,\"linecolor\":\"white\",\"showbackground\":true,\"ticks\":\"\",\"zerolinecolor\":\"white\"}},\"shapedefaults\":{\"line\":{\"color\":\"#2a3f5f\"}},\"ternary\":{\"aaxis\":{\"gridcolor\":\"white\",\"linecolor\":\"white\",\"ticks\":\"\"},\"baxis\":{\"gridcolor\":\"white\",\"linecolor\":\"white\",\"ticks\":\"\"},\"bgcolor\":\"#E5ECF6\",\"caxis\":{\"gridcolor\":\"white\",\"linecolor\":\"white\",\"ticks\":\"\"}},\"title\":{\"x\":0.05},\"xaxis\":{\"automargin\":true,\"gridcolor\":\"white\",\"linecolor\":\"white\",\"ticks\":\"\",\"title\":{\"standoff\":15},\"zerolinecolor\":\"white\",\"zerolinewidth\":2},\"yaxis\":{\"automargin\":true,\"gridcolor\":\"white\",\"linecolor\":\"white\",\"ticks\":\"\",\"title\":{\"standoff\":15},\"zerolinecolor\":\"white\",\"zerolinewidth\":2}}},\"xaxis\":{\"anchor\":\"y\",\"domain\":[0.0,1.0],\"title\":{\"text\":\"Date_YMD\"}},\"yaxis\":{\"anchor\":\"x\",\"domain\":[0.0,1.0],\"title\":{\"text\":\"Daily Deceased\"}},\"legend\":{\"tracegroupgap\":0},\"margin\":{\"t\":60},\"barmode\":\"relative\"},                        {\"responsive\": true}                    ).then(function(){\n",
              "                            \n",
              "var gd = document.getElementById('344b332b-773d-4278-aad2-8e3d3a458c4f');\n",
              "var x = new MutationObserver(function (mutations, observer) {{\n",
              "        var display = window.getComputedStyle(gd).display;\n",
              "        if (!display || display === 'none') {{\n",
              "            console.log([gd, 'removed!']);\n",
              "            Plotly.purge(gd);\n",
              "            observer.disconnect();\n",
              "        }}\n",
              "}});\n",
              "\n",
              "// Listen for the removal of the full notebook cells\n",
              "var notebookContainer = gd.closest('#notebook-container');\n",
              "if (notebookContainer) {{\n",
              "    x.observe(notebookContainer, {childList: true});\n",
              "}}\n",
              "\n",
              "// Listen for the clearing of the current output cell\n",
              "var outputEl = gd.closest('.output');\n",
              "if (outputEl) {{\n",
              "    x.observe(outputEl, {childList: true});\n",
              "}}\n",
              "\n",
              "                        })                };                            </script>        </div>\n",
              "</body>\n",
              "</html>"
            ]
          },
          "metadata": {}
        }
      ]
    },
    {
      "cell_type": "code",
      "source": [
        "fig = px.bar(df, x = 'Date_YMD' , y = 'Daily Confirmed')"
      ],
      "metadata": {
        "id": "dmzx_S4Vp4sf"
      },
      "execution_count": null,
      "outputs": []
    },
    {
      "cell_type": "code",
      "source": [
        "!pip install autots"
      ],
      "metadata": {
        "colab": {
          "base_uri": "https://localhost:8080/"
        },
        "id": "4GkaaSYesnWQ",
        "outputId": "f1976e61-b2a9-4355-b9d4-8eb2a324000a"
      },
      "execution_count": null,
      "outputs": [
        {
          "output_type": "stream",
          "name": "stdout",
          "text": [
            "Looking in indexes: https://pypi.org/simple, https://us-python.pkg.dev/colab-wheels/public/simple/\n",
            "Collecting autots\n",
            "  Downloading AutoTS-0.5.3-py3-none-any.whl (674 kB)\n",
            "\u001b[2K     \u001b[90m━━━━━━━━━━━━━━━━━━━━━━━━━━━━━━━━━━━━━━\u001b[0m \u001b[32m674.5/674.5 KB\u001b[0m \u001b[31m15.1 MB/s\u001b[0m eta \u001b[36m0:00:00\u001b[0m\n",
            "\u001b[?25hRequirement already satisfied: scikit-learn>=0.20.* in /usr/local/lib/python3.8/dist-packages (from autots) (1.0.2)\n",
            "Requirement already satisfied: statsmodels>=0.10.* in /usr/local/lib/python3.8/dist-packages (from autots) (0.12.2)\n",
            "Requirement already satisfied: numpy>=1.14.6 in /usr/local/lib/python3.8/dist-packages (from autots) (1.21.6)\n",
            "Requirement already satisfied: pandas>=0.25.* in /usr/local/lib/python3.8/dist-packages (from autots) (1.3.5)\n",
            "Requirement already satisfied: python-dateutil>=2.7.3 in /usr/local/lib/python3.8/dist-packages (from pandas>=0.25.*->autots) (2.8.2)\n",
            "Requirement already satisfied: pytz>=2017.3 in /usr/local/lib/python3.8/dist-packages (from pandas>=0.25.*->autots) (2022.7)\n",
            "Requirement already satisfied: joblib>=0.11 in /usr/local/lib/python3.8/dist-packages (from scikit-learn>=0.20.*->autots) (1.2.0)\n",
            "Requirement already satisfied: threadpoolctl>=2.0.0 in /usr/local/lib/python3.8/dist-packages (from scikit-learn>=0.20.*->autots) (3.1.0)\n",
            "Requirement already satisfied: scipy>=1.1.0 in /usr/local/lib/python3.8/dist-packages (from scikit-learn>=0.20.*->autots) (1.7.3)\n",
            "Requirement already satisfied: patsy>=0.5 in /usr/local/lib/python3.8/dist-packages (from statsmodels>=0.10.*->autots) (0.5.3)\n",
            "Requirement already satisfied: six in /usr/local/lib/python3.8/dist-packages (from patsy>=0.5->statsmodels>=0.10.*->autots) (1.15.0)\n",
            "Installing collected packages: autots\n",
            "Successfully installed autots-0.5.3\n"
          ]
        }
      ]
    },
    {
      "cell_type": "code",
      "source": [
        "import autots\n",
        "from autots import AutoTS\n",
        "model = AutoTS(forecast_length=30,frequency='infer',ensemble='simple')\n",
        "model = model.fit(df, date_col='Date_YMD', value_col='Daily Deceased',id_col=None)\n",
        "prediction = model.predict()\n",
        "forecast = prediction.forecast\n",
        "print(forecast)"
      ],
      "metadata": {
        "colab": {
          "base_uri": "https://localhost:8080/"
        },
        "id": "9LtXMLdeqhPV",
        "outputId": "ffbe9e77-563a-4703-9c31-434a6a1c81b7"
      },
      "execution_count": null,
      "outputs": [
        {
          "output_type": "stream",
          "name": "stdout",
          "text": [
            "Inferred frequency is: D\n",
            "Model Number: 1 with model ARIMA in generation 0 of 10\n",
            "Model Number: 2 with model ARIMA in generation 0 of 10\n",
            "Model Number: 3 with model ARIMA in generation 0 of 10\n",
            "Model Number: 4 with model AverageValueNaive in generation 0 of 10\n",
            "Model Number: 5 with model AverageValueNaive in generation 0 of 10\n",
            "Model Number: 6 with model AverageValueNaive in generation 0 of 10\n",
            "Model Number: 7 with model DatepartRegression in generation 0 of 10\n",
            "Model Number: 8 with model DatepartRegression in generation 0 of 10\n",
            "Model Number: 9 with model DatepartRegression in generation 0 of 10\n"
          ]
        },
        {
          "output_type": "stream",
          "name": "stderr",
          "text": [
            "/usr/local/lib/python3.8/dist-packages/sklearn/svm/_base.py:1206: ConvergenceWarning:\n",
            "\n",
            "Liblinear failed to converge, increase the number of iterations.\n",
            "\n",
            "/usr/local/lib/python3.8/dist-packages/sklearn/neural_network/_multilayer_perceptron.py:549: ConvergenceWarning:\n",
            "\n",
            "lbfgs failed to converge (status=1):\n",
            "STOP: TOTAL NO. of ITERATIONS REACHED LIMIT.\n",
            "\n",
            "Increase the number of iterations (max_iter) or scale the data as shown in:\n",
            "    https://scikit-learn.org/stable/modules/preprocessing.html\n",
            "\n"
          ]
        },
        {
          "output_type": "stream",
          "name": "stdout",
          "text": [
            "Model Number: 10 with model DatepartRegression in generation 0 of 10\n",
            "Epoch 1/50\n",
            "22/22 [==============================] - 7s 7ms/step - loss: 0.3767\n",
            "Epoch 2/50\n",
            "22/22 [==============================] - 0s 7ms/step - loss: 0.3657\n",
            "Epoch 3/50\n",
            "22/22 [==============================] - 0s 7ms/step - loss: 0.3547\n",
            "Epoch 4/50\n",
            "22/22 [==============================] - 0s 7ms/step - loss: 0.3382\n",
            "Epoch 5/50\n",
            "22/22 [==============================] - 0s 7ms/step - loss: 0.3268\n",
            "Epoch 6/50\n",
            "22/22 [==============================] - 0s 8ms/step - loss: 0.3119\n",
            "Epoch 7/50\n",
            "22/22 [==============================] - 0s 7ms/step - loss: 0.3017\n",
            "Epoch 8/50\n",
            "22/22 [==============================] - 0s 6ms/step - loss: 0.2991\n",
            "Epoch 9/50\n",
            "22/22 [==============================] - 0s 8ms/step - loss: 0.2948\n",
            "Epoch 10/50\n",
            "22/22 [==============================] - 0s 7ms/step - loss: 0.2886\n",
            "Epoch 11/50\n",
            "22/22 [==============================] - 0s 8ms/step - loss: 0.2897\n",
            "Epoch 12/50\n",
            "22/22 [==============================] - 0s 7ms/step - loss: 0.2867\n",
            "Epoch 13/50\n",
            "22/22 [==============================] - 0s 6ms/step - loss: 0.2872\n",
            "Epoch 14/50\n",
            "22/22 [==============================] - 0s 7ms/step - loss: 0.2850\n",
            "Epoch 15/50\n",
            "22/22 [==============================] - 0s 6ms/step - loss: 0.2860\n",
            "Epoch 16/50\n",
            "22/22 [==============================] - 0s 6ms/step - loss: 0.2797\n",
            "Epoch 17/50\n",
            "22/22 [==============================] - 0s 7ms/step - loss: 0.2856\n",
            "Epoch 18/50\n",
            "22/22 [==============================] - 0s 7ms/step - loss: 0.2796\n",
            "Epoch 19/50\n",
            "22/22 [==============================] - 0s 9ms/step - loss: 0.2797\n",
            "Epoch 20/50\n",
            "22/22 [==============================] - 0s 6ms/step - loss: 0.2798\n",
            "Epoch 21/50\n",
            "22/22 [==============================] - 0s 11ms/step - loss: 0.2794\n",
            "Epoch 22/50\n",
            "22/22 [==============================] - 0s 14ms/step - loss: 0.2809\n",
            "Epoch 23/50\n",
            "22/22 [==============================] - 0s 15ms/step - loss: 0.2770\n",
            "Epoch 24/50\n",
            "22/22 [==============================] - 0s 12ms/step - loss: 0.2748\n",
            "Epoch 25/50\n",
            "22/22 [==============================] - 0s 10ms/step - loss: 0.2764\n",
            "Epoch 26/50\n",
            "22/22 [==============================] - 0s 11ms/step - loss: 0.2765\n",
            "Epoch 27/50\n",
            "22/22 [==============================] - 0s 7ms/step - loss: 0.2736\n",
            "Epoch 28/50\n",
            "22/22 [==============================] - 0s 6ms/step - loss: 0.2799\n",
            "Epoch 29/50\n",
            "22/22 [==============================] - 0s 7ms/step - loss: 0.2786\n",
            "Epoch 30/50\n",
            "22/22 [==============================] - 0s 6ms/step - loss: 0.2762\n",
            "Epoch 31/50\n",
            "22/22 [==============================] - 0s 7ms/step - loss: 0.2738\n",
            "Epoch 32/50\n",
            "22/22 [==============================] - 0s 6ms/step - loss: 0.2753\n",
            "Epoch 33/50\n",
            "22/22 [==============================] - 0s 7ms/step - loss: 0.2762\n",
            "Epoch 34/50\n",
            "22/22 [==============================] - 0s 6ms/step - loss: 0.2785\n",
            "Epoch 35/50\n",
            "22/22 [==============================] - 0s 6ms/step - loss: 0.2717\n",
            "Epoch 36/50\n",
            "22/22 [==============================] - 0s 7ms/step - loss: 0.2733\n",
            "Epoch 37/50\n",
            "22/22 [==============================] - 0s 6ms/step - loss: 0.2729\n",
            "Epoch 38/50\n",
            "22/22 [==============================] - 0s 7ms/step - loss: 0.2730\n",
            "Epoch 39/50\n",
            "22/22 [==============================] - 0s 6ms/step - loss: 0.2677\n",
            "Epoch 40/50\n",
            "22/22 [==============================] - 0s 6ms/step - loss: 0.2700\n",
            "Epoch 41/50\n",
            "22/22 [==============================] - 0s 7ms/step - loss: 0.2655\n",
            "Epoch 42/50\n",
            "22/22 [==============================] - 0s 6ms/step - loss: 0.2721\n",
            "Epoch 43/50\n",
            "22/22 [==============================] - 0s 7ms/step - loss: 0.2693\n",
            "Epoch 44/50\n",
            "22/22 [==============================] - 0s 6ms/step - loss: 0.2652\n",
            "Epoch 45/50\n",
            "22/22 [==============================] - 0s 7ms/step - loss: 0.2660\n",
            "Epoch 46/50\n",
            "22/22 [==============================] - 0s 6ms/step - loss: 0.2659\n",
            "Epoch 47/50\n",
            "22/22 [==============================] - 0s 7ms/step - loss: 0.2689\n",
            "Epoch 48/50\n",
            "22/22 [==============================] - 0s 6ms/step - loss: 0.2627\n",
            "Epoch 49/50\n",
            "22/22 [==============================] - 0s 6ms/step - loss: 0.2659\n",
            "Epoch 50/50\n",
            "22/22 [==============================] - 0s 6ms/step - loss: 0.2685\n",
            "1/1 [==============================] - 1s 1s/step\n",
            "Model Number: 11 with model ETS in generation 0 of 10\n",
            "Model Number: 12 with model ETS in generation 0 of 10\n",
            "Model Number: 13 with model GLM in generation 0 of 10\n",
            "Model Number: 14 with model GLM in generation 0 of 10\n",
            "Model Number: 15 with model GLS in generation 0 of 10\n",
            "Model Number: 16 with model GLS in generation 0 of 10\n",
            "Model Number: 17 with model GluonTS in generation 0 of 10\n",
            "Template Eval Error: ImportError('GluonTS installation not found or installed version is incompatible with AutoTS.') in model 17: GluonTS\n",
            "Model Number: 18 with model GluonTS in generation 0 of 10\n",
            "Template Eval Error: ImportError('GluonTS installation not found or installed version is incompatible with AutoTS.') in model 18: GluonTS\n",
            "Model Number: 19 with model GluonTS in generation 0 of 10\n",
            "Template Eval Error: ImportError('GluonTS installation not found or installed version is incompatible with AutoTS.') in model 19: GluonTS\n",
            "Model Number: 20 with model GluonTS in generation 0 of 10\n",
            "Template Eval Error: ImportError('GluonTS installation not found or installed version is incompatible with AutoTS.') in model 20: GluonTS\n",
            "Model Number: 21 with model GluonTS in generation 0 of 10\n",
            "Template Eval Error: ImportError('GluonTS installation not found or installed version is incompatible with AutoTS.') in model 21: GluonTS\n",
            "Model Number: 22 with model LastValueNaive in generation 0 of 10\n",
            "Model Number: 23 with model LastValueNaive in generation 0 of 10\n",
            "Model Number: 24 with model LastValueNaive in generation 0 of 10\n",
            "Model Number: 25 with model LastValueNaive in generation 0 of 10\n",
            "Model Number: 26 with model SeasonalNaive in generation 0 of 10\n",
            "Model Number: 27 with model SeasonalNaive in generation 0 of 10\n",
            "Model Number: 28 with model SeasonalNaive in generation 0 of 10\n",
            "Model Number: 29 with model UnobservedComponents in generation 0 of 10\n",
            "Model Number: 30 with model UnobservedComponents in generation 0 of 10\n",
            "Model Number: 31 with model UnobservedComponents in generation 0 of 10\n",
            "Model Number: 32 with model VAR in generation 0 of 10\n",
            "Template Eval Error: ValueError('Only gave one variable to VAR') in model 32: VAR\n",
            "Model Number: 33 with model VAR in generation 0 of 10\n",
            "Template Eval Error: ValueError('Only gave one variable to VAR') in model 33: VAR\n",
            "Model Number: 34 with model VECM in generation 0 of 10\n",
            "Template Eval Error: ValueError('Only gave one variable to VECM') in model 34: VECM\n",
            "Model Number: 35 with model VECM in generation 0 of 10\n",
            "Template Eval Error: ValueError('Only gave one variable to VECM') in model 35: VECM\n",
            "Model Number: 36 with model WindowRegression in generation 0 of 10\n",
            "Model Number: 37 with model ConstantNaive in generation 0 of 10\n"
          ]
        },
        {
          "output_type": "stream",
          "name": "stderr",
          "text": [
            "/usr/local/lib/python3.8/dist-packages/sklearn/neural_network/_multilayer_perceptron.py:549: ConvergenceWarning:\n",
            "\n",
            "lbfgs failed to converge (status=1):\n",
            "STOP: TOTAL NO. of ITERATIONS REACHED LIMIT.\n",
            "\n",
            "Increase the number of iterations (max_iter) or scale the data as shown in:\n",
            "    https://scikit-learn.org/stable/modules/preprocessing.html\n",
            "\n"
          ]
        },
        {
          "output_type": "stream",
          "name": "stdout",
          "text": [
            "Model Number: 38 with model FBProphet in generation 0 of 10\n"
          ]
        },
        {
          "output_type": "stream",
          "name": "stderr",
          "text": [
            "INFO:prophet:Disabling yearly seasonality. Run prophet with yearly_seasonality=True to override this.\n",
            "INFO:prophet:Disabling daily seasonality. Run prophet with daily_seasonality=True to override this.\n",
            "DEBUG:cmdstanpy:input tempfile: /tmp/tmp7syr8mce/dt_ixxy4.json\n",
            "DEBUG:cmdstanpy:input tempfile: /tmp/tmp7syr8mce/z4bg2wck.json\n",
            "DEBUG:cmdstanpy:idx 0\n",
            "DEBUG:cmdstanpy:running CmdStan, num_threads: None\n",
            "DEBUG:cmdstanpy:CmdStan args: ['/usr/local/lib/python3.8/dist-packages/prophet/stan_model/prophet_model.bin', 'random', 'seed=1202', 'data', 'file=/tmp/tmp7syr8mce/dt_ixxy4.json', 'init=/tmp/tmp7syr8mce/z4bg2wck.json', 'output', 'file=/tmp/tmp7syr8mce/prophet_modeljiwmq91s/prophet_model-20230123224552.csv', 'method=optimize', 'algorithm=lbfgs', 'iter=10000']\n",
            "22:45:52 - cmdstanpy - INFO - Chain [1] start processing\n",
            "INFO:cmdstanpy:Chain [1] start processing\n",
            "22:45:52 - cmdstanpy - INFO - Chain [1] done processing\n",
            "INFO:cmdstanpy:Chain [1] done processing\n"
          ]
        },
        {
          "output_type": "stream",
          "name": "stdout",
          "text": [
            "Model Number: 39 with model GluonTS in generation 0 of 10\n",
            "Template Eval Error: ImportError('GluonTS installation not found or installed version is incompatible with AutoTS.') in model 39: GluonTS\n",
            "Model Number: 40 with model MultivariateRegression in generation 0 of 10\n"
          ]
        },
        {
          "output_type": "stream",
          "name": "stderr",
          "text": [
            "[Parallel(n_jobs=-2)]: Using backend SequentialBackend with 1 concurrent workers.\n",
            "[Parallel(n_jobs=-2)]: Done 200 out of 200 | elapsed:    0.8s finished\n",
            "[Parallel(n_jobs=1)]: Using backend SequentialBackend with 1 concurrent workers.\n",
            "[Parallel(n_jobs=1)]: Done 200 out of 200 | elapsed:    0.0s finished\n",
            "[Parallel(n_jobs=1)]: Using backend SequentialBackend with 1 concurrent workers.\n",
            "[Parallel(n_jobs=1)]: Done 200 out of 200 | elapsed:    0.0s finished\n",
            "[Parallel(n_jobs=1)]: Using backend SequentialBackend with 1 concurrent workers.\n",
            "[Parallel(n_jobs=1)]: Done 200 out of 200 | elapsed:    0.0s finished\n",
            "[Parallel(n_jobs=1)]: Using backend SequentialBackend with 1 concurrent workers.\n",
            "[Parallel(n_jobs=1)]: Done 200 out of 200 | elapsed:    0.0s finished\n",
            "[Parallel(n_jobs=1)]: Using backend SequentialBackend with 1 concurrent workers.\n",
            "[Parallel(n_jobs=1)]: Done 200 out of 200 | elapsed:    0.0s finished\n",
            "[Parallel(n_jobs=1)]: Using backend SequentialBackend with 1 concurrent workers.\n",
            "[Parallel(n_jobs=1)]: Done 200 out of 200 | elapsed:    0.0s finished\n",
            "[Parallel(n_jobs=1)]: Using backend SequentialBackend with 1 concurrent workers.\n",
            "[Parallel(n_jobs=1)]: Done 200 out of 200 | elapsed:    0.0s finished\n",
            "[Parallel(n_jobs=1)]: Using backend SequentialBackend with 1 concurrent workers.\n",
            "[Parallel(n_jobs=1)]: Done 200 out of 200 | elapsed:    0.0s finished\n",
            "[Parallel(n_jobs=1)]: Using backend SequentialBackend with 1 concurrent workers.\n",
            "[Parallel(n_jobs=1)]: Done 200 out of 200 | elapsed:    0.0s finished\n",
            "[Parallel(n_jobs=1)]: Using backend SequentialBackend with 1 concurrent workers.\n",
            "[Parallel(n_jobs=1)]: Done 200 out of 200 | elapsed:    0.0s finished\n",
            "[Parallel(n_jobs=1)]: Using backend SequentialBackend with 1 concurrent workers.\n",
            "[Parallel(n_jobs=1)]: Done 200 out of 200 | elapsed:    0.0s finished\n",
            "[Parallel(n_jobs=1)]: Using backend SequentialBackend with 1 concurrent workers.\n",
            "[Parallel(n_jobs=1)]: Done 200 out of 200 | elapsed:    0.0s finished\n",
            "[Parallel(n_jobs=1)]: Using backend SequentialBackend with 1 concurrent workers.\n",
            "[Parallel(n_jobs=1)]: Done 200 out of 200 | elapsed:    0.0s finished\n",
            "[Parallel(n_jobs=1)]: Using backend SequentialBackend with 1 concurrent workers.\n",
            "[Parallel(n_jobs=1)]: Done 200 out of 200 | elapsed:    0.0s finished\n",
            "[Parallel(n_jobs=1)]: Using backend SequentialBackend with 1 concurrent workers.\n",
            "[Parallel(n_jobs=1)]: Done 200 out of 200 | elapsed:    0.0s finished\n",
            "[Parallel(n_jobs=1)]: Using backend SequentialBackend with 1 concurrent workers.\n",
            "[Parallel(n_jobs=1)]: Done 200 out of 200 | elapsed:    0.0s finished\n",
            "[Parallel(n_jobs=1)]: Using backend SequentialBackend with 1 concurrent workers.\n",
            "[Parallel(n_jobs=1)]: Done 200 out of 200 | elapsed:    0.0s finished\n",
            "[Parallel(n_jobs=1)]: Using backend SequentialBackend with 1 concurrent workers.\n",
            "[Parallel(n_jobs=1)]: Done 200 out of 200 | elapsed:    0.0s finished\n",
            "[Parallel(n_jobs=1)]: Using backend SequentialBackend with 1 concurrent workers.\n",
            "[Parallel(n_jobs=1)]: Done 200 out of 200 | elapsed:    0.0s finished\n",
            "[Parallel(n_jobs=1)]: Using backend SequentialBackend with 1 concurrent workers.\n",
            "[Parallel(n_jobs=1)]: Done 200 out of 200 | elapsed:    0.0s finished\n",
            "[Parallel(n_jobs=1)]: Using backend SequentialBackend with 1 concurrent workers.\n",
            "[Parallel(n_jobs=1)]: Done 200 out of 200 | elapsed:    0.0s finished\n",
            "[Parallel(n_jobs=1)]: Using backend SequentialBackend with 1 concurrent workers.\n",
            "[Parallel(n_jobs=1)]: Done 200 out of 200 | elapsed:    0.0s finished\n",
            "[Parallel(n_jobs=1)]: Using backend SequentialBackend with 1 concurrent workers.\n",
            "[Parallel(n_jobs=1)]: Done 200 out of 200 | elapsed:    0.0s finished\n",
            "[Parallel(n_jobs=1)]: Using backend SequentialBackend with 1 concurrent workers.\n",
            "[Parallel(n_jobs=1)]: Done 200 out of 200 | elapsed:    0.0s finished\n",
            "[Parallel(n_jobs=1)]: Using backend SequentialBackend with 1 concurrent workers.\n",
            "[Parallel(n_jobs=1)]: Done 200 out of 200 | elapsed:    0.0s finished\n",
            "[Parallel(n_jobs=1)]: Using backend SequentialBackend with 1 concurrent workers.\n",
            "[Parallel(n_jobs=1)]: Done 200 out of 200 | elapsed:    0.0s finished\n",
            "[Parallel(n_jobs=1)]: Using backend SequentialBackend with 1 concurrent workers.\n",
            "[Parallel(n_jobs=1)]: Done 200 out of 200 | elapsed:    0.0s finished\n",
            "[Parallel(n_jobs=1)]: Using backend SequentialBackend with 1 concurrent workers.\n",
            "[Parallel(n_jobs=1)]: Done 200 out of 200 | elapsed:    0.0s finished\n",
            "[Parallel(n_jobs=1)]: Using backend SequentialBackend with 1 concurrent workers.\n",
            "[Parallel(n_jobs=1)]: Done 200 out of 200 | elapsed:    0.0s finished\n",
            "[Parallel(n_jobs=1)]: Using backend SequentialBackend with 1 concurrent workers.\n",
            "[Parallel(n_jobs=1)]: Done 200 out of 200 | elapsed:    0.0s finished\n"
          ]
        },
        {
          "output_type": "stream",
          "name": "stdout",
          "text": [
            "Model Number: 41 with model MultivariateRegression in generation 0 of 10\n",
            "Template Eval Error: ValueError(\"regression_type='User' but not future_regressor supplied.\") in model 41: MultivariateRegression\n",
            "Model Number: 42 with model DatepartRegression in generation 0 of 10\n",
            "Template Eval Error: ValueError(\"regression_type='User' but no future_regressor passed\") in model 42: DatepartRegression\n",
            "Model Number: 43 with model SeasonalNaive in generation 0 of 10\n",
            "Model Number: 44 with model DatepartRegression in generation 0 of 10\n",
            "Model Number: 45 with model UnobservedComponents in generation 0 of 10\n",
            "Model Number: 46 with model UnobservedComponents in generation 0 of 10\n",
            "Model Number: 47 with model ETS in generation 0 of 10\n",
            "Model Number: 48 with model VECM in generation 0 of 10\n",
            "Template Eval Error: ValueError('Only gave one variable to VECM') in model 48: VECM\n",
            "Model Number: 49 with model ARDL in generation 0 of 10\n",
            "Template Eval Error: ImportError(\"cannot import name 'ARDL' from 'statsmodels.tsa.api' (/usr/local/lib/python3.8/dist-packages/statsmodels/tsa/api.py)\") in model 49: ARDL\n",
            "Model Number: 50 with model MultivariateMotif in generation 0 of 10\n",
            "Model Number: 51 with model MultivariateMotif in generation 0 of 10\n",
            "Model Number: 52 with model UnivariateMotif in generation 0 of 10\n",
            "Model Number: 53 with model UnivariateMotif in generation 0 of 10\n",
            "Model Number: 54 with model SectionalMotif in generation 0 of 10\n",
            "Model Number: 55 with model SectionalMotif in generation 0 of 10\n",
            "Model Number: 56 with model MultivariateRegression in generation 0 of 10\n"
          ]
        },
        {
          "output_type": "stream",
          "name": "stderr",
          "text": [
            "INFO:prophet:Disabling yearly seasonality. Run prophet with yearly_seasonality=True to override this.\n",
            "INFO:prophet:Disabling daily seasonality. Run prophet with daily_seasonality=True to override this.\n",
            "DEBUG:cmdstanpy:input tempfile: /tmp/tmp7syr8mce/2s7t9yb1.json\n",
            "DEBUG:cmdstanpy:input tempfile: /tmp/tmp7syr8mce/y_e9myvd.json\n",
            "DEBUG:cmdstanpy:idx 0\n",
            "DEBUG:cmdstanpy:running CmdStan, num_threads: None\n",
            "DEBUG:cmdstanpy:CmdStan args: ['/usr/local/lib/python3.8/dist-packages/prophet/stan_model/prophet_model.bin', 'random', 'seed=47134', 'data', 'file=/tmp/tmp7syr8mce/2s7t9yb1.json', 'init=/tmp/tmp7syr8mce/y_e9myvd.json', 'output', 'file=/tmp/tmp7syr8mce/prophet_modelsq9lmpx8/prophet_model-20230123224557.csv', 'method=optimize', 'algorithm=lbfgs', 'iter=10000']\n",
            "22:45:57 - cmdstanpy - INFO - Chain [1] start processing\n",
            "INFO:cmdstanpy:Chain [1] start processing\n"
          ]
        },
        {
          "output_type": "stream",
          "name": "stdout",
          "text": [
            "Model Number: 57 with model FBProphet in generation 0 of 10\n"
          ]
        },
        {
          "output_type": "stream",
          "name": "stderr",
          "text": [
            "22:45:57 - cmdstanpy - INFO - Chain [1] done processing\n",
            "INFO:cmdstanpy:Chain [1] done processing\n"
          ]
        },
        {
          "output_type": "stream",
          "name": "stdout",
          "text": [
            "Model Number: 58 with model SeasonalNaive in generation 0 of 10\n",
            "Model Number: 59 with model DatepartRegression in generation 0 of 10\n"
          ]
        },
        {
          "output_type": "stream",
          "name": "stderr",
          "text": [
            "[Parallel(n_jobs=-2)]: Using backend SequentialBackend with 1 concurrent workers.\n"
          ]
        },
        {
          "output_type": "stream",
          "name": "stdout",
          "text": [
            "Model Number: 60 with model NVAR in generation 0 of 10\n"
          ]
        },
        {
          "output_type": "stream",
          "name": "stderr",
          "text": [
            "[Parallel(n_jobs=-2)]: Done 100 out of 100 | elapsed:    0.3s finished\n",
            "[Parallel(n_jobs=1)]: Using backend SequentialBackend with 1 concurrent workers.\n",
            "[Parallel(n_jobs=1)]: Done 100 out of 100 | elapsed:    0.0s finished\n"
          ]
        },
        {
          "output_type": "stream",
          "name": "stdout",
          "text": [
            "Model Number: 61 with model Theta in generation 0 of 10\n",
            "Model Number: 62 with model UnivariateRegression in generation 0 of 10\n",
            "Model Number: 63 with model ARCH in generation 0 of 10\n",
            "Template Eval Error: ImportError('`arch` package must be installed from pip') in model 63: ARCH\n",
            "Model Number: 64 with model ConstantNaive in generation 0 of 10\n",
            "Model Number: 65 with model LastValueNaive in generation 0 of 10\n",
            "Model Number: 66 with model AverageValueNaive in generation 0 of 10\n",
            "Model Number: 67 with model GLS in generation 0 of 10\n",
            "Model Number: 68 with model SeasonalNaive in generation 0 of 10\n",
            "Model Number: 69 with model GLM in generation 0 of 10\n",
            "Template Eval Error: ValueError('regression_type=user and no future_regressor passed') in model 69: GLM\n",
            "Model Number: 70 with model ETS in generation 0 of 10\n",
            "ETS error ValueError('endog must be strictly positive when usingmultiplicative trend or seasonal components.')\n",
            "ETS failed on Daily Deceased with ValueError('endog must be strictly positive when usingmultiplicative trend or seasonal components.')\n"
          ]
        },
        {
          "output_type": "stream",
          "name": "stderr",
          "text": [
            "INFO:prophet:Disabling yearly seasonality. Run prophet with yearly_seasonality=True to override this.\n",
            "INFO:prophet:Disabling daily seasonality. Run prophet with daily_seasonality=True to override this.\n",
            "DEBUG:cmdstanpy:input tempfile: /tmp/tmp7syr8mce/slwnt8ib.json\n",
            "DEBUG:cmdstanpy:input tempfile: /tmp/tmp7syr8mce/243mcc6q.json\n",
            "DEBUG:cmdstanpy:idx 0\n",
            "DEBUG:cmdstanpy:running CmdStan, num_threads: None\n",
            "DEBUG:cmdstanpy:CmdStan args: ['/usr/local/lib/python3.8/dist-packages/prophet/stan_model/prophet_model.bin', 'random', 'seed=57395', 'data', 'file=/tmp/tmp7syr8mce/slwnt8ib.json', 'init=/tmp/tmp7syr8mce/243mcc6q.json', 'output', 'file=/tmp/tmp7syr8mce/prophet_modelj0hllvby/prophet_model-20230123224559.csv', 'method=optimize', 'algorithm=lbfgs', 'iter=10000']\n"
          ]
        },
        {
          "output_type": "stream",
          "name": "stdout",
          "text": [
            "Model Number: 71 with model FBProphet in generation 0 of 10\n"
          ]
        },
        {
          "output_type": "stream",
          "name": "stderr",
          "text": [
            "22:45:59 - cmdstanpy - INFO - Chain [1] start processing\n",
            "INFO:cmdstanpy:Chain [1] start processing\n",
            "22:46:00 - cmdstanpy - INFO - Chain [1] done processing\n",
            "INFO:cmdstanpy:Chain [1] done processing\n"
          ]
        },
        {
          "output_type": "stream",
          "name": "stdout",
          "text": [
            "Model Number: 72 with model GluonTS in generation 0 of 10\n",
            "Template Eval Error: ImportError('GluonTS installation not found or installed version is incompatible with AutoTS.') in model 72: GluonTS\n",
            "Model Number: 73 with model UnobservedComponents in generation 0 of 10\n",
            "Model Number: 74 with model VAR in generation 0 of 10\n",
            "Template Eval Error: ValueError('Only gave one variable to VAR') in model 74: VAR\n",
            "Model Number: 75 with model VECM in generation 0 of 10\n",
            "Template Eval Error: ValueError('Only gave one variable to VECM') in model 75: VECM\n",
            "Model Number: 76 with model ARIMA in generation 0 of 10\n",
            "Model Number: 77 with model WindowRegression in generation 0 of 10\n",
            "Model Number: 78 with model DatepartRegression in generation 0 of 10\n",
            "Template Eval Error: ValueError(\"regression_type='User' but no future_regressor passed\") in model 78: DatepartRegression\n",
            "Model Number: 79 with model UnivariateRegression in generation 0 of 10\n",
            "Model Number: 80 with model MultivariateRegression in generation 0 of 10\n",
            "Model Number: 81 with model UnivariateMotif in generation 0 of 10\n",
            "Model Number: 82 with model MultivariateMotif in generation 0 of 10\n",
            "Model Number: 83 with model SectionalMotif in generation 0 of 10\n",
            "Model Number: 84 with model NVAR in generation 0 of 10\n",
            "Model Number: 85 with model Theta in generation 0 of 10\n",
            "Model Number: 86 with model ARDL in generation 0 of 10\n",
            "Template Eval Error: ImportError(\"cannot import name 'ARDL' from 'statsmodels.tsa.api' (/usr/local/lib/python3.8/dist-packages/statsmodels/tsa/api.py)\") in model 86: ARDL\n",
            "Model Number: 87 with model ARCH in generation 0 of 10\n",
            "Template Eval Error: ImportError('`arch` package must be installed from pip') in model 87: ARCH\n",
            "Model Number: 88 with model MetricMotif in generation 0 of 10\n",
            "Model Number: 89 with model MultivariateMotif in generation 0 of 10\n",
            "Model Number: 90 with model VAR in generation 0 of 10\n",
            "Template Eval Error: ValueError('Only gave one variable to VAR') in model 90: VAR\n",
            "Model Number: 91 with model DatepartRegression in generation 0 of 10\n",
            "Template Eval Error: ValueError('Model DatepartRegression returned NaN for one or more series. fail_on_forecast_nan=True') in model 91: DatepartRegression\n",
            "Model Number: 92 with model VAR in generation 0 of 10\n",
            "Template Eval Error: ValueError('Only gave one variable to VAR') in model 92: VAR\n",
            "Model Number: 93 with model UnivariateMotif in generation 0 of 10\n",
            "Model Number: 94 with model UnivariateRegression in generation 0 of 10\n"
          ]
        },
        {
          "output_type": "stream",
          "name": "stderr",
          "text": [
            "/usr/local/lib/python3.8/dist-packages/sklearn/neighbors/_regression.py:470: UserWarning:\n",
            "\n",
            "One or more samples have no neighbors within specified radius; predicting NaN.\n",
            "\n"
          ]
        },
        {
          "output_type": "stream",
          "name": "stdout",
          "text": [
            "Model Number: 95 with model AverageValueNaive in generation 0 of 10\n",
            "Model Number: 96 with model VAR in generation 0 of 10\n",
            "Template Eval Error: ValueError('Only gave one variable to VAR') in model 96: VAR\n",
            "Model Number: 97 with model DatepartRegression in generation 0 of 10\n",
            "Template Eval Error: ValueError(\"regression_type='User' but no future_regressor passed\") in model 97: DatepartRegression\n",
            "Model Number: 98 with model MetricMotif in generation 0 of 10\n",
            "Model Number: 99 with model VAR in generation 0 of 10\n",
            "Template Eval Error: ValueError('Only gave one variable to VAR') in model 99: VAR\n",
            "Model Number: 100 with model GLM in generation 0 of 10\n",
            "Model Number: 101 with model ARCH in generation 0 of 10\n",
            "Template Eval Error: ImportError('`arch` package must be installed from pip') in model 101: ARCH\n",
            "Model Number: 102 with model VAR in generation 0 of 10\n",
            "Template Eval Error: ValueError('Only gave one variable to VAR') in model 102: VAR\n",
            "Model Number: 103 with model SeasonalNaive in generation 0 of 10\n",
            "Model Number: 104 with model UnobservedComponents in generation 0 of 10\n",
            "Template Eval Error: ValueError(\"regression_type='User' but no future_regressor supplied\") in model 104: UnobservedComponents\n",
            "Model Number: 105 with model ConstantNaive in generation 0 of 10\n",
            "Model Number: 106 with model ETS in generation 0 of 10\n",
            "ETS error ValueError('endog must be strictly positive when usingmultiplicative trend or seasonal components.')\n",
            "ETS failed on Daily Deceased with ValueError('endog must be strictly positive when usingmultiplicative trend or seasonal components.')\n",
            "Model Number: 107 with model ConstantNaive in generation 0 of 10\n",
            "Model Number: 108 with model VAR in generation 0 of 10\n",
            "Template Eval Error: ValueError('Only gave one variable to VAR') in model 108: VAR\n",
            "Model Number: 109 with model ARDL in generation 0 of 10\n",
            "Template Eval Error: ImportError(\"cannot import name 'ARDL' from 'statsmodels.tsa.api' (/usr/local/lib/python3.8/dist-packages/statsmodels/tsa/api.py)\") in model 109: ARDL\n",
            "Model Number: 110 with model AverageValueNaive in generation 0 of 10\n",
            "Model Number: 111 with model NVAR in generation 0 of 10\n"
          ]
        },
        {
          "output_type": "stream",
          "name": "stderr",
          "text": [
            "INFO:prophet:Disabling yearly seasonality. Run prophet with yearly_seasonality=True to override this.\n",
            "INFO:prophet:Disabling daily seasonality. Run prophet with daily_seasonality=True to override this.\n",
            "DEBUG:cmdstanpy:input tempfile: /tmp/tmp7syr8mce/f0l1499y.json\n",
            "DEBUG:cmdstanpy:input tempfile: /tmp/tmp7syr8mce/7aa3djcm.json\n",
            "DEBUG:cmdstanpy:idx 0\n",
            "DEBUG:cmdstanpy:running CmdStan, num_threads: None\n",
            "DEBUG:cmdstanpy:CmdStan args: ['/usr/local/lib/python3.8/dist-packages/prophet/stan_model/prophet_model.bin', 'random', 'seed=38540', 'data', 'file=/tmp/tmp7syr8mce/f0l1499y.json', 'init=/tmp/tmp7syr8mce/7aa3djcm.json', 'output', 'file=/tmp/tmp7syr8mce/prophet_model_t5074x5/prophet_model-20230123224612.csv', 'method=optimize', 'algorithm=lbfgs', 'iter=10000']\n",
            "22:46:12 - cmdstanpy - INFO - Chain [1] start processing\n",
            "INFO:cmdstanpy:Chain [1] start processing\n"
          ]
        },
        {
          "output_type": "stream",
          "name": "stdout",
          "text": [
            "Model Number: 112 with model FBProphet in generation 0 of 10\n"
          ]
        },
        {
          "output_type": "stream",
          "name": "stderr",
          "text": [
            "22:46:12 - cmdstanpy - INFO - Chain [1] done processing\n",
            "INFO:cmdstanpy:Chain [1] done processing\n"
          ]
        },
        {
          "output_type": "stream",
          "name": "stdout",
          "text": [
            "Model Number: 113 with model SeasonalNaive in generation 0 of 10\n",
            "Model Number: 114 with model ETS in generation 0 of 10\n",
            "Model Number: 115 with model VAR in generation 0 of 10\n",
            "Template Eval Error: ValueError('Only gave one variable to VAR') in model 115: VAR\n",
            "Model Number: 116 with model MultivariateMotif in generation 0 of 10\n",
            "Model Number: 117 with model GLM in generation 0 of 10\n",
            "Template Eval Error: ValueError('The first guess on the deviance function returned a nan.  This could be a boundary  problem and should be reported.') in model 117: GLM\n",
            "Model Number: 118 with model VECM in generation 0 of 10\n",
            "Template Eval Error: ValueError('Only gave one variable to VECM') in model 118: VECM\n",
            "Model Number: 119 with model LastValueNaive in generation 0 of 10\n",
            "Model Number: 120 with model ARCH in generation 0 of 10\n",
            "Template Eval Error: ImportError('`arch` package must be installed from pip') in model 120: ARCH\n",
            "Model Number: 121 with model MultivariateMotif in generation 0 of 10\n"
          ]
        },
        {
          "output_type": "stream",
          "name": "stderr",
          "text": [
            "/usr/local/lib/python3.8/dist-packages/statsmodels/genmod/families/family.py:1231: RuntimeWarning:\n",
            "\n",
            "invalid value encountered in log\n",
            "\n"
          ]
        },
        {
          "output_type": "stream",
          "name": "stdout",
          "text": [
            "Model Number: 122 with model ETS in generation 0 of 10\n",
            "Model Number: 123 with model Theta in generation 0 of 10\n",
            "Model Number: 124 with model MultivariateMotif in generation 0 of 10\n",
            "Model Number: 125 with model UnivariateMotif in generation 0 of 10\n",
            "Model Number: 126 with model GLM in generation 0 of 10\n",
            "Model Number: 127 with model ARIMA in generation 0 of 10\n",
            "Template Eval Error: ValueError(\"regression_type='User' but future_regressor not supplied\") in model 127: ARIMA\n",
            "Model Number: 128 with model VAR in generation 0 of 10\n",
            "Template Eval Error: IndexError('tuple index out of range') in model 128: VAR\n",
            "Model Number: 129 with model Theta in generation 0 of 10\n",
            "Model Number: 130 with model SeasonalNaive in generation 0 of 10\n",
            "Model Number: 131 with model SeasonalNaive in generation 0 of 10\n",
            "Model Number: 132 with model ARCH in generation 0 of 10\n",
            "Template Eval Error: ImportError('`arch` package must be installed from pip') in model 132: ARCH\n",
            "Model Number: 133 with model VECM in generation 0 of 10\n",
            "Template Eval Error: ValueError('Only gave one variable to VECM') in model 133: VECM\n",
            "Model Number: 134 with model VAR in generation 0 of 10\n",
            "Template Eval Error: ValueError('Only gave one variable to VAR') in model 134: VAR\n",
            "Model Number: 135 with model MetricMotif in generation 0 of 10\n",
            "Model Number: 136 with model VECM in generation 0 of 10\n",
            "Template Eval Error: ValueError('Only gave one variable to VECM') in model 136: VECM\n",
            "Model Number: 137 with model ETS in generation 0 of 10\n",
            "ETS error ValueError('endog must be strictly positive when usingmultiplicative trend or seasonal components.')\n",
            "ETS failed on Daily Deceased with ValueError('endog must be strictly positive when usingmultiplicative trend or seasonal components.')\n",
            "Model Number: 138 with model SeasonalNaive in generation 0 of 10\n",
            "Model Number: 139 with model NVAR in generation 0 of 10\n",
            "Model Number: 140 with model SeasonalNaive in generation 0 of 10\n",
            "Model Number: 141 with model UnobservedComponents in generation 0 of 10\n",
            "Model Number: 142 with model LastValueNaive in generation 0 of 10\n",
            "Model Number: 143 with model VAR in generation 0 of 10\n",
            "Template Eval Error: ValueError('Only gave one variable to VAR') in model 143: VAR\n",
            "Model Number: 144 with model UnivariateMotif in generation 0 of 10\n",
            "Model Number: 145 with model NVAR in generation 0 of 10\n",
            "Model Number: 146 with model VAR in generation 0 of 10\n",
            "Template Eval Error: ValueError('Only gave one variable to VAR') in model 146: VAR\n",
            "Model Number: 147 with model GLS in generation 0 of 10\n",
            "Model Number: 148 with model Theta in generation 0 of 10\n",
            "Model Number: 149 with model UnivariateMotif in generation 0 of 10\n",
            "Model Number: 150 with model UnivariateMotif in generation 0 of 10\n",
            "Model Number: 151 with model MetricMotif in generation 0 of 10\n",
            "Model Number: 152 with model SectionalMotif in generation 0 of 10\n",
            "Template Eval Error: ValueError(\"regression_type=='User' but no future_regressor supplied\") in model 152: SectionalMotif\n",
            "Model Number: 153 with model ARCH in generation 0 of 10\n",
            "Template Eval Error: ImportError('`arch` package must be installed from pip') in model 153: ARCH\n",
            "Model Number: 154 with model ARDL in generation 0 of 10\n",
            "Template Eval Error: ValueError(\"regression_type='User' but future_regressor not supplied\") in model 154: ARDL\n",
            "Model Number: 155 with model SeasonalNaive in generation 0 of 10\n",
            "Model Number: 156 with model MultivariateMotif in generation 0 of 10\n",
            "Model Number: 157 with model ARCH in generation 0 of 10\n",
            "Template Eval Error: ImportError('`arch` package must be installed from pip') in model 157: ARCH\n",
            "Model Number: 158 with model MetricMotif in generation 0 of 10\n",
            "Model Number: 159 with model UnivariateMotif in generation 0 of 10\n",
            "Model Number: 160 with model MultivariateMotif in generation 0 of 10\n",
            "Model Number: 161 with model UnivariateMotif in generation 0 of 10\n",
            "Model Number: 162 with model VECM in generation 0 of 10\n",
            "Template Eval Error: ValueError('Only gave one variable to VECM') in model 162: VECM\n",
            "Model Number: 163 with model MultivariateMotif in generation 0 of 10\n",
            "Model Number: 164 with model UnivariateMotif in generation 0 of 10\n",
            "Model Number: 165 with model ARIMA in generation 0 of 10\n",
            "Template Eval Error: ValueError(\"regression_type='User' but future_regressor not supplied\") in model 165: ARIMA\n",
            "Model Number: 166 with model AverageValueNaive in generation 0 of 10\n",
            "Model Number: 167 with model MultivariateMotif in generation 0 of 10\n",
            "Model Number: 168 with model Theta in generation 0 of 10\n",
            "Model Number: 169 with model GLM in generation 0 of 10\n",
            "Model Number: 170 with model UnivariateMotif in generation 0 of 10\n",
            "Model Number: 171 with model ARDL in generation 0 of 10\n",
            "Template Eval Error: ValueError(\"regression_type='User' but future_regressor not supplied\") in model 171: ARDL\n",
            "Model Number: 172 with model ARCH in generation 0 of 10\n",
            "Template Eval Error: ImportError('`arch` package must be installed from pip') in model 172: ARCH\n",
            "Model Number: 173 with model GLM in generation 0 of 10\n",
            "Model Number: 174 with model ARDL in generation 0 of 10\n",
            "Template Eval Error: ValueError(\"regression_type='User' but future_regressor not supplied\") in model 174: ARDL\n",
            "Model Number: 175 with model GluonTS in generation 0 of 10\n",
            "Template Eval Error: ImportError('GluonTS installation not found or installed version is incompatible with AutoTS.') in model 175: GluonTS\n",
            "Model Number: 176 with model ARIMA in generation 0 of 10\n",
            "Model Number: 177 with model ARIMA in generation 0 of 10\n",
            "Model Number: 178 with model ConstantNaive in generation 0 of 10\n",
            "Model Number: 179 with model GLM in generation 0 of 10\n"
          ]
        },
        {
          "output_type": "stream",
          "name": "stderr",
          "text": [
            "/usr/local/lib/python3.8/dist-packages/statsmodels/genmod/families/links.py:188: RuntimeWarning:\n",
            "\n",
            "overflow encountered in exp\n",
            "\n"
          ]
        },
        {
          "output_type": "stream",
          "name": "stdout",
          "text": [
            "Model Number: 180 with model UnobservedComponents in generation 0 of 10\n",
            "Model Number: 181 with model SeasonalNaive in generation 0 of 10\n",
            "Model Number: 182 with model LastValueNaive in generation 0 of 10\n",
            "Model Number: 183 with model DatepartRegression in generation 0 of 10\n",
            "Model Number: 184 with model ARIMA in generation 0 of 10\n",
            "Template Eval Error: ValueError(\"regression_type='User' but future_regressor not supplied\") in model 184: ARIMA\n",
            "Model Number: 185 with model MultivariateRegression in generation 0 of 10\n",
            "Model Number: 186 with model AverageValueNaive in generation 0 of 10\n",
            "Model Number: 187 with model ETS in generation 0 of 10\n",
            "Model Number: 188 with model ETS in generation 0 of 10\n",
            "New Generation: 1 of 10\n",
            "Model Number: 189 with model GLM in generation 1 of 10\n",
            "Model Number: 190 with model ConstantNaive in generation 1 of 10\n",
            "Model Number: 191 with model UnivariateMotif in generation 1 of 10\n"
          ]
        },
        {
          "output_type": "stream",
          "name": "stderr",
          "text": [
            "/usr/local/lib/python3.8/dist-packages/statsmodels/genmod/families/family.py:1227: RuntimeWarning:\n",
            "\n",
            "divide by zero encountered in true_divide\n",
            "\n"
          ]
        },
        {
          "output_type": "stream",
          "name": "stdout",
          "text": [
            "Model Number: 192 with model LastValueNaive in generation 1 of 10\n",
            "Model Number: 193 with model WindowRegression in generation 1 of 10\n",
            "Model Number: 194 with model ETS in generation 1 of 10\n",
            "Model Number: 195 with model Theta in generation 1 of 10\n"
          ]
        },
        {
          "output_type": "stream",
          "name": "stderr",
          "text": [
            "INFO:prophet:Disabling yearly seasonality. Run prophet with yearly_seasonality=True to override this.\n",
            "INFO:prophet:Disabling daily seasonality. Run prophet with daily_seasonality=True to override this.\n",
            "DEBUG:cmdstanpy:input tempfile: /tmp/tmp7syr8mce/vnsz9t84.json\n",
            "DEBUG:cmdstanpy:input tempfile: /tmp/tmp7syr8mce/mz27rzj8.json\n",
            "DEBUG:cmdstanpy:idx 0\n",
            "DEBUG:cmdstanpy:running CmdStan, num_threads: None\n",
            "DEBUG:cmdstanpy:CmdStan args: ['/usr/local/lib/python3.8/dist-packages/prophet/stan_model/prophet_model.bin', 'random', 'seed=20152', 'data', 'file=/tmp/tmp7syr8mce/vnsz9t84.json', 'init=/tmp/tmp7syr8mce/mz27rzj8.json', 'output', 'file=/tmp/tmp7syr8mce/prophet_modele_rs3si8/prophet_model-20230123224628.csv', 'method=optimize', 'algorithm=lbfgs', 'iter=10000']\n",
            "22:46:28 - cmdstanpy - INFO - Chain [1] start processing\n",
            "INFO:cmdstanpy:Chain [1] start processing\n"
          ]
        },
        {
          "output_type": "stream",
          "name": "stdout",
          "text": [
            "Model Number: 196 with model FBProphet in generation 1 of 10\n"
          ]
        },
        {
          "output_type": "stream",
          "name": "stderr",
          "text": [
            "22:46:28 - cmdstanpy - INFO - Chain [1] done processing\n",
            "INFO:cmdstanpy:Chain [1] done processing\n"
          ]
        },
        {
          "output_type": "stream",
          "name": "stdout",
          "text": [
            "Model Number: 197 with model LastValueNaive in generation 1 of 10\n",
            "Model Number: 198 with model MultivariateMotif in generation 1 of 10\n",
            "Model Number: 199 with model SeasonalNaive in generation 1 of 10\n",
            "Model Number: 200 with model GLM in generation 1 of 10\n"
          ]
        },
        {
          "output_type": "stream",
          "name": "stderr",
          "text": [
            "/usr/local/lib/python3.8/dist-packages/statsmodels/genmod/families/links.py:188: RuntimeWarning:\n",
            "\n",
            "overflow encountered in exp\n",
            "\n"
          ]
        },
        {
          "output_type": "stream",
          "name": "stdout",
          "text": [
            "Model Number: 201 with model ETS in generation 1 of 10\n",
            "Model Number: 202 with model Theta in generation 1 of 10\n",
            "Model Number: 203 with model UnivariateMotif in generation 1 of 10\n",
            "Model Number: 204 with model UnivariateMotif in generation 1 of 10\n",
            "Model Number: 205 with model UnobservedComponents in generation 1 of 10\n",
            "Model Number: 206 with model DatepartRegression in generation 1 of 10\n",
            "Model Number: 207 with model UnivariateMotif in generation 1 of 10\n",
            "Model Number: 208 with model Theta in generation 1 of 10\n",
            "Model Number: 209 with model NVAR in generation 1 of 10\n",
            "Model Number: 210 with model WindowRegression in generation 1 of 10\n",
            "Model Number: 211 with model GLM in generation 1 of 10\n"
          ]
        },
        {
          "output_type": "stream",
          "name": "stderr",
          "text": [
            "/usr/local/lib/python3.8/dist-packages/statsmodels/genmod/families/links.py:188: RuntimeWarning:\n",
            "\n",
            "overflow encountered in exp\n",
            "\n"
          ]
        },
        {
          "output_type": "stream",
          "name": "stdout",
          "text": [
            "Model Number: 212 with model ETS in generation 1 of 10\n",
            "Model Number: 213 with model DatepartRegression in generation 1 of 10\n",
            "Model Number: 214 with model ETS in generation 1 of 10\n",
            "Model Number: 215 with model ConstantNaive in generation 1 of 10\n",
            "Model Number: 216 with model NVAR in generation 1 of 10\n",
            "Model Number: 217 with model DatepartRegression in generation 1 of 10\n"
          ]
        },
        {
          "output_type": "stream",
          "name": "stderr",
          "text": [
            "[Parallel(n_jobs=-2)]: Using backend SequentialBackend with 1 concurrent workers.\n"
          ]
        },
        {
          "output_type": "stream",
          "name": "stdout",
          "text": [
            "Model Number: 218 with model MultivariateMotif in generation 1 of 10\n",
            "Model Number: 219 with model UnivariateMotif in generation 1 of 10\n"
          ]
        },
        {
          "output_type": "stream",
          "name": "stderr",
          "text": [
            "[Parallel(n_jobs=-2)]: Done 100 out of 100 | elapsed:    0.3s finished\n",
            "[Parallel(n_jobs=1)]: Using backend SequentialBackend with 1 concurrent workers.\n",
            "[Parallel(n_jobs=1)]: Done 100 out of 100 | elapsed:    0.0s finished\n"
          ]
        },
        {
          "output_type": "stream",
          "name": "stdout",
          "text": [
            "Model Number: 220 with model AverageValueNaive in generation 1 of 10\n",
            "Model Number: 221 with model SeasonalNaive in generation 1 of 10\n",
            "Model Number: 222 with model SectionalMotif in generation 1 of 10\n",
            "Model Number: 223 with model SectionalMotif in generation 1 of 10\n",
            "Model Number: 224 with model MetricMotif in generation 1 of 10\n",
            "Model Number: 225 with model GLM in generation 1 of 10\n",
            "Model Number: 226 with model AverageValueNaive in generation 1 of 10\n",
            "Model Number: 227 with model MultivariateMotif in generation 1 of 10\n",
            "Model Number: 228 with model MultivariateMotif in generation 1 of 10\n",
            "Model Number: 229 with model MetricMotif in generation 1 of 10\n",
            "Model Number: 230 with model MultivariateRegression in generation 1 of 10\n",
            "Model Number: 231 with model ConstantNaive in generation 1 of 10\n",
            "Model Number: 232 with model MetricMotif in generation 1 of 10\n",
            "Model Number: 233 with model UnivariateMotif in generation 1 of 10\n",
            "Model Number: 234 with model UnivariateMotif in generation 1 of 10\n",
            "Model Number: 235 with model GLM in generation 1 of 10\n",
            "Model Number: 236 with model MultivariateMotif in generation 1 of 10\n"
          ]
        },
        {
          "output_type": "stream",
          "name": "stderr",
          "text": [
            "/usr/local/lib/python3.8/dist-packages/statsmodels/genmod/families/links.py:188: RuntimeWarning:\n",
            "\n",
            "overflow encountered in exp\n",
            "\n"
          ]
        },
        {
          "output_type": "stream",
          "name": "stdout",
          "text": [
            "Model Number: 237 with model MetricMotif in generation 1 of 10\n",
            "Model Number: 238 with model Theta in generation 1 of 10\n"
          ]
        },
        {
          "output_type": "stream",
          "name": "stderr",
          "text": [
            "INFO:prophet:Disabling yearly seasonality. Run prophet with yearly_seasonality=True to override this.\n",
            "INFO:prophet:Disabling daily seasonality. Run prophet with daily_seasonality=True to override this.\n",
            "DEBUG:cmdstanpy:input tempfile: /tmp/tmp7syr8mce/vw_n3w08.json\n",
            "DEBUG:cmdstanpy:input tempfile: /tmp/tmp7syr8mce/o2s1g0t7.json\n",
            "DEBUG:cmdstanpy:idx 0\n",
            "DEBUG:cmdstanpy:running CmdStan, num_threads: None\n",
            "DEBUG:cmdstanpy:CmdStan args: ['/usr/local/lib/python3.8/dist-packages/prophet/stan_model/prophet_model.bin', 'random', 'seed=90085', 'data', 'file=/tmp/tmp7syr8mce/vw_n3w08.json', 'init=/tmp/tmp7syr8mce/o2s1g0t7.json', 'output', 'file=/tmp/tmp7syr8mce/prophet_modelsh21zq14/prophet_model-20230123224636.csv', 'method=optimize', 'algorithm=lbfgs', 'iter=10000']\n",
            "22:46:36 - cmdstanpy - INFO - Chain [1] start processing\n"
          ]
        },
        {
          "output_type": "stream",
          "name": "stdout",
          "text": [
            "Model Number: 239 with model FBProphet in generation 1 of 10\n"
          ]
        },
        {
          "output_type": "stream",
          "name": "stderr",
          "text": [
            "INFO:cmdstanpy:Chain [1] start processing\n",
            "22:46:36 - cmdstanpy - INFO - Chain [1] done processing\n",
            "INFO:cmdstanpy:Chain [1] done processing\n"
          ]
        },
        {
          "output_type": "stream",
          "name": "stdout",
          "text": [
            "Model Number: 240 with model ARIMA in generation 1 of 10\n",
            "Model Number: 241 with model ConstantNaive in generation 1 of 10\n",
            "Model Number: 242 with model UnivariateMotif in generation 1 of 10\n",
            "Model Number: 243 with model NVAR in generation 1 of 10\n",
            "Model Number: 244 with model UnobservedComponents in generation 1 of 10\n",
            "Template Eval Error: LinAlgError('Singular matrix') in model 244: UnobservedComponents\n",
            "Model Number: 245 with model UnivariateMotif in generation 1 of 10\n",
            "Model Number: 246 with model ConstantNaive in generation 1 of 10\n",
            "Model Number: 247 with model UnobservedComponents in generation 1 of 10\n",
            "Model Number: 248 with model NVAR in generation 1 of 10\n",
            "Model Number: 249 with model ARIMA in generation 1 of 10\n",
            "Model Number: 250 with model LastValueNaive in generation 1 of 10\n",
            "Model Number: 251 with model ConstantNaive in generation 1 of 10\n",
            "Model Number: 252 with model DatepartRegression in generation 1 of 10\n",
            "Model Number: 253 with model MetricMotif in generation 1 of 10\n"
          ]
        },
        {
          "output_type": "stream",
          "name": "stderr",
          "text": [
            "/usr/local/lib/python3.8/dist-packages/sklearn/neural_network/_multilayer_perceptron.py:549: ConvergenceWarning:\n",
            "\n",
            "lbfgs failed to converge (status=1):\n",
            "STOP: TOTAL NO. of ITERATIONS REACHED LIMIT.\n",
            "\n",
            "Increase the number of iterations (max_iter) or scale the data as shown in:\n",
            "    https://scikit-learn.org/stable/modules/preprocessing.html\n",
            "\n"
          ]
        },
        {
          "output_type": "stream",
          "name": "stdout",
          "text": [
            "Model Number: 254 with model MetricMotif in generation 1 of 10\n",
            "Model Number: 255 with model DatepartRegression in generation 1 of 10\n",
            "Epoch 1/50\n",
            "44/44 [==============================] - 9s 77ms/step - loss: 0.0250\n",
            "Epoch 2/50\n",
            "44/44 [==============================] - 5s 105ms/step - loss: 0.0242\n",
            "Epoch 3/50\n",
            "44/44 [==============================] - 5s 106ms/step - loss: 0.0242\n",
            "Epoch 4/50\n",
            "44/44 [==============================] - 3s 77ms/step - loss: 0.0241\n",
            "Epoch 5/50\n",
            "44/44 [==============================] - 3s 77ms/step - loss: 0.0242\n",
            "Epoch 6/50\n",
            "44/44 [==============================] - 3s 77ms/step - loss: 0.0243\n",
            "Epoch 7/50\n",
            "44/44 [==============================] - 3s 78ms/step - loss: 0.0240\n",
            "Epoch 8/50\n",
            "44/44 [==============================] - 4s 80ms/step - loss: 0.0242\n",
            "Epoch 9/50\n",
            "44/44 [==============================] - 3s 77ms/step - loss: 0.0241\n",
            "Epoch 10/50\n",
            "44/44 [==============================] - 3s 78ms/step - loss: 0.0240\n",
            "Epoch 11/50\n",
            "44/44 [==============================] - 4s 83ms/step - loss: 0.0241\n",
            "Epoch 12/50\n",
            "44/44 [==============================] - 4s 80ms/step - loss: 0.0240\n",
            "Epoch 13/50\n",
            "44/44 [==============================] - 3s 77ms/step - loss: 0.0241\n",
            "Epoch 14/50\n",
            "44/44 [==============================] - 4s 83ms/step - loss: 0.0241\n",
            "Epoch 15/50\n",
            "44/44 [==============================] - 4s 80ms/step - loss: 0.0242\n",
            "Epoch 16/50\n",
            "44/44 [==============================] - 3s 78ms/step - loss: 0.0245\n",
            "Epoch 17/50\n",
            "44/44 [==============================] - 3s 78ms/step - loss: 0.0242\n",
            "Epoch 18/50\n",
            "44/44 [==============================] - 3s 78ms/step - loss: 0.0240\n",
            "Epoch 19/50\n",
            "44/44 [==============================] - 3s 78ms/step - loss: 0.0241\n",
            "Epoch 20/50\n",
            "44/44 [==============================] - 3s 78ms/step - loss: 0.0239\n",
            "Epoch 21/50\n",
            "44/44 [==============================] - 4s 80ms/step - loss: 0.0240\n",
            "Epoch 22/50\n",
            "44/44 [==============================] - 3s 79ms/step - loss: 0.0239\n",
            "Epoch 23/50\n",
            "44/44 [==============================] - 4s 80ms/step - loss: 0.0241\n",
            "Epoch 24/50\n",
            "44/44 [==============================] - 3s 77ms/step - loss: 0.0240\n",
            "Epoch 25/50\n",
            "44/44 [==============================] - 3s 77ms/step - loss: 0.0239\n",
            "Epoch 26/50\n",
            "44/44 [==============================] - 3s 79ms/step - loss: 0.0240\n",
            "Epoch 27/50\n",
            "44/44 [==============================] - 3s 78ms/step - loss: 0.0240\n",
            "Epoch 28/50\n",
            "44/44 [==============================] - 3s 77ms/step - loss: 0.0243\n",
            "Epoch 29/50\n",
            "44/44 [==============================] - 4s 82ms/step - loss: 0.0240\n",
            "Epoch 30/50\n",
            "44/44 [==============================] - 3s 78ms/step - loss: 0.0241\n",
            "Epoch 31/50\n",
            "44/44 [==============================] - 3s 77ms/step - loss: 0.0241\n",
            "Epoch 32/50\n",
            "44/44 [==============================] - 4s 92ms/step - loss: 0.0240\n",
            "Epoch 33/50\n",
            "44/44 [==============================] - 4s 80ms/step - loss: 0.0240\n",
            "Epoch 34/50\n",
            "44/44 [==============================] - 3s 77ms/step - loss: 0.0241\n",
            "Epoch 35/50\n",
            "44/44 [==============================] - 4s 80ms/step - loss: 0.0241\n",
            "Epoch 36/50\n",
            "44/44 [==============================] - 3s 78ms/step - loss: 0.0241\n",
            "Epoch 37/50\n",
            "44/44 [==============================] - 3s 78ms/step - loss: 0.0240\n",
            "Epoch 38/50\n",
            "44/44 [==============================] - 3s 79ms/step - loss: 0.0241\n",
            "Epoch 39/50\n",
            "44/44 [==============================] - 4s 83ms/step - loss: 0.0240\n",
            "Epoch 40/50\n",
            "44/44 [==============================] - 4s 83ms/step - loss: 0.0240\n",
            "Epoch 41/50\n",
            "44/44 [==============================] - 3s 77ms/step - loss: 0.0239\n",
            "Epoch 42/50\n",
            "44/44 [==============================] - 4s 81ms/step - loss: 0.0240\n",
            "Epoch 43/50\n",
            "44/44 [==============================] - 4s 82ms/step - loss: 0.0241\n",
            "Epoch 44/50\n",
            "44/44 [==============================] - 5s 103ms/step - loss: 0.0241\n",
            "Epoch 45/50\n",
            "44/44 [==============================] - 3s 79ms/step - loss: 0.0240\n",
            "Epoch 46/50\n",
            "44/44 [==============================] - 4s 80ms/step - loss: 0.0241\n",
            "Epoch 47/50\n",
            "44/44 [==============================] - 3s 78ms/step - loss: 0.0240\n",
            "Epoch 48/50\n",
            "44/44 [==============================] - 3s 78ms/step - loss: 0.0239\n",
            "Epoch 49/50\n",
            "44/44 [==============================] - 4s 81ms/step - loss: 0.0241\n",
            "Epoch 50/50\n",
            "44/44 [==============================] - 3s 78ms/step - loss: 0.0240\n",
            "1/1 [==============================] - 1s 1s/step\n",
            "Model Number: 256 with model ETS in generation 1 of 10\n",
            "ETS error ValueError('endog must be strictly positive when usingmultiplicative trend or seasonal components.')\n",
            "ETS failed on Daily Deceased with ValueError('endog must be strictly positive when usingmultiplicative trend or seasonal components.')\n",
            "Model Number: 257 with model UnivariateMotif in generation 1 of 10\n",
            "Model Number: 258 with model NVAR in generation 1 of 10\n",
            "Model Number: 259 with model Theta in generation 1 of 10\n",
            "Model Number: 260 with model MultivariateRegression in generation 1 of 10\n",
            "Model Number: 261 with model ARIMA in generation 1 of 10\n",
            "Model Number: 262 with model AverageValueNaive in generation 1 of 10\n",
            "Model Number: 263 with model MultivariateMotif in generation 1 of 10\n",
            "Model Number: 264 with model MetricMotif in generation 1 of 10\n",
            "Model Number: 265 with model MultivariateRegression in generation 1 of 10\n",
            "Model Number: 266 with model SeasonalNaive in generation 1 of 10\n",
            "Model Number: 267 with model ConstantNaive in generation 1 of 10\n",
            "Model Number: 268 with model MultivariateMotif in generation 1 of 10\n",
            "Model Number: 269 with model SeasonalNaive in generation 1 of 10\n",
            "Model Number: 270 with model NVAR in generation 1 of 10\n",
            "Model Number: 271 with model AverageValueNaive in generation 1 of 10\n",
            "Model Number: 272 with model FBProphet in generation 1 of 10\n"
          ]
        },
        {
          "output_type": "stream",
          "name": "stderr",
          "text": [
            "INFO:prophet:Disabling yearly seasonality. Run prophet with yearly_seasonality=True to override this.\n",
            "INFO:prophet:Disabling daily seasonality. Run prophet with daily_seasonality=True to override this.\n",
            "DEBUG:cmdstanpy:input tempfile: /tmp/tmp7syr8mce/grs4nnja.json\n",
            "DEBUG:cmdstanpy:input tempfile: /tmp/tmp7syr8mce/ep3tmbke.json\n",
            "DEBUG:cmdstanpy:idx 0\n",
            "DEBUG:cmdstanpy:running CmdStan, num_threads: None\n",
            "DEBUG:cmdstanpy:CmdStan args: ['/usr/local/lib/python3.8/dist-packages/prophet/stan_model/prophet_model.bin', 'random', 'seed=92202', 'data', 'file=/tmp/tmp7syr8mce/grs4nnja.json', 'init=/tmp/tmp7syr8mce/ep3tmbke.json', 'output', 'file=/tmp/tmp7syr8mce/prophet_modelooyg8xgv/prophet_model-20230123225042.csv', 'method=optimize', 'algorithm=lbfgs', 'iter=10000']\n",
            "22:50:42 - cmdstanpy - INFO - Chain [1] start processing\n",
            "INFO:cmdstanpy:Chain [1] start processing\n",
            "22:50:42 - cmdstanpy - INFO - Chain [1] done processing\n",
            "INFO:cmdstanpy:Chain [1] done processing\n"
          ]
        },
        {
          "output_type": "stream",
          "name": "stdout",
          "text": [
            "Model Number: 273 with model MultivariateMotif in generation 1 of 10\n",
            "Model Number: 274 with model AverageValueNaive in generation 1 of 10\n",
            "Model Number: 275 with model MultivariateRegression in generation 1 of 10\n",
            "Model Number: 276 with model UnivariateMotif in generation 1 of 10\n",
            "Model Number: 277 with model ConstantNaive in generation 1 of 10\n",
            "Model Number: 278 with model MetricMotif in generation 1 of 10\n",
            "Model Number: 279 with model SeasonalNaive in generation 1 of 10\n",
            "Model Number: 280 with model LastValueNaive in generation 1 of 10\n",
            "Model Number: 281 with model MultivariateMotif in generation 1 of 10\n",
            "Model Number: 282 with model MetricMotif in generation 1 of 10\n",
            "Model Number: 283 with model UnobservedComponents in generation 1 of 10\n",
            "Model Number: 284 with model UnobservedComponents in generation 1 of 10\n",
            "Model Number: 285 with model GLS in generation 1 of 10\n",
            "Template Eval Error: Exception('Transformer BTCD failed on fit') in model 285: GLS\n",
            "Model Number: 286 with model Theta in generation 1 of 10\n",
            "Model Number: 287 with model UnivariateMotif in generation 1 of 10\n",
            "Model Number: 288 with model LastValueNaive in generation 1 of 10\n",
            "Model Number: 289 with model LastValueNaive in generation 1 of 10\n",
            "Model Number: 290 with model AverageValueNaive in generation 1 of 10\n",
            "Model Number: 291 with model SectionalMotif in generation 1 of 10\n",
            "Model Number: 292 with model ETS in generation 1 of 10\n"
          ]
        },
        {
          "output_type": "stream",
          "name": "stderr",
          "text": [
            "INFO:prophet:Disabling yearly seasonality. Run prophet with yearly_seasonality=True to override this.\n",
            "INFO:prophet:Disabling daily seasonality. Run prophet with daily_seasonality=True to override this.\n",
            "DEBUG:cmdstanpy:input tempfile: /tmp/tmp7syr8mce/233zb9yn.json\n",
            "DEBUG:cmdstanpy:input tempfile: /tmp/tmp7syr8mce/l3f_k9mb.json\n",
            "DEBUG:cmdstanpy:idx 0\n",
            "DEBUG:cmdstanpy:running CmdStan, num_threads: None\n",
            "DEBUG:cmdstanpy:CmdStan args: ['/usr/local/lib/python3.8/dist-packages/prophet/stan_model/prophet_model.bin', 'random', 'seed=9710', 'data', 'file=/tmp/tmp7syr8mce/233zb9yn.json', 'init=/tmp/tmp7syr8mce/l3f_k9mb.json', 'output', 'file=/tmp/tmp7syr8mce/prophet_model2qxilj0n/prophet_model-20230123225046.csv', 'method=optimize', 'algorithm=lbfgs', 'iter=10000']\n",
            "22:50:46 - cmdstanpy - INFO - Chain [1] start processing\n",
            "INFO:cmdstanpy:Chain [1] start processing\n"
          ]
        },
        {
          "output_type": "stream",
          "name": "stdout",
          "text": [
            "Model Number: 293 with model FBProphet in generation 1 of 10\n"
          ]
        },
        {
          "output_type": "stream",
          "name": "stderr",
          "text": [
            "22:50:47 - cmdstanpy - INFO - Chain [1] done processing\n",
            "INFO:cmdstanpy:Chain [1] done processing\n"
          ]
        },
        {
          "output_type": "stream",
          "name": "stdout",
          "text": [
            "Model Number: 294 with model LastValueNaive in generation 1 of 10\n",
            "Model Number: 295 with model ETS in generation 1 of 10\n",
            "Model Number: 296 with model SeasonalNaive in generation 1 of 10\n",
            "Model Number: 297 with model LastValueNaive in generation 1 of 10\n",
            "Model Number: 298 with model GLM in generation 1 of 10\n",
            "Template Eval Error: ValueError('The first guess on the deviance function returned a nan.  This could be a boundary  problem and should be reported.') in model 298: GLM\n",
            "Model Number: 299 with model SeasonalNaive in generation 1 of 10\n"
          ]
        },
        {
          "output_type": "stream",
          "name": "stderr",
          "text": [
            "/usr/local/lib/python3.8/dist-packages/statsmodels/genmod/families/family.py:1231: RuntimeWarning:\n",
            "\n",
            "divide by zero encountered in log\n",
            "\n",
            "/usr/local/lib/python3.8/dist-packages/statsmodels/genmod/families/family.py:1231: RuntimeWarning:\n",
            "\n",
            "invalid value encountered in multiply\n",
            "\n"
          ]
        },
        {
          "output_type": "stream",
          "name": "stdout",
          "text": [
            "Model Number: 300 with model ARIMA in generation 1 of 10\n",
            "Template Eval Error: ValueError(\"regression_type='User' but future_regressor not supplied\") in model 300: ARIMA\n",
            "Model Number: 301 with model SeasonalNaive in generation 1 of 10\n",
            "Model Number: 302 with model UnobservedComponents in generation 1 of 10\n",
            "Model Number: 303 with model GLM in generation 1 of 10\n",
            "Model Number: 304 with model GLS in generation 1 of 10\n",
            "Model Number: 305 with model MultivariateMotif in generation 1 of 10\n",
            "Model Number: 306 with model ARIMA in generation 1 of 10\n",
            "Model Number: 307 with model ETS in generation 1 of 10\n",
            "ETS error ValueError('endog must be strictly positive when usingmultiplicative trend or seasonal components.')\n",
            "ETS failed on Daily Deceased with ValueError('endog must be strictly positive when usingmultiplicative trend or seasonal components.')\n",
            "Model Number: 308 with model MultivariateRegression in generation 1 of 10\n",
            "Model Number: 309 with model MetricMotif in generation 1 of 10\n",
            "Model Number: 310 with model ARIMA in generation 1 of 10\n",
            "Template Eval Error: ValueError(\"regression_type='User' but future_regressor not supplied\") in model 310: ARIMA\n",
            "Model Number: 311 with model AverageValueNaive in generation 1 of 10\n",
            "Model Number: 312 with model MultivariateMotif in generation 1 of 10\n",
            "Model Number: 313 with model MetricMotif in generation 1 of 10\n",
            "New Generation: 2 of 10\n",
            "Model Number: 314 with model UnivariateMotif in generation 2 of 10\n",
            "Model Number: 315 with model NVAR in generation 2 of 10\n",
            "Model Number: 316 with model AverageValueNaive in generation 2 of 10\n",
            "Model Number: 317 with model LastValueNaive in generation 2 of 10\n",
            "Model Number: 318 with model MultivariateRegression in generation 2 of 10\n",
            "Model Number: 319 with model ETS in generation 2 of 10\n",
            "Model Number: 320 with model AverageValueNaive in generation 2 of 10\n",
            "Model Number: 321 with model NVAR in generation 2 of 10\n",
            "Model Number: 322 with model UnobservedComponents in generation 2 of 10\n",
            "Model Number: 323 with model MetricMotif in generation 2 of 10\n",
            "Model Number: 324 with model FBProphet in generation 2 of 10\n",
            "No anomalies detected.\n"
          ]
        },
        {
          "output_type": "stream",
          "name": "stderr",
          "text": [
            "INFO:prophet:Disabling yearly seasonality. Run prophet with yearly_seasonality=True to override this.\n",
            "INFO:prophet:Disabling daily seasonality. Run prophet with daily_seasonality=True to override this.\n",
            "DEBUG:cmdstanpy:input tempfile: /tmp/tmp7syr8mce/9a0x1n0r.json\n",
            "DEBUG:cmdstanpy:input tempfile: /tmp/tmp7syr8mce/6sw6hkkb.json\n",
            "DEBUG:cmdstanpy:idx 0\n",
            "DEBUG:cmdstanpy:running CmdStan, num_threads: None\n",
            "DEBUG:cmdstanpy:CmdStan args: ['/usr/local/lib/python3.8/dist-packages/prophet/stan_model/prophet_model.bin', 'random', 'seed=81963', 'data', 'file=/tmp/tmp7syr8mce/9a0x1n0r.json', 'init=/tmp/tmp7syr8mce/6sw6hkkb.json', 'output', 'file=/tmp/tmp7syr8mce/prophet_modelvv3ragel/prophet_model-20230123225053.csv', 'method=optimize', 'algorithm=lbfgs', 'iter=10000']\n",
            "22:50:53 - cmdstanpy - INFO - Chain [1] start processing\n",
            "INFO:cmdstanpy:Chain [1] start processing\n",
            "22:50:53 - cmdstanpy - INFO - Chain [1] done processing\n",
            "INFO:cmdstanpy:Chain [1] done processing\n"
          ]
        },
        {
          "output_type": "stream",
          "name": "stdout",
          "text": [
            "Model Number: 325 with model GLS in generation 2 of 10\n",
            "Model Number: 326 with model LastValueNaive in generation 2 of 10\n",
            "Model Number: 327 with model NVAR in generation 2 of 10\n"
          ]
        },
        {
          "output_type": "stream",
          "name": "stderr",
          "text": [
            "INFO:prophet:Disabling yearly seasonality. Run prophet with yearly_seasonality=True to override this.\n",
            "INFO:prophet:Disabling daily seasonality. Run prophet with daily_seasonality=True to override this.\n"
          ]
        },
        {
          "output_type": "stream",
          "name": "stdout",
          "text": [
            "Model Number: 328 with model FBProphet in generation 2 of 10\n"
          ]
        },
        {
          "output_type": "stream",
          "name": "stderr",
          "text": [
            "DEBUG:cmdstanpy:input tempfile: /tmp/tmp7syr8mce/hyb_fyf2.json\n",
            "DEBUG:cmdstanpy:input tempfile: /tmp/tmp7syr8mce/f308q08a.json\n",
            "DEBUG:cmdstanpy:idx 0\n",
            "DEBUG:cmdstanpy:running CmdStan, num_threads: None\n",
            "DEBUG:cmdstanpy:CmdStan args: ['/usr/local/lib/python3.8/dist-packages/prophet/stan_model/prophet_model.bin', 'random', 'seed=2959', 'data', 'file=/tmp/tmp7syr8mce/hyb_fyf2.json', 'init=/tmp/tmp7syr8mce/f308q08a.json', 'output', 'file=/tmp/tmp7syr8mce/prophet_modeljns6nfoa/prophet_model-20230123225055.csv', 'method=optimize', 'algorithm=lbfgs', 'iter=10000']\n",
            "22:50:55 - cmdstanpy - INFO - Chain [1] start processing\n",
            "INFO:cmdstanpy:Chain [1] start processing\n",
            "22:50:56 - cmdstanpy - INFO - Chain [1] done processing\n",
            "INFO:cmdstanpy:Chain [1] done processing\n"
          ]
        },
        {
          "output_type": "stream",
          "name": "stdout",
          "text": [
            "Model Number: 329 with model WindowRegression in generation 2 of 10\n",
            "Model Number: 330 with model MetricMotif in generation 2 of 10\n",
            "Model Number: 331 with model SeasonalNaive in generation 2 of 10\n"
          ]
        },
        {
          "output_type": "stream",
          "name": "stderr",
          "text": [
            "/usr/local/lib/python3.8/dist-packages/autots/tools/thresholding.py:204: RuntimeWarning:\n",
            "\n",
            "overflow encountered in double_scalars\n",
            "\n"
          ]
        },
        {
          "output_type": "stream",
          "name": "stdout",
          "text": [
            "Model Number: 332 with model MultivariateMotif in generation 2 of 10\n",
            "Model Number: 333 with model LastValueNaive in generation 2 of 10\n",
            "Model Number: 334 with model NVAR in generation 2 of 10\n",
            "Model Number: 335 with model WindowRegression in generation 2 of 10\n"
          ]
        },
        {
          "output_type": "stream",
          "name": "stderr",
          "text": [
            "/usr/local/lib/python3.8/dist-packages/sklearn/svm/_base.py:1206: ConvergenceWarning:\n",
            "\n",
            "Liblinear failed to converge, increase the number of iterations.\n",
            "\n"
          ]
        },
        {
          "output_type": "stream",
          "name": "stdout",
          "text": [
            "Model Number: 336 with model ConstantNaive in generation 2 of 10\n",
            "Model Number: 337 with model MultivariateMotif in generation 2 of 10\n",
            "Model Number: 338 with model UnobservedComponents in generation 2 of 10\n",
            "Template Eval Error: Exception('Transformer BTCD failed on fit') in model 338: UnobservedComponents\n",
            "Model Number: 339 with model WindowRegression in generation 2 of 10\n",
            "Model Number: 340 with model LastValueNaive in generation 2 of 10\n",
            "Model Number: 341 with model AverageValueNaive in generation 2 of 10\n"
          ]
        },
        {
          "output_type": "stream",
          "name": "stderr",
          "text": [
            "/usr/local/lib/python3.8/dist-packages/sklearn/svm/_base.py:1206: ConvergenceWarning:\n",
            "\n",
            "Liblinear failed to converge, increase the number of iterations.\n",
            "\n"
          ]
        },
        {
          "output_type": "stream",
          "name": "stdout",
          "text": [
            "Model Number: 342 with model SeasonalNaive in generation 2 of 10\n",
            "Model Number: 343 with model AverageValueNaive in generation 2 of 10\n",
            "Model Number: 344 with model SectionalMotif in generation 2 of 10\n",
            "Model Number: 345 with model MultivariateMotif in generation 2 of 10\n",
            "Model Number: 346 with model MultivariateRegression in generation 2 of 10\n",
            "Template Eval Error: ValueError(\"regression_type='User' but not future_regressor supplied.\") in model 346: MultivariateRegression\n",
            "Model Number: 347 with model MetricMotif in generation 2 of 10\n",
            "Model Number: 348 with model ETS in generation 2 of 10\n",
            "Model Number: 349 with model LastValueNaive in generation 2 of 10\n",
            "Model Number: 350 with model SectionalMotif in generation 2 of 10\n",
            "Model Number: 351 with model UnobservedComponents in generation 2 of 10\n",
            "Model Number: 352 with model FBProphet in generation 2 of 10\n"
          ]
        },
        {
          "output_type": "stream",
          "name": "stderr",
          "text": [
            "INFO:prophet:Disabling yearly seasonality. Run prophet with yearly_seasonality=True to override this.\n",
            "INFO:prophet:Disabling daily seasonality. Run prophet with daily_seasonality=True to override this.\n",
            "DEBUG:cmdstanpy:input tempfile: /tmp/tmp7syr8mce/nq5nff_z.json\n",
            "DEBUG:cmdstanpy:input tempfile: /tmp/tmp7syr8mce/_sttiwxs.json\n",
            "DEBUG:cmdstanpy:idx 0\n",
            "DEBUG:cmdstanpy:running CmdStan, num_threads: None\n",
            "DEBUG:cmdstanpy:CmdStan args: ['/usr/local/lib/python3.8/dist-packages/prophet/stan_model/prophet_model.bin', 'random', 'seed=3764', 'data', 'file=/tmp/tmp7syr8mce/nq5nff_z.json', 'init=/tmp/tmp7syr8mce/_sttiwxs.json', 'output', 'file=/tmp/tmp7syr8mce/prophet_modelutuyj_lg/prophet_model-20230123225102.csv', 'method=optimize', 'algorithm=lbfgs', 'iter=10000']\n",
            "22:51:02 - cmdstanpy - INFO - Chain [1] start processing\n",
            "INFO:cmdstanpy:Chain [1] start processing\n",
            "22:51:02 - cmdstanpy - INFO - Chain [1] done processing\n",
            "INFO:cmdstanpy:Chain [1] done processing\n"
          ]
        },
        {
          "output_type": "stream",
          "name": "stdout",
          "text": [
            "Model Number: 353 with model ETS in generation 2 of 10\n",
            "Model Number: 354 with model MultivariateRegression in generation 2 of 10\n",
            "Model Number: 355 with model MultivariateMotif in generation 2 of 10\n",
            "Model Number: 356 with model ETS in generation 2 of 10\n",
            "Model Number: 357 with model SectionalMotif in generation 2 of 10\n",
            "Template Eval Error: ValueError('kth(=100) out of bounds (66)') in model 357: SectionalMotif\n",
            "Model Number: 358 with model UnivariateMotif in generation 2 of 10\n",
            "Model Number: 359 with model GLM in generation 2 of 10\n"
          ]
        },
        {
          "output_type": "stream",
          "name": "stderr",
          "text": [
            "/usr/local/lib/python3.8/dist-packages/statsmodels/genmod/generalized_linear_model.py:293: DomainWarning:\n",
            "\n",
            "The inverse_power link function does not respect the domain of the Gamma family.\n",
            "\n"
          ]
        },
        {
          "output_type": "stream",
          "name": "stdout",
          "text": [
            "Model Number: 360 with model UnivariateMotif in generation 2 of 10\n",
            "Model Number: 361 with model MetricMotif in generation 2 of 10\n",
            "Model Number: 362 with model MultivariateRegression in generation 2 of 10\n",
            "Model Number: 363 with model LastValueNaive in generation 2 of 10\n",
            "Model Number: 364 with model LastValueNaive in generation 2 of 10\n",
            "Model Number: 365 with model ETS in generation 2 of 10\n",
            "Model Number: 366 with model SeasonalNaive in generation 2 of 10\n",
            "Model Number: 367 with model Theta in generation 2 of 10\n",
            "Model Number: 368 with model NVAR in generation 2 of 10\n",
            "Model Number: 369 with model GLS in generation 2 of 10\n",
            "Model Number: 370 with model SeasonalNaive in generation 2 of 10\n",
            "Model Number: 371 with model MetricMotif in generation 2 of 10\n",
            "Model Number: 372 with model LastValueNaive in generation 2 of 10\n",
            "Model Number: 373 with model LastValueNaive in generation 2 of 10\n",
            "Model Number: 374 with model MultivariateRegression in generation 2 of 10\n",
            "Template Eval Error: ValueError(\"regression_type='User' but not future_regressor supplied.\") in model 374: MultivariateRegression\n",
            "Model Number: 375 with model UnivariateMotif in generation 2 of 10\n",
            "Model Number: 376 with model AverageValueNaive in generation 2 of 10\n",
            "Model Number: 377 with model MultivariateMotif in generation 2 of 10\n",
            "Model Number: 378 with model UnobservedComponents in generation 2 of 10\n",
            "Model Number: 379 with model UnobservedComponents in generation 2 of 10\n",
            "Model Number: 380 with model MetricMotif in generation 2 of 10\n"
          ]
        },
        {
          "output_type": "stream",
          "name": "stderr",
          "text": [
            "INFO:prophet:Disabling yearly seasonality. Run prophet with yearly_seasonality=True to override this.\n",
            "INFO:prophet:Disabling daily seasonality. Run prophet with daily_seasonality=True to override this.\n",
            "DEBUG:cmdstanpy:input tempfile: /tmp/tmp7syr8mce/h_9op14a.json\n",
            "DEBUG:cmdstanpy:input tempfile: /tmp/tmp7syr8mce/zixg92j_.json\n",
            "DEBUG:cmdstanpy:idx 0\n",
            "DEBUG:cmdstanpy:running CmdStan, num_threads: None\n",
            "DEBUG:cmdstanpy:CmdStan args: ['/usr/local/lib/python3.8/dist-packages/prophet/stan_model/prophet_model.bin', 'random', 'seed=55277', 'data', 'file=/tmp/tmp7syr8mce/h_9op14a.json', 'init=/tmp/tmp7syr8mce/zixg92j_.json', 'output', 'file=/tmp/tmp7syr8mce/prophet_modelfhhwqhre/prophet_model-20230123225107.csv', 'method=optimize', 'algorithm=lbfgs', 'iter=10000']\n",
            "22:51:07 - cmdstanpy - INFO - Chain [1] start processing\n",
            "INFO:cmdstanpy:Chain [1] start processing\n"
          ]
        },
        {
          "output_type": "stream",
          "name": "stdout",
          "text": [
            "Model Number: 381 with model FBProphet in generation 2 of 10\n"
          ]
        },
        {
          "output_type": "stream",
          "name": "stderr",
          "text": [
            "22:51:08 - cmdstanpy - INFO - Chain [1] done processing\n",
            "INFO:cmdstanpy:Chain [1] done processing\n"
          ]
        },
        {
          "output_type": "stream",
          "name": "stdout",
          "text": [
            "Model Number: 382 with model MultivariateMotif in generation 2 of 10\n",
            "Model Number: 383 with model NVAR in generation 2 of 10\n",
            "Model Number: 384 with model MultivariateMotif in generation 2 of 10\n",
            "Model Number: 385 with model MultivariateMotif in generation 2 of 10\n",
            "Model Number: 386 with model NVAR in generation 2 of 10\n",
            "Model Number: 387 with model SeasonalNaive in generation 2 of 10\n",
            "Model Number: 388 with model LastValueNaive in generation 2 of 10\n",
            "Model Number: 389 with model ARIMA in generation 2 of 10\n",
            "Model Number: 390 with model SeasonalNaive in generation 2 of 10\n",
            "Model Number: 391 with model ETS in generation 2 of 10\n",
            "Model Number: 392 with model MultivariateRegression in generation 2 of 10\n",
            "Model Number: 393 with model SeasonalNaive in generation 2 of 10\n",
            "Model Number: 394 with model MultivariateRegression in generation 2 of 10\n",
            "Model Number: 395 with model DatepartRegression in generation 2 of 10\n",
            "Model Number: 396 with model LastValueNaive in generation 2 of 10\n",
            "Model Number: 397 with model GLM in generation 2 of 10\n",
            "Template Eval Error: ValueError('NaN, inf or invalid value detected in weights, estimation infeasible.') in model 397: GLM\n",
            "Model Number: 398 with model UnobservedComponents in generation 2 of 10\n"
          ]
        },
        {
          "output_type": "stream",
          "name": "stderr",
          "text": [
            "/usr/local/lib/python3.8/dist-packages/statsmodels/genmod/families/links.py:517: RuntimeWarning:\n",
            "\n",
            "overflow encountered in exp\n",
            "\n",
            "/usr/local/lib/python3.8/dist-packages/statsmodels/genmod/families/family.py:428: RuntimeWarning:\n",
            "\n",
            "divide by zero encountered in true_divide\n",
            "\n",
            "/usr/local/lib/python3.8/dist-packages/statsmodels/genmod/families/family.py:134: RuntimeWarning:\n",
            "\n",
            "invalid value encountered in multiply\n",
            "\n",
            "/usr/local/lib/python3.8/dist-packages/statsmodels/genmod/families/family.py:134: RuntimeWarning:\n",
            "\n",
            "divide by zero encountered in true_divide\n",
            "\n",
            "/usr/local/lib/python3.8/dist-packages/statsmodels/genmod/generalized_linear_model.py:1198: RuntimeWarning:\n",
            "\n",
            "invalid value encountered in multiply\n",
            "\n"
          ]
        },
        {
          "output_type": "stream",
          "name": "stdout",
          "text": [
            "Model Number: 399 with model SeasonalNaive in generation 2 of 10\n",
            "Model Number: 400 with model UnobservedComponents in generation 2 of 10\n",
            "Model Number: 401 with model MultivariateRegression in generation 2 of 10\n",
            "Model Number: 402 with model MultivariateRegression in generation 2 of 10\n"
          ]
        },
        {
          "output_type": "stream",
          "name": "stderr",
          "text": [
            "/usr/local/lib/python3.8/dist-packages/sklearn/experimental/enable_hist_gradient_boosting.py:16: UserWarning:\n",
            "\n",
            "Since version 1.0, it is not needed to import enable_hist_gradient_boosting anymore. HistGradientBoostingClassifier and HistGradientBoostingRegressor are now stable and can be normally imported from sklearn.ensemble.\n",
            "\n"
          ]
        },
        {
          "output_type": "stream",
          "name": "stdout",
          "text": [
            "Model Number: 403 with model AverageValueNaive in generation 2 of 10\n",
            "Model Number: 404 with model NVAR in generation 2 of 10\n",
            "Model Number: 405 with model UnobservedComponents in generation 2 of 10\n",
            "Model Number: 406 with model UnivariateMotif in generation 2 of 10\n",
            "Model Number: 407 with model GLM in generation 2 of 10\n",
            "Template Eval Error: ValueError('regression_type=user and no future_regressor passed') in model 407: GLM\n",
            "Model Number: 408 with model ARIMA in generation 2 of 10\n",
            "Model Number: 409 with model DatepartRegression in generation 2 of 10\n",
            "Model Number: 410 with model UnivariateMotif in generation 2 of 10\n",
            "Model Number: 411 with model LastValueNaive in generation 2 of 10\n",
            "Model Number: 412 with model DatepartRegression in generation 2 of 10\n",
            "Epoch 1/100\n",
            "Template Eval Error: InvalidArgumentError() in model 412: DatepartRegression\n",
            "Model Number: 413 with model AverageValueNaive in generation 2 of 10\n",
            "Model Number: 414 with model WindowRegression in generation 2 of 10\n",
            "Model Number: 415 with model NVAR in generation 2 of 10\n",
            "Model Number: 416 with model MetricMotif in generation 2 of 10\n",
            "Model Number: 417 with model Theta in generation 2 of 10\n",
            "Model Number: 418 with model ARIMA in generation 2 of 10\n",
            "Template Eval Error: Exception('Transformer Cointegration failed on fit') in model 418: ARIMA\n",
            "Model Number: 419 with model SeasonalNaive in generation 2 of 10\n",
            "Model Number: 420 with model ARIMA in generation 2 of 10\n",
            "Model Number: 421 with model WindowRegression in generation 2 of 10\n",
            "Epoch 1/50\n",
            "21/21 [==============================] - 7s 40ms/step - loss: 73.2920\n",
            "Epoch 2/50\n",
            "21/21 [==============================] - 1s 35ms/step - loss: 73.2249\n",
            "Epoch 3/50\n",
            "21/21 [==============================] - 1s 35ms/step - loss: 73.1309\n",
            "Epoch 4/50\n",
            "21/21 [==============================] - 1s 36ms/step - loss: 72.9941\n",
            "Epoch 5/50\n",
            "21/21 [==============================] - 1s 35ms/step - loss: 72.8206\n",
            "Epoch 6/50\n",
            "21/21 [==============================] - 1s 35ms/step - loss: 72.7358\n",
            "Epoch 7/50\n",
            "21/21 [==============================] - 1s 34ms/step - loss: 72.3802\n",
            "Epoch 8/50\n",
            "21/21 [==============================] - 1s 36ms/step - loss: 72.2403\n",
            "Epoch 9/50\n",
            "21/21 [==============================] - 1s 35ms/step - loss: 72.0804\n",
            "Epoch 10/50\n",
            "21/21 [==============================] - 1s 34ms/step - loss: 71.8802\n",
            "Epoch 11/50\n",
            "21/21 [==============================] - 1s 36ms/step - loss: 71.5083\n",
            "Epoch 12/50\n",
            "21/21 [==============================] - 1s 35ms/step - loss: 71.6702\n",
            "Epoch 13/50\n",
            "21/21 [==============================] - 1s 34ms/step - loss: 71.2861\n",
            "Epoch 14/50\n",
            "21/21 [==============================] - 1s 36ms/step - loss: 71.0005\n",
            "Epoch 15/50\n",
            "21/21 [==============================] - 1s 36ms/step - loss: 71.1609\n",
            "Epoch 16/50\n",
            "21/21 [==============================] - 1s 35ms/step - loss: 70.8052\n",
            "Epoch 17/50\n",
            "21/21 [==============================] - 1s 35ms/step - loss: 70.1597\n",
            "Epoch 18/50\n",
            "21/21 [==============================] - 1s 34ms/step - loss: 70.0025\n",
            "Epoch 19/50\n",
            "21/21 [==============================] - 1s 35ms/step - loss: 69.7616\n",
            "Epoch 20/50\n",
            "21/21 [==============================] - 1s 34ms/step - loss: 70.3620\n",
            "Epoch 21/50\n",
            "21/21 [==============================] - 1s 35ms/step - loss: 69.9414\n",
            "Epoch 22/50\n",
            "21/21 [==============================] - 1s 36ms/step - loss: 69.6825\n",
            "Epoch 23/50\n",
            "21/21 [==============================] - 1s 36ms/step - loss: 69.0313\n",
            "Epoch 24/50\n",
            "21/21 [==============================] - 1s 35ms/step - loss: 69.1636\n",
            "Epoch 25/50\n",
            "21/21 [==============================] - 1s 35ms/step - loss: 68.6377\n",
            "Epoch 26/50\n",
            "21/21 [==============================] - 1s 36ms/step - loss: 68.0789\n",
            "Epoch 27/50\n",
            "21/21 [==============================] - 1s 35ms/step - loss: 67.5890\n",
            "Epoch 28/50\n",
            "21/21 [==============================] - 1s 35ms/step - loss: 67.4762\n",
            "Epoch 29/50\n",
            "21/21 [==============================] - 1s 37ms/step - loss: 66.6115\n",
            "Epoch 30/50\n",
            "21/21 [==============================] - 1s 35ms/step - loss: 66.9217\n",
            "Epoch 31/50\n",
            "21/21 [==============================] - 1s 35ms/step - loss: 66.5593\n",
            "Epoch 32/50\n",
            "21/21 [==============================] - 1s 35ms/step - loss: 66.2361\n",
            "Epoch 33/50\n",
            "21/21 [==============================] - 1s 35ms/step - loss: 65.7839\n",
            "Epoch 34/50\n",
            "21/21 [==============================] - 1s 38ms/step - loss: 65.7996\n",
            "Epoch 35/50\n",
            "21/21 [==============================] - 1s 37ms/step - loss: 64.9234\n",
            "Epoch 36/50\n",
            "21/21 [==============================] - 1s 37ms/step - loss: 64.8377\n",
            "Epoch 37/50\n",
            "21/21 [==============================] - 1s 35ms/step - loss: 64.7764\n",
            "Epoch 38/50\n",
            "21/21 [==============================] - 1s 34ms/step - loss: 64.4417\n",
            "Epoch 39/50\n",
            "21/21 [==============================] - 1s 34ms/step - loss: 64.0640\n",
            "Epoch 40/50\n",
            "21/21 [==============================] - 1s 35ms/step - loss: 63.7249\n",
            "Epoch 41/50\n",
            "21/21 [==============================] - 1s 35ms/step - loss: 63.5359\n",
            "Epoch 42/50\n",
            "21/21 [==============================] - 1s 45ms/step - loss: 62.8848\n",
            "Epoch 43/50\n",
            "21/21 [==============================] - 1s 63ms/step - loss: 63.0802\n",
            "Epoch 44/50\n",
            "21/21 [==============================] - 1s 68ms/step - loss: 62.7838\n",
            "Epoch 45/50\n",
            "21/21 [==============================] - 1s 35ms/step - loss: 62.0874\n",
            "Epoch 46/50\n",
            "21/21 [==============================] - 1s 34ms/step - loss: 62.7828\n",
            "Epoch 47/50\n",
            "21/21 [==============================] - 1s 35ms/step - loss: 62.0029\n",
            "Epoch 48/50\n",
            "21/21 [==============================] - 1s 35ms/step - loss: 61.7019\n",
            "Epoch 49/50\n",
            "21/21 [==============================] - 1s 36ms/step - loss: 61.1994\n",
            "Epoch 50/50\n",
            "21/21 [==============================] - 1s 35ms/step - loss: 60.6957\n",
            "1/1 [==============================] - 1s 1s/step\n",
            "1/1 [==============================] - 0s 23ms/step\n",
            "1/1 [==============================] - 0s 23ms/step\n",
            "1/1 [==============================] - 0s 21ms/step\n",
            "1/1 [==============================] - 0s 20ms/step\n",
            "1/1 [==============================] - 0s 22ms/step\n",
            "1/1 [==============================] - 0s 27ms/step\n",
            "1/1 [==============================] - 0s 21ms/step\n",
            "1/1 [==============================] - 0s 21ms/step\n",
            "1/1 [==============================] - 0s 21ms/step\n",
            "1/1 [==============================] - 0s 21ms/step\n",
            "1/1 [==============================] - 0s 28ms/step\n",
            "1/1 [==============================] - 0s 21ms/step\n",
            "1/1 [==============================] - 0s 30ms/step\n",
            "1/1 [==============================] - 0s 24ms/step\n",
            "1/1 [==============================] - 0s 25ms/step\n",
            "1/1 [==============================] - 0s 25ms/step\n",
            "1/1 [==============================] - 0s 24ms/step\n",
            "1/1 [==============================] - 0s 29ms/step\n",
            "1/1 [==============================] - 0s 28ms/step\n",
            "1/1 [==============================] - 0s 27ms/step\n",
            "1/1 [==============================] - 0s 23ms/step\n",
            "1/1 [==============================] - 0s 24ms/step\n",
            "1/1 [==============================] - 0s 24ms/step\n",
            "1/1 [==============================] - 0s 26ms/step\n",
            "1/1 [==============================] - 0s 28ms/step\n",
            "1/1 [==============================] - 0s 21ms/step\n",
            "1/1 [==============================] - 0s 23ms/step\n",
            "1/1 [==============================] - 0s 22ms/step\n",
            "1/1 [==============================] - 0s 22ms/step\n",
            "Model Number: 422 with model LastValueNaive in generation 2 of 10\n",
            "Model Number: 423 with model UnivariateMotif in generation 2 of 10\n",
            "Model Number: 424 with model MetricMotif in generation 2 of 10\n",
            "Model Number: 425 with model UnivariateMotif in generation 2 of 10\n",
            "Model Number: 426 with model ETS in generation 2 of 10\n",
            "Model Number: 427 with model UnivariateMotif in generation 2 of 10\n",
            "Model Number: 428 with model DatepartRegression in generation 2 of 10\n",
            "Model Number: 429 with model DatepartRegression in generation 2 of 10\n"
          ]
        },
        {
          "output_type": "stream",
          "name": "stderr",
          "text": [
            "INFO:prophet:Disabling yearly seasonality. Run prophet with yearly_seasonality=True to override this.\n",
            "INFO:prophet:Disabling daily seasonality. Run prophet with daily_seasonality=True to override this.\n",
            "DEBUG:cmdstanpy:input tempfile: /tmp/tmp7syr8mce/0mr5vmqz.json\n"
          ]
        },
        {
          "output_type": "stream",
          "name": "stdout",
          "text": [
            "Template Eval Error: ValueError(\"regression_type='User' but no future_regressor passed\") in model 429: DatepartRegression\n",
            "Model Number: 430 with model FBProphet in generation 2 of 10\n"
          ]
        },
        {
          "output_type": "stream",
          "name": "stderr",
          "text": [
            "DEBUG:cmdstanpy:input tempfile: /tmp/tmp7syr8mce/qco_mxrl.json\n",
            "DEBUG:cmdstanpy:idx 0\n",
            "DEBUG:cmdstanpy:running CmdStan, num_threads: None\n",
            "DEBUG:cmdstanpy:CmdStan args: ['/usr/local/lib/python3.8/dist-packages/prophet/stan_model/prophet_model.bin', 'random', 'seed=51750', 'data', 'file=/tmp/tmp7syr8mce/0mr5vmqz.json', 'init=/tmp/tmp7syr8mce/qco_mxrl.json', 'output', 'file=/tmp/tmp7syr8mce/prophet_model6n6uh939/prophet_model-20230123225218.csv', 'method=optimize', 'algorithm=lbfgs', 'iter=10000']\n",
            "22:52:18 - cmdstanpy - INFO - Chain [1] start processing\n",
            "INFO:cmdstanpy:Chain [1] start processing\n",
            "22:52:19 - cmdstanpy - INFO - Chain [1] done processing\n",
            "INFO:cmdstanpy:Chain [1] done processing\n"
          ]
        },
        {
          "output_type": "stream",
          "name": "stdout",
          "text": [
            "Model Number: 431 with model WindowRegression in generation 2 of 10\n",
            "Template Eval Error: ValueError(\"regression_type='User' but no future_regressor passed\") in model 431: WindowRegression\n",
            "Model Number: 432 with model MultivariateMotif in generation 2 of 10\n",
            "Model Number: 433 with model WindowRegression in generation 2 of 10\n",
            "Model Number: 434 with model MultivariateMotif in generation 2 of 10\n",
            "Model Number: 435 with model Theta in generation 2 of 10\n",
            "Model Number: 436 with model ETS in generation 2 of 10\n",
            "Model Number: 437 with model AverageValueNaive in generation 2 of 10\n"
          ]
        },
        {
          "output_type": "stream",
          "name": "stderr",
          "text": [
            "INFO:prophet:Disabling yearly seasonality. Run prophet with yearly_seasonality=True to override this.\n",
            "INFO:prophet:Disabling daily seasonality. Run prophet with daily_seasonality=True to override this.\n",
            "DEBUG:cmdstanpy:input tempfile: /tmp/tmp7syr8mce/7zzenlxf.json\n",
            "DEBUG:cmdstanpy:input tempfile: /tmp/tmp7syr8mce/ea6x59l6.json\n",
            "DEBUG:cmdstanpy:idx 0\n",
            "DEBUG:cmdstanpy:running CmdStan, num_threads: None\n",
            "DEBUG:cmdstanpy:CmdStan args: ['/usr/local/lib/python3.8/dist-packages/prophet/stan_model/prophet_model.bin', 'random', 'seed=24343', 'data', 'file=/tmp/tmp7syr8mce/7zzenlxf.json', 'init=/tmp/tmp7syr8mce/ea6x59l6.json', 'output', 'file=/tmp/tmp7syr8mce/prophet_modelrmbz0vm0/prophet_model-20230123225221.csv', 'method=optimize', 'algorithm=lbfgs', 'iter=10000']\n",
            "22:52:21 - cmdstanpy - INFO - Chain [1] start processing\n",
            "INFO:cmdstanpy:Chain [1] start processing\n"
          ]
        },
        {
          "output_type": "stream",
          "name": "stdout",
          "text": [
            "Model Number: 438 with model FBProphet in generation 2 of 10\n"
          ]
        },
        {
          "output_type": "stream",
          "name": "stderr",
          "text": [
            "22:52:21 - cmdstanpy - INFO - Chain [1] done processing\n",
            "INFO:cmdstanpy:Chain [1] done processing\n"
          ]
        },
        {
          "output_type": "stream",
          "name": "stdout",
          "text": [
            "New Generation: 3 of 10\n",
            "Model Number: 439 with model NVAR in generation 3 of 10\n",
            "Model Number: 440 with model SeasonalNaive in generation 3 of 10\n",
            "Model Number: 441 with model SectionalMotif in generation 3 of 10\n",
            "Model Number: 442 with model UnivariateMotif in generation 3 of 10\n",
            "Model Number: 443 with model LastValueNaive in generation 3 of 10\n",
            "Model Number: 444 with model AverageValueNaive in generation 3 of 10\n",
            "Model Number: 445 with model AverageValueNaive in generation 3 of 10\n",
            "Model Number: 446 with model NVAR in generation 3 of 10\n",
            "Model Number: 447 with model SeasonalNaive in generation 3 of 10\n",
            "Model Number: 448 with model UnivariateMotif in generation 3 of 10\n",
            "Model Number: 449 with model UnivariateMotif in generation 3 of 10\n",
            "Template Eval Error: Exception('Transformer BTCD failed on fit') in model 449: UnivariateMotif\n",
            "Model Number: 450 with model MetricMotif in generation 3 of 10\n",
            "Model Number: 451 with model UnivariateMotif in generation 3 of 10\n",
            "Template Eval Error: Exception('Transformer Cointegration failed on fit') in model 451: UnivariateMotif\n",
            "Model Number: 452 with model ETS in generation 3 of 10\n",
            "Model Number: 453 with model MetricMotif in generation 3 of 10\n"
          ]
        },
        {
          "output_type": "stream",
          "name": "stderr",
          "text": [
            "INFO:prophet:Disabling yearly seasonality. Run prophet with yearly_seasonality=True to override this.\n",
            "INFO:prophet:Disabling daily seasonality. Run prophet with daily_seasonality=True to override this.\n",
            "DEBUG:cmdstanpy:input tempfile: /tmp/tmp7syr8mce/k189t7ot.json\n"
          ]
        },
        {
          "output_type": "stream",
          "name": "stdout",
          "text": [
            "Model Number: 454 with model FBProphet in generation 3 of 10\n"
          ]
        },
        {
          "output_type": "stream",
          "name": "stderr",
          "text": [
            "DEBUG:cmdstanpy:input tempfile: /tmp/tmp7syr8mce/gscsut1o.json\n",
            "DEBUG:cmdstanpy:idx 0\n",
            "DEBUG:cmdstanpy:running CmdStan, num_threads: None\n",
            "DEBUG:cmdstanpy:CmdStan args: ['/usr/local/lib/python3.8/dist-packages/prophet/stan_model/prophet_model.bin', 'random', 'seed=26498', 'data', 'file=/tmp/tmp7syr8mce/k189t7ot.json', 'init=/tmp/tmp7syr8mce/gscsut1o.json', 'output', 'file=/tmp/tmp7syr8mce/prophet_modelnhlf_gj5/prophet_model-20230123225224.csv', 'method=optimize', 'algorithm=lbfgs', 'iter=10000']\n",
            "22:52:24 - cmdstanpy - INFO - Chain [1] start processing\n",
            "INFO:cmdstanpy:Chain [1] start processing\n",
            "22:52:24 - cmdstanpy - INFO - Chain [1] done processing\n",
            "INFO:cmdstanpy:Chain [1] done processing\n"
          ]
        },
        {
          "output_type": "stream",
          "name": "stdout",
          "text": [
            "Model Number: 455 with model LastValueNaive in generation 3 of 10\n",
            "Model Number: 456 with model UnivariateMotif in generation 3 of 10\n",
            "Template Eval Error: Exception('Transformer BTCD failed on fit') in model 456: UnivariateMotif\n",
            "Model Number: 457 with model SectionalMotif in generation 3 of 10\n",
            "Model Number: 458 with model AverageValueNaive in generation 3 of 10\n",
            "Model Number: 459 with model Theta in generation 3 of 10\n",
            "Model Number: 460 with model GLM in generation 3 of 10\n",
            "Template Eval Error: ValueError('NaN, inf or invalid value detected in weights, estimation infeasible.') in model 460: GLM\n",
            "Model Number: 461 with model LastValueNaive in generation 3 of 10\n",
            "Model Number: 462 with model MultivariateMotif in generation 3 of 10\n"
          ]
        },
        {
          "output_type": "stream",
          "name": "stderr",
          "text": [
            "/usr/local/lib/python3.8/dist-packages/statsmodels/genmod/generalized_linear_model.py:293: DomainWarning:\n",
            "\n",
            "The inverse_power link function does not respect the domain of the Gamma family.\n",
            "\n",
            "/usr/local/lib/python3.8/dist-packages/statsmodels/genmod/families/family.py:134: RuntimeWarning:\n",
            "\n",
            "overflow encountered in square\n",
            "\n",
            "/usr/local/lib/python3.8/dist-packages/statsmodels/genmod/families/links.py:319: RuntimeWarning:\n",
            "\n",
            "divide by zero encountered in power\n",
            "\n",
            "/usr/local/lib/python3.8/dist-packages/statsmodels/genmod/families/family.py:698: RuntimeWarning:\n",
            "\n",
            "invalid value encountered in true_divide\n",
            "\n",
            "/usr/local/lib/python3.8/dist-packages/statsmodels/genmod/generalized_linear_model.py:798: RuntimeWarning:\n",
            "\n",
            "invalid value encountered in true_divide\n",
            "\n",
            "/usr/local/lib/python3.8/dist-packages/statsmodels/genmod/families/family.py:134: RuntimeWarning:\n",
            "\n",
            "invalid value encountered in multiply\n",
            "\n",
            "/usr/local/lib/python3.8/dist-packages/statsmodels/genmod/generalized_linear_model.py:1198: RuntimeWarning:\n",
            "\n",
            "invalid value encountered in multiply\n",
            "\n"
          ]
        },
        {
          "output_type": "stream",
          "name": "stdout",
          "text": [
            "Model Number: 463 with model SectionalMotif in generation 3 of 10\n",
            "Model Number: 464 with model UnivariateMotif in generation 3 of 10\n",
            "Model Number: 465 with model UnobservedComponents in generation 3 of 10\n",
            "Template Eval Error: ValueError(\"regression_type='User' but no future_regressor supplied\") in model 465: UnobservedComponents\n",
            "Model Number: 466 with model ETS in generation 3 of 10\n",
            "Model Number: 467 with model UnivariateMotif in generation 3 of 10\n",
            "Model Number: 468 with model AverageValueNaive in generation 3 of 10\n",
            "Model Number: 469 with model GLM in generation 3 of 10\n",
            "Model Number: 470 with model AverageValueNaive in generation 3 of 10\n",
            "Model Number: 471 with model MultivariateMotif in generation 3 of 10\n",
            "Model Number: 472 with model MultivariateMotif in generation 3 of 10\n",
            "Model Number: 473 with model ConstantNaive in generation 3 of 10\n",
            "Model Number: 474 with model NVAR in generation 3 of 10\n",
            "Model Number: 475 with model MetricMotif in generation 3 of 10\n",
            "Model Number: 476 with model SeasonalNaive in generation 3 of 10\n",
            "Model Number: 477 with model ConstantNaive in generation 3 of 10\n",
            "Model Number: 478 with model AverageValueNaive in generation 3 of 10\n",
            "Model Number: 479 with model MultivariateMotif in generation 3 of 10\n",
            "Model Number: 480 with model Theta in generation 3 of 10\n",
            "Model Number: 481 with model LastValueNaive in generation 3 of 10\n",
            "Model Number: 482 with model MultivariateRegression in generation 3 of 10\n",
            "Model Number: 483 with model NVAR in generation 3 of 10\n",
            "Model Number: 484 with model WindowRegression in generation 3 of 10\n",
            "Model Number: 485 with model UnobservedComponents in generation 3 of 10\n",
            "Model Number: 486 with model ARIMA in generation 3 of 10\n",
            "Model Number: 487 with model MetricMotif in generation 3 of 10\n",
            "Model Number: 488 with model DatepartRegression in generation 3 of 10\n",
            "Epoch 1/50\n",
            "10/10 [==============================] - 5s 19ms/step - loss: 572.1312\n",
            "Epoch 2/50\n",
            "10/10 [==============================] - 0s 18ms/step - loss: 524.4805\n",
            "Epoch 3/50\n",
            "10/10 [==============================] - 0s 18ms/step - loss: 522.6827\n",
            "Epoch 4/50\n",
            "10/10 [==============================] - 0s 17ms/step - loss: 522.8049\n",
            "Epoch 5/50\n",
            "10/10 [==============================] - 0s 19ms/step - loss: 522.1317\n",
            "Epoch 6/50\n",
            "10/10 [==============================] - 0s 18ms/step - loss: 522.8564\n",
            "Epoch 7/50\n",
            "10/10 [==============================] - 0s 18ms/step - loss: 522.5015\n",
            "Epoch 8/50\n",
            "10/10 [==============================] - 0s 17ms/step - loss: 522.0131\n",
            "Epoch 9/50\n",
            "10/10 [==============================] - 0s 17ms/step - loss: 521.2785\n",
            "Epoch 10/50\n",
            "10/10 [==============================] - 0s 19ms/step - loss: 519.8700\n",
            "Epoch 11/50\n",
            "10/10 [==============================] - 0s 17ms/step - loss: 517.8656\n",
            "Epoch 12/50\n",
            "10/10 [==============================] - 0s 19ms/step - loss: 515.0654\n",
            "Epoch 13/50\n",
            "10/10 [==============================] - 0s 20ms/step - loss: 511.4044\n",
            "Epoch 14/50\n",
            "10/10 [==============================] - 0s 20ms/step - loss: 505.9778\n",
            "Epoch 15/50\n",
            "10/10 [==============================] - 0s 19ms/step - loss: 501.1130\n",
            "Epoch 16/50\n",
            "10/10 [==============================] - 0s 19ms/step - loss: 498.0945\n",
            "Epoch 17/50\n",
            "10/10 [==============================] - 0s 20ms/step - loss: 487.3277\n",
            "Epoch 18/50\n",
            "10/10 [==============================] - 0s 20ms/step - loss: 482.0399\n",
            "Epoch 19/50\n",
            "10/10 [==============================] - 0s 19ms/step - loss: 474.8903\n",
            "Epoch 20/50\n",
            "10/10 [==============================] - 0s 17ms/step - loss: 471.2607\n",
            "Epoch 21/50\n",
            "10/10 [==============================] - 0s 18ms/step - loss: 460.2841\n",
            "Epoch 22/50\n",
            "10/10 [==============================] - 0s 20ms/step - loss: 460.5859\n",
            "Epoch 23/50\n",
            "10/10 [==============================] - 0s 17ms/step - loss: 456.6498\n",
            "Epoch 24/50\n",
            "10/10 [==============================] - 0s 17ms/step - loss: 461.1027\n",
            "Epoch 25/50\n",
            "10/10 [==============================] - 0s 18ms/step - loss: 455.9591\n",
            "Epoch 26/50\n",
            "10/10 [==============================] - 0s 20ms/step - loss: 457.3513\n",
            "Epoch 27/50\n",
            "10/10 [==============================] - 0s 19ms/step - loss: 455.1880\n",
            "Epoch 28/50\n",
            "10/10 [==============================] - 0s 17ms/step - loss: 456.8634\n",
            "Epoch 29/50\n",
            "10/10 [==============================] - 0s 17ms/step - loss: 452.7241\n",
            "Epoch 30/50\n",
            "10/10 [==============================] - 0s 22ms/step - loss: 455.2047\n",
            "Epoch 31/50\n",
            "10/10 [==============================] - 1s 57ms/step - loss: 456.4914\n",
            "Epoch 32/50\n",
            "10/10 [==============================] - 0s 18ms/step - loss: 457.1442\n",
            "Epoch 33/50\n",
            "10/10 [==============================] - 0s 18ms/step - loss: 457.4290\n",
            "Epoch 34/50\n",
            "10/10 [==============================] - 0s 19ms/step - loss: 449.8958\n",
            "Epoch 35/50\n",
            "10/10 [==============================] - 0s 17ms/step - loss: 457.9779\n",
            "Epoch 36/50\n",
            "10/10 [==============================] - 0s 20ms/step - loss: 452.3310\n",
            "Epoch 37/50\n",
            "10/10 [==============================] - 0s 17ms/step - loss: 452.9980\n",
            "Epoch 38/50\n",
            "10/10 [==============================] - 0s 18ms/step - loss: 455.3318\n",
            "Epoch 39/50\n",
            "10/10 [==============================] - 0s 20ms/step - loss: 453.9590\n",
            "Epoch 40/50\n",
            "10/10 [==============================] - 0s 19ms/step - loss: 454.1889\n",
            "Epoch 41/50\n",
            "10/10 [==============================] - 0s 19ms/step - loss: 451.3133\n",
            "Epoch 42/50\n",
            "10/10 [==============================] - 0s 19ms/step - loss: 456.4784\n",
            "Epoch 43/50\n",
            "10/10 [==============================] - 0s 18ms/step - loss: 453.3550\n",
            "Epoch 44/50\n",
            "10/10 [==============================] - 0s 21ms/step - loss: 454.6210\n",
            "Epoch 45/50\n",
            "10/10 [==============================] - 0s 20ms/step - loss: 453.4340\n",
            "Epoch 46/50\n",
            "10/10 [==============================] - 0s 22ms/step - loss: 455.1212\n",
            "Epoch 47/50\n",
            "10/10 [==============================] - 0s 22ms/step - loss: 453.0881\n",
            "Epoch 48/50\n",
            "10/10 [==============================] - 0s 20ms/step - loss: 455.8549\n",
            "Epoch 49/50\n",
            "10/10 [==============================] - 0s 24ms/step - loss: 453.4474\n",
            "Epoch 50/50\n",
            "10/10 [==============================] - 0s 21ms/step - loss: 454.6824\n",
            "1/1 [==============================] - 1s 962ms/step\n",
            "Model Number: 489 with model ETS in generation 3 of 10\n",
            "ETS error ValueError('endog must be strictly positive when usingmultiplicative trend or seasonal components.')\n",
            "ETS failed on Daily Deceased with ValueError('endog must be strictly positive when usingmultiplicative trend or seasonal components.')\n",
            "Model Number: 490 with model MultivariateRegression in generation 3 of 10\n",
            "Model Number: 491 with model MetricMotif in generation 3 of 10\n"
          ]
        },
        {
          "output_type": "stream",
          "name": "stderr",
          "text": [
            "INFO:prophet:Disabling yearly seasonality. Run prophet with yearly_seasonality=True to override this.\n",
            "INFO:prophet:Disabling daily seasonality. Run prophet with daily_seasonality=True to override this.\n",
            "DEBUG:cmdstanpy:input tempfile: /tmp/tmp7syr8mce/yzqgt_4j.json\n"
          ]
        },
        {
          "output_type": "stream",
          "name": "stdout",
          "text": [
            "Model Number: 492 with model FBProphet in generation 3 of 10\n"
          ]
        },
        {
          "output_type": "stream",
          "name": "stderr",
          "text": [
            "DEBUG:cmdstanpy:input tempfile: /tmp/tmp7syr8mce/b5xx7gd2.json\n",
            "DEBUG:cmdstanpy:idx 0\n",
            "DEBUG:cmdstanpy:running CmdStan, num_threads: None\n",
            "DEBUG:cmdstanpy:CmdStan args: ['/usr/local/lib/python3.8/dist-packages/prophet/stan_model/prophet_model.bin', 'random', 'seed=99517', 'data', 'file=/tmp/tmp7syr8mce/yzqgt_4j.json', 'init=/tmp/tmp7syr8mce/b5xx7gd2.json', 'output', 'file=/tmp/tmp7syr8mce/prophet_modelagm20_59/prophet_model-20230123225320.csv', 'method=optimize', 'algorithm=lbfgs', 'iter=10000']\n",
            "22:53:20 - cmdstanpy - INFO - Chain [1] start processing\n",
            "INFO:cmdstanpy:Chain [1] start processing\n",
            "22:53:20 - cmdstanpy - INFO - Chain [1] done processing\n",
            "INFO:cmdstanpy:Chain [1] done processing\n"
          ]
        },
        {
          "output_type": "stream",
          "name": "stdout",
          "text": [
            "Model Number: 493 with model ARIMA in generation 3 of 10\n",
            "Model Number: 494 with model MultivariateRegression in generation 3 of 10\n",
            "Model Number: 495 with model DatepartRegression in generation 3 of 10\n"
          ]
        },
        {
          "output_type": "stream",
          "name": "stderr",
          "text": [
            "/usr/local/lib/python3.8/dist-packages/sklearn/neural_network/_multilayer_perceptron.py:549: ConvergenceWarning:\n",
            "\n",
            "lbfgs failed to converge (status=1):\n",
            "STOP: TOTAL NO. of ITERATIONS REACHED LIMIT.\n",
            "\n",
            "Increase the number of iterations (max_iter) or scale the data as shown in:\n",
            "    https://scikit-learn.org/stable/modules/preprocessing.html\n",
            "\n"
          ]
        },
        {
          "output_type": "stream",
          "name": "stdout",
          "text": [
            "Model Number: 496 with model GLS in generation 3 of 10\n",
            "Model Number: 497 with model SectionalMotif in generation 3 of 10\n",
            "Template Eval Error: Exception('Transformer BTCD failed on fit') in model 497: SectionalMotif\n",
            "Model Number: 498 with model ETS in generation 3 of 10\n",
            "Model Number: 499 with model SectionalMotif in generation 3 of 10\n",
            "Model Number: 500 with model UnobservedComponents in generation 3 of 10\n",
            "Model Number: 501 with model DatepartRegression in generation 3 of 10\n",
            "Template Eval Error: ValueError('X has 26 features, but ElasticNet is expecting 36 features as input.') in model 501: DatepartRegression\n",
            "Model Number: 502 with model UnobservedComponents in generation 3 of 10\n",
            "Template Eval Error: ValueError(\"regression_type='User' but no future_regressor supplied\") in model 502: UnobservedComponents\n",
            "Model Number: 503 with model DatepartRegression in generation 3 of 10\n"
          ]
        },
        {
          "output_type": "stream",
          "name": "stderr",
          "text": [
            "/usr/local/lib/python3.8/dist-packages/sklearn/base.py:493: FutureWarning:\n",
            "\n",
            "The feature names should match those that were passed during fit. Starting version 1.2, an error will be raised.\n",
            "Feature names seen at fit time, yet now missing:\n",
            "- seasonalitycommonfourier_26\n",
            "- seasonalitycommonfourier_27\n",
            "- seasonalitycommonfourier_28\n",
            "- seasonalitycommonfourier_29\n",
            "- seasonalitycommonfourier_30\n",
            "- ...\n",
            "\n",
            "\n",
            "/usr/local/lib/python3.8/dist-packages/sklearn/neural_network/_multilayer_perceptron.py:549: ConvergenceWarning:\n",
            "\n",
            "lbfgs failed to converge (status=1):\n",
            "STOP: TOTAL NO. of ITERATIONS REACHED LIMIT.\n",
            "\n",
            "Increase the number of iterations (max_iter) or scale the data as shown in:\n",
            "    https://scikit-learn.org/stable/modules/preprocessing.html\n",
            "\n"
          ]
        },
        {
          "output_type": "stream",
          "name": "stdout",
          "text": [
            "Model Number: 504 with model MultivariateRegression in generation 3 of 10\n",
            "Model Number: 505 with model UnivariateMotif in generation 3 of 10\n",
            "Model Number: 506 with model WindowRegression in generation 3 of 10\n",
            "Model Number: 507 with model ConstantNaive in generation 3 of 10\n",
            "Model Number: 508 with model SectionalMotif in generation 3 of 10\n"
          ]
        },
        {
          "output_type": "stream",
          "name": "stderr",
          "text": [
            "INFO:prophet:Disabling yearly seasonality. Run prophet with yearly_seasonality=True to override this.\n",
            "INFO:prophet:Disabling daily seasonality. Run prophet with daily_seasonality=True to override this.\n",
            "DEBUG:cmdstanpy:input tempfile: /tmp/tmp7syr8mce/t90eq2q3.json\n",
            "DEBUG:cmdstanpy:input tempfile: /tmp/tmp7syr8mce/9yd_z5v3.json\n",
            "DEBUG:cmdstanpy:idx 0\n",
            "DEBUG:cmdstanpy:running CmdStan, num_threads: None\n",
            "DEBUG:cmdstanpy:CmdStan args: ['/usr/local/lib/python3.8/dist-packages/prophet/stan_model/prophet_model.bin', 'random', 'seed=91093', 'data', 'file=/tmp/tmp7syr8mce/t90eq2q3.json', 'init=/tmp/tmp7syr8mce/9yd_z5v3.json', 'output', 'file=/tmp/tmp7syr8mce/prophet_modelj3d0yvr4/prophet_model-20230123225333.csv', 'method=optimize', 'algorithm=lbfgs', 'iter=10000']\n",
            "22:53:33 - cmdstanpy - INFO - Chain [1] start processing\n",
            "INFO:cmdstanpy:Chain [1] start processing\n"
          ]
        },
        {
          "output_type": "stream",
          "name": "stdout",
          "text": [
            "Model Number: 509 with model FBProphet in generation 3 of 10\n"
          ]
        },
        {
          "output_type": "stream",
          "name": "stderr",
          "text": [
            "22:53:33 - cmdstanpy - INFO - Chain [1] done processing\n",
            "INFO:cmdstanpy:Chain [1] done processing\n"
          ]
        },
        {
          "output_type": "stream",
          "name": "stdout",
          "text": [
            "Model Number: 510 with model AverageValueNaive in generation 3 of 10\n",
            "Model Number: 511 with model LastValueNaive in generation 3 of 10\n",
            "Model Number: 512 with model AverageValueNaive in generation 3 of 10\n",
            "Model Number: 513 with model ETS in generation 3 of 10\n",
            "ETS error ValueError('endog must be strictly positive when usingmultiplicative trend or seasonal components.')\n",
            "ETS failed on Daily Deceased with ValueError('endog must be strictly positive when usingmultiplicative trend or seasonal components.')\n",
            "Model Number: 514 with model SeasonalNaive in generation 3 of 10\n",
            "Model Number: 515 with model SeasonalNaive in generation 3 of 10\n",
            "Model Number: 516 with model UnivariateMotif in generation 3 of 10\n",
            "Model Number: 517 with model MetricMotif in generation 3 of 10\n",
            "Template Eval Error: Exception('Transformer Cointegration failed on fit') in model 517: MetricMotif\n",
            "Model Number: 518 with model AverageValueNaive in generation 3 of 10\n",
            "Model Number: 519 with model ConstantNaive in generation 3 of 10\n",
            "Template Eval Error: Exception('Transformer Cointegration failed on fit') in model 519: ConstantNaive\n",
            "Model Number: 520 with model NVAR in generation 3 of 10\n",
            "Model Number: 521 with model MultivariateRegression in generation 3 of 10\n",
            "Model Number: 522 with model ETS in generation 3 of 10\n"
          ]
        },
        {
          "output_type": "stream",
          "name": "stderr",
          "text": [
            "INFO:prophet:Disabling yearly seasonality. Run prophet with yearly_seasonality=True to override this.\n",
            "INFO:prophet:Disabling daily seasonality. Run prophet with daily_seasonality=True to override this.\n",
            "DEBUG:cmdstanpy:input tempfile: /tmp/tmp7syr8mce/_e75q0q9.json\n"
          ]
        },
        {
          "output_type": "stream",
          "name": "stdout",
          "text": [
            "Model Number: 523 with model FBProphet in generation 3 of 10\n"
          ]
        },
        {
          "output_type": "stream",
          "name": "stderr",
          "text": [
            "DEBUG:cmdstanpy:input tempfile: /tmp/tmp7syr8mce/junq75_x.json\n",
            "DEBUG:cmdstanpy:idx 0\n",
            "DEBUG:cmdstanpy:running CmdStan, num_threads: None\n",
            "DEBUG:cmdstanpy:CmdStan args: ['/usr/local/lib/python3.8/dist-packages/prophet/stan_model/prophet_model.bin', 'random', 'seed=23463', 'data', 'file=/tmp/tmp7syr8mce/_e75q0q9.json', 'init=/tmp/tmp7syr8mce/junq75_x.json', 'output', 'file=/tmp/tmp7syr8mce/prophet_modelb93vhti9/prophet_model-20230123225336.csv', 'method=optimize', 'algorithm=lbfgs', 'iter=10000']\n",
            "22:53:36 - cmdstanpy - INFO - Chain [1] start processing\n",
            "INFO:cmdstanpy:Chain [1] start processing\n",
            "22:53:36 - cmdstanpy - INFO - Chain [1] done processing\n",
            "INFO:cmdstanpy:Chain [1] done processing\n"
          ]
        },
        {
          "output_type": "stream",
          "name": "stdout",
          "text": [
            "Model Number: 524 with model ARIMA in generation 3 of 10\n",
            "Model Number: 525 with model ConstantNaive in generation 3 of 10\n",
            "Model Number: 526 with model SeasonalNaive in generation 3 of 10\n",
            "Template Eval Error: Exception('Transformer Cointegration failed on fit') in model 526: SeasonalNaive\n",
            "Model Number: 527 with model GLM in generation 3 of 10\n",
            "Model Number: 528 with model AverageValueNaive in generation 3 of 10\n"
          ]
        },
        {
          "output_type": "stream",
          "name": "stderr",
          "text": [
            "INFO:prophet:Disabling yearly seasonality. Run prophet with yearly_seasonality=True to override this.\n",
            "INFO:prophet:Disabling daily seasonality. Run prophet with daily_seasonality=True to override this.\n",
            "DEBUG:cmdstanpy:input tempfile: /tmp/tmp7syr8mce/svt855nu.json\n",
            "DEBUG:cmdstanpy:input tempfile: /tmp/tmp7syr8mce/b5lju5t8.json\n",
            "DEBUG:cmdstanpy:idx 0\n",
            "DEBUG:cmdstanpy:running CmdStan, num_threads: None\n",
            "DEBUG:cmdstanpy:CmdStan args: ['/usr/local/lib/python3.8/dist-packages/prophet/stan_model/prophet_model.bin', 'random', 'seed=8414', 'data', 'file=/tmp/tmp7syr8mce/svt855nu.json', 'init=/tmp/tmp7syr8mce/b5lju5t8.json', 'output', 'file=/tmp/tmp7syr8mce/prophet_modelsrbb6i9n/prophet_model-20230123225338.csv', 'method=optimize', 'algorithm=lbfgs', 'iter=10000']\n",
            "22:53:38 - cmdstanpy - INFO - Chain [1] start processing\n"
          ]
        },
        {
          "output_type": "stream",
          "name": "stdout",
          "text": [
            "Model Number: 529 with model FBProphet in generation 3 of 10\n"
          ]
        },
        {
          "output_type": "stream",
          "name": "stderr",
          "text": [
            "INFO:cmdstanpy:Chain [1] start processing\n",
            "22:53:39 - cmdstanpy - INFO - Chain [1] done processing\n",
            "INFO:cmdstanpy:Chain [1] done processing\n"
          ]
        },
        {
          "output_type": "stream",
          "name": "stdout",
          "text": [
            "Model Number: 530 with model ETS in generation 3 of 10\n",
            "ETS error ValueError('endog must be strictly positive when usingmultiplicative trend or seasonal components.')\n",
            "ETS failed on Daily Deceased with ValueError('endog must be strictly positive when usingmultiplicative trend or seasonal components.')\n",
            "Template Eval Error: ValueError(\"Model returned NaN due to a preprocessing transformer {'fillna': 'fake_date', 'transformations': {'0': 'Detrend', '1': 'ClipOutliers', '2': 'CumSumTransformer', '3': 'AlignLastValue'}, 'transformation_params': {'0': {'model': 'GLS', 'phi': 1, 'window': 900, 'transform_dict': None}, '1': {'method': 'clip', 'std_threshold': 4, 'fillna': None}, '2': {}, '3': {'rows': 1, 'lag': 1, 'method': 'multiplicative', 'strength': 1.0, 'first_value_only': True}}}. fail_on_forecast_nan=True\") in model 530: ETS\n",
            "Model Number: 531 with model NVAR in generation 3 of 10\n",
            "Model Number: 532 with model MetricMotif in generation 3 of 10\n",
            "Model Number: 533 with model LastValueNaive in generation 3 of 10\n"
          ]
        },
        {
          "output_type": "stream",
          "name": "stderr",
          "text": [
            "INFO:prophet:Disabling yearly seasonality. Run prophet with yearly_seasonality=True to override this.\n",
            "INFO:prophet:Disabling daily seasonality. Run prophet with daily_seasonality=True to override this.\n"
          ]
        },
        {
          "output_type": "stream",
          "name": "stdout",
          "text": [
            "Model Number: 534 with model FBProphet in generation 3 of 10\n"
          ]
        },
        {
          "output_type": "stream",
          "name": "stderr",
          "text": [
            "DEBUG:cmdstanpy:input tempfile: /tmp/tmp7syr8mce/jbk45ggn.json\n",
            "DEBUG:cmdstanpy:input tempfile: /tmp/tmp7syr8mce/rrj6ixkz.json\n",
            "DEBUG:cmdstanpy:idx 0\n",
            "DEBUG:cmdstanpy:running CmdStan, num_threads: None\n",
            "DEBUG:cmdstanpy:CmdStan args: ['/usr/local/lib/python3.8/dist-packages/prophet/stan_model/prophet_model.bin', 'random', 'seed=75751', 'data', 'file=/tmp/tmp7syr8mce/jbk45ggn.json', 'init=/tmp/tmp7syr8mce/rrj6ixkz.json', 'output', 'file=/tmp/tmp7syr8mce/prophet_modelbily5_ag/prophet_model-20230123225340.csv', 'method=optimize', 'algorithm=lbfgs', 'iter=10000']\n",
            "22:53:40 - cmdstanpy - INFO - Chain [1] start processing\n",
            "INFO:cmdstanpy:Chain [1] start processing\n",
            "22:53:40 - cmdstanpy - INFO - Chain [1] done processing\n",
            "INFO:cmdstanpy:Chain [1] done processing\n"
          ]
        },
        {
          "output_type": "stream",
          "name": "stdout",
          "text": [
            "Model Number: 535 with model MultivariateRegression in generation 3 of 10\n",
            "Model Number: 536 with model MultivariateMotif in generation 3 of 10\n",
            "Model Number: 537 with model NVAR in generation 3 of 10\n",
            "Model Number: 538 with model MetricMotif in generation 3 of 10\n",
            "Model Number: 539 with model LastValueNaive in generation 3 of 10\n",
            "Model Number: 540 with model LastValueNaive in generation 3 of 10\n",
            "Model Number: 541 with model ARIMA in generation 3 of 10\n",
            "Model Number: 542 with model MultivariateMotif in generation 3 of 10\n",
            "Model Number: 543 with model MetricMotif in generation 3 of 10\n",
            "Template Eval Error: Exception('Transformer Cointegration failed on fit') in model 543: MetricMotif\n",
            "Model Number: 544 with model AverageValueNaive in generation 3 of 10\n",
            "Model Number: 545 with model FBProphet in generation 3 of 10\n"
          ]
        },
        {
          "output_type": "stream",
          "name": "stderr",
          "text": [
            "INFO:prophet:Disabling yearly seasonality. Run prophet with yearly_seasonality=True to override this.\n",
            "INFO:prophet:Disabling daily seasonality. Run prophet with daily_seasonality=True to override this.\n",
            "DEBUG:cmdstanpy:input tempfile: /tmp/tmp7syr8mce/yf9ah3ow.json\n",
            "DEBUG:cmdstanpy:input tempfile: /tmp/tmp7syr8mce/861jqqcm.json\n",
            "DEBUG:cmdstanpy:idx 0\n",
            "DEBUG:cmdstanpy:running CmdStan, num_threads: None\n",
            "DEBUG:cmdstanpy:CmdStan args: ['/usr/local/lib/python3.8/dist-packages/prophet/stan_model/prophet_model.bin', 'random', 'seed=29632', 'data', 'file=/tmp/tmp7syr8mce/yf9ah3ow.json', 'init=/tmp/tmp7syr8mce/861jqqcm.json', 'output', 'file=/tmp/tmp7syr8mce/prophet_modelivgpt9jp/prophet_model-20230123225342.csv', 'method=optimize', 'algorithm=lbfgs', 'iter=10000']\n",
            "22:53:42 - cmdstanpy - INFO - Chain [1] start processing\n",
            "INFO:cmdstanpy:Chain [1] start processing\n",
            "22:53:43 - cmdstanpy - INFO - Chain [1] done processing\n",
            "INFO:cmdstanpy:Chain [1] done processing\n"
          ]
        },
        {
          "output_type": "stream",
          "name": "stdout",
          "text": [
            "Model Number: 546 with model AverageValueNaive in generation 3 of 10\n",
            "Model Number: 547 with model SeasonalNaive in generation 3 of 10\n",
            "Model Number: 548 with model FBProphet in generation 3 of 10\n"
          ]
        },
        {
          "output_type": "stream",
          "name": "stderr",
          "text": [
            "INFO:prophet:Disabling yearly seasonality. Run prophet with yearly_seasonality=True to override this.\n",
            "INFO:prophet:Disabling daily seasonality. Run prophet with daily_seasonality=True to override this.\n",
            "DEBUG:cmdstanpy:input tempfile: /tmp/tmp7syr8mce/cuta0gpi.json\n",
            "DEBUG:cmdstanpy:input tempfile: /tmp/tmp7syr8mce/t9xqxhlq.json\n",
            "DEBUG:cmdstanpy:idx 0\n",
            "DEBUG:cmdstanpy:running CmdStan, num_threads: None\n",
            "DEBUG:cmdstanpy:CmdStan args: ['/usr/local/lib/python3.8/dist-packages/prophet/stan_model/prophet_model.bin', 'random', 'seed=33411', 'data', 'file=/tmp/tmp7syr8mce/cuta0gpi.json', 'init=/tmp/tmp7syr8mce/t9xqxhlq.json', 'output', 'file=/tmp/tmp7syr8mce/prophet_modelcl0mq21y/prophet_model-20230123225344.csv', 'method=optimize', 'algorithm=lbfgs', 'iter=10000']\n",
            "22:53:44 - cmdstanpy - INFO - Chain [1] start processing\n",
            "INFO:cmdstanpy:Chain [1] start processing\n",
            "22:53:44 - cmdstanpy - INFO - Chain [1] done processing\n",
            "INFO:cmdstanpy:Chain [1] done processing\n"
          ]
        },
        {
          "output_type": "stream",
          "name": "stdout",
          "text": [
            "Model Number: 549 with model Theta in generation 3 of 10\n",
            "Model Number: 550 with model ConstantNaive in generation 3 of 10\n",
            "Model Number: 551 with model UnivariateMotif in generation 3 of 10\n",
            "Model Number: 552 with model FBProphet in generation 3 of 10\n",
            "Template Eval Error: ValueError(\"regression_type='User' but no future_regressor passed\") in model 552: FBProphet\n",
            "Model Number: 553 with model MultivariateRegression in generation 3 of 10\n",
            "Model Number: 554 with model MultivariateMotif in generation 3 of 10\n",
            "Model Number: 555 with model AverageValueNaive in generation 3 of 10\n",
            "Model Number: 556 with model ETS in generation 3 of 10\n",
            "ETS error ValueError('Can only dampen the trend component')\n",
            "ETS failed on Daily Deceased with ValueError('Can only dampen the trend component')\n",
            "Model Number: 557 with model MetricMotif in generation 3 of 10\n",
            "Model Number: 558 with model MultivariateMotif in generation 3 of 10\n",
            "Model Number: 559 with model MultivariateMotif in generation 3 of 10\n",
            "Model Number: 560 with model NVAR in generation 3 of 10\n",
            "Model Number: 561 with model SectionalMotif in generation 3 of 10\n",
            "Model Number: 562 with model MultivariateRegression in generation 3 of 10\n",
            "Model Number: 563 with model WindowRegression in generation 3 of 10\n",
            "Template Eval Error: ValueError(\"regression_type='User' but no future_regressor passed\") in model 563: WindowRegression\n",
            "New Generation: 4 of 10\n",
            "Model Number: 564 with model UnivariateMotif in generation 4 of 10\n",
            "Model Number: 565 with model MultivariateMotif in generation 4 of 10\n",
            "Model Number: 566 with model LastValueNaive in generation 4 of 10\n",
            "Model Number: 567 with model UnobservedComponents in generation 4 of 10\n",
            "Model Number: 568 with model Theta in generation 4 of 10\n",
            "Model Number: 569 with model NVAR in generation 4 of 10\n",
            "Model Number: 570 with model UnivariateMotif in generation 4 of 10\n",
            "Model Number: 571 with model NVAR in generation 4 of 10\n",
            "Model Number: 572 with model LastValueNaive in generation 4 of 10\n",
            "Model Number: 573 with model MetricMotif in generation 4 of 10\n",
            "Model Number: 574 with model SeasonalNaive in generation 4 of 10\n",
            "Model Number: 575 with model WindowRegression in generation 4 of 10\n",
            "Model Number: 576 with model GLS in generation 4 of 10\n",
            "Model Number: 577 with model FBProphet in generation 4 of 10"
          ]
        },
        {
          "output_type": "stream",
          "name": "stderr",
          "text": [
            "INFO:prophet:Disabling yearly seasonality. Run prophet with yearly_seasonality=True to override this.\n",
            "INFO:prophet:Disabling daily seasonality. Run prophet with daily_seasonality=True to override this.\n",
            "DEBUG:cmdstanpy:input tempfile: /tmp/tmp7syr8mce/5qb81en8.json\n",
            "DEBUG:cmdstanpy:input tempfile: /tmp/tmp7syr8mce/3t40j19d.json\n",
            "DEBUG:cmdstanpy:idx 0\n",
            "DEBUG:cmdstanpy:running CmdStan, num_threads: None\n",
            "DEBUG:cmdstanpy:CmdStan args: ['/usr/local/lib/python3.8/dist-packages/prophet/stan_model/prophet_model.bin', 'random', 'seed=60368', 'data', 'file=/tmp/tmp7syr8mce/5qb81en8.json', 'init=/tmp/tmp7syr8mce/3t40j19d.json', 'output', 'file=/tmp/tmp7syr8mce/prophet_model0cs8orua/prophet_model-20230123225353.csv', 'method=optimize', 'algorithm=lbfgs', 'iter=10000']\n",
            "22:53:53 - cmdstanpy - INFO - Chain [1] start processing\n",
            "INFO:cmdstanpy:Chain [1] start processing\n"
          ]
        },
        {
          "output_type": "stream",
          "name": "stdout",
          "text": [
            "\n"
          ]
        },
        {
          "output_type": "stream",
          "name": "stderr",
          "text": [
            "22:53:53 - cmdstanpy - INFO - Chain [1] done processing\n",
            "INFO:cmdstanpy:Chain [1] done processing\n",
            "INFO:prophet:Disabling yearly seasonality. Run prophet with yearly_seasonality=True to override this.\n",
            "INFO:prophet:Disabling daily seasonality. Run prophet with daily_seasonality=True to override this.\n",
            "DEBUG:cmdstanpy:input tempfile: /tmp/tmp7syr8mce/u_ktv4ba.json\n",
            "DEBUG:cmdstanpy:input tempfile: /tmp/tmp7syr8mce/tcwfxbyn.json\n",
            "DEBUG:cmdstanpy:idx 0\n",
            "DEBUG:cmdstanpy:running CmdStan, num_threads: None\n",
            "DEBUG:cmdstanpy:CmdStan args: ['/usr/local/lib/python3.8/dist-packages/prophet/stan_model/prophet_model.bin', 'random', 'seed=25639', 'data', 'file=/tmp/tmp7syr8mce/u_ktv4ba.json', 'init=/tmp/tmp7syr8mce/tcwfxbyn.json', 'output', 'file=/tmp/tmp7syr8mce/prophet_model7f4gd_78/prophet_model-20230123225354.csv', 'method=optimize', 'algorithm=lbfgs', 'iter=10000']\n",
            "22:53:54 - cmdstanpy - INFO - Chain [1] start processing\n",
            "INFO:cmdstanpy:Chain [1] start processing\n"
          ]
        },
        {
          "output_type": "stream",
          "name": "stdout",
          "text": [
            "Model Number: 578 with model FBProphet in generation 4 of 10\n"
          ]
        },
        {
          "output_type": "stream",
          "name": "stderr",
          "text": [
            "22:53:55 - cmdstanpy - INFO - Chain [1] done processing\n",
            "INFO:cmdstanpy:Chain [1] done processing\n"
          ]
        },
        {
          "output_type": "stream",
          "name": "stdout",
          "text": [
            "Model Number: 579 with model UnobservedComponents in generation 4 of 10\n"
          ]
        },
        {
          "output_type": "stream",
          "name": "stderr",
          "text": [
            "INFO:prophet:Disabling yearly seasonality. Run prophet with yearly_seasonality=True to override this.\n"
          ]
        },
        {
          "output_type": "stream",
          "name": "stdout",
          "text": [
            "Model Number: 580 with model FBProphet in generation 4 of 10\n"
          ]
        },
        {
          "output_type": "stream",
          "name": "stderr",
          "text": [
            "INFO:prophet:Disabling daily seasonality. Run prophet with daily_seasonality=True to override this.\n",
            "DEBUG:cmdstanpy:input tempfile: /tmp/tmp7syr8mce/2zdxo4ln.json\n",
            "DEBUG:cmdstanpy:input tempfile: /tmp/tmp7syr8mce/i0lr2n0w.json\n",
            "DEBUG:cmdstanpy:idx 0\n",
            "DEBUG:cmdstanpy:running CmdStan, num_threads: None\n",
            "DEBUG:cmdstanpy:CmdStan args: ['/usr/local/lib/python3.8/dist-packages/prophet/stan_model/prophet_model.bin', 'random', 'seed=21906', 'data', 'file=/tmp/tmp7syr8mce/2zdxo4ln.json', 'init=/tmp/tmp7syr8mce/i0lr2n0w.json', 'output', 'file=/tmp/tmp7syr8mce/prophet_modelsprnm1ds/prophet_model-20230123225355.csv', 'method=optimize', 'algorithm=lbfgs', 'iter=10000']\n",
            "22:53:56 - cmdstanpy - INFO - Chain [1] start processing\n",
            "INFO:cmdstanpy:Chain [1] start processing\n",
            "22:53:56 - cmdstanpy - INFO - Chain [1] done processing\n",
            "INFO:cmdstanpy:Chain [1] done processing\n"
          ]
        },
        {
          "output_type": "stream",
          "name": "stdout",
          "text": [
            "Model Number: 581 with model SectionalMotif in generation 4 of 10\n",
            "Model Number: 582 with model SectionalMotif in generation 4 of 10\n",
            "Model Number: 583 with model NVAR in generation 4 of 10\n",
            "Model Number: 584 with model ETS in generation 4 of 10\n",
            "Model Number: 585 with model MultivariateRegression in generation 4 of 10\n",
            "Template Eval Error: Exception('Transformer Cointegration failed on fit') in model 585: MultivariateRegression\n",
            "Model Number: 586 with model MetricMotif in generation 4 of 10\n",
            "Model Number: 587 with model UnivariateMotif in generation 4 of 10\n",
            "Model Number: 588 with model MetricMotif in generation 4 of 10\n",
            "Model Number: 589 with model MultivariateMotif in generation 4 of 10\n",
            "Model Number: 590 with model AverageValueNaive in generation 4 of 10\n",
            "Model Number: 591 with model AverageValueNaive in generation 4 of 10\n",
            "Model Number: 592 with model FBProphet in generation 4 of 10\n"
          ]
        },
        {
          "output_type": "stream",
          "name": "stderr",
          "text": [
            "INFO:prophet:Disabling yearly seasonality. Run prophet with yearly_seasonality=True to override this.\n",
            "INFO:prophet:Disabling daily seasonality. Run prophet with daily_seasonality=True to override this.\n",
            "DEBUG:cmdstanpy:input tempfile: /tmp/tmp7syr8mce/11_1t98a.json\n",
            "DEBUG:cmdstanpy:input tempfile: /tmp/tmp7syr8mce/z5yi_2ql.json\n",
            "DEBUG:cmdstanpy:idx 0\n",
            "DEBUG:cmdstanpy:running CmdStan, num_threads: None\n",
            "DEBUG:cmdstanpy:CmdStan args: ['/usr/local/lib/python3.8/dist-packages/prophet/stan_model/prophet_model.bin', 'random', 'seed=39332', 'data', 'file=/tmp/tmp7syr8mce/11_1t98a.json', 'init=/tmp/tmp7syr8mce/z5yi_2ql.json', 'output', 'file=/tmp/tmp7syr8mce/prophet_modelirq8srpg/prophet_model-20230123225357.csv', 'method=optimize', 'algorithm=lbfgs', 'iter=10000']\n",
            "22:53:57 - cmdstanpy - INFO - Chain [1] start processing\n",
            "INFO:cmdstanpy:Chain [1] start processing\n",
            "22:53:58 - cmdstanpy - INFO - Chain [1] done processing\n",
            "INFO:cmdstanpy:Chain [1] done processing\n"
          ]
        },
        {
          "output_type": "stream",
          "name": "stdout",
          "text": [
            "Model Number: 593 with model MetricMotif in generation 4 of 10\n",
            "Model Number: 594 with model ConstantNaive in generation 4 of 10\n"
          ]
        },
        {
          "output_type": "stream",
          "name": "stderr",
          "text": [
            "INFO:prophet:Disabling yearly seasonality. Run prophet with yearly_seasonality=True to override this.\n",
            "INFO:prophet:Disabling daily seasonality. Run prophet with daily_seasonality=True to override this.\n",
            "DEBUG:cmdstanpy:input tempfile: /tmp/tmp7syr8mce/z_9vxv6c.json\n",
            "DEBUG:cmdstanpy:input tempfile: /tmp/tmp7syr8mce/c6aw342n.json\n",
            "DEBUG:cmdstanpy:idx 0\n",
            "DEBUG:cmdstanpy:running CmdStan, num_threads: None\n",
            "DEBUG:cmdstanpy:CmdStan args: ['/usr/local/lib/python3.8/dist-packages/prophet/stan_model/prophet_model.bin', 'random', 'seed=68333', 'data', 'file=/tmp/tmp7syr8mce/z_9vxv6c.json', 'init=/tmp/tmp7syr8mce/c6aw342n.json', 'output', 'file=/tmp/tmp7syr8mce/prophet_model3aghjiwp/prophet_model-20230123225359.csv', 'method=optimize', 'algorithm=lbfgs', 'iter=10000']\n",
            "22:53:59 - cmdstanpy - INFO - Chain [1] start processing\n",
            "INFO:cmdstanpy:Chain [1] start processing\n"
          ]
        },
        {
          "output_type": "stream",
          "name": "stdout",
          "text": [
            "Model Number: 595 with model FBProphet in generation 4 of 10\n"
          ]
        },
        {
          "output_type": "stream",
          "name": "stderr",
          "text": [
            "22:53:59 - cmdstanpy - INFO - Chain [1] done processing\n",
            "INFO:cmdstanpy:Chain [1] done processing\n"
          ]
        },
        {
          "output_type": "stream",
          "name": "stdout",
          "text": [
            "Model Number: 596 with model UnivariateMotif in generation 4 of 10\n",
            "Model Number: 597 with model UnivariateMotif in generation 4 of 10\n",
            "Model Number: 598 with model AverageValueNaive in generation 4 of 10\n",
            "Model Number: 599 with model LastValueNaive in generation 4 of 10\n",
            "Model Number: 600 with model AverageValueNaive in generation 4 of 10\n",
            "Model Number: 601 with model MultivariateMotif in generation 4 of 10\n"
          ]
        },
        {
          "output_type": "stream",
          "name": "stderr",
          "text": [
            "/usr/local/lib/python3.8/dist-packages/sklearn/neural_network/_multilayer_perceptron.py:692: ConvergenceWarning:\n",
            "\n",
            "Stochastic Optimizer: Maximum iterations (250) reached and the optimization hasn't converged yet.\n",
            "\n",
            "/usr/local/lib/python3.8/dist-packages/sklearn/base.py:493: FutureWarning:\n",
            "\n",
            "The feature names should match those that were passed during fit. Starting version 1.2, an error will be raised.\n",
            "Feature names seen at fit time, yet now missing:\n",
            "- seasonalitycommonfourier_26\n",
            "- seasonalitycommonfourier_27\n",
            "- seasonalitycommonfourier_28\n",
            "- seasonalitycommonfourier_29\n",
            "- seasonalitycommonfourier_30\n",
            "- ...\n",
            "\n",
            "\n"
          ]
        },
        {
          "output_type": "stream",
          "name": "stdout",
          "text": [
            "Template Eval Error: Exception('Transformer DatepartRegression failed on inverse') in model 601: MultivariateMotif\n",
            "Model Number: 602 with model MultivariateRegression in generation 4 of 10\n",
            "Model Number: 603 with model MultivariateRegression in generation 4 of 10\n",
            "Model Number: 604 with model WindowRegression in generation 4 of 10\n",
            "Model Number: 605 with model WindowRegression in generation 4 of 10\n",
            "Model Number: 606 with model MultivariateRegression in generation 4 of 10\n",
            "Template Eval Error: ValueError(\"regression_type='User' but not future_regressor supplied.\") in model 606: MultivariateRegression\n",
            "Model Number: 607 with model MultivariateRegression in generation 4 of 10\n",
            "Model Number: 608 with model NVAR in generation 4 of 10\n",
            "Model Number: 609 with model Theta in generation 4 of 10\n",
            "Model Number: 610 with model SectionalMotif in generation 4 of 10\n",
            "Model Number: 611 with model LastValueNaive in generation 4 of 10\n"
          ]
        },
        {
          "output_type": "stream",
          "name": "stderr",
          "text": [
            "INFO:prophet:Disabling yearly seasonality. Run prophet with yearly_seasonality=True to override this.\n",
            "INFO:prophet:Disabling daily seasonality. Run prophet with daily_seasonality=True to override this.\n",
            "DEBUG:cmdstanpy:input tempfile: /tmp/tmp7syr8mce/1pfqf17s.json\n"
          ]
        },
        {
          "output_type": "stream",
          "name": "stdout",
          "text": [
            "Model Number: 612 with model FBProphet in generation 4 of 10\n"
          ]
        },
        {
          "output_type": "stream",
          "name": "stderr",
          "text": [
            "DEBUG:cmdstanpy:input tempfile: /tmp/tmp7syr8mce/3b8qyx6p.json\n",
            "DEBUG:cmdstanpy:idx 0\n",
            "DEBUG:cmdstanpy:running CmdStan, num_threads: None\n",
            "DEBUG:cmdstanpy:CmdStan args: ['/usr/local/lib/python3.8/dist-packages/prophet/stan_model/prophet_model.bin', 'random', 'seed=33103', 'data', 'file=/tmp/tmp7syr8mce/1pfqf17s.json', 'init=/tmp/tmp7syr8mce/3b8qyx6p.json', 'output', 'file=/tmp/tmp7syr8mce/prophet_modelf0so4jml/prophet_model-20230123225404.csv', 'method=optimize', 'algorithm=lbfgs', 'iter=10000']\n",
            "22:54:04 - cmdstanpy - INFO - Chain [1] start processing\n",
            "INFO:cmdstanpy:Chain [1] start processing\n",
            "22:54:05 - cmdstanpy - INFO - Chain [1] done processing\n",
            "INFO:cmdstanpy:Chain [1] done processing\n"
          ]
        },
        {
          "output_type": "stream",
          "name": "stdout",
          "text": [
            "Model Number: 613 with model SeasonalNaive in generation 4 of 10\n",
            "Model Number: 614 with model MultivariateRegression in generation 4 of 10\n",
            "Model Number: 615 with model GLM in generation 4 of 10\n",
            "Template Eval Error: ValueError('regression_type=user and no future_regressor passed') in model 615: GLM\n",
            "Model Number: 616 with model GLM in generation 4 of 10\n",
            "Model Number: 617 with model AverageValueNaive in generation 4 of 10\n"
          ]
        },
        {
          "output_type": "stream",
          "name": "stderr",
          "text": [
            "/usr/local/lib/python3.8/dist-packages/statsmodels/genmod/families/links.py:188: RuntimeWarning:\n",
            "\n",
            "overflow encountered in exp\n",
            "\n"
          ]
        },
        {
          "output_type": "stream",
          "name": "stdout",
          "text": [
            "Model Number: 618 with model NVAR in generation 4 of 10\n",
            "Model Number: 619 with model LastValueNaive in generation 4 of 10\n",
            "Model Number: 620 with model LastValueNaive in generation 4 of 10\n",
            "Model Number: 621 with model WindowRegression in generation 4 of 10\n",
            "Model Number: 622 with model AverageValueNaive in generation 4 of 10\n",
            "Model Number: 623 with model WindowRegression in generation 4 of 10\n",
            "Model Number: 624 with model UnivariateMotif in generation 4 of 10\n",
            "Model Number: 625 with model Theta in generation 4 of 10\n",
            "Model Number: 626 with model SectionalMotif in generation 4 of 10\n",
            "Model Number: 627 with model LastValueNaive in generation 4 of 10\n",
            "Model Number: 628 with model MultivariateMotif in generation 4 of 10\n",
            "Model Number: 629 with model ConstantNaive in generation 4 of 10\n",
            "Model Number: 630 with model UnivariateMotif in generation 4 of 10\n",
            "Model Number: 631 with model SectionalMotif in generation 4 of 10\n",
            "Model Number: 632 with model GLS in generation 4 of 10\n",
            "Model Number: 633 with model MetricMotif in generation 4 of 10\n",
            "Model Number: 634 with model LastValueNaive in generation 4 of 10\n",
            "Model Number: 635 with model AverageValueNaive in generation 4 of 10\n",
            "Model Number: 636 with model MultivariateMotif in generation 4 of 10\n",
            "Model Number: 637 with model AverageValueNaive in generation 4 of 10\n",
            "Model Number: 638 with model MultivariateMotif in generation 4 of 10\n",
            "Model Number: 639 with model LastValueNaive in generation 4 of 10\n",
            "Model Number: 640 with model SectionalMotif in generation 4 of 10\n",
            "Model Number: 641 with model Theta in generation 4 of 10\n",
            "Model Number: 642 with model MultivariateMotif in generation 4 of 10\n",
            "Model Number: 643 with model ConstantNaive in generation 4 of 10\n",
            "Model Number: 644 with model MetricMotif in generation 4 of 10\n",
            "Model Number: 645 with model SeasonalNaive in generation 4 of 10\n",
            "Model Number: 646 with model DatepartRegression in generation 4 of 10\n",
            "Model Number: 647 with model LastValueNaive in generation 4 of 10\n"
          ]
        },
        {
          "output_type": "stream",
          "name": "stderr",
          "text": [
            "/usr/local/lib/python3.8/dist-packages/sklearn/neural_network/_multilayer_perceptron.py:549: ConvergenceWarning:\n",
            "\n",
            "lbfgs failed to converge (status=1):\n",
            "STOP: TOTAL NO. of ITERATIONS REACHED LIMIT.\n",
            "\n",
            "Increase the number of iterations (max_iter) or scale the data as shown in:\n",
            "    https://scikit-learn.org/stable/modules/preprocessing.html\n",
            "\n"
          ]
        },
        {
          "output_type": "stream",
          "name": "stdout",
          "text": [
            "Model Number: 648 with model SeasonalNaive in generation 4 of 10\n",
            "Model Number: 649 with model GLM in generation 4 of 10\n",
            "Template Eval Error: ValueError('NaN, inf or invalid value detected in weights, estimation infeasible.') in model 649: GLM\n",
            "Model Number: 650 with model MultivariateRegression in generation 4 of 10\n"
          ]
        },
        {
          "output_type": "stream",
          "name": "stderr",
          "text": [
            "/usr/local/lib/python3.8/dist-packages/statsmodels/genmod/families/links.py:517: RuntimeWarning:\n",
            "\n",
            "overflow encountered in exp\n",
            "\n",
            "/usr/local/lib/python3.8/dist-packages/statsmodels/genmod/families/family.py:1227: RuntimeWarning:\n",
            "\n",
            "divide by zero encountered in true_divide\n",
            "\n",
            "/usr/local/lib/python3.8/dist-packages/statsmodels/genmod/families/family.py:1231: RuntimeWarning:\n",
            "\n",
            "divide by zero encountered in log\n",
            "\n",
            "/usr/local/lib/python3.8/dist-packages/statsmodels/genmod/families/family.py:134: RuntimeWarning:\n",
            "\n",
            "invalid value encountered in multiply\n",
            "\n",
            "/usr/local/lib/python3.8/dist-packages/statsmodels/genmod/generalized_linear_model.py:1198: RuntimeWarning:\n",
            "\n",
            "invalid value encountered in multiply\n",
            "\n"
          ]
        },
        {
          "output_type": "stream",
          "name": "stdout",
          "text": [
            "Model Number: 651 with model AverageValueNaive in generation 4 of 10\n",
            "Model Number: 652 with model Theta in generation 4 of 10\n",
            "Model Number: 653 with model SectionalMotif in generation 4 of 10\n",
            "Model Number: 654 with model UnivariateMotif in generation 4 of 10\n",
            "Model Number: 655 with model AverageValueNaive in generation 4 of 10\n",
            "Model Number: 656 with model MultivariateMotif in generation 4 of 10\n",
            "Model Number: 657 with model MultivariateRegression in generation 4 of 10\n",
            "Model Number: 658 with model DatepartRegression in generation 4 of 10\n"
          ]
        },
        {
          "output_type": "stream",
          "name": "stderr",
          "text": [
            "/usr/local/lib/python3.8/dist-packages/sklearn/neural_network/_multilayer_perceptron.py:549: ConvergenceWarning:\n",
            "\n",
            "lbfgs failed to converge (status=1):\n",
            "STOP: TOTAL NO. of ITERATIONS REACHED LIMIT.\n",
            "\n",
            "Increase the number of iterations (max_iter) or scale the data as shown in:\n",
            "    https://scikit-learn.org/stable/modules/preprocessing.html\n",
            "\n"
          ]
        },
        {
          "output_type": "stream",
          "name": "stdout",
          "text": [
            "Model Number: 659 with model WindowRegression in generation 4 of 10\n",
            "Model Number: 660 with model MultivariateMotif in generation 4 of 10\n",
            "Model Number: 661 with model AverageValueNaive in generation 4 of 10\n"
          ]
        },
        {
          "output_type": "stream",
          "name": "stderr",
          "text": [
            "INFO:prophet:Disabling yearly seasonality. Run prophet with yearly_seasonality=True to override this.\n",
            "INFO:prophet:Disabling daily seasonality. Run prophet with daily_seasonality=True to override this.\n"
          ]
        },
        {
          "output_type": "stream",
          "name": "stdout",
          "text": [
            "Model Number: 662 with model FBProphet in generation 4 of 10\n"
          ]
        },
        {
          "output_type": "stream",
          "name": "stderr",
          "text": [
            "DEBUG:cmdstanpy:input tempfile: /tmp/tmp7syr8mce/turn97cb.json\n",
            "DEBUG:cmdstanpy:input tempfile: /tmp/tmp7syr8mce/4rcymu4d.json\n",
            "DEBUG:cmdstanpy:idx 0\n",
            "DEBUG:cmdstanpy:running CmdStan, num_threads: None\n",
            "DEBUG:cmdstanpy:CmdStan args: ['/usr/local/lib/python3.8/dist-packages/prophet/stan_model/prophet_model.bin', 'random', 'seed=61703', 'data', 'file=/tmp/tmp7syr8mce/turn97cb.json', 'init=/tmp/tmp7syr8mce/4rcymu4d.json', 'output', 'file=/tmp/tmp7syr8mce/prophet_modelg781ugnb/prophet_model-20230123225421.csv', 'method=optimize', 'algorithm=lbfgs', 'iter=10000']\n",
            "22:54:21 - cmdstanpy - INFO - Chain [1] start processing\n",
            "INFO:cmdstanpy:Chain [1] start processing\n",
            "22:54:21 - cmdstanpy - INFO - Chain [1] done processing\n",
            "INFO:cmdstanpy:Chain [1] done processing\n"
          ]
        },
        {
          "output_type": "stream",
          "name": "stdout",
          "text": [
            "Model Number: 663 with model MultivariateRegression in generation 4 of 10\n",
            "Model Number: 664 with model AverageValueNaive in generation 4 of 10\n",
            "Model Number: 665 with model NVAR in generation 4 of 10\n",
            "Model Number: 666 with model MultivariateRegression in generation 4 of 10\n",
            "Model Number: 667 with model MetricMotif in generation 4 of 10\n",
            "Model Number: 668 with model ETS in generation 4 of 10\n"
          ]
        },
        {
          "output_type": "stream",
          "name": "stderr",
          "text": [
            "INFO:prophet:Disabling yearly seasonality. Run prophet with yearly_seasonality=True to override this.\n",
            "INFO:prophet:Disabling daily seasonality. Run prophet with daily_seasonality=True to override this.\n",
            "DEBUG:cmdstanpy:input tempfile: /tmp/tmp7syr8mce/zfv3vek3.json\n",
            "DEBUG:cmdstanpy:input tempfile: /tmp/tmp7syr8mce/0fo9vl9_.json\n",
            "DEBUG:cmdstanpy:idx 0\n",
            "DEBUG:cmdstanpy:running CmdStan, num_threads: None\n",
            "DEBUG:cmdstanpy:CmdStan args: ['/usr/local/lib/python3.8/dist-packages/prophet/stan_model/prophet_model.bin', 'random', 'seed=85735', 'data', 'file=/tmp/tmp7syr8mce/zfv3vek3.json', 'init=/tmp/tmp7syr8mce/0fo9vl9_.json', 'output', 'file=/tmp/tmp7syr8mce/prophet_modelgjr3y_bt/prophet_model-20230123225423.csv', 'method=optimize', 'algorithm=lbfgs', 'iter=10000']\n",
            "22:54:23 - cmdstanpy - INFO - Chain [1] start processing\n",
            "INFO:cmdstanpy:Chain [1] start processing\n"
          ]
        },
        {
          "output_type": "stream",
          "name": "stdout",
          "text": [
            "Model Number: 669 with model FBProphet in generation 4 of 10\n"
          ]
        },
        {
          "output_type": "stream",
          "name": "stderr",
          "text": [
            "22:54:24 - cmdstanpy - INFO - Chain [1] done processing\n",
            "INFO:cmdstanpy:Chain [1] done processing\n"
          ]
        },
        {
          "output_type": "stream",
          "name": "stdout",
          "text": [
            "Model Number: 670 with model ETS in generation 4 of 10\n",
            "Model Number: 671 with model FBProphet in generation 4 of 10\n"
          ]
        },
        {
          "output_type": "stream",
          "name": "stderr",
          "text": [
            "INFO:prophet:Disabling yearly seasonality. Run prophet with yearly_seasonality=True to override this.\n",
            "INFO:prophet:Disabling daily seasonality. Run prophet with daily_seasonality=True to override this.\n",
            "DEBUG:cmdstanpy:input tempfile: /tmp/tmp7syr8mce/f5q9a71i.json\n",
            "DEBUG:cmdstanpy:input tempfile: /tmp/tmp7syr8mce/xxrpzr51.json\n",
            "DEBUG:cmdstanpy:idx 0\n",
            "DEBUG:cmdstanpy:running CmdStan, num_threads: None\n",
            "DEBUG:cmdstanpy:CmdStan args: ['/usr/local/lib/python3.8/dist-packages/prophet/stan_model/prophet_model.bin', 'random', 'seed=31324', 'data', 'file=/tmp/tmp7syr8mce/f5q9a71i.json', 'init=/tmp/tmp7syr8mce/xxrpzr51.json', 'output', 'file=/tmp/tmp7syr8mce/prophet_modelf0wpurdp/prophet_model-20230123225425.csv', 'method=optimize', 'algorithm=lbfgs', 'iter=10000']\n",
            "22:54:25 - cmdstanpy - INFO - Chain [1] start processing\n",
            "INFO:cmdstanpy:Chain [1] start processing\n",
            "22:54:25 - cmdstanpy - INFO - Chain [1] done processing\n",
            "INFO:cmdstanpy:Chain [1] done processing\n"
          ]
        },
        {
          "output_type": "stream",
          "name": "stdout",
          "text": [
            "Model Number: 672 with model ETS in generation 4 of 10\n",
            "Model Number: 673 with model SeasonalNaive in generation 4 of 10\n",
            "Model Number: 674 with model ETS in generation 4 of 10\n",
            "Model Number: 675 with model UnobservedComponents in generation 4 of 10\n",
            "Model Number: 676 with model MetricMotif in generation 4 of 10\n",
            "Model Number: 677 with model UnivariateMotif in generation 4 of 10\n",
            "Model Number: 678 with model NVAR in generation 4 of 10\n",
            "Model Number: 679 with model ConstantNaive in generation 4 of 10\n",
            "Model Number: 680 with model ConstantNaive in generation 4 of 10\n",
            "Model Number: 681 with model FBProphet in generation 4 of 10\n"
          ]
        },
        {
          "output_type": "stream",
          "name": "stderr",
          "text": [
            "INFO:prophet:Disabling yearly seasonality. Run prophet with yearly_seasonality=True to override this.\n",
            "INFO:prophet:Disabling daily seasonality. Run prophet with daily_seasonality=True to override this.\n",
            "DEBUG:cmdstanpy:input tempfile: /tmp/tmp7syr8mce/00nl3z0r.json\n",
            "DEBUG:cmdstanpy:input tempfile: /tmp/tmp7syr8mce/b36h7jrj.json\n",
            "DEBUG:cmdstanpy:idx 0\n",
            "DEBUG:cmdstanpy:running CmdStan, num_threads: None\n",
            "DEBUG:cmdstanpy:CmdStan args: ['/usr/local/lib/python3.8/dist-packages/prophet/stan_model/prophet_model.bin', 'random', 'seed=82325', 'data', 'file=/tmp/tmp7syr8mce/00nl3z0r.json', 'init=/tmp/tmp7syr8mce/b36h7jrj.json', 'output', 'file=/tmp/tmp7syr8mce/prophet_model6tybye7w/prophet_model-20230123225427.csv', 'method=optimize', 'algorithm=lbfgs', 'iter=10000']\n",
            "22:54:27 - cmdstanpy - INFO - Chain [1] start processing\n",
            "INFO:cmdstanpy:Chain [1] start processing\n",
            "22:54:28 - cmdstanpy - INFO - Chain [1] done processing\n",
            "INFO:cmdstanpy:Chain [1] done processing\n",
            "/usr/local/lib/python3.8/dist-packages/sklearn/base.py:493: FutureWarning:\n",
            "\n",
            "The feature names should match those that were passed during fit. Starting version 1.2, an error will be raised.\n",
            "Feature names seen at fit time, yet now missing:\n",
            "- seasonalitycommonfourier_26\n",
            "- seasonalitycommonfourier_27\n",
            "- seasonalitycommonfourier_28\n",
            "- seasonalitycommonfourier_29\n",
            "- seasonalitycommonfourier_30\n",
            "- ...\n",
            "\n",
            "\n"
          ]
        },
        {
          "output_type": "stream",
          "name": "stdout",
          "text": [
            "Template Eval Error: Exception('Transformer DatepartRegression failed on inverse') in model 681: FBProphet\n",
            "Model Number: 682 with model ETS in generation 4 of 10\n",
            "Model Number: 683 with model NVAR in generation 4 of 10\n",
            "Model Number: 684 with model MultivariateRegression in generation 4 of 10\n",
            "Model Number: 685 with model NVAR in generation 4 of 10\n",
            "Model Number: 686 with model UnobservedComponents in generation 4 of 10\n",
            "Model Number: 687 with model MultivariateMotif in generation 4 of 10\n",
            "Model Number: 688 with model SectionalMotif in generation 4 of 10\n",
            "New Generation: 5 of 10\n",
            "Model Number: 689 with model UnivariateMotif in generation 5 of 10\n",
            "Model Number: 690 with model SeasonalNaive in generation 5 of 10\n",
            "Model Number: 691 with model ETS in generation 5 of 10\n",
            "Model Number: 692 with model Theta in generation 5 of 10\n"
          ]
        },
        {
          "output_type": "stream",
          "name": "stderr",
          "text": [
            "INFO:prophet:Disabling yearly seasonality. Run prophet with yearly_seasonality=True to override this.\n",
            "INFO:prophet:Disabling daily seasonality. Run prophet with daily_seasonality=True to override this.\n",
            "DEBUG:cmdstanpy:input tempfile: /tmp/tmp7syr8mce/as4kmodu.json\n",
            "DEBUG:cmdstanpy:input tempfile: /tmp/tmp7syr8mce/ooqt03oh.json\n",
            "DEBUG:cmdstanpy:idx 0\n",
            "DEBUG:cmdstanpy:running CmdStan, num_threads: None\n",
            "DEBUG:cmdstanpy:CmdStan args: ['/usr/local/lib/python3.8/dist-packages/prophet/stan_model/prophet_model.bin', 'random', 'seed=16379', 'data', 'file=/tmp/tmp7syr8mce/as4kmodu.json', 'init=/tmp/tmp7syr8mce/ooqt03oh.json', 'output', 'file=/tmp/tmp7syr8mce/prophet_modelhz1obr7u/prophet_model-20230123225432.csv', 'method=optimize', 'algorithm=lbfgs', 'iter=10000']\n",
            "22:54:32 - cmdstanpy - INFO - Chain [1] start processing\n",
            "INFO:cmdstanpy:Chain [1] start processing\n"
          ]
        },
        {
          "output_type": "stream",
          "name": "stdout",
          "text": [
            "Model Number: 693 with model FBProphet in generation 5 of 10\n"
          ]
        },
        {
          "output_type": "stream",
          "name": "stderr",
          "text": [
            "22:54:33 - cmdstanpy - INFO - Chain [1] done processing\n",
            "INFO:cmdstanpy:Chain [1] done processing\n"
          ]
        },
        {
          "output_type": "stream",
          "name": "stdout",
          "text": [
            "Model Number: 694 with model MultivariateMotif in generation 5 of 10\n",
            "Model Number: 695 with model NVAR in generation 5 of 10\n",
            "Model Number: 696 with model UnivariateMotif in generation 5 of 10\n",
            "Model Number: 697 with model ETS in generation 5 of 10\n",
            "Model Number: 698 with model MultivariateMotif in generation 5 of 10\n"
          ]
        },
        {
          "output_type": "stream",
          "name": "stderr",
          "text": [
            "INFO:prophet:Disabling yearly seasonality. Run prophet with yearly_seasonality=True to override this.\n",
            "INFO:prophet:Disabling daily seasonality. Run prophet with daily_seasonality=True to override this.\n"
          ]
        },
        {
          "output_type": "stream",
          "name": "stdout",
          "text": [
            "Model Number: 699 with model FBProphet in generation 5 of 10\n"
          ]
        },
        {
          "output_type": "stream",
          "name": "stderr",
          "text": [
            "DEBUG:cmdstanpy:input tempfile: /tmp/tmp7syr8mce/1qfy3kdp.json\n",
            "DEBUG:cmdstanpy:input tempfile: /tmp/tmp7syr8mce/uo2nxr1j.json\n",
            "DEBUG:cmdstanpy:idx 0\n",
            "DEBUG:cmdstanpy:running CmdStan, num_threads: None\n",
            "DEBUG:cmdstanpy:CmdStan args: ['/usr/local/lib/python3.8/dist-packages/prophet/stan_model/prophet_model.bin', 'random', 'seed=94104', 'data', 'file=/tmp/tmp7syr8mce/1qfy3kdp.json', 'init=/tmp/tmp7syr8mce/uo2nxr1j.json', 'output', 'file=/tmp/tmp7syr8mce/prophet_modelunmqpuxr/prophet_model-20230123225434.csv', 'method=optimize', 'algorithm=lbfgs', 'iter=10000']\n",
            "22:54:34 - cmdstanpy - INFO - Chain [1] start processing\n",
            "INFO:cmdstanpy:Chain [1] start processing\n",
            "22:54:34 - cmdstanpy - INFO - Chain [1] done processing\n",
            "INFO:cmdstanpy:Chain [1] done processing\n"
          ]
        },
        {
          "output_type": "stream",
          "name": "stdout",
          "text": [
            "Model Number: 700 with model WindowRegression in generation 5 of 10\n",
            "Model Number: 701 with model MultivariateMotif in generation 5 of 10\n",
            "Model Number: 702 with model DatepartRegression in generation 5 of 10\n",
            "Model Number: 703 with model SectionalMotif in generation 5 of 10\n",
            "Template Eval Error: ValueError(\"regression_type=='User' but no future_regressor supplied\") in model 703: SectionalMotif\n",
            "Model Number: 704 with model AverageValueNaive in generation 5 of 10\n",
            "Model Number: 705 with model UnivariateMotif in generation 5 of 10\n",
            "Model Number: 706 with model ETS in generation 5 of 10\n",
            "Model Number: 707 with model AverageValueNaive in generation 5 of 10\n",
            "Model Number: 708 with model MultivariateMotif in generation 5 of 10\n",
            "Model Number: 709 with model SectionalMotif in generation 5 of 10\n",
            "Model Number: 710 with model NVAR in generation 5 of 10\n",
            "Model Number: 711 with model SectionalMotif in generation 5 of 10\n",
            "Model Number: 712 with model MultivariateRegression in generation 5 of 10\n",
            "Template Eval Error: ValueError(\"regression_type='User' but not future_regressor supplied.\") in model 712: MultivariateRegression\n",
            "Model Number: 713 with model DatepartRegression in generation 5 of 10\n",
            "Model Number: 714 with model AverageValueNaive in generation 5 of 10\n",
            "Model Number: 715 with model MultivariateMotif in generation 5 of 10\n",
            "Model Number: 716 with model NVAR in generation 5 of 10\n",
            "Model Number: 717 with model LastValueNaive in generation 5 of 10\n",
            "Model Number: 718 with model WindowRegression in generation 5 of 10\n",
            "Model Number: 719 with model ETS in generation 5 of 10\n",
            "Template Eval Error: Exception('Transformer DatepartRegression failed on inverse') in model 719: ETS\n",
            "Model Number: 720 with model ConstantNaive in generation 5 of 10\n"
          ]
        },
        {
          "output_type": "stream",
          "name": "stderr",
          "text": [
            "/usr/local/lib/python3.8/dist-packages/sklearn/base.py:493: FutureWarning:\n",
            "\n",
            "The feature names should match those that were passed during fit. Starting version 1.2, an error will be raised.\n",
            "Feature names seen at fit time, yet now missing:\n",
            "- seasonalitycommonfourier_26\n",
            "- seasonalitycommonfourier_27\n",
            "- seasonalitycommonfourier_28\n",
            "- seasonalitycommonfourier_29\n",
            "- seasonalitycommonfourier_30\n",
            "- ...\n",
            "\n",
            "\n"
          ]
        },
        {
          "output_type": "stream",
          "name": "stdout",
          "text": [
            "Model Number: 721 with model DatepartRegression in generation 5 of 10\n",
            "Model Number: 722 with model SeasonalNaive in generation 5 of 10\n",
            "Model Number: 723 with model SectionalMotif in generation 5 of 10\n",
            "Model Number: 724 with model ConstantNaive in generation 5 of 10\n",
            "Model Number: 725 with model UnobservedComponents in generation 5 of 10\n",
            "Model Number: 726 with model UnivariateMotif in generation 5 of 10\n",
            "Model Number: 727 with model GLM in generation 5 of 10\n",
            "Model Number: 728 with model AverageValueNaive in generation 5 of 10\n"
          ]
        },
        {
          "output_type": "stream",
          "name": "stderr",
          "text": [
            "/usr/local/lib/python3.8/dist-packages/statsmodels/genmod/families/links.py:188: RuntimeWarning:\n",
            "\n",
            "overflow encountered in exp\n",
            "\n"
          ]
        },
        {
          "output_type": "stream",
          "name": "stdout",
          "text": [
            "Model Number: 729 with model SeasonalNaive in generation 5 of 10\n",
            "Model Number: 730 with model MultivariateRegression in generation 5 of 10\n",
            "Template Eval Error: ValueError(\"Input contains NaN, infinity or a value too large for dtype('float64').\") in model 730: MultivariateRegression\n",
            "Model Number: 731 with model SeasonalNaive in generation 5 of 10\n",
            "Model Number: 732 with model AverageValueNaive in generation 5 of 10\n",
            "Model Number: 733 with model ETS in generation 5 of 10\n",
            "Model Number: 734 with model UnivariateMotif in generation 5 of 10\n",
            "Model Number: 735 with model MultivariateMotif in generation 5 of 10\n",
            "Model Number: 736 with model MetricMotif in generation 5 of 10\n",
            "Model Number: 737 with model UnivariateMotif in generation 5 of 10\n",
            "Model Number: 738 with model ConstantNaive in generation 5 of 10\n",
            "Model Number: 739 with model ARIMA in generation 5 of 10\n"
          ]
        },
        {
          "output_type": "stream",
          "name": "stderr",
          "text": [
            "INFO:prophet:Disabling yearly seasonality. Run prophet with yearly_seasonality=True to override this.\n",
            "INFO:prophet:Disabling daily seasonality. Run prophet with daily_seasonality=True to override this.\n",
            "DEBUG:cmdstanpy:input tempfile: /tmp/tmp7syr8mce/ql5erfqh.json\n",
            "DEBUG:cmdstanpy:input tempfile: /tmp/tmp7syr8mce/fui562k8.json\n",
            "DEBUG:cmdstanpy:idx 0\n",
            "DEBUG:cmdstanpy:running CmdStan, num_threads: None\n",
            "DEBUG:cmdstanpy:CmdStan args: ['/usr/local/lib/python3.8/dist-packages/prophet/stan_model/prophet_model.bin', 'random', 'seed=50528', 'data', 'file=/tmp/tmp7syr8mce/ql5erfqh.json', 'init=/tmp/tmp7syr8mce/fui562k8.json', 'output', 'file=/tmp/tmp7syr8mce/prophet_modellsp96aas/prophet_model-20230123225442.csv', 'method=optimize', 'algorithm=lbfgs', 'iter=10000']\n",
            "22:54:42 - cmdstanpy - INFO - Chain [1] start processing\n",
            "INFO:cmdstanpy:Chain [1] start processing\n"
          ]
        },
        {
          "output_type": "stream",
          "name": "stdout",
          "text": [
            "Model Number: 740 with model FBProphet in generation 5 of 10\n"
          ]
        },
        {
          "output_type": "stream",
          "name": "stderr",
          "text": [
            "22:54:43 - cmdstanpy - INFO - Chain [1] done processing\n",
            "INFO:cmdstanpy:Chain [1] done processing\n"
          ]
        },
        {
          "output_type": "stream",
          "name": "stdout",
          "text": [
            "Model Number: 741 with model ConstantNaive in generation 5 of 10\n",
            "Model Number: 742 with model Theta in generation 5 of 10\n",
            "Model Number: 743 with model MultivariateMotif in generation 5 of 10\n",
            "Model Number: 744 with model MetricMotif in generation 5 of 10\n",
            "Model Number: 745 with model MultivariateMotif in generation 5 of 10\n",
            "Model Number: 746 with model UnivariateRegression in generation 5 of 10\n",
            "Model Number: 747 with model MultivariateRegression in generation 5 of 10\n",
            "Model Number: 748 with model LastValueNaive in generation 5 of 10\n",
            "Model Number: 749 with model Theta in generation 5 of 10\n",
            "Model Number: 750 with model ARIMA in generation 5 of 10\n",
            "Model Number: 751 with model SectionalMotif in generation 5 of 10\n",
            "Model Number: 752 with model NVAR in generation 5 of 10\n",
            "Model Number: 753 with model WindowRegression in generation 5 of 10\n",
            "Model Number: 754 with model MultivariateMotif in generation 5 of 10\n",
            "Model Number: 755 with model MetricMotif in generation 5 of 10\n"
          ]
        },
        {
          "output_type": "stream",
          "name": "stderr",
          "text": [
            "/usr/local/lib/python3.8/dist-packages/sklearn/neural_network/_multilayer_perceptron.py:692: ConvergenceWarning:\n",
            "\n",
            "Stochastic Optimizer: Maximum iterations (250) reached and the optimization hasn't converged yet.\n",
            "\n"
          ]
        },
        {
          "output_type": "stream",
          "name": "stdout",
          "text": [
            "Model Number: 756 with model MetricMotif in generation 5 of 10\n",
            "Model Number: 757 with model GLS in generation 5 of 10\n",
            "Model Number: 758 with model MetricMotif in generation 5 of 10\n",
            "Model Number: 759 with model LastValueNaive in generation 5 of 10\n",
            "Model Number: 760 with model GLS in generation 5 of 10\n",
            "Model Number: 761 with model NVAR in generation 5 of 10\n"
          ]
        },
        {
          "output_type": "stream",
          "name": "stderr",
          "text": [
            "INFO:prophet:Disabling yearly seasonality. Run prophet with yearly_seasonality=True to override this.\n",
            "INFO:prophet:Disabling daily seasonality. Run prophet with daily_seasonality=True to override this.\n",
            "DEBUG:cmdstanpy:input tempfile: /tmp/tmp7syr8mce/bl1pkhb_.json\n",
            "DEBUG:cmdstanpy:input tempfile: /tmp/tmp7syr8mce/h3njj9l_.json\n",
            "DEBUG:cmdstanpy:idx 0\n",
            "DEBUG:cmdstanpy:running CmdStan, num_threads: None\n",
            "DEBUG:cmdstanpy:CmdStan args: ['/usr/local/lib/python3.8/dist-packages/prophet/stan_model/prophet_model.bin', 'random', 'seed=66352', 'data', 'file=/tmp/tmp7syr8mce/bl1pkhb_.json', 'init=/tmp/tmp7syr8mce/h3njj9l_.json', 'output', 'file=/tmp/tmp7syr8mce/prophet_model0qikkx5k/prophet_model-20230123225450.csv', 'method=optimize', 'algorithm=lbfgs', 'iter=10000']\n",
            "22:54:50 - cmdstanpy - INFO - Chain [1] start processing\n",
            "INFO:cmdstanpy:Chain [1] start processing\n"
          ]
        },
        {
          "output_type": "stream",
          "name": "stdout",
          "text": [
            "Model Number: 762 with model FBProphet in generation 5 of 10\n"
          ]
        },
        {
          "output_type": "stream",
          "name": "stderr",
          "text": [
            "22:54:50 - cmdstanpy - INFO - Chain [1] done processing\n",
            "INFO:cmdstanpy:Chain [1] done processing\n"
          ]
        },
        {
          "output_type": "stream",
          "name": "stdout",
          "text": [
            "Model Number: 763 with model NVAR in generation 5 of 10\n",
            "Model Number: 764 with model LastValueNaive in generation 5 of 10\n",
            "Model Number: 765 with model UnobservedComponents in generation 5 of 10\n",
            "Model Number: 766 with model UnobservedComponents in generation 5 of 10\n",
            "Model Number: 767 with model UnobservedComponents in generation 5 of 10\n"
          ]
        },
        {
          "output_type": "stream",
          "name": "stderr",
          "text": [
            "INFO:prophet:Disabling yearly seasonality. Run prophet with yearly_seasonality=True to override this.\n",
            "INFO:prophet:Disabling daily seasonality. Run prophet with daily_seasonality=True to override this.\n",
            "DEBUG:cmdstanpy:input tempfile: /tmp/tmp7syr8mce/31xinons.json\n",
            "DEBUG:cmdstanpy:input tempfile: /tmp/tmp7syr8mce/_qpl5nxj.json\n",
            "DEBUG:cmdstanpy:idx 0\n",
            "DEBUG:cmdstanpy:running CmdStan, num_threads: None\n",
            "DEBUG:cmdstanpy:CmdStan args: ['/usr/local/lib/python3.8/dist-packages/prophet/stan_model/prophet_model.bin', 'random', 'seed=43001', 'data', 'file=/tmp/tmp7syr8mce/31xinons.json', 'init=/tmp/tmp7syr8mce/_qpl5nxj.json', 'output', 'file=/tmp/tmp7syr8mce/prophet_model2zbvdldi/prophet_model-20230123225453.csv', 'method=optimize', 'algorithm=lbfgs', 'iter=10000']\n"
          ]
        },
        {
          "output_type": "stream",
          "name": "stdout",
          "text": [
            "Model Number: 768 with model FBProphet in generation 5 of 10\n"
          ]
        },
        {
          "output_type": "stream",
          "name": "stderr",
          "text": [
            "22:54:53 - cmdstanpy - INFO - Chain [1] start processing\n",
            "INFO:cmdstanpy:Chain [1] start processing\n",
            "22:54:54 - cmdstanpy - INFO - Chain [1] done processing\n",
            "INFO:cmdstanpy:Chain [1] done processing\n"
          ]
        },
        {
          "output_type": "stream",
          "name": "stdout",
          "text": [
            "Model Number: 769 with model LastValueNaive in generation 5 of 10\n",
            "Model Number: 770 with model MultivariateRegression in generation 5 of 10\n",
            "Model Number: 771 with model MetricMotif in generation 5 of 10\n",
            "Model Number: 772 with model ConstantNaive in generation 5 of 10\n",
            "Model Number: 773 with model NVAR in generation 5 of 10\n",
            "Template Eval Error: Exception('Transformer BTCD failed on fit') in model 773: NVAR\n",
            "Model Number: 774 with model UnobservedComponents in generation 5 of 10\n",
            "Model Number: 775 with model AverageValueNaive in generation 5 of 10\n",
            "Model Number: 776 with model AverageValueNaive in generation 5 of 10\n",
            "Model Number: 777 with model FBProphet in generation 5 of 10\n"
          ]
        },
        {
          "output_type": "stream",
          "name": "stderr",
          "text": [
            "INFO:prophet:Disabling yearly seasonality. Run prophet with yearly_seasonality=True to override this.\n",
            "INFO:prophet:Disabling daily seasonality. Run prophet with daily_seasonality=True to override this.\n",
            "DEBUG:cmdstanpy:input tempfile: /tmp/tmp7syr8mce/esraurqt.json\n",
            "DEBUG:cmdstanpy:input tempfile: /tmp/tmp7syr8mce/mly9oyf8.json\n",
            "DEBUG:cmdstanpy:idx 0\n",
            "DEBUG:cmdstanpy:running CmdStan, num_threads: None\n",
            "DEBUG:cmdstanpy:CmdStan args: ['/usr/local/lib/python3.8/dist-packages/prophet/stan_model/prophet_model.bin', 'random', 'seed=35278', 'data', 'file=/tmp/tmp7syr8mce/esraurqt.json', 'init=/tmp/tmp7syr8mce/mly9oyf8.json', 'output', 'file=/tmp/tmp7syr8mce/prophet_modelsvi4pjpf/prophet_model-20230123225456.csv', 'method=optimize', 'algorithm=lbfgs', 'iter=10000']\n",
            "22:54:56 - cmdstanpy - INFO - Chain [1] start processing\n",
            "INFO:cmdstanpy:Chain [1] start processing\n",
            "22:54:57 - cmdstanpy - INFO - Chain [1] done processing\n",
            "INFO:cmdstanpy:Chain [1] done processing\n"
          ]
        },
        {
          "output_type": "stream",
          "name": "stdout",
          "text": [
            "Model Number: 778 with model AverageValueNaive in generation 5 of 10\n",
            "Model Number: 779 with model UnobservedComponents in generation 5 of 10\n",
            "Model Number: 780 with model GLS in generation 5 of 10\n",
            "Model Number: 781 with model ARIMA in generation 5 of 10\n",
            "Model Number: 782 with model UnobservedComponents in generation 5 of 10\n",
            "Model Number: 783 with model MetricMotif in generation 5 of 10\n",
            "Model Number: 784 with model LastValueNaive in generation 5 of 10\n",
            "Model Number: 785 with model MetricMotif in generation 5 of 10\n",
            "Model Number: 786 with model SectionalMotif in generation 5 of 10\n",
            "Model Number: 787 with model ARIMA in generation 5 of 10\n"
          ]
        },
        {
          "output_type": "stream",
          "name": "stderr",
          "text": [
            "/usr/local/lib/python3.8/dist-packages/autots/tools/thresholding.py:204: RuntimeWarning:\n",
            "\n",
            "overflow encountered in double_scalars\n",
            "\n"
          ]
        },
        {
          "output_type": "stream",
          "name": "stdout",
          "text": [
            "Model Number: 788 with model SeasonalNaive in generation 5 of 10\n",
            "New Generation: 6 of 10\n",
            "Model Number: 789 with model ConstantNaive in generation 6 of 10\n",
            "Model Number: 790 with model Theta in generation 6 of 10\n",
            "Model Number: 791 with model SectionalMotif in generation 6 of 10\n",
            "Model Number: 792 with model ARIMA in generation 6 of 10\n",
            "Model Number: 793 with model WindowRegression in generation 6 of 10\n",
            "Template Eval Error: Exception('Transformer BTCD failed on fit') in model 793: WindowRegression\n",
            "Model Number: 794 with model UnobservedComponents in generation 6 of 10\n",
            "Template Eval Error: ValueError(\"regression_type='User' but no future_regressor supplied\") in model 794: UnobservedComponents\n",
            "Model Number: 795 with model AverageValueNaive in generation 6 of 10\n",
            "Model Number: 796 with model AverageValueNaive in generation 6 of 10\n",
            "Model Number: 797 with model SectionalMotif in generation 6 of 10\n",
            "Model Number: 798 with model ConstantNaive in generation 6 of 10\n",
            "Model Number: 799 with model ETS in generation 6 of 10\n",
            "Model Number: 800 with model LastValueNaive in generation 6 of 10\n",
            "Model Number: 801 with model SeasonalNaive in generation 6 of 10\n",
            "Model Number: 802 with model NVAR in generation 6 of 10\n",
            "Model Number: 803 with model MultivariateMotif in generation 6 of 10\n",
            "Model Number: 804 with model MultivariateMotif in generation 6 of 10\n"
          ]
        },
        {
          "output_type": "stream",
          "name": "stderr",
          "text": [
            "INFO:prophet:Disabling yearly seasonality. Run prophet with yearly_seasonality=True to override this.\n",
            "INFO:prophet:Disabling daily seasonality. Run prophet with daily_seasonality=True to override this.\n"
          ]
        },
        {
          "output_type": "stream",
          "name": "stdout",
          "text": [
            "Model Number: 805 with model FBProphet in generation 6 of 10\n"
          ]
        },
        {
          "output_type": "stream",
          "name": "stderr",
          "text": [
            "DEBUG:cmdstanpy:input tempfile: /tmp/tmp7syr8mce/9f6jwcmi.json\n",
            "DEBUG:cmdstanpy:input tempfile: /tmp/tmp7syr8mce/jkzrs0g0.json\n",
            "DEBUG:cmdstanpy:idx 0\n",
            "DEBUG:cmdstanpy:running CmdStan, num_threads: None\n",
            "DEBUG:cmdstanpy:CmdStan args: ['/usr/local/lib/python3.8/dist-packages/prophet/stan_model/prophet_model.bin', 'random', 'seed=26611', 'data', 'file=/tmp/tmp7syr8mce/9f6jwcmi.json', 'init=/tmp/tmp7syr8mce/jkzrs0g0.json', 'output', 'file=/tmp/tmp7syr8mce/prophet_modeliev4npb4/prophet_model-20230123225524.csv', 'method=optimize', 'algorithm=lbfgs', 'iter=10000']\n",
            "22:55:24 - cmdstanpy - INFO - Chain [1] start processing\n",
            "INFO:cmdstanpy:Chain [1] start processing\n",
            "22:55:25 - cmdstanpy - INFO - Chain [1] done processing\n",
            "INFO:cmdstanpy:Chain [1] done processing\n",
            "INFO:prophet:Disabling yearly seasonality. Run prophet with yearly_seasonality=True to override this.\n",
            "INFO:prophet:Disabling daily seasonality. Run prophet with daily_seasonality=True to override this.\n",
            "DEBUG:cmdstanpy:input tempfile: /tmp/tmp7syr8mce/kcariipd.json\n",
            "DEBUG:cmdstanpy:input tempfile: /tmp/tmp7syr8mce/b8oyxuhh.json\n",
            "DEBUG:cmdstanpy:idx 0\n",
            "DEBUG:cmdstanpy:running CmdStan, num_threads: None\n",
            "DEBUG:cmdstanpy:CmdStan args: ['/usr/local/lib/python3.8/dist-packages/prophet/stan_model/prophet_model.bin', 'random', 'seed=13824', 'data', 'file=/tmp/tmp7syr8mce/kcariipd.json', 'init=/tmp/tmp7syr8mce/b8oyxuhh.json', 'output', 'file=/tmp/tmp7syr8mce/prophet_model4uv1nnh3/prophet_model-20230123225525.csv', 'method=optimize', 'algorithm=lbfgs', 'iter=10000']\n",
            "22:55:25 - cmdstanpy - INFO - Chain [1] start processing\n",
            "INFO:cmdstanpy:Chain [1] start processing\n"
          ]
        },
        {
          "output_type": "stream",
          "name": "stdout",
          "text": [
            "Model Number: 806 with model FBProphet in generation 6 of 10\n"
          ]
        },
        {
          "output_type": "stream",
          "name": "stderr",
          "text": [
            "22:55:26 - cmdstanpy - INFO - Chain [1] done processing\n",
            "INFO:cmdstanpy:Chain [1] done processing\n"
          ]
        },
        {
          "output_type": "stream",
          "name": "stdout",
          "text": [
            "Model Number: 807 with model UnivariateMotif in generation 6 of 10\n",
            "Model Number: 808 with model SectionalMotif in generation 6 of 10\n",
            "Model Number: 809 with model UnobservedComponents in generation 6 of 10\n",
            "Model Number: 810 with model MultivariateRegression in generation 6 of 10\n",
            "Model Number: 811 with model LastValueNaive in generation 6 of 10\n",
            "Model Number: 812 with model MetricMotif in generation 6 of 10\n",
            "Template Eval Error: Exception('Transformer BTCD failed on fit') in model 812: MetricMotif\n",
            "Model Number: 813 with model MultivariateRegression in generation 6 of 10\n",
            "Model Number: 814 with model ETS in generation 6 of 10\n",
            "Model Number: 815 with model MultivariateRegression in generation 6 of 10\n",
            "Model Number: 816 with model MultivariateRegression in generation 6 of 10\n",
            "Model Number: 817 with model MultivariateRegression in generation 6 of 10\n",
            "Model Number: 818 with model UnivariateMotif in generation 6 of 10\n",
            "Model Number: 819 with model ARIMA in generation 6 of 10\n",
            "Template Eval Error: ValueError(\"regression_type='User' but future_regressor not supplied\") in model 819: ARIMA\n",
            "Model Number: 820 with model MultivariateRegression in generation 6 of 10\n",
            "Model Number: 821 with model MetricMotif in generation 6 of 10\n",
            "Model Number: 822 with model AverageValueNaive in generation 6 of 10\n",
            "Model Number: 823 with model DatepartRegression in generation 6 of 10\n",
            "Template Eval Error: ValueError(\"regression_type='User' but no future_regressor passed\") in model 823: DatepartRegression\n",
            "Model Number: 824 with model MultivariateMotif in generation 6 of 10\n",
            "Model Number: 825 with model UnivariateMotif in generation 6 of 10\n",
            "Model Number: 826 with model MultivariateRegression in generation 6 of 10\n",
            "Model Number: 827 with model ConstantNaive in generation 6 of 10\n",
            "Model Number: 828 with model WindowRegression in generation 6 of 10\n",
            "Model Number: 829 with model MetricMotif in generation 6 of 10\n",
            "Model Number: 830 with model UnivariateMotif in generation 6 of 10\n",
            "Model Number: 831 with model SectionalMotif in generation 6 of 10\n",
            "Model Number: 832 with model FBProphet in generation 6 of 10\n"
          ]
        },
        {
          "output_type": "stream",
          "name": "stderr",
          "text": [
            "INFO:prophet:Disabling yearly seasonality. Run prophet with yearly_seasonality=True to override this.\n",
            "INFO:prophet:Disabling daily seasonality. Run prophet with daily_seasonality=True to override this.\n",
            "DEBUG:cmdstanpy:input tempfile: /tmp/tmp7syr8mce/fgzgpljm.json\n",
            "DEBUG:cmdstanpy:input tempfile: /tmp/tmp7syr8mce/g7dgdct9.json\n",
            "DEBUG:cmdstanpy:idx 0\n",
            "DEBUG:cmdstanpy:running CmdStan, num_threads: None\n",
            "DEBUG:cmdstanpy:CmdStan args: ['/usr/local/lib/python3.8/dist-packages/prophet/stan_model/prophet_model.bin', 'random', 'seed=64555', 'data', 'file=/tmp/tmp7syr8mce/fgzgpljm.json', 'init=/tmp/tmp7syr8mce/g7dgdct9.json', 'output', 'file=/tmp/tmp7syr8mce/prophet_model7h67ud7_/prophet_model-20230123225533.csv', 'method=optimize', 'algorithm=lbfgs', 'iter=10000']\n",
            "22:55:33 - cmdstanpy - INFO - Chain [1] start processing\n",
            "INFO:cmdstanpy:Chain [1] start processing\n",
            "22:55:33 - cmdstanpy - INFO - Chain [1] done processing\n",
            "INFO:cmdstanpy:Chain [1] done processing\n"
          ]
        },
        {
          "output_type": "stream",
          "name": "stdout",
          "text": [
            "Model Number: 833 with model MultivariateRegression in generation 6 of 10\n",
            "Model Number: 834 with model ARIMA in generation 6 of 10\n",
            "Model Number: 835 with model ETS in generation 6 of 10\n",
            "Model Number: 836 with model AverageValueNaive in generation 6 of 10\n",
            "Model Number: 837 with model FBProphet in generation 6 of 10\n",
            "Template Eval Error: Exception('Transformer BTCD failed on fit') in model 837: FBProphet\n",
            "Model Number: 838 with model UnivariateMotif in generation 6 of 10\n",
            "Model Number: 839 with model GLS in generation 6 of 10\n"
          ]
        },
        {
          "output_type": "stream",
          "name": "stderr",
          "text": [
            "INFO:prophet:Disabling yearly seasonality. Run prophet with yearly_seasonality=True to override this.\n",
            "INFO:prophet:Disabling daily seasonality. Run prophet with daily_seasonality=True to override this.\n",
            "DEBUG:cmdstanpy:input tempfile: /tmp/tmp7syr8mce/o_77ezhd.json\n",
            "DEBUG:cmdstanpy:input tempfile: /tmp/tmp7syr8mce/v0oojpxu.json\n",
            "DEBUG:cmdstanpy:idx 0\n",
            "DEBUG:cmdstanpy:running CmdStan, num_threads: None\n",
            "DEBUG:cmdstanpy:CmdStan args: ['/usr/local/lib/python3.8/dist-packages/prophet/stan_model/prophet_model.bin', 'random', 'seed=79198', 'data', 'file=/tmp/tmp7syr8mce/o_77ezhd.json', 'init=/tmp/tmp7syr8mce/v0oojpxu.json', 'output', 'file=/tmp/tmp7syr8mce/prophet_modelvx_m6t_t/prophet_model-20230123225536.csv', 'method=optimize', 'algorithm=lbfgs', 'iter=10000']\n",
            "22:55:36 - cmdstanpy - INFO - Chain [1] start processing\n",
            "INFO:cmdstanpy:Chain [1] start processing\n"
          ]
        },
        {
          "output_type": "stream",
          "name": "stdout",
          "text": [
            "Model Number: 840 with model FBProphet in generation 6 of 10\n"
          ]
        },
        {
          "output_type": "stream",
          "name": "stderr",
          "text": [
            "22:55:37 - cmdstanpy - INFO - Chain [1] done processing\n",
            "INFO:cmdstanpy:Chain [1] done processing\n"
          ]
        },
        {
          "output_type": "stream",
          "name": "stdout",
          "text": [
            "Model Number: 841 with model MetricMotif in generation 6 of 10\n",
            "Model Number: 842 with model AverageValueNaive in generation 6 of 10\n",
            "Model Number: 843 with model Theta in generation 6 of 10\n"
          ]
        },
        {
          "output_type": "stream",
          "name": "stderr",
          "text": [
            "INFO:prophet:Disabling yearly seasonality. Run prophet with yearly_seasonality=True to override this.\n",
            "INFO:prophet:Disabling daily seasonality. Run prophet with daily_seasonality=True to override this.\n",
            "DEBUG:cmdstanpy:input tempfile: /tmp/tmp7syr8mce/s7c96_r0.json\n"
          ]
        },
        {
          "output_type": "stream",
          "name": "stdout",
          "text": [
            "Model Number: 844 with model FBProphet in generation 6 of 10\n"
          ]
        },
        {
          "output_type": "stream",
          "name": "stderr",
          "text": [
            "DEBUG:cmdstanpy:input tempfile: /tmp/tmp7syr8mce/e8o9wxfg.json\n",
            "DEBUG:cmdstanpy:idx 0\n",
            "DEBUG:cmdstanpy:running CmdStan, num_threads: None\n",
            "DEBUG:cmdstanpy:CmdStan args: ['/usr/local/lib/python3.8/dist-packages/prophet/stan_model/prophet_model.bin', 'random', 'seed=3073', 'data', 'file=/tmp/tmp7syr8mce/s7c96_r0.json', 'init=/tmp/tmp7syr8mce/e8o9wxfg.json', 'output', 'file=/tmp/tmp7syr8mce/prophet_modelnsswsfyz/prophet_model-20230123225538.csv', 'method=optimize', 'algorithm=lbfgs', 'iter=10000']\n",
            "22:55:38 - cmdstanpy - INFO - Chain [1] start processing\n",
            "INFO:cmdstanpy:Chain [1] start processing\n",
            "22:55:38 - cmdstanpy - INFO - Chain [1] done processing\n",
            "INFO:cmdstanpy:Chain [1] done processing\n"
          ]
        },
        {
          "output_type": "stream",
          "name": "stdout",
          "text": [
            "Model Number: 845 with model GLM in generation 6 of 10\n",
            "Model Number: 846 with model LastValueNaive in generation 6 of 10\n",
            "Model Number: 847 with model Theta in generation 6 of 10\n",
            "Model Number: 848 with model LastValueNaive in generation 6 of 10\n",
            "Template Eval Error: Exception('Transformer Detrend failed on fit') in model 848: LastValueNaive\n",
            "Model Number: 849 with model GLS in generation 6 of 10\n",
            "Model Number: 850 with model AverageValueNaive in generation 6 of 10\n",
            "Model Number: 851 with model MetricMotif in generation 6 of 10\n",
            "Model Number: 852 with model AverageValueNaive in generation 6 of 10\n",
            "Model Number: 853 with model ARIMA in generation 6 of 10\n",
            "Model Number: 854 with model MetricMotif in generation 6 of 10\n",
            "Model Number: 855 with model SectionalMotif in generation 6 of 10\n",
            "Model Number: 856 with model NVAR in generation 6 of 10\n",
            "Model Number: 857 with model ETS in generation 6 of 10\n",
            "ETS error ValueError('endog must be strictly positive when usingmultiplicative trend or seasonal components.')\n",
            "ETS failed on Daily Deceased with ValueError('endog must be strictly positive when usingmultiplicative trend or seasonal components.')\n",
            "Model Number: 858 with model SeasonalNaive in generation 6 of 10\n",
            "Model Number: 859 with model AverageValueNaive in generation 6 of 10\n",
            "Model Number: 860 with model FBProphet in generation 6 of 10\n"
          ]
        },
        {
          "output_type": "stream",
          "name": "stderr",
          "text": [
            "INFO:prophet:Disabling yearly seasonality. Run prophet with yearly_seasonality=True to override this.\n",
            "INFO:prophet:Disabling daily seasonality. Run prophet with daily_seasonality=True to override this.\n",
            "DEBUG:cmdstanpy:input tempfile: /tmp/tmp7syr8mce/1npqcav4.json\n",
            "DEBUG:cmdstanpy:input tempfile: /tmp/tmp7syr8mce/8mj8k4ni.json\n",
            "DEBUG:cmdstanpy:idx 0\n",
            "DEBUG:cmdstanpy:running CmdStan, num_threads: None\n",
            "DEBUG:cmdstanpy:CmdStan args: ['/usr/local/lib/python3.8/dist-packages/prophet/stan_model/prophet_model.bin', 'random', 'seed=22621', 'data', 'file=/tmp/tmp7syr8mce/1npqcav4.json', 'init=/tmp/tmp7syr8mce/8mj8k4ni.json', 'output', 'file=/tmp/tmp7syr8mce/prophet_modeli0t2vccg/prophet_model-20230123225543.csv', 'method=optimize', 'algorithm=lbfgs', 'iter=10000']\n",
            "22:55:43 - cmdstanpy - INFO - Chain [1] start processing\n",
            "INFO:cmdstanpy:Chain [1] start processing\n",
            "22:55:43 - cmdstanpy - INFO - Chain [1] done processing\n",
            "INFO:cmdstanpy:Chain [1] done processing\n"
          ]
        },
        {
          "output_type": "stream",
          "name": "stdout",
          "text": [
            "Model Number: 861 with model UnivariateMotif in generation 6 of 10\n",
            "Model Number: 862 with model NVAR in generation 6 of 10\n",
            "Model Number: 863 with model NVAR in generation 6 of 10\n",
            "Model Number: 864 with model MultivariateRegression in generation 6 of 10\n"
          ]
        },
        {
          "output_type": "stream",
          "name": "stderr",
          "text": [
            "INFO:prophet:Disabling yearly seasonality. Run prophet with yearly_seasonality=True to override this.\n",
            "INFO:prophet:Disabling daily seasonality. Run prophet with daily_seasonality=True to override this.\n",
            "DEBUG:cmdstanpy:input tempfile: /tmp/tmp7syr8mce/_azeg0z9.json\n",
            "DEBUG:cmdstanpy:input tempfile: /tmp/tmp7syr8mce/lufydukc.json\n",
            "DEBUG:cmdstanpy:idx 0\n",
            "DEBUG:cmdstanpy:running CmdStan, num_threads: None\n",
            "DEBUG:cmdstanpy:CmdStan args: ['/usr/local/lib/python3.8/dist-packages/prophet/stan_model/prophet_model.bin', 'random', 'seed=98111', 'data', 'file=/tmp/tmp7syr8mce/_azeg0z9.json', 'init=/tmp/tmp7syr8mce/lufydukc.json', 'output', 'file=/tmp/tmp7syr8mce/prophet_modelbews0qx7/prophet_model-20230123225545.csv', 'method=optimize', 'algorithm=lbfgs', 'iter=10000']\n",
            "22:55:45 - cmdstanpy - INFO - Chain [1] start processing\n",
            "INFO:cmdstanpy:Chain [1] start processing\n"
          ]
        },
        {
          "output_type": "stream",
          "name": "stdout",
          "text": [
            "Model Number: 865 with model LastValueNaive in generation 6 of 10\n",
            "Template Eval Error: Exception('Transformer Detrend failed on fit') in model 865: LastValueNaive\n",
            "Model Number: 866 with model FBProphet in generation 6 of 10\n"
          ]
        },
        {
          "output_type": "stream",
          "name": "stderr",
          "text": [
            "22:55:46 - cmdstanpy - INFO - Chain [1] done processing\n",
            "INFO:cmdstanpy:Chain [1] done processing\n"
          ]
        },
        {
          "output_type": "stream",
          "name": "stdout",
          "text": [
            "Model Number: 867 with model MultivariateMotif in generation 6 of 10\n",
            "Model Number: 868 with model UnobservedComponents in generation 6 of 10\n",
            "Model Number: 869 with model FBProphet in generation 6 of 10\n",
            "No anomalies detected.\n"
          ]
        },
        {
          "output_type": "stream",
          "name": "stderr",
          "text": [
            "INFO:prophet:Disabling yearly seasonality. Run prophet with yearly_seasonality=True to override this.\n",
            "INFO:prophet:Disabling daily seasonality. Run prophet with daily_seasonality=True to override this.\n",
            "DEBUG:cmdstanpy:input tempfile: /tmp/tmp7syr8mce/221ervrg.json\n",
            "DEBUG:cmdstanpy:input tempfile: /tmp/tmp7syr8mce/9gg_o4in.json\n",
            "DEBUG:cmdstanpy:idx 0\n",
            "DEBUG:cmdstanpy:running CmdStan, num_threads: None\n",
            "DEBUG:cmdstanpy:CmdStan args: ['/usr/local/lib/python3.8/dist-packages/prophet/stan_model/prophet_model.bin', 'random', 'seed=96967', 'data', 'file=/tmp/tmp7syr8mce/221ervrg.json', 'init=/tmp/tmp7syr8mce/9gg_o4in.json', 'output', 'file=/tmp/tmp7syr8mce/prophet_modelpf2wcbm_/prophet_model-20230123225549.csv', 'method=optimize', 'algorithm=lbfgs', 'iter=10000']\n",
            "22:55:49 - cmdstanpy - INFO - Chain [1] start processing\n",
            "INFO:cmdstanpy:Chain [1] start processing\n",
            "22:55:49 - cmdstanpy - INFO - Chain [1] done processing\n",
            "INFO:cmdstanpy:Chain [1] done processing\n"
          ]
        },
        {
          "output_type": "stream",
          "name": "stdout",
          "text": [
            "Model Number: 870 with model ETS in generation 6 of 10\n"
          ]
        },
        {
          "output_type": "stream",
          "name": "stderr",
          "text": [
            "INFO:prophet:Disabling yearly seasonality. Run prophet with yearly_seasonality=True to override this.\n",
            "INFO:prophet:Disabling daily seasonality. Run prophet with daily_seasonality=True to override this.\n",
            "DEBUG:cmdstanpy:input tempfile: /tmp/tmp7syr8mce/k_m0f9sb.json\n"
          ]
        },
        {
          "output_type": "stream",
          "name": "stdout",
          "text": [
            "Model Number: 871 with model FBProphet in generation 6 of 10\n"
          ]
        },
        {
          "output_type": "stream",
          "name": "stderr",
          "text": [
            "DEBUG:cmdstanpy:input tempfile: /tmp/tmp7syr8mce/lttgk_dh.json\n",
            "DEBUG:cmdstanpy:idx 0\n",
            "DEBUG:cmdstanpy:running CmdStan, num_threads: None\n",
            "DEBUG:cmdstanpy:CmdStan args: ['/usr/local/lib/python3.8/dist-packages/prophet/stan_model/prophet_model.bin', 'random', 'seed=82225', 'data', 'file=/tmp/tmp7syr8mce/k_m0f9sb.json', 'init=/tmp/tmp7syr8mce/lttgk_dh.json', 'output', 'file=/tmp/tmp7syr8mce/prophet_modelh60aihfu/prophet_model-20230123225550.csv', 'method=optimize', 'algorithm=lbfgs', 'iter=10000']\n",
            "22:55:50 - cmdstanpy - INFO - Chain [1] start processing\n",
            "INFO:cmdstanpy:Chain [1] start processing\n",
            "22:55:50 - cmdstanpy - INFO - Chain [1] done processing\n",
            "INFO:cmdstanpy:Chain [1] done processing\n"
          ]
        },
        {
          "output_type": "stream",
          "name": "stdout",
          "text": [
            "Model Number: 872 with model ConstantNaive in generation 6 of 10\n",
            "Model Number: 873 with model UnivariateMotif in generation 6 of 10\n"
          ]
        },
        {
          "output_type": "stream",
          "name": "stderr",
          "text": [
            "INFO:prophet:Disabling yearly seasonality. Run prophet with yearly_seasonality=True to override this.\n",
            "INFO:prophet:Disabling daily seasonality. Run prophet with daily_seasonality=True to override this.\n",
            "DEBUG:cmdstanpy:input tempfile: /tmp/tmp7syr8mce/fg2kg7wi.json\n"
          ]
        },
        {
          "output_type": "stream",
          "name": "stdout",
          "text": [
            "Model Number: 874 with model FBProphet in generation 6 of 10\n"
          ]
        },
        {
          "output_type": "stream",
          "name": "stderr",
          "text": [
            "DEBUG:cmdstanpy:input tempfile: /tmp/tmp7syr8mce/u2krxpr9.json\n",
            "DEBUG:cmdstanpy:idx 0\n",
            "DEBUG:cmdstanpy:running CmdStan, num_threads: None\n",
            "DEBUG:cmdstanpy:CmdStan args: ['/usr/local/lib/python3.8/dist-packages/prophet/stan_model/prophet_model.bin', 'random', 'seed=95781', 'data', 'file=/tmp/tmp7syr8mce/fg2kg7wi.json', 'init=/tmp/tmp7syr8mce/u2krxpr9.json', 'output', 'file=/tmp/tmp7syr8mce/prophet_modelg6wzpar7/prophet_model-20230123225551.csv', 'method=optimize', 'algorithm=lbfgs', 'iter=10000']\n",
            "22:55:51 - cmdstanpy - INFO - Chain [1] start processing\n",
            "INFO:cmdstanpy:Chain [1] start processing\n",
            "22:55:51 - cmdstanpy - INFO - Chain [1] done processing\n",
            "INFO:cmdstanpy:Chain [1] done processing\n"
          ]
        },
        {
          "output_type": "stream",
          "name": "stdout",
          "text": [
            "Model Number: 875 with model UnivariateMotif in generation 6 of 10\n",
            "Model Number: 876 with model GLS in generation 6 of 10\n",
            "Model Number: 877 with model MetricMotif in generation 6 of 10\n",
            "Model Number: 878 with model MetricMotif in generation 6 of 10\n",
            "Model Number: 879 with model GLM in generation 6 of 10\n"
          ]
        },
        {
          "output_type": "stream",
          "name": "stderr",
          "text": [
            "/usr/local/lib/python3.8/dist-packages/sklearn/linear_model/_ridge.py:157: LinAlgWarning:\n",
            "\n",
            "Ill-conditioned matrix (rcond=1.54701e-25): result may not be accurate.\n",
            "\n",
            "/usr/local/lib/python3.8/dist-packages/statsmodels/genmod/families/links.py:188: RuntimeWarning:\n",
            "\n",
            "overflow encountered in exp\n",
            "\n"
          ]
        },
        {
          "output_type": "stream",
          "name": "stdout",
          "text": [
            "Model Number: 880 with model SeasonalNaive in generation 6 of 10\n",
            "Model Number: 881 with model MultivariateMotif in generation 6 of 10\n",
            "Model Number: 882 with model LastValueNaive in generation 6 of 10\n",
            "Model Number: 883 with model UnivariateMotif in generation 6 of 10\n",
            "Model Number: 884 with model ETS in generation 6 of 10\n",
            "Model Number: 885 with model SectionalMotif in generation 6 of 10\n",
            "Model Number: 886 with model AverageValueNaive in generation 6 of 10\n",
            "Model Number: 887 with model ETS in generation 6 of 10\n",
            "Model Number: 888 with model SectionalMotif in generation 6 of 10\n",
            "New Generation: 7 of 10\n",
            "Model Number: 889 with model GLM in generation 7 of 10\n",
            "Model Number: 890 with model ARIMA in generation 7 of 10\n",
            "Model Number: 891 with model GLS in generation 7 of 10\n"
          ]
        },
        {
          "output_type": "stream",
          "name": "stderr",
          "text": [
            "INFO:prophet:Disabling yearly seasonality. Run prophet with yearly_seasonality=True to override this.\n",
            "INFO:prophet:Disabling daily seasonality. Run prophet with daily_seasonality=True to override this.\n"
          ]
        },
        {
          "output_type": "stream",
          "name": "stdout",
          "text": [
            "Model Number: 892 with model FBProphet in generation 7 of 10\n"
          ]
        },
        {
          "output_type": "stream",
          "name": "stderr",
          "text": [
            "DEBUG:cmdstanpy:input tempfile: /tmp/tmp7syr8mce/_ga09o5v.json\n",
            "DEBUG:cmdstanpy:input tempfile: /tmp/tmp7syr8mce/b525nfdf.json\n",
            "DEBUG:cmdstanpy:idx 0\n",
            "DEBUG:cmdstanpy:running CmdStan, num_threads: None\n",
            "DEBUG:cmdstanpy:CmdStan args: ['/usr/local/lib/python3.8/dist-packages/prophet/stan_model/prophet_model.bin', 'random', 'seed=91112', 'data', 'file=/tmp/tmp7syr8mce/_ga09o5v.json', 'init=/tmp/tmp7syr8mce/b525nfdf.json', 'output', 'file=/tmp/tmp7syr8mce/prophet_model1rozljrn/prophet_model-20230123225558.csv', 'method=optimize', 'algorithm=lbfgs', 'iter=10000']\n",
            "22:55:58 - cmdstanpy - INFO - Chain [1] start processing\n",
            "INFO:cmdstanpy:Chain [1] start processing\n",
            "22:55:58 - cmdstanpy - INFO - Chain [1] done processing\n",
            "INFO:cmdstanpy:Chain [1] done processing\n"
          ]
        },
        {
          "output_type": "stream",
          "name": "stdout",
          "text": [
            "Model Number: 893 with model ConstantNaive in generation 7 of 10\n",
            "Model Number: 894 with model MetricMotif in generation 7 of 10\n",
            "Template Eval Error: Exception('Transformer Detrend failed on fit') in model 894: MetricMotif\n",
            "Model Number: 895 with model SectionalMotif in generation 7 of 10\n",
            "Model Number: 896 with model WindowRegression in generation 7 of 10\n",
            "Model Number: 897 with model MultivariateRegression in generation 7 of 10\n",
            "Model Number: 898 with model AverageValueNaive in generation 7 of 10\n",
            "Model Number: 899 with model UnivariateMotif in generation 7 of 10\n",
            "Model Number: 900 with model SectionalMotif in generation 7 of 10\n",
            "Model Number: 901 with model NVAR in generation 7 of 10\n",
            "Model Number: 902 with model UnivariateMotif in generation 7 of 10\n",
            "Model Number: 903 with model NVAR in generation 7 of 10\n",
            "Model Number: 904 with model WindowRegression in generation 7 of 10\n",
            "Model Number: 905 with model NVAR in generation 7 of 10\n",
            "Model Number: 906 with model MetricMotif in generation 7 of 10\n",
            "Model Number: 907 with model MultivariateRegression in generation 7 of 10\n",
            "Model Number: 908 with model GLM in generation 7 of 10\n",
            "Model Number: 909 with model MetricMotif in generation 7 of 10\n",
            "Model Number: 910 with model LastValueNaive in generation 7 of 10\n",
            "Model Number: 911 with model UnivariateMotif in generation 7 of 10\n",
            "Model Number: 912 with model ARIMA in generation 7 of 10\n",
            "Template Eval Error: ValueError(\"regression_type='User' but future_regressor not supplied\") in model 912: ARIMA\n",
            "Model Number: 913 with model MetricMotif in generation 7 of 10\n",
            "Model Number: 914 with model MultivariateRegression in generation 7 of 10\n",
            "Model Number: 915 with model MultivariateRegression in generation 7 of 10\n",
            "Model Number: 916 with model AverageValueNaive in generation 7 of 10\n",
            "Model Number: 917 with model LastValueNaive in generation 7 of 10\n"
          ]
        },
        {
          "output_type": "stream",
          "name": "stderr",
          "text": [
            "INFO:prophet:Disabling yearly seasonality. Run prophet with yearly_seasonality=True to override this.\n",
            "INFO:prophet:Disabling daily seasonality. Run prophet with daily_seasonality=True to override this.\n"
          ]
        },
        {
          "output_type": "stream",
          "name": "stdout",
          "text": [
            "Model Number: 918 with model FBProphet in generation 7 of 10\n"
          ]
        },
        {
          "output_type": "stream",
          "name": "stderr",
          "text": [
            "DEBUG:cmdstanpy:input tempfile: /tmp/tmp7syr8mce/7yx00ziq.json\n",
            "DEBUG:cmdstanpy:input tempfile: /tmp/tmp7syr8mce/8_vnq3xy.json\n",
            "DEBUG:cmdstanpy:idx 0\n",
            "DEBUG:cmdstanpy:running CmdStan, num_threads: None\n",
            "DEBUG:cmdstanpy:CmdStan args: ['/usr/local/lib/python3.8/dist-packages/prophet/stan_model/prophet_model.bin', 'random', 'seed=49451', 'data', 'file=/tmp/tmp7syr8mce/7yx00ziq.json', 'init=/tmp/tmp7syr8mce/8_vnq3xy.json', 'output', 'file=/tmp/tmp7syr8mce/prophet_modelrlzkye94/prophet_model-20230123225604.csv', 'method=optimize', 'algorithm=lbfgs', 'iter=10000']\n",
            "22:56:04 - cmdstanpy - INFO - Chain [1] start processing\n",
            "INFO:cmdstanpy:Chain [1] start processing\n",
            "22:56:04 - cmdstanpy - INFO - Chain [1] done processing\n",
            "INFO:cmdstanpy:Chain [1] done processing\n",
            "22:56:04 - cmdstanpy - ERROR - Chain [1] error: error during processing Communication error on send\n",
            "ERROR:cmdstanpy:Chain [1] error: error during processing Communication error on send\n",
            "WARNING:prophet.models:Optimization terminated abnormally. Falling back to Newton.\n",
            "DEBUG:cmdstanpy:input tempfile: /tmp/tmp7syr8mce/rmrlf7wn.json\n",
            "DEBUG:cmdstanpy:input tempfile: /tmp/tmp7syr8mce/_pz94eks.json\n",
            "DEBUG:cmdstanpy:idx 0\n",
            "DEBUG:cmdstanpy:running CmdStan, num_threads: None\n",
            "DEBUG:cmdstanpy:CmdStan args: ['/usr/local/lib/python3.8/dist-packages/prophet/stan_model/prophet_model.bin', 'random', 'seed=63271', 'data', 'file=/tmp/tmp7syr8mce/rmrlf7wn.json', 'init=/tmp/tmp7syr8mce/_pz94eks.json', 'output', 'file=/tmp/tmp7syr8mce/prophet_model16xvzajw/prophet_model-20230123225604.csv', 'method=optimize', 'algorithm=newton', 'iter=10000']\n",
            "22:56:04 - cmdstanpy - INFO - Chain [1] start processing\n",
            "INFO:cmdstanpy:Chain [1] start processing\n",
            "22:56:06 - cmdstanpy - INFO - Chain [1] done processing\n",
            "INFO:cmdstanpy:Chain [1] done processing\n"
          ]
        },
        {
          "output_type": "stream",
          "name": "stdout",
          "text": [
            "Model Number: 919 with model AverageValueNaive in generation 7 of 10\n",
            "Model Number: 920 with model SectionalMotif in generation 7 of 10\n",
            "Model Number: 921 with model WindowRegression in generation 7 of 10\n",
            "Model Number: 922 with model GLS in generation 7 of 10\n",
            "Model Number: 923 with model WindowRegression in generation 7 of 10\n"
          ]
        },
        {
          "output_type": "stream",
          "name": "stderr",
          "text": [
            "/usr/local/lib/python3.8/dist-packages/autots/tools/probabilistic.py:67: RuntimeWarning:\n",
            "\n",
            "invalid value encountered in true_divide\n",
            "\n",
            "/usr/local/lib/python3.8/dist-packages/autots/tools/probabilistic.py:68: RuntimeWarning:\n",
            "\n",
            "divide by zero encountered in true_divide\n",
            "\n"
          ]
        },
        {
          "output_type": "stream",
          "name": "stdout",
          "text": [
            "Model Number: 924 with model MultivariateMotif in generation 7 of 10\n",
            "Model Number: 925 with model DatepartRegression in generation 7 of 10\n",
            "Model Number: 926 with model ConstantNaive in generation 7 of 10\n",
            "Model Number: 927 with model FBProphet in generation 7 of 10\n"
          ]
        },
        {
          "output_type": "stream",
          "name": "stderr",
          "text": [
            "INFO:prophet:Disabling yearly seasonality. Run prophet with yearly_seasonality=True to override this.\n",
            "INFO:prophet:Disabling daily seasonality. Run prophet with daily_seasonality=True to override this.\n",
            "DEBUG:cmdstanpy:input tempfile: /tmp/tmp7syr8mce/e3hlwpiz.json\n",
            "DEBUG:cmdstanpy:input tempfile: /tmp/tmp7syr8mce/q5_9jo47.json\n",
            "DEBUG:cmdstanpy:idx 0\n",
            "DEBUG:cmdstanpy:running CmdStan, num_threads: None\n",
            "DEBUG:cmdstanpy:CmdStan args: ['/usr/local/lib/python3.8/dist-packages/prophet/stan_model/prophet_model.bin', 'random', 'seed=41797', 'data', 'file=/tmp/tmp7syr8mce/e3hlwpiz.json', 'init=/tmp/tmp7syr8mce/q5_9jo47.json', 'output', 'file=/tmp/tmp7syr8mce/prophet_modelpg5alb9k/prophet_model-20230123225609.csv', 'method=optimize', 'algorithm=lbfgs', 'iter=10000']\n",
            "22:56:09 - cmdstanpy - INFO - Chain [1] start processing\n",
            "INFO:cmdstanpy:Chain [1] start processing\n",
            "22:56:09 - cmdstanpy - INFO - Chain [1] done processing\n",
            "INFO:cmdstanpy:Chain [1] done processing\n"
          ]
        },
        {
          "output_type": "stream",
          "name": "stdout",
          "text": [
            "Model Number: 928 with model Theta in generation 7 of 10\n",
            "Model Number: 929 with model FBProphet in generation 7 of 10\n",
            "Template Eval Error: ValueError(\"regression_type='User' but no future_regressor passed\") in model 929: FBProphet\n",
            "Model Number: 930 with model MetricMotif in generation 7 of 10\n"
          ]
        },
        {
          "output_type": "stream",
          "name": "stderr",
          "text": [
            "INFO:prophet:Disabling yearly seasonality. Run prophet with yearly_seasonality=True to override this.\n",
            "INFO:prophet:Disabling daily seasonality. Run prophet with daily_seasonality=True to override this.\n"
          ]
        },
        {
          "output_type": "stream",
          "name": "stdout",
          "text": [
            "Model Number: 931 with model FBProphet in generation 7 of 10\n"
          ]
        },
        {
          "output_type": "stream",
          "name": "stderr",
          "text": [
            "DEBUG:cmdstanpy:input tempfile: /tmp/tmp7syr8mce/b16lkum9.json\n",
            "DEBUG:cmdstanpy:input tempfile: /tmp/tmp7syr8mce/ba76tby7.json\n",
            "DEBUG:cmdstanpy:idx 0\n",
            "DEBUG:cmdstanpy:running CmdStan, num_threads: None\n",
            "DEBUG:cmdstanpy:CmdStan args: ['/usr/local/lib/python3.8/dist-packages/prophet/stan_model/prophet_model.bin', 'random', 'seed=39321', 'data', 'file=/tmp/tmp7syr8mce/b16lkum9.json', 'init=/tmp/tmp7syr8mce/ba76tby7.json', 'output', 'file=/tmp/tmp7syr8mce/prophet_model8njfcqux/prophet_model-20230123225611.csv', 'method=optimize', 'algorithm=lbfgs', 'iter=10000']\n",
            "22:56:11 - cmdstanpy - INFO - Chain [1] start processing\n",
            "INFO:cmdstanpy:Chain [1] start processing\n",
            "22:56:11 - cmdstanpy - INFO - Chain [1] done processing\n",
            "INFO:cmdstanpy:Chain [1] done processing\n"
          ]
        },
        {
          "output_type": "stream",
          "name": "stdout",
          "text": [
            "Model Number: 932 with model AverageValueNaive in generation 7 of 10\n",
            "Model Number: 933 with model MetricMotif in generation 7 of 10\n",
            "Model Number: 934 with model UnobservedComponents in generation 7 of 10\n",
            "Model Number: 935 with model NVAR in generation 7 of 10\n",
            "Model Number: 936 with model ETS in generation 7 of 10\n",
            "Model Number: 937 with model GLM in generation 7 of 10\n",
            "Template Eval Error: ValueError('The first guess on the deviance function returned a nan.  This could be a boundary  problem and should be reported.') in model 937: GLM\n",
            "Model Number: 938 with model GLS in generation 7 of 10\n"
          ]
        },
        {
          "output_type": "stream",
          "name": "stderr",
          "text": [
            "/usr/local/lib/python3.8/dist-packages/statsmodels/genmod/families/family.py:1231: RuntimeWarning:\n",
            "\n",
            "divide by zero encountered in log\n",
            "\n",
            "/usr/local/lib/python3.8/dist-packages/statsmodels/genmod/families/family.py:1231: RuntimeWarning:\n",
            "\n",
            "invalid value encountered in log\n",
            "\n",
            "/usr/local/lib/python3.8/dist-packages/statsmodels/genmod/families/family.py:1231: RuntimeWarning:\n",
            "\n",
            "invalid value encountered in multiply\n",
            "\n"
          ]
        },
        {
          "output_type": "stream",
          "name": "stdout",
          "text": [
            "Model Number: 939 with model UnivariateMotif in generation 7 of 10\n",
            "Model Number: 940 with model SectionalMotif in generation 7 of 10\n",
            "Model Number: 941 with model MultivariateMotif in generation 7 of 10\n",
            "Model Number: 942 with model MultivariateRegression in generation 7 of 10\n",
            "Template Eval Error: ValueError(\"regression_type='User' but not future_regressor supplied.\") in model 942: MultivariateRegression\n",
            "Model Number: 943 with model AverageValueNaive in generation 7 of 10\n",
            "Model Number: 944 with model UnivariateMotif in generation 7 of 10\n",
            "Model Number: 945 with model MetricMotif in generation 7 of 10\n",
            "Model Number: 946 with model MultivariateMotif in generation 7 of 10\n",
            "Model Number: 947 with model MultivariateMotif in generation 7 of 10\n",
            "Template Eval Error: Exception('Transformer BTCD failed on fit') in model 947: MultivariateMotif\n",
            "Model Number: 948 with model LastValueNaive in generation 7 of 10\n",
            "Model Number: 949 with model UnobservedComponents in generation 7 of 10\n",
            "Model Number: 950 with model SeasonalNaive in generation 7 of 10\n",
            "Model Number: 951 with model ConstantNaive in generation 7 of 10\n",
            "Model Number: 952 with model ConstantNaive in generation 7 of 10\n"
          ]
        },
        {
          "output_type": "stream",
          "name": "stderr",
          "text": [
            "INFO:prophet:Disabling yearly seasonality. Run prophet with yearly_seasonality=True to override this.\n"
          ]
        },
        {
          "output_type": "stream",
          "name": "stdout",
          "text": [
            "Model Number: 953 with model FBProphet in generation 7 of 10\n"
          ]
        },
        {
          "output_type": "stream",
          "name": "stderr",
          "text": [
            "INFO:prophet:Disabling daily seasonality. Run prophet with daily_seasonality=True to override this.\n",
            "DEBUG:cmdstanpy:input tempfile: /tmp/tmp7syr8mce/naqx8820.json\n",
            "DEBUG:cmdstanpy:input tempfile: /tmp/tmp7syr8mce/8y4i2zh9.json\n",
            "DEBUG:cmdstanpy:idx 0\n",
            "DEBUG:cmdstanpy:running CmdStan, num_threads: None\n",
            "DEBUG:cmdstanpy:CmdStan args: ['/usr/local/lib/python3.8/dist-packages/prophet/stan_model/prophet_model.bin', 'random', 'seed=34561', 'data', 'file=/tmp/tmp7syr8mce/naqx8820.json', 'init=/tmp/tmp7syr8mce/8y4i2zh9.json', 'output', 'file=/tmp/tmp7syr8mce/prophet_model2pjb47uv/prophet_model-20230123225614.csv', 'method=optimize', 'algorithm=lbfgs', 'iter=10000']\n",
            "22:56:14 - cmdstanpy - INFO - Chain [1] start processing\n",
            "INFO:cmdstanpy:Chain [1] start processing\n",
            "22:56:14 - cmdstanpy - INFO - Chain [1] done processing\n",
            "INFO:cmdstanpy:Chain [1] done processing\n"
          ]
        },
        {
          "output_type": "stream",
          "name": "stdout",
          "text": [
            "Model Number: 954 with model MetricMotif in generation 7 of 10\n",
            "Model Number: 955 with model MultivariateRegression in generation 7 of 10\n",
            "Model Number: 956 with model MultivariateMotif in generation 7 of 10\n",
            "Model Number: 957 with model MultivariateRegression in generation 7 of 10\n",
            "Model Number: 958 with model UnobservedComponents in generation 7 of 10\n",
            "Model Number: 959 with model SectionalMotif in generation 7 of 10\n",
            "Model Number: 960 with model AverageValueNaive in generation 7 of 10\n",
            "Model Number: 961 with model ConstantNaive in generation 7 of 10\n",
            "Model Number: 962 with model UnobservedComponents in generation 7 of 10\n",
            "Model Number: 963 with model MetricMotif in generation 7 of 10\n",
            "Model Number: 964 with model ETS in generation 7 of 10\n",
            "Model Number: 965 with model ARIMA in generation 7 of 10\n",
            "Model Number: 966 with model NVAR in generation 7 of 10\n",
            "Model Number: 967 with model MultivariateMotif in generation 7 of 10\n",
            "Model Number: 968 with model AverageValueNaive in generation 7 of 10\n",
            "Model Number: 969 with model ConstantNaive in generation 7 of 10\n",
            "Model Number: 970 with model FBProphet in generation 7 of 10\n"
          ]
        },
        {
          "output_type": "stream",
          "name": "stderr",
          "text": [
            "INFO:prophet:Disabling yearly seasonality. Run prophet with yearly_seasonality=True to override this.\n",
            "INFO:prophet:Disabling daily seasonality. Run prophet with daily_seasonality=True to override this.\n",
            "DEBUG:cmdstanpy:input tempfile: /tmp/tmp7syr8mce/686jnzmq.json\n",
            "DEBUG:cmdstanpy:input tempfile: /tmp/tmp7syr8mce/ei37gpt3.json\n",
            "DEBUG:cmdstanpy:idx 0\n",
            "DEBUG:cmdstanpy:running CmdStan, num_threads: None\n",
            "DEBUG:cmdstanpy:CmdStan args: ['/usr/local/lib/python3.8/dist-packages/prophet/stan_model/prophet_model.bin', 'random', 'seed=28296', 'data', 'file=/tmp/tmp7syr8mce/686jnzmq.json', 'init=/tmp/tmp7syr8mce/ei37gpt3.json', 'output', 'file=/tmp/tmp7syr8mce/prophet_modelmghffhmz/prophet_model-20230123225621.csv', 'method=optimize', 'algorithm=lbfgs', 'iter=10000']\n",
            "22:56:21 - cmdstanpy - INFO - Chain [1] start processing\n",
            "INFO:cmdstanpy:Chain [1] start processing\n",
            "22:56:21 - cmdstanpy - INFO - Chain [1] done processing\n",
            "INFO:cmdstanpy:Chain [1] done processing\n"
          ]
        },
        {
          "output_type": "stream",
          "name": "stdout",
          "text": [
            "Model Number: 971 with model MetricMotif in generation 7 of 10\n",
            "Model Number: 972 with model LastValueNaive in generation 7 of 10\n",
            "Model Number: 973 with model LastValueNaive in generation 7 of 10\n",
            "Model Number: 974 with model WindowRegression in generation 7 of 10\n",
            "Template Eval Error: LightGBMError('[gamma]: at least one target label is negative') in model 974: WindowRegression\n",
            "Model Number: 975 with model SectionalMotif in generation 7 of 10\n",
            "Model Number: 976 with model Theta in generation 7 of 10\n",
            "Model Number: 977 with model AverageValueNaive in generation 7 of 10\n",
            "Template Eval Error: Exception('Transformer Cointegration failed on fit') in model 977: AverageValueNaive\n",
            "Model Number: 978 with model ETS in generation 7 of 10\n",
            "Model Number: 979 with model MultivariateMotif in generation 7 of 10\n",
            "Model Number: 980 with model MultivariateMotif in generation 7 of 10\n",
            "Model Number: 981 with model MultivariateMotif in generation 7 of 10\n",
            "Template Eval Error: Exception('Transformer BTCD failed on fit') in model 981: MultivariateMotif\n",
            "Model Number: 982 with model UnivariateMotif in generation 7 of 10\n",
            "Model Number: 983 with model LastValueNaive in generation 7 of 10\n",
            "Model Number: 984 with model UnivariateMotif in generation 7 of 10\n",
            "Model Number: 985 with model ARIMA in generation 7 of 10\n",
            "Model Number: 986 with model SectionalMotif in generation 7 of 10\n",
            "Model Number: 987 with model ConstantNaive in generation 7 of 10\n",
            "Model Number: 988 with model FBProphet in generation 7 of 10\n",
            "Template Eval Error: ValueError(\"regression_type='User' but no future_regressor passed\") in model 988: FBProphet\n",
            "New Generation: 8 of 10\n",
            "Model Number: 989 with model NVAR in generation 8 of 10\n",
            "Model Number: 990 with model MultivariateMotif in generation 8 of 10\n",
            "Model Number: 991 with model MultivariateMotif in generation 8 of 10\n",
            "Model Number: 992 with model FBProphet in generation 8 of 10\n"
          ]
        },
        {
          "output_type": "stream",
          "name": "stderr",
          "text": [
            "INFO:prophet:Disabling yearly seasonality. Run prophet with yearly_seasonality=True to override this.\n",
            "INFO:prophet:Disabling daily seasonality. Run prophet with daily_seasonality=True to override this.\n",
            "DEBUG:cmdstanpy:input tempfile: /tmp/tmp7syr8mce/e9viagk1.json\n",
            "DEBUG:cmdstanpy:input tempfile: /tmp/tmp7syr8mce/r8n8i5qu.json\n",
            "DEBUG:cmdstanpy:idx 0\n",
            "DEBUG:cmdstanpy:running CmdStan, num_threads: None\n",
            "DEBUG:cmdstanpy:CmdStan args: ['/usr/local/lib/python3.8/dist-packages/prophet/stan_model/prophet_model.bin', 'random', 'seed=70813', 'data', 'file=/tmp/tmp7syr8mce/e9viagk1.json', 'init=/tmp/tmp7syr8mce/r8n8i5qu.json', 'output', 'file=/tmp/tmp7syr8mce/prophet_modelqj_6m_2y/prophet_model-20230123225628.csv', 'method=optimize', 'algorithm=lbfgs', 'iter=10000']\n",
            "22:56:28 - cmdstanpy - INFO - Chain [1] start processing\n",
            "INFO:cmdstanpy:Chain [1] start processing\n",
            "22:56:28 - cmdstanpy - INFO - Chain [1] done processing\n",
            "INFO:cmdstanpy:Chain [1] done processing\n"
          ]
        },
        {
          "output_type": "stream",
          "name": "stdout",
          "text": [
            "Model Number: 993 with model UnivariateRegression in generation 8 of 10\n",
            "Template Eval Error: Exception('Transformer Cointegration failed on fit') in model 993: UnivariateRegression\n",
            "Model Number: 994 with model SectionalMotif in generation 8 of 10\n",
            "Model Number: 995 with model MultivariateRegression in generation 8 of 10\n",
            "Model Number: 996 with model LastValueNaive in generation 8 of 10\n",
            "Model Number: 997 with model LastValueNaive in generation 8 of 10\n",
            "Model Number: 998 with model MultivariateRegression in generation 8 of 10\n",
            "Model Number: 999 with model UnobservedComponents in generation 8 of 10\n",
            "Model Number: 1000 with model ARIMA in generation 8 of 10\n",
            "Model Number: 1001 with model UnivariateMotif in generation 8 of 10\n",
            "Model Number: 1002 with model MultivariateRegression in generation 8 of 10\n",
            "Model Number: 1003 with model UnobservedComponents in generation 8 of 10\n",
            "Model Number: 1004 with model MultivariateMotif in generation 8 of 10\n",
            "Model Number: 1005 with model ARIMA in generation 8 of 10\n"
          ]
        },
        {
          "output_type": "stream",
          "name": "stderr",
          "text": [
            "/usr/local/lib/python3.8/dist-packages/sklearn/neural_network/_multilayer_perceptron.py:549: ConvergenceWarning:\n",
            "\n",
            "lbfgs failed to converge (status=1):\n",
            "STOP: TOTAL NO. of ITERATIONS REACHED LIMIT.\n",
            "\n",
            "Increase the number of iterations (max_iter) or scale the data as shown in:\n",
            "    https://scikit-learn.org/stable/modules/preprocessing.html\n",
            "\n"
          ]
        },
        {
          "output_type": "stream",
          "name": "stdout",
          "text": [
            "Model Number: 1006 with model GLM in generation 8 of 10\n",
            "Template Eval Error: ValueError('The first guess on the deviance function returned a nan.  This could be a boundary  problem and should be reported.') in model 1006: GLM\n",
            "Model Number: 1007 with model ETS in generation 8 of 10\n"
          ]
        },
        {
          "output_type": "stream",
          "name": "stderr",
          "text": [
            "/usr/local/lib/python3.8/dist-packages/statsmodels/genmod/families/family.py:1231: RuntimeWarning:\n",
            "\n",
            "invalid value encountered in log\n",
            "\n"
          ]
        },
        {
          "output_type": "stream",
          "name": "stdout",
          "text": [
            "Model Number: 1008 with model MetricMotif in generation 8 of 10\n",
            "Model Number: 1009 with model WindowRegression in generation 8 of 10\n",
            "Model Number: 1010 with model UnivariateMotif in generation 8 of 10\n",
            "Model Number: 1011 with model LastValueNaive in generation 8 of 10\n",
            "Model Number: 1012 with model SectionalMotif in generation 8 of 10\n",
            "Template Eval Error: Exception('Transformer Cointegration failed on fit') in model 1012: SectionalMotif\n",
            "Model Number: 1013 with model UnobservedComponents in generation 8 of 10\n",
            "Model Number: 1014 with model LastValueNaive in generation 8 of 10\n",
            "Model Number: 1015 with model ARIMA in generation 8 of 10\n",
            "Model Number: 1016 with model MultivariateRegression in generation 8 of 10\n",
            "Template Eval Error: ValueError('Some value(s) of y are out of the valid range for family PoissonDistribution') in model 1016: MultivariateRegression\n",
            "Model Number: 1017 with model AverageValueNaive in generation 8 of 10\n",
            "Model Number: 1018 with model LastValueNaive in generation 8 of 10\n",
            "Model Number: 1019 with model MetricMotif in generation 8 of 10\n",
            "Model Number: 1020 with model SectionalMotif in generation 8 of 10\n",
            "Model Number: 1021 with model GLM in generation 8 of 10\n",
            "Model Number: 1022 with model UnivariateMotif in generation 8 of 10\n",
            "Model Number: 1023 with model MetricMotif in generation 8 of 10\n",
            "Model Number: 1024 with model UnivariateMotif in generation 8 of 10\n",
            "Model Number: 1025 with model ConstantNaive in generation 8 of 10\n",
            "Model Number: 1026 with model AverageValueNaive in generation 8 of 10\n",
            "Model Number: 1027 with model DatepartRegression in generation 8 of 10\n",
            "Model Number: 1028 with model AverageValueNaive in generation 8 of 10\n",
            "Model Number: 1029 with model ARIMA in generation 8 of 10\n",
            "Model Number: 1030 with model ARIMA in generation 8 of 10\n",
            "Model Number: 1031 with model SectionalMotif in generation 8 of 10\n",
            "Model Number: 1032 with model SectionalMotif in generation 8 of 10\n",
            "Model Number: 1033 with model MetricMotif in generation 8 of 10\n",
            "Model Number: 1034 with model ConstantNaive in generation 8 of 10\n",
            "Model Number: 1035 with model LastValueNaive in generation 8 of 10\n",
            "Model Number: 1036 with model ConstantNaive in generation 8 of 10\n",
            "Model Number: 1037 with model SeasonalNaive in generation 8 of 10\n"
          ]
        },
        {
          "output_type": "stream",
          "name": "stderr",
          "text": [
            "INFO:prophet:Disabling yearly seasonality. Run prophet with yearly_seasonality=True to override this.\n",
            "INFO:prophet:Disabling daily seasonality. Run prophet with daily_seasonality=True to override this.\n"
          ]
        },
        {
          "output_type": "stream",
          "name": "stdout",
          "text": [
            "Model Number: 1038 with model FBProphet in generation 8 of 10\n"
          ]
        },
        {
          "output_type": "stream",
          "name": "stderr",
          "text": [
            "DEBUG:cmdstanpy:input tempfile: /tmp/tmp7syr8mce/x3rpblua.json\n",
            "DEBUG:cmdstanpy:input tempfile: /tmp/tmp7syr8mce/uo25bqg9.json\n",
            "DEBUG:cmdstanpy:idx 0\n",
            "DEBUG:cmdstanpy:running CmdStan, num_threads: None\n",
            "DEBUG:cmdstanpy:CmdStan args: ['/usr/local/lib/python3.8/dist-packages/prophet/stan_model/prophet_model.bin', 'random', 'seed=73278', 'data', 'file=/tmp/tmp7syr8mce/x3rpblua.json', 'init=/tmp/tmp7syr8mce/uo25bqg9.json', 'output', 'file=/tmp/tmp7syr8mce/prophet_model2j4a07ic/prophet_model-20230123225646.csv', 'method=optimize', 'algorithm=lbfgs', 'iter=10000']\n",
            "22:56:46 - cmdstanpy - INFO - Chain [1] start processing\n",
            "INFO:cmdstanpy:Chain [1] start processing\n",
            "22:56:47 - cmdstanpy - INFO - Chain [1] done processing\n",
            "INFO:cmdstanpy:Chain [1] done processing\n"
          ]
        },
        {
          "output_type": "stream",
          "name": "stdout",
          "text": [
            "Model Number: 1039 with model MetricMotif in generation 8 of 10\n",
            "Model Number: 1040 with model AverageValueNaive in generation 8 of 10\n",
            "Model Number: 1041 with model DatepartRegression in generation 8 of 10\n"
          ]
        },
        {
          "output_type": "stream",
          "name": "stderr",
          "text": [
            "/usr/local/lib/python3.8/dist-packages/sklearn/neural_network/_multilayer_perceptron.py:549: ConvergenceWarning:\n",
            "\n",
            "lbfgs failed to converge (status=1):\n",
            "STOP: TOTAL NO. of ITERATIONS REACHED LIMIT.\n",
            "\n",
            "Increase the number of iterations (max_iter) or scale the data as shown in:\n",
            "    https://scikit-learn.org/stable/modules/preprocessing.html\n",
            "\n"
          ]
        },
        {
          "output_type": "stream",
          "name": "stdout",
          "text": [
            "Model Number: 1042 with model AverageValueNaive in generation 8 of 10\n",
            "Model Number: 1043 with model MultivariateRegression in generation 8 of 10\n",
            "Template Eval Error: ValueError(\"regression_type='User' but not future_regressor supplied.\") in model 1043: MultivariateRegression\n",
            "Model Number: 1044 with model GLS in generation 8 of 10\n",
            "Model Number: 1045 with model FBProphet in generation 8 of 10\n"
          ]
        },
        {
          "output_type": "stream",
          "name": "stderr",
          "text": [
            "INFO:prophet:Disabling yearly seasonality. Run prophet with yearly_seasonality=True to override this.\n",
            "INFO:prophet:Disabling daily seasonality. Run prophet with daily_seasonality=True to override this.\n",
            "DEBUG:cmdstanpy:input tempfile: /tmp/tmp7syr8mce/tgsfkbl8.json\n",
            "DEBUG:cmdstanpy:input tempfile: /tmp/tmp7syr8mce/_l8v8x_x.json\n",
            "DEBUG:cmdstanpy:idx 0\n",
            "DEBUG:cmdstanpy:running CmdStan, num_threads: None\n",
            "DEBUG:cmdstanpy:CmdStan args: ['/usr/local/lib/python3.8/dist-packages/prophet/stan_model/prophet_model.bin', 'random', 'seed=1951', 'data', 'file=/tmp/tmp7syr8mce/tgsfkbl8.json', 'init=/tmp/tmp7syr8mce/_l8v8x_x.json', 'output', 'file=/tmp/tmp7syr8mce/prophet_modele4k5_z_z/prophet_model-20230123225654.csv', 'method=optimize', 'algorithm=lbfgs', 'iter=10000']\n",
            "22:56:54 - cmdstanpy - INFO - Chain [1] start processing\n",
            "INFO:cmdstanpy:Chain [1] start processing\n",
            "22:56:54 - cmdstanpy - INFO - Chain [1] done processing\n",
            "INFO:cmdstanpy:Chain [1] done processing\n"
          ]
        },
        {
          "output_type": "stream",
          "name": "stdout",
          "text": [
            "Model Number: 1046 with model ARIMA in generation 8 of 10\n",
            "Model Number: 1047 with model ETS in generation 8 of 10\n",
            "Model Number: 1048 with model DatepartRegression in generation 8 of 10\n",
            "Model Number: 1049 with model MultivariateRegression in generation 8 of 10\n"
          ]
        },
        {
          "output_type": "stream",
          "name": "stderr",
          "text": [
            "/usr/local/lib/python3.8/dist-packages/sklearn/svm/_base.py:1206: ConvergenceWarning:\n",
            "\n",
            "Liblinear failed to converge, increase the number of iterations.\n",
            "\n"
          ]
        },
        {
          "output_type": "stream",
          "name": "stdout",
          "text": [
            "Model Number: 1050 with model UnivariateMotif in generation 8 of 10\n",
            "Model Number: 1051 with model FBProphet in generation 8 of 10\n"
          ]
        },
        {
          "output_type": "stream",
          "name": "stderr",
          "text": [
            "INFO:prophet:Disabling yearly seasonality. Run prophet with yearly_seasonality=True to override this.\n",
            "INFO:prophet:Disabling daily seasonality. Run prophet with daily_seasonality=True to override this.\n",
            "DEBUG:cmdstanpy:input tempfile: /tmp/tmp7syr8mce/9ky52rig.json\n",
            "DEBUG:cmdstanpy:input tempfile: /tmp/tmp7syr8mce/e8gmzoex.json\n",
            "DEBUG:cmdstanpy:idx 0\n",
            "DEBUG:cmdstanpy:running CmdStan, num_threads: None\n",
            "DEBUG:cmdstanpy:CmdStan args: ['/usr/local/lib/python3.8/dist-packages/prophet/stan_model/prophet_model.bin', 'random', 'seed=64439', 'data', 'file=/tmp/tmp7syr8mce/9ky52rig.json', 'init=/tmp/tmp7syr8mce/e8gmzoex.json', 'output', 'file=/tmp/tmp7syr8mce/prophet_modelp8xmctob/prophet_model-20230123225657.csv', 'method=optimize', 'algorithm=lbfgs', 'iter=10000']\n",
            "22:56:57 - cmdstanpy - INFO - Chain [1] start processing\n",
            "INFO:cmdstanpy:Chain [1] start processing\n",
            "22:56:57 - cmdstanpy - INFO - Chain [1] done processing\n",
            "INFO:cmdstanpy:Chain [1] done processing\n"
          ]
        },
        {
          "output_type": "stream",
          "name": "stdout",
          "text": [
            "Model Number: 1052 with model AverageValueNaive in generation 8 of 10\n",
            "Model Number: 1053 with model MetricMotif in generation 8 of 10\n",
            "Model Number: 1054 with model MultivariateMotif in generation 8 of 10\n",
            "Model Number: 1055 with model FBProphet in generation 8 of 10\n"
          ]
        },
        {
          "output_type": "stream",
          "name": "stderr",
          "text": [
            "INFO:prophet:Disabling yearly seasonality. Run prophet with yearly_seasonality=True to override this.\n",
            "INFO:prophet:Disabling daily seasonality. Run prophet with daily_seasonality=True to override this.\n",
            "DEBUG:cmdstanpy:input tempfile: /tmp/tmp7syr8mce/er0e18ji.json\n",
            "DEBUG:cmdstanpy:input tempfile: /tmp/tmp7syr8mce/12jsge8o.json\n",
            "DEBUG:cmdstanpy:idx 0\n",
            "DEBUG:cmdstanpy:running CmdStan, num_threads: None\n",
            "DEBUG:cmdstanpy:CmdStan args: ['/usr/local/lib/python3.8/dist-packages/prophet/stan_model/prophet_model.bin', 'random', 'seed=77821', 'data', 'file=/tmp/tmp7syr8mce/er0e18ji.json', 'init=/tmp/tmp7syr8mce/12jsge8o.json', 'output', 'file=/tmp/tmp7syr8mce/prophet_modelt2algqa0/prophet_model-20230123225658.csv', 'method=optimize', 'algorithm=lbfgs', 'iter=10000']\n",
            "22:56:58 - cmdstanpy - INFO - Chain [1] start processing\n",
            "INFO:cmdstanpy:Chain [1] start processing\n",
            "22:56:59 - cmdstanpy - INFO - Chain [1] done processing\n",
            "INFO:cmdstanpy:Chain [1] done processing\n"
          ]
        },
        {
          "output_type": "stream",
          "name": "stdout",
          "text": [
            "Model Number: 1056 with model LastValueNaive in generation 8 of 10\n",
            "Model Number: 1057 with model UnivariateMotif in generation 8 of 10\n",
            "Model Number: 1058 with model ARIMA in generation 8 of 10\n",
            "Model Number: 1059 with model UnivariateMotif in generation 8 of 10\n",
            "Model Number: 1060 with model MultivariateMotif in generation 8 of 10\n",
            "Model Number: 1061 with model Theta in generation 8 of 10\n"
          ]
        },
        {
          "output_type": "stream",
          "name": "stderr",
          "text": [
            "INFO:prophet:Disabling yearly seasonality. Run prophet with yearly_seasonality=True to override this.\n",
            "INFO:prophet:Disabling daily seasonality. Run prophet with daily_seasonality=True to override this.\n",
            "DEBUG:cmdstanpy:input tempfile: /tmp/tmp7syr8mce/8tt3h4vz.json\n",
            "DEBUG:cmdstanpy:input tempfile: /tmp/tmp7syr8mce/clpemral.json\n",
            "DEBUG:cmdstanpy:idx 0\n",
            "DEBUG:cmdstanpy:running CmdStan, num_threads: None\n",
            "DEBUG:cmdstanpy:CmdStan args: ['/usr/local/lib/python3.8/dist-packages/prophet/stan_model/prophet_model.bin', 'random', 'seed=73520', 'data', 'file=/tmp/tmp7syr8mce/8tt3h4vz.json', 'init=/tmp/tmp7syr8mce/clpemral.json', 'output', 'file=/tmp/tmp7syr8mce/prophet_modelhd61inf9/prophet_model-20230123225702.csv', 'method=optimize', 'algorithm=lbfgs', 'iter=10000']\n",
            "22:57:02 - cmdstanpy - INFO - Chain [1] start processing\n",
            "INFO:cmdstanpy:Chain [1] start processing\n"
          ]
        },
        {
          "output_type": "stream",
          "name": "stdout",
          "text": [
            "Model Number: 1062 with model FBProphet in generation 8 of 10\n",
            "No anomalies detected.\n"
          ]
        },
        {
          "output_type": "stream",
          "name": "stderr",
          "text": [
            "22:57:02 - cmdstanpy - INFO - Chain [1] done processing\n",
            "INFO:cmdstanpy:Chain [1] done processing\n"
          ]
        },
        {
          "output_type": "stream",
          "name": "stdout",
          "text": [
            "Model Number: 1063 with model UnivariateMotif in generation 8 of 10\n",
            "Model Number: 1064 with model AverageValueNaive in generation 8 of 10\n",
            "Model Number: 1065 with model NVAR in generation 8 of 10\n",
            "Model Number: 1066 with model UnivariateMotif in generation 8 of 10\n",
            "Model Number: 1067 with model UnivariateRegression in generation 8 of 10\n",
            "Model Number: 1068 with model FBProphet in generation 8 of 10\n"
          ]
        },
        {
          "output_type": "stream",
          "name": "stderr",
          "text": [
            "/usr/local/lib/python3.8/dist-packages/sklearn/linear_model/_ridge.py:157: LinAlgWarning:\n",
            "\n",
            "Ill-conditioned matrix (rcond=1.27373e-19): result may not be accurate.\n",
            "\n",
            "INFO:prophet:Disabling yearly seasonality. Run prophet with yearly_seasonality=True to override this.\n",
            "INFO:prophet:Disabling daily seasonality. Run prophet with daily_seasonality=True to override this.\n",
            "DEBUG:cmdstanpy:input tempfile: /tmp/tmp7syr8mce/ycwadlnc.json\n",
            "DEBUG:cmdstanpy:input tempfile: /tmp/tmp7syr8mce/4fvbkd9p.json\n",
            "DEBUG:cmdstanpy:idx 0\n",
            "DEBUG:cmdstanpy:running CmdStan, num_threads: None\n",
            "DEBUG:cmdstanpy:CmdStan args: ['/usr/local/lib/python3.8/dist-packages/prophet/stan_model/prophet_model.bin', 'random', 'seed=56811', 'data', 'file=/tmp/tmp7syr8mce/ycwadlnc.json', 'init=/tmp/tmp7syr8mce/4fvbkd9p.json', 'output', 'file=/tmp/tmp7syr8mce/prophet_modelzjd5iccg/prophet_model-20230123225703.csv', 'method=optimize', 'algorithm=lbfgs', 'iter=10000']\n",
            "22:57:03 - cmdstanpy - INFO - Chain [1] start processing\n",
            "INFO:cmdstanpy:Chain [1] start processing\n",
            "22:57:04 - cmdstanpy - INFO - Chain [1] done processing\n",
            "INFO:cmdstanpy:Chain [1] done processing\n"
          ]
        },
        {
          "output_type": "stream",
          "name": "stdout",
          "text": [
            "Model Number: 1069 with model LastValueNaive in generation 8 of 10\n",
            "Model Number: 1070 with model SectionalMotif in generation 8 of 10\n",
            "Model Number: 1071 with model SectionalMotif in generation 8 of 10\n",
            "Model Number: 1072 with model GLS in generation 8 of 10\n",
            "Model Number: 1073 with model SeasonalNaive in generation 8 of 10\n",
            "Model Number: 1074 with model MetricMotif in generation 8 of 10\n",
            "Model Number: 1075 with model MultivariateMotif in generation 8 of 10\n",
            "Model Number: 1076 with model MultivariateMotif in generation 8 of 10\n",
            "Model Number: 1077 with model UnivariateMotif in generation 8 of 10\n",
            "Model Number: 1078 with model UnivariateMotif in generation 8 of 10\n",
            "Template Eval Error: Exception('Transformer BTCD failed on fit') in model 1078: UnivariateMotif\n",
            "Model Number: 1079 with model FBProphet in generation 8 of 10\n"
          ]
        },
        {
          "output_type": "stream",
          "name": "stderr",
          "text": [
            "INFO:prophet:Disabling yearly seasonality. Run prophet with yearly_seasonality=True to override this.\n",
            "INFO:prophet:Disabling daily seasonality. Run prophet with daily_seasonality=True to override this.\n",
            "DEBUG:cmdstanpy:input tempfile: /tmp/tmp7syr8mce/khtsarhk.json\n",
            "DEBUG:cmdstanpy:input tempfile: /tmp/tmp7syr8mce/cplr1qdj.json\n",
            "DEBUG:cmdstanpy:idx 0\n",
            "DEBUG:cmdstanpy:running CmdStan, num_threads: None\n",
            "DEBUG:cmdstanpy:CmdStan args: ['/usr/local/lib/python3.8/dist-packages/prophet/stan_model/prophet_model.bin', 'random', 'seed=65445', 'data', 'file=/tmp/tmp7syr8mce/khtsarhk.json', 'init=/tmp/tmp7syr8mce/cplr1qdj.json', 'output', 'file=/tmp/tmp7syr8mce/prophet_modelty1a7pxc/prophet_model-20230123225705.csv', 'method=optimize', 'algorithm=lbfgs', 'iter=10000']\n",
            "22:57:05 - cmdstanpy - INFO - Chain [1] start processing\n",
            "INFO:cmdstanpy:Chain [1] start processing\n",
            "22:57:06 - cmdstanpy - INFO - Chain [1] done processing\n",
            "INFO:cmdstanpy:Chain [1] done processing\n"
          ]
        },
        {
          "output_type": "stream",
          "name": "stdout",
          "text": [
            "Model Number: 1080 with model UnivariateMotif in generation 8 of 10\n",
            "Model Number: 1081 with model MetricMotif in generation 8 of 10\n",
            "Model Number: 1082 with model ARIMA in generation 8 of 10\n"
          ]
        },
        {
          "output_type": "stream",
          "name": "stderr",
          "text": [
            "INFO:prophet:Disabling yearly seasonality. Run prophet with yearly_seasonality=True to override this.\n",
            "INFO:prophet:Disabling daily seasonality. Run prophet with daily_seasonality=True to override this.\n",
            "DEBUG:cmdstanpy:input tempfile: /tmp/tmp7syr8mce/z57lo4mk.json\n",
            "DEBUG:cmdstanpy:input tempfile: /tmp/tmp7syr8mce/z2j8ei95.json\n",
            "DEBUG:cmdstanpy:idx 0\n",
            "DEBUG:cmdstanpy:running CmdStan, num_threads: None\n",
            "DEBUG:cmdstanpy:CmdStan args: ['/usr/local/lib/python3.8/dist-packages/prophet/stan_model/prophet_model.bin', 'random', 'seed=31033', 'data', 'file=/tmp/tmp7syr8mce/z57lo4mk.json', 'init=/tmp/tmp7syr8mce/z2j8ei95.json', 'output', 'file=/tmp/tmp7syr8mce/prophet_modelcqhnhzpi/prophet_model-20230123225712.csv', 'method=optimize', 'algorithm=lbfgs', 'iter=10000']\n",
            "22:57:12 - cmdstanpy - INFO - Chain [1] start processing\n",
            "INFO:cmdstanpy:Chain [1] start processing\n"
          ]
        },
        {
          "output_type": "stream",
          "name": "stdout",
          "text": [
            "Model Number: 1083 with model FBProphet in generation 8 of 10\n"
          ]
        },
        {
          "output_type": "stream",
          "name": "stderr",
          "text": [
            "22:57:12 - cmdstanpy - INFO - Chain [1] done processing\n",
            "INFO:cmdstanpy:Chain [1] done processing\n"
          ]
        },
        {
          "output_type": "stream",
          "name": "stdout",
          "text": [
            "Model Number: 1084 with model NVAR in generation 8 of 10\n",
            "Model Number: 1085 with model SectionalMotif in generation 8 of 10\n",
            "Model Number: 1086 with model WindowRegression in generation 8 of 10\n",
            "Model Number: 1087 with model WindowRegression in generation 8 of 10\n",
            "Model Number: 1088 with model GLS in generation 8 of 10\n",
            "New Generation: 9 of 10\n",
            "Model Number: 1089 with model MultivariateRegression in generation 9 of 10\n"
          ]
        },
        {
          "output_type": "stream",
          "name": "stderr",
          "text": [
            "INFO:prophet:Disabling yearly seasonality. Run prophet with yearly_seasonality=True to override this.\n",
            "INFO:prophet:Disabling daily seasonality. Run prophet with daily_seasonality=True to override this.\n",
            "DEBUG:cmdstanpy:input tempfile: /tmp/tmp7syr8mce/cg06ju5b.json\n",
            "DEBUG:cmdstanpy:input tempfile: /tmp/tmp7syr8mce/a2jg9tou.json\n",
            "DEBUG:cmdstanpy:idx 0\n",
            "DEBUG:cmdstanpy:running CmdStan, num_threads: None\n",
            "DEBUG:cmdstanpy:CmdStan args: ['/usr/local/lib/python3.8/dist-packages/prophet/stan_model/prophet_model.bin', 'random', 'seed=93963', 'data', 'file=/tmp/tmp7syr8mce/cg06ju5b.json', 'init=/tmp/tmp7syr8mce/a2jg9tou.json', 'output', 'file=/tmp/tmp7syr8mce/prophet_modelgmi17ui_/prophet_model-20230123225715.csv', 'method=optimize', 'algorithm=lbfgs', 'iter=10000']\n",
            "22:57:15 - cmdstanpy - INFO - Chain [1] start processing\n",
            "INFO:cmdstanpy:Chain [1] start processing\n"
          ]
        },
        {
          "output_type": "stream",
          "name": "stdout",
          "text": [
            "Model Number: 1090 with model FBProphet in generation 9 of 10\n"
          ]
        },
        {
          "output_type": "stream",
          "name": "stderr",
          "text": [
            "22:57:15 - cmdstanpy - INFO - Chain [1] done processing\n",
            "INFO:cmdstanpy:Chain [1] done processing\n",
            "INFO:prophet:Disabling yearly seasonality. Run prophet with yearly_seasonality=True to override this.\n",
            "INFO:prophet:Disabling daily seasonality. Run prophet with daily_seasonality=True to override this.\n"
          ]
        },
        {
          "output_type": "stream",
          "name": "stdout",
          "text": [
            "Model Number: 1091 with model FBProphet in generation 9 of 10\n",
            "Model Number: 1092 with model MultivariateRegression in generation 9 of 10\n",
            "Model Number: 1093 with model GLS in generation 9 of 10\n",
            "Model Number: 1094 with model MetricMotif in generation 9 of 10\n",
            "Model Number: 1095 with model ConstantNaive in generation 9 of 10\n",
            "Model Number: 1096 with model MultivariateMotif in generation 9 of 10\n",
            "Model Number: 1097 with model MetricMotif in generation 9 of 10\n",
            "Model Number: 1098 with model ETS in generation 9 of 10\n",
            "Model Number: 1099 with model UnobservedComponents in generation 9 of 10\n",
            "Model Number: 1100 with model AverageValueNaive in generation 9 of 10\n",
            "Model Number: 1101 with model UnobservedComponents in generation 9 of 10\n",
            "Model Number: 1102 with model Theta in generation 9 of 10\n",
            "Model Number: 1103 with model SeasonalNaive in generation 9 of 10\n",
            "Model Number: 1104 with model GLM in generation 9 of 10\n"
          ]
        },
        {
          "output_type": "stream",
          "name": "stderr",
          "text": [
            "/usr/local/lib/python3.8/dist-packages/statsmodels/genmod/families/links.py:188: RuntimeWarning:\n",
            "\n",
            "overflow encountered in exp\n",
            "\n",
            "/usr/local/lib/python3.8/dist-packages/statsmodels/genmod/families/links.py:188: RuntimeWarning:\n",
            "\n",
            "overflow encountered in exp\n",
            "\n"
          ]
        },
        {
          "output_type": "stream",
          "name": "stdout",
          "text": [
            "Model Number: 1105 with model GLM in generation 9 of 10\n",
            "Template Eval Error: ValueError(\"Model returned NaN due to a preprocessing transformer {'fillna': 'time', 'transformations': {'0': 'Slice', '1': 'DatepartRegression', '2': 'AlignLastValue', '3': 'AlignLastValue'}, 'transformation_params': {'0': {'method': 100}, '1': {'regression_model': {'model': 'DecisionTree', 'model_params': {'max_depth': 3, 'min_samples_split': 1.0}}, 'datepart_method': 'simple_binarized', 'polynomial_degree': None, 'transform_dict': None}, '2': {'rows': 1, 'lag': 1, 'method': 'additive', 'strength': 1.0, 'first_value_only': False}, '3': {'rows': 7, 'lag': 1, 'method': 'multiplicative', 'strength': 0.9, 'first_value_only': True}}}. fail_on_forecast_nan=True\") in model 1105: GLM\n",
            "Model Number: 1106 with model ARIMA in generation 9 of 10\n",
            "Model Number: 1107 with model ARIMA in generation 9 of 10\n",
            "Model Number: 1108 with model LastValueNaive in generation 9 of 10\n",
            "Model Number: 1109 with model MultivariateMotif in generation 9 of 10\n"
          ]
        },
        {
          "output_type": "stream",
          "name": "stderr",
          "text": [
            "INFO:prophet:Disabling yearly seasonality. Run prophet with yearly_seasonality=True to override this.\n",
            "INFO:prophet:Disabling daily seasonality. Run prophet with daily_seasonality=True to override this.\n"
          ]
        },
        {
          "output_type": "stream",
          "name": "stdout",
          "text": [
            "Model Number: 1110 with model FBProphet in generation 9 of 10\n",
            "No anomalies detected.\n"
          ]
        },
        {
          "output_type": "stream",
          "name": "stderr",
          "text": [
            "DEBUG:cmdstanpy:input tempfile: /tmp/tmp7syr8mce/_1ttcmpr.json\n",
            "DEBUG:cmdstanpy:input tempfile: /tmp/tmp7syr8mce/ib05sais.json\n",
            "DEBUG:cmdstanpy:idx 0\n",
            "DEBUG:cmdstanpy:running CmdStan, num_threads: None\n",
            "DEBUG:cmdstanpy:CmdStan args: ['/usr/local/lib/python3.8/dist-packages/prophet/stan_model/prophet_model.bin', 'random', 'seed=3556', 'data', 'file=/tmp/tmp7syr8mce/_1ttcmpr.json', 'init=/tmp/tmp7syr8mce/ib05sais.json', 'output', 'file=/tmp/tmp7syr8mce/prophet_modeln4o15at3/prophet_model-20230123225728.csv', 'method=optimize', 'algorithm=lbfgs', 'iter=10000']\n",
            "22:57:28 - cmdstanpy - INFO - Chain [1] start processing\n",
            "INFO:cmdstanpy:Chain [1] start processing\n",
            "22:57:29 - cmdstanpy - INFO - Chain [1] done processing\n",
            "INFO:cmdstanpy:Chain [1] done processing\n"
          ]
        },
        {
          "output_type": "stream",
          "name": "stdout",
          "text": [
            "Model Number: 1111 with model AverageValueNaive in generation 9 of 10\n",
            "Template Eval Error: Exception('Transformer Detrend failed on fit') in model 1111: AverageValueNaive\n",
            "Model Number: 1112 with model SectionalMotif in generation 9 of 10\n"
          ]
        },
        {
          "output_type": "stream",
          "name": "stderr",
          "text": [
            "INFO:prophet:Disabling yearly seasonality. Run prophet with yearly_seasonality=True to override this.\n",
            "INFO:prophet:Disabling daily seasonality. Run prophet with daily_seasonality=True to override this.\n",
            "DEBUG:cmdstanpy:input tempfile: /tmp/tmp7syr8mce/g6ij37gd.json\n",
            "DEBUG:cmdstanpy:input tempfile: /tmp/tmp7syr8mce/kr96h5il.json\n",
            "DEBUG:cmdstanpy:idx 0\n",
            "DEBUG:cmdstanpy:running CmdStan, num_threads: None\n"
          ]
        },
        {
          "output_type": "stream",
          "name": "stdout",
          "text": [
            "Model Number: 1113 with model FBProphet in generation 9 of 10\n"
          ]
        },
        {
          "output_type": "stream",
          "name": "stderr",
          "text": [
            "DEBUG:cmdstanpy:CmdStan args: ['/usr/local/lib/python3.8/dist-packages/prophet/stan_model/prophet_model.bin', 'random', 'seed=69886', 'data', 'file=/tmp/tmp7syr8mce/g6ij37gd.json', 'init=/tmp/tmp7syr8mce/kr96h5il.json', 'output', 'file=/tmp/tmp7syr8mce/prophet_modelz4w0idi8/prophet_model-20230123225729.csv', 'method=optimize', 'algorithm=lbfgs', 'iter=10000']\n",
            "22:57:29 - cmdstanpy - INFO - Chain [1] start processing\n",
            "INFO:cmdstanpy:Chain [1] start processing\n",
            "22:57:30 - cmdstanpy - INFO - Chain [1] done processing\n",
            "INFO:cmdstanpy:Chain [1] done processing\n"
          ]
        },
        {
          "output_type": "stream",
          "name": "stdout",
          "text": [
            "Model Number: 1114 with model LastValueNaive in generation 9 of 10\n"
          ]
        },
        {
          "output_type": "stream",
          "name": "stderr",
          "text": [
            "INFO:prophet:Disabling yearly seasonality. Run prophet with yearly_seasonality=True to override this.\n",
            "INFO:prophet:Disabling daily seasonality. Run prophet with daily_seasonality=True to override this.\n"
          ]
        },
        {
          "output_type": "stream",
          "name": "stdout",
          "text": [
            "Model Number: 1115 with model FBProphet in generation 9 of 10\n"
          ]
        },
        {
          "output_type": "stream",
          "name": "stderr",
          "text": [
            "DEBUG:cmdstanpy:input tempfile: /tmp/tmp7syr8mce/jjrcxyz4.json\n",
            "DEBUG:cmdstanpy:input tempfile: /tmp/tmp7syr8mce/f7prri3x.json\n",
            "DEBUG:cmdstanpy:idx 0\n",
            "DEBUG:cmdstanpy:running CmdStan, num_threads: None\n",
            "DEBUG:cmdstanpy:CmdStan args: ['/usr/local/lib/python3.8/dist-packages/prophet/stan_model/prophet_model.bin', 'random', 'seed=27660', 'data', 'file=/tmp/tmp7syr8mce/jjrcxyz4.json', 'init=/tmp/tmp7syr8mce/f7prri3x.json', 'output', 'file=/tmp/tmp7syr8mce/prophet_modelt9dr3ej2/prophet_model-20230123225731.csv', 'method=optimize', 'algorithm=lbfgs', 'iter=10000']\n",
            "22:57:31 - cmdstanpy - INFO - Chain [1] start processing\n",
            "INFO:cmdstanpy:Chain [1] start processing\n",
            "22:57:31 - cmdstanpy - INFO - Chain [1] done processing\n",
            "INFO:cmdstanpy:Chain [1] done processing\n"
          ]
        },
        {
          "output_type": "stream",
          "name": "stdout",
          "text": [
            "Model Number: 1116 with model UnivariateMotif in generation 9 of 10\n",
            "Model Number: 1117 with model ETS in generation 9 of 10\n",
            "Model Number: 1118 with model DatepartRegression in generation 9 of 10\n",
            "Epoch 1/100\n",
            "22/22 [==============================] - 5s 10ms/step - loss: 76.6563\n",
            "Epoch 2/100\n",
            "22/22 [==============================] - 0s 9ms/step - loss: 66.2571\n",
            "Epoch 3/100\n",
            "22/22 [==============================] - 0s 9ms/step - loss: 66.1148\n",
            "Epoch 4/100\n",
            "22/22 [==============================] - 0s 10ms/step - loss: 66.1653\n",
            "Epoch 5/100\n",
            "22/22 [==============================] - 0s 11ms/step - loss: 66.0230\n",
            "Epoch 6/100\n",
            "22/22 [==============================] - 0s 10ms/step - loss: 65.9555\n",
            "Epoch 7/100\n",
            "22/22 [==============================] - 0s 10ms/step - loss: 65.8970\n",
            "Epoch 8/100\n",
            "22/22 [==============================] - 0s 10ms/step - loss: 66.0400\n",
            "Epoch 9/100\n",
            "22/22 [==============================] - 0s 10ms/step - loss: 65.8719\n",
            "Epoch 10/100\n",
            "22/22 [==============================] - 0s 10ms/step - loss: 65.7316\n",
            "Epoch 11/100\n",
            "22/22 [==============================] - 0s 9ms/step - loss: 65.8126\n",
            "Epoch 12/100\n",
            "22/22 [==============================] - 0s 10ms/step - loss: 65.6241\n",
            "Epoch 13/100\n",
            "22/22 [==============================] - 0s 9ms/step - loss: 65.7344\n",
            "Epoch 14/100\n",
            "22/22 [==============================] - 0s 10ms/step - loss: 65.6719\n",
            "Epoch 15/100\n",
            "22/22 [==============================] - 0s 11ms/step - loss: 65.7237\n",
            "Epoch 16/100\n",
            "22/22 [==============================] - 0s 11ms/step - loss: 65.5722\n",
            "Epoch 17/100\n",
            "22/22 [==============================] - 0s 11ms/step - loss: 65.5374\n",
            "Epoch 18/100\n",
            "22/22 [==============================] - 0s 11ms/step - loss: 65.5089\n",
            "Epoch 19/100\n",
            "22/22 [==============================] - 0s 11ms/step - loss: 65.3008\n",
            "Epoch 20/100\n",
            "22/22 [==============================] - 0s 9ms/step - loss: 65.4317\n",
            "Epoch 21/100\n",
            "22/22 [==============================] - 0s 9ms/step - loss: 65.3496\n",
            "Epoch 22/100\n",
            "22/22 [==============================] - 0s 10ms/step - loss: 65.3039\n",
            "Epoch 23/100\n",
            "22/22 [==============================] - 0s 11ms/step - loss: 65.2272\n",
            "Epoch 24/100\n",
            "22/22 [==============================] - 0s 10ms/step - loss: 65.2038\n",
            "Epoch 25/100\n",
            "22/22 [==============================] - 0s 10ms/step - loss: 66.1438\n",
            "Epoch 26/100\n",
            "22/22 [==============================] - 0s 9ms/step - loss: 65.3561\n",
            "Epoch 27/100\n",
            "22/22 [==============================] - 0s 10ms/step - loss: 64.9858\n",
            "Epoch 28/100\n",
            "22/22 [==============================] - 0s 9ms/step - loss: 65.0171\n",
            "Epoch 29/100\n",
            "22/22 [==============================] - 0s 11ms/step - loss: 64.9957\n",
            "Epoch 30/100\n",
            "22/22 [==============================] - 0s 12ms/step - loss: 65.3584\n",
            "Epoch 31/100\n",
            "22/22 [==============================] - 0s 10ms/step - loss: 64.8726\n",
            "Epoch 32/100\n",
            "22/22 [==============================] - 0s 9ms/step - loss: 64.8056\n",
            "Epoch 33/100\n",
            "22/22 [==============================] - 0s 9ms/step - loss: 64.6060\n",
            "Epoch 34/100\n",
            "22/22 [==============================] - 0s 9ms/step - loss: 64.5861\n",
            "Epoch 35/100\n",
            "22/22 [==============================] - 0s 10ms/step - loss: 64.6538\n",
            "Epoch 36/100\n",
            "22/22 [==============================] - 0s 12ms/step - loss: 64.6890\n",
            "Epoch 37/100\n",
            "22/22 [==============================] - 0s 9ms/step - loss: 64.2012\n",
            "Epoch 38/100\n",
            "22/22 [==============================] - 0s 9ms/step - loss: 64.1681\n",
            "Epoch 39/100\n",
            "22/22 [==============================] - 0s 9ms/step - loss: 64.2266\n",
            "Epoch 40/100\n",
            "22/22 [==============================] - 0s 9ms/step - loss: 64.2161\n",
            "Epoch 41/100\n",
            "22/22 [==============================] - 0s 11ms/step - loss: 64.4562\n",
            "Epoch 42/100\n",
            "22/22 [==============================] - 0s 10ms/step - loss: 63.9217\n",
            "Epoch 43/100\n",
            "22/22 [==============================] - 0s 11ms/step - loss: 63.7327\n",
            "Epoch 44/100\n",
            "22/22 [==============================] - 0s 9ms/step - loss: 63.5676\n",
            "Epoch 45/100\n",
            "22/22 [==============================] - 0s 11ms/step - loss: 63.6462\n",
            "Epoch 46/100\n",
            "22/22 [==============================] - 0s 11ms/step - loss: 63.3186\n",
            "Epoch 47/100\n",
            "22/22 [==============================] - 0s 11ms/step - loss: 63.2272\n",
            "Epoch 48/100\n",
            "22/22 [==============================] - 0s 10ms/step - loss: 63.7574\n",
            "Epoch 49/100\n",
            "22/22 [==============================] - 0s 11ms/step - loss: 63.4585\n",
            "Epoch 50/100\n",
            "22/22 [==============================] - 0s 9ms/step - loss: 63.3066\n",
            "Epoch 51/100\n",
            "22/22 [==============================] - 0s 10ms/step - loss: 64.0401\n",
            "Epoch 52/100\n",
            "22/22 [==============================] - 0s 10ms/step - loss: 63.2049\n",
            "Epoch 53/100\n",
            "22/22 [==============================] - 0s 12ms/step - loss: 63.2708\n",
            "Epoch 54/100\n",
            "22/22 [==============================] - 0s 11ms/step - loss: 62.7463\n",
            "Epoch 55/100\n",
            "22/22 [==============================] - 0s 12ms/step - loss: 62.5312\n",
            "Epoch 56/100\n",
            "22/22 [==============================] - 0s 11ms/step - loss: 62.0888\n",
            "Epoch 57/100\n",
            "22/22 [==============================] - 0s 10ms/step - loss: 61.8236\n",
            "Epoch 58/100\n",
            "22/22 [==============================] - 0s 11ms/step - loss: 61.6360\n",
            "Epoch 59/100\n",
            "22/22 [==============================] - 0s 10ms/step - loss: 61.5979\n",
            "Epoch 60/100\n",
            "22/22 [==============================] - 0s 10ms/step - loss: 61.8357\n",
            "Epoch 61/100\n",
            "22/22 [==============================] - 0s 10ms/step - loss: 61.5222\n",
            "Epoch 62/100\n",
            "22/22 [==============================] - 0s 10ms/step - loss: 61.1660\n",
            "Epoch 63/100\n",
            "22/22 [==============================] - 0s 10ms/step - loss: 61.1052\n",
            "Epoch 64/100\n",
            "22/22 [==============================] - 0s 11ms/step - loss: 60.4858\n",
            "Epoch 65/100\n",
            "22/22 [==============================] - 0s 10ms/step - loss: 60.5629\n",
            "Epoch 66/100\n",
            "22/22 [==============================] - 0s 10ms/step - loss: 60.5984\n",
            "Epoch 67/100\n",
            "22/22 [==============================] - 0s 11ms/step - loss: 60.4923\n",
            "Epoch 68/100\n",
            "22/22 [==============================] - 0s 10ms/step - loss: 60.8097\n",
            "Epoch 69/100\n",
            "22/22 [==============================] - 0s 9ms/step - loss: 60.6197\n",
            "Epoch 70/100\n",
            "22/22 [==============================] - 0s 9ms/step - loss: 61.6551\n",
            "Epoch 71/100\n",
            "22/22 [==============================] - 0s 11ms/step - loss: 60.2978\n",
            "Epoch 72/100\n",
            "22/22 [==============================] - 0s 10ms/step - loss: 60.8745\n",
            "Epoch 73/100\n",
            "22/22 [==============================] - 0s 10ms/step - loss: 59.9825\n",
            "Epoch 74/100\n",
            "22/22 [==============================] - 0s 9ms/step - loss: 59.5890\n",
            "Epoch 75/100\n",
            "22/22 [==============================] - 0s 11ms/step - loss: 59.3352\n",
            "Epoch 76/100\n",
            "22/22 [==============================] - 0s 11ms/step - loss: 58.7450\n",
            "Epoch 77/100\n",
            "22/22 [==============================] - 0s 10ms/step - loss: 58.7466\n",
            "Epoch 78/100\n",
            "22/22 [==============================] - 0s 10ms/step - loss: 58.3672\n",
            "Epoch 79/100\n",
            "22/22 [==============================] - 0s 10ms/step - loss: 57.7952\n",
            "Epoch 80/100\n",
            "22/22 [==============================] - 0s 11ms/step - loss: 57.4664\n",
            "Epoch 81/100\n",
            "22/22 [==============================] - 0s 9ms/step - loss: 57.1775\n",
            "Epoch 82/100\n",
            "22/22 [==============================] - 0s 9ms/step - loss: 57.7005\n",
            "Epoch 83/100\n",
            "22/22 [==============================] - 0s 9ms/step - loss: 56.9619\n",
            "Epoch 84/100\n",
            "22/22 [==============================] - 0s 12ms/step - loss: 56.3666\n",
            "Epoch 85/100\n",
            "22/22 [==============================] - 0s 9ms/step - loss: 55.6054\n",
            "Epoch 86/100\n",
            "22/22 [==============================] - 0s 9ms/step - loss: 55.6403\n",
            "Epoch 87/100\n",
            "22/22 [==============================] - 0s 11ms/step - loss: 54.2885\n",
            "Epoch 88/100\n",
            "22/22 [==============================] - 0s 11ms/step - loss: 54.1746\n",
            "Epoch 89/100\n",
            "22/22 [==============================] - 0s 12ms/step - loss: 53.5341\n",
            "Epoch 90/100\n",
            "22/22 [==============================] - 0s 10ms/step - loss: 53.4969\n",
            "Epoch 91/100\n",
            "22/22 [==============================] - 0s 9ms/step - loss: 53.0218\n",
            "Epoch 92/100\n",
            "22/22 [==============================] - 0s 9ms/step - loss: 52.1933\n",
            "Epoch 93/100\n",
            "22/22 [==============================] - 0s 12ms/step - loss: 52.0451\n",
            "Epoch 94/100\n",
            "22/22 [==============================] - 0s 9ms/step - loss: 51.4391\n",
            "Epoch 95/100\n",
            "22/22 [==============================] - 0s 10ms/step - loss: 49.9551\n",
            "Epoch 96/100\n",
            "22/22 [==============================] - 0s 9ms/step - loss: 49.8672\n",
            "Epoch 97/100\n",
            "22/22 [==============================] - 0s 9ms/step - loss: 51.1562\n",
            "Epoch 98/100\n",
            "22/22 [==============================] - 0s 13ms/step - loss: 50.1426\n",
            "Epoch 99/100\n",
            "22/22 [==============================] - 0s 10ms/step - loss: 48.4355\n",
            "Epoch 100/100\n",
            "22/22 [==============================] - 0s 9ms/step - loss: 48.4772\n",
            "1/1 [==============================] - 1s 901ms/step\n",
            "Model Number: 1119 with model NVAR in generation 9 of 10\n",
            "Model Number: 1120 with model UnivariateMotif in generation 9 of 10\n",
            "Model Number: 1121 with model MetricMotif in generation 9 of 10\n",
            "Model Number: 1122 with model MultivariateRegression in generation 9 of 10\n",
            "Model Number: 1123 with model ARIMA in generation 9 of 10\n",
            "Model Number: 1124 with model Theta in generation 9 of 10\n",
            "Model Number: 1125 with model MultivariateRegression in generation 9 of 10\n",
            "Model Number: 1126 with model UnivariateMotif in generation 9 of 10\n",
            "Model Number: 1127 with model WindowRegression in generation 9 of 10\n"
          ]
        },
        {
          "output_type": "stream",
          "name": "stderr",
          "text": [
            "/usr/local/lib/python3.8/dist-packages/sklearn/linear_model/_ridge.py:157: LinAlgWarning:\n",
            "\n",
            "Ill-conditioned matrix (rcond=1.54701e-25): result may not be accurate.\n",
            "\n"
          ]
        },
        {
          "output_type": "stream",
          "name": "stdout",
          "text": [
            "Model Number: 1128 with model DatepartRegression in generation 9 of 10\n",
            "Model Number: 1129 with model NVAR in generation 9 of 10\n"
          ]
        },
        {
          "output_type": "stream",
          "name": "stderr",
          "text": [
            "/usr/local/lib/python3.8/dist-packages/sklearn/neural_network/_multilayer_perceptron.py:549: ConvergenceWarning:\n",
            "\n",
            "lbfgs failed to converge (status=1):\n",
            "STOP: TOTAL NO. of ITERATIONS REACHED LIMIT.\n",
            "\n",
            "Increase the number of iterations (max_iter) or scale the data as shown in:\n",
            "    https://scikit-learn.org/stable/modules/preprocessing.html\n",
            "\n"
          ]
        },
        {
          "output_type": "stream",
          "name": "stdout",
          "text": [
            "Model Number: 1130 with model ARIMA in generation 9 of 10\n",
            "Model Number: 1131 with model SectionalMotif in generation 9 of 10\n",
            "Model Number: 1132 with model MultivariateMotif in generation 9 of 10\n",
            "Model Number: 1133 with model GLM in generation 9 of 10\n",
            "Template Eval Error: ValueError('NaN, inf or invalid value detected in weights, estimation infeasible.') in model 1133: GLM\n",
            "Model Number: 1134 with model SectionalMotif in generation 9 of 10\n",
            "Template Eval Error: Exception('Transformer Detrend failed on fit') in model 1134: SectionalMotif\n",
            "Model Number: 1135 with model ARIMA in generation 9 of 10\n"
          ]
        },
        {
          "output_type": "stream",
          "name": "stderr",
          "text": [
            "/usr/local/lib/python3.8/dist-packages/statsmodels/genmod/generalized_linear_model.py:293: DomainWarning:\n",
            "\n",
            "The inverse_power link function does not respect the domain of the Gamma family.\n",
            "\n",
            "/usr/local/lib/python3.8/dist-packages/statsmodels/genmod/families/family.py:134: RuntimeWarning:\n",
            "\n",
            "overflow encountered in square\n",
            "\n",
            "/usr/local/lib/python3.8/dist-packages/statsmodels/genmod/families/links.py:319: RuntimeWarning:\n",
            "\n",
            "divide by zero encountered in power\n",
            "\n",
            "/usr/local/lib/python3.8/dist-packages/statsmodels/genmod/families/family.py:698: RuntimeWarning:\n",
            "\n",
            "invalid value encountered in true_divide\n",
            "\n",
            "/usr/local/lib/python3.8/dist-packages/statsmodels/genmod/generalized_linear_model.py:798: RuntimeWarning:\n",
            "\n",
            "invalid value encountered in true_divide\n",
            "\n",
            "/usr/local/lib/python3.8/dist-packages/statsmodels/genmod/families/family.py:134: RuntimeWarning:\n",
            "\n",
            "invalid value encountered in multiply\n",
            "\n",
            "/usr/local/lib/python3.8/dist-packages/statsmodels/genmod/generalized_linear_model.py:1198: RuntimeWarning:\n",
            "\n",
            "invalid value encountered in multiply\n",
            "\n"
          ]
        },
        {
          "output_type": "stream",
          "name": "stdout",
          "text": [
            "Model Number: 1136 with model Theta in generation 9 of 10\n",
            "Model Number: 1137 with model ETS in generation 9 of 10\n",
            "Template Eval Error: Exception('Transformer HolidayTransformer failed on fit') in model 1137: ETS\n",
            "Model Number: 1138 with model ARIMA in generation 9 of 10\n",
            "Model Number: 1139 with model MultivariateMotif in generation 9 of 10\n",
            "Model Number: 1140 with model MultivariateRegression in generation 9 of 10\n",
            "Model Number: 1141 with model ETS in generation 9 of 10\n",
            "Model Number: 1142 with model LastValueNaive in generation 9 of 10\n",
            "Model Number: 1143 with model ETS in generation 9 of 10\n",
            "Model Number: 1144 with model LastValueNaive in generation 9 of 10\n",
            "Model Number: 1145 with model AverageValueNaive in generation 9 of 10\n",
            "Model Number: 1146 with model MetricMotif in generation 9 of 10\n",
            "Model Number: 1147 with model MetricMotif in generation 9 of 10\n",
            "Model Number: 1148 with model GLS in generation 9 of 10\n",
            "Model Number: 1149 with model AverageValueNaive in generation 9 of 10\n",
            "Model Number: 1150 with model SectionalMotif in generation 9 of 10\n",
            "Model Number: 1151 with model NVAR in generation 9 of 10\n",
            "Model Number: 1152 with model DatepartRegression in generation 9 of 10\n",
            "Model Number: 1153 with model LastValueNaive in generation 9 of 10\n",
            "Model Number: 1154 with model DatepartRegression in generation 9 of 10\n"
          ]
        },
        {
          "output_type": "stream",
          "name": "stderr",
          "text": [
            "/usr/local/lib/python3.8/dist-packages/sklearn/neural_network/_multilayer_perceptron.py:549: ConvergenceWarning:\n",
            "\n",
            "lbfgs failed to converge (status=1):\n",
            "STOP: TOTAL NO. of ITERATIONS REACHED LIMIT.\n",
            "\n",
            "Increase the number of iterations (max_iter) or scale the data as shown in:\n",
            "    https://scikit-learn.org/stable/modules/preprocessing.html\n",
            "\n"
          ]
        },
        {
          "output_type": "stream",
          "name": "stdout",
          "text": [
            "Model Number: 1155 with model NVAR in generation 9 of 10\n",
            "Model Number: 1156 with model UnobservedComponents in generation 9 of 10\n",
            "Model Number: 1157 with model ConstantNaive in generation 9 of 10\n",
            "Model Number: 1158 with model ARIMA in generation 9 of 10\n",
            "Model Number: 1159 with model MetricMotif in generation 9 of 10\n",
            "Model Number: 1160 with model UnivariateMotif in generation 9 of 10\n",
            "Model Number: 1161 with model ARIMA in generation 9 of 10\n",
            "Model Number: 1162 with model SectionalMotif in generation 9 of 10\n",
            "Model Number: 1163 with model AverageValueNaive in generation 9 of 10\n",
            "Model Number: 1164 with model SectionalMotif in generation 9 of 10\n",
            "Model Number: 1165 with model NVAR in generation 9 of 10\n",
            "Model Number: 1166 with model MultivariateRegression in generation 9 of 10\n",
            "Model Number: 1167 with model Theta in generation 9 of 10\n"
          ]
        },
        {
          "output_type": "stream",
          "name": "stderr",
          "text": [
            "INFO:prophet:Disabling yearly seasonality. Run prophet with yearly_seasonality=True to override this.\n",
            "INFO:prophet:Disabling daily seasonality. Run prophet with daily_seasonality=True to override this.\n",
            "DEBUG:cmdstanpy:input tempfile: /tmp/tmp7syr8mce/cthynk5z.json\n",
            "DEBUG:cmdstanpy:input tempfile: /tmp/tmp7syr8mce/jqnv43j9.json\n",
            "DEBUG:cmdstanpy:idx 0\n",
            "DEBUG:cmdstanpy:running CmdStan, num_threads: None\n",
            "DEBUG:cmdstanpy:CmdStan args: ['/usr/local/lib/python3.8/dist-packages/prophet/stan_model/prophet_model.bin', 'random', 'seed=82609', 'data', 'file=/tmp/tmp7syr8mce/cthynk5z.json', 'init=/tmp/tmp7syr8mce/jqnv43j9.json', 'output', 'file=/tmp/tmp7syr8mce/prophet_modelh82nrzyu/prophet_model-20230123225849.csv', 'method=optimize', 'algorithm=lbfgs', 'iter=10000']\n",
            "22:58:49 - cmdstanpy - INFO - Chain [1] start processing\n",
            "INFO:cmdstanpy:Chain [1] start processing\n"
          ]
        },
        {
          "output_type": "stream",
          "name": "stdout",
          "text": [
            "Model Number: 1168 with model FBProphet in generation 9 of 10\n"
          ]
        },
        {
          "output_type": "stream",
          "name": "stderr",
          "text": [
            "22:58:50 - cmdstanpy - INFO - Chain [1] done processing\n",
            "INFO:cmdstanpy:Chain [1] done processing\n"
          ]
        },
        {
          "output_type": "stream",
          "name": "stdout",
          "text": [
            "Model Number: 1169 with model LastValueNaive in generation 9 of 10\n",
            "Model Number: 1170 with model NVAR in generation 9 of 10\n",
            "Model Number: 1171 with model Theta in generation 9 of 10\n"
          ]
        },
        {
          "output_type": "stream",
          "name": "stderr",
          "text": [
            "INFO:prophet:Disabling yearly seasonality. Run prophet with yearly_seasonality=True to override this.\n",
            "INFO:prophet:Disabling daily seasonality. Run prophet with daily_seasonality=True to override this.\n",
            "DEBUG:cmdstanpy:input tempfile: /tmp/tmp7syr8mce/6jndopgf.json\n",
            "DEBUG:cmdstanpy:input tempfile: /tmp/tmp7syr8mce/c_yd4tb6.json\n",
            "DEBUG:cmdstanpy:idx 0\n",
            "DEBUG:cmdstanpy:running CmdStan, num_threads: None\n",
            "DEBUG:cmdstanpy:CmdStan args: ['/usr/local/lib/python3.8/dist-packages/prophet/stan_model/prophet_model.bin', 'random', 'seed=62034', 'data', 'file=/tmp/tmp7syr8mce/6jndopgf.json', 'init=/tmp/tmp7syr8mce/c_yd4tb6.json', 'output', 'file=/tmp/tmp7syr8mce/prophet_model1o87xy0q/prophet_model-20230123225851.csv', 'method=optimize', 'algorithm=lbfgs', 'iter=10000']\n"
          ]
        },
        {
          "output_type": "stream",
          "name": "stdout",
          "text": [
            "Model Number: 1172 with model FBProphet in generation 9 of 10\n"
          ]
        },
        {
          "output_type": "stream",
          "name": "stderr",
          "text": [
            "22:58:51 - cmdstanpy - INFO - Chain [1] start processing\n",
            "INFO:cmdstanpy:Chain [1] start processing\n",
            "22:58:52 - cmdstanpy - INFO - Chain [1] done processing\n",
            "INFO:cmdstanpy:Chain [1] done processing\n"
          ]
        },
        {
          "output_type": "stream",
          "name": "stdout",
          "text": [
            "Model Number: 1173 with model LastValueNaive in generation 9 of 10\n",
            "Model Number: 1174 with model MultivariateMotif in generation 9 of 10\n",
            "Model Number: 1175 with model ConstantNaive in generation 9 of 10\n",
            "Model Number: 1176 with model MultivariateRegression in generation 9 of 10\n",
            "Model Number: 1177 with model GLS in generation 9 of 10\n",
            "Model Number: 1178 with model UnivariateMotif in generation 9 of 10\n",
            "Model Number: 1179 with model MultivariateRegression in generation 9 of 10\n",
            "Template Eval Error: ValueError('X has 31 features, but RANSACRegressor is expecting 41 features as input.') in model 1179: MultivariateRegression\n",
            "Model Number: 1180 with model ARIMA in generation 9 of 10\n",
            "Model Number: 1181 with model ARIMA in generation 9 of 10\n",
            "Model Number: 1182 with model AverageValueNaive in generation 9 of 10\n"
          ]
        },
        {
          "output_type": "stream",
          "name": "stderr",
          "text": [
            "INFO:prophet:Disabling yearly seasonality. Run prophet with yearly_seasonality=True to override this.\n",
            "INFO:prophet:Disabling daily seasonality. Run prophet with daily_seasonality=True to override this.\n",
            "DEBUG:cmdstanpy:input tempfile: /tmp/tmp7syr8mce/ahptyzba.json\n"
          ]
        },
        {
          "output_type": "stream",
          "name": "stdout",
          "text": [
            "Model Number: 1183 with model FBProphet in generation 9 of 10\n"
          ]
        },
        {
          "output_type": "stream",
          "name": "stderr",
          "text": [
            "DEBUG:cmdstanpy:input tempfile: /tmp/tmp7syr8mce/uh37kz3d.json\n",
            "DEBUG:cmdstanpy:idx 0\n",
            "DEBUG:cmdstanpy:running CmdStan, num_threads: None\n",
            "DEBUG:cmdstanpy:CmdStan args: ['/usr/local/lib/python3.8/dist-packages/prophet/stan_model/prophet_model.bin', 'random', 'seed=71110', 'data', 'file=/tmp/tmp7syr8mce/ahptyzba.json', 'init=/tmp/tmp7syr8mce/uh37kz3d.json', 'output', 'file=/tmp/tmp7syr8mce/prophet_model6zms568u/prophet_model-20230123225906.csv', 'method=optimize', 'algorithm=lbfgs', 'iter=10000']\n",
            "22:59:06 - cmdstanpy - INFO - Chain [1] start processing\n",
            "INFO:cmdstanpy:Chain [1] start processing\n",
            "22:59:07 - cmdstanpy - INFO - Chain [1] done processing\n",
            "INFO:cmdstanpy:Chain [1] done processing\n"
          ]
        },
        {
          "output_type": "stream",
          "name": "stdout",
          "text": [
            "Model Number: 1184 with model MetricMotif in generation 9 of 10\n",
            "Model Number: 1185 with model SectionalMotif in generation 9 of 10\n",
            "Model Number: 1186 with model ConstantNaive in generation 9 of 10\n",
            "Model Number: 1187 with model AverageValueNaive in generation 9 of 10\n",
            "Template Eval Error: Exception('Transformer Detrend failed on fit') in model 1187: AverageValueNaive\n",
            "Model Number: 1188 with model UnivariateMotif in generation 9 of 10\n",
            "New Generation: 10 of 10\n",
            "Model Number: 1189 with model MultivariateRegression in generation 10 of 10\n",
            "Model Number: 1190 with model ConstantNaive in generation 10 of 10\n",
            "Model Number: 1191 with model WindowRegression in generation 10 of 10\n",
            "Model Number: 1192 with model MetricMotif in generation 10 of 10\n",
            "Model Number: 1193 with model UnivariateMotif in generation 10 of 10\n",
            "Model Number: 1194 with model SectionalMotif in generation 10 of 10\n",
            "Model Number: 1195 with model LastValueNaive in generation 10 of 10\n",
            "Model Number: 1196 with model ARIMA in generation 10 of 10\n"
          ]
        },
        {
          "output_type": "stream",
          "name": "stderr",
          "text": [
            "INFO:prophet:Disabling yearly seasonality. Run prophet with yearly_seasonality=True to override this.\n",
            "INFO:prophet:Disabling daily seasonality. Run prophet with daily_seasonality=True to override this.\n",
            "DEBUG:cmdstanpy:input tempfile: /tmp/tmp7syr8mce/9gztulvb.json\n",
            "DEBUG:cmdstanpy:input tempfile: /tmp/tmp7syr8mce/28vae88w.json\n",
            "DEBUG:cmdstanpy:idx 0\n",
            "DEBUG:cmdstanpy:running CmdStan, num_threads: None\n",
            "DEBUG:cmdstanpy:CmdStan args: ['/usr/local/lib/python3.8/dist-packages/prophet/stan_model/prophet_model.bin', 'random', 'seed=77441', 'data', 'file=/tmp/tmp7syr8mce/9gztulvb.json', 'init=/tmp/tmp7syr8mce/28vae88w.json', 'output', 'file=/tmp/tmp7syr8mce/prophet_modellm8jyb03/prophet_model-20230123225911.csv', 'method=optimize', 'algorithm=lbfgs', 'iter=10000']\n",
            "22:59:11 - cmdstanpy - INFO - Chain [1] start processing\n",
            "INFO:cmdstanpy:Chain [1] start processing\n"
          ]
        },
        {
          "output_type": "stream",
          "name": "stdout",
          "text": [
            "Model Number: 1197 with model FBProphet in generation 10 of 10\n"
          ]
        },
        {
          "output_type": "stream",
          "name": "stderr",
          "text": [
            "22:59:12 - cmdstanpy - INFO - Chain [1] done processing\n",
            "INFO:cmdstanpy:Chain [1] done processing\n"
          ]
        },
        {
          "output_type": "stream",
          "name": "stdout",
          "text": [
            "Model Number: 1198 with model NVAR in generation 10 of 10\n",
            "Model Number: 1199 with model MetricMotif in generation 10 of 10\n",
            "Model Number: 1200 with model MetricMotif in generation 10 of 10\n",
            "Model Number: 1201 with model LastValueNaive in generation 10 of 10\n",
            "Model Number: 1202 with model SectionalMotif in generation 10 of 10\n",
            "Model Number: 1203 with model MultivariateMotif in generation 10 of 10\n",
            "Model Number: 1204 with model AverageValueNaive in generation 10 of 10\n",
            "Model Number: 1205 with model LastValueNaive in generation 10 of 10\n",
            "Model Number: 1206 with model NVAR in generation 10 of 10\n",
            "Model Number: 1207 with model UnivariateMotif in generation 10 of 10\n",
            "Model Number: 1208 with model ARIMA in generation 10 of 10\n",
            "Template Eval Error: Exception('Transformer HolidayTransformer failed on fit') in model 1208: ARIMA\n",
            "Model Number: 1209 with model AverageValueNaive in generation 10 of 10\n",
            "Model Number: 1210 with model LastValueNaive in generation 10 of 10\n",
            "Model Number: 1211 with model ARIMA in generation 10 of 10\n",
            "Model Number: 1212 with model FBProphet in generation 10 of 10\n",
            "No anomalies detected.\n"
          ]
        },
        {
          "output_type": "stream",
          "name": "stderr",
          "text": [
            "INFO:prophet:Disabling yearly seasonality. Run prophet with yearly_seasonality=True to override this.\n",
            "INFO:prophet:Disabling daily seasonality. Run prophet with daily_seasonality=True to override this.\n",
            "DEBUG:cmdstanpy:input tempfile: /tmp/tmp7syr8mce/w1e5vbog.json\n",
            "DEBUG:cmdstanpy:input tempfile: /tmp/tmp7syr8mce/raeoyzxr.json\n",
            "DEBUG:cmdstanpy:idx 0\n",
            "DEBUG:cmdstanpy:running CmdStan, num_threads: None\n",
            "DEBUG:cmdstanpy:CmdStan args: ['/usr/local/lib/python3.8/dist-packages/prophet/stan_model/prophet_model.bin', 'random', 'seed=26073', 'data', 'file=/tmp/tmp7syr8mce/w1e5vbog.json', 'init=/tmp/tmp7syr8mce/raeoyzxr.json', 'output', 'file=/tmp/tmp7syr8mce/prophet_modelxhv2q9yf/prophet_model-20230123225915.csv', 'method=optimize', 'algorithm=lbfgs', 'iter=10000']\n",
            "22:59:15 - cmdstanpy - INFO - Chain [1] start processing\n",
            "INFO:cmdstanpy:Chain [1] start processing\n",
            "22:59:15 - cmdstanpy - INFO - Chain [1] done processing\n",
            "INFO:cmdstanpy:Chain [1] done processing\n"
          ]
        },
        {
          "output_type": "stream",
          "name": "stdout",
          "text": [
            "Model Number: 1213 with model MultivariateMotif in generation 10 of 10\n",
            "Model Number: 1214 with model AverageValueNaive in generation 10 of 10\n",
            "Model Number: 1215 with model ARIMA in generation 10 of 10\n",
            "Model Number: 1216 with model UnivariateMotif in generation 10 of 10\n",
            "Model Number: 1217 with model AverageValueNaive in generation 10 of 10\n",
            "Model Number: 1218 with model SectionalMotif in generation 10 of 10\n",
            "Model Number: 1219 with model AverageValueNaive in generation 10 of 10\n",
            "Template Eval Error: Exception('Transformer Cointegration failed on fit') in model 1219: AverageValueNaive\n",
            "Model Number: 1220 with model UnivariateMotif in generation 10 of 10\n"
          ]
        },
        {
          "output_type": "stream",
          "name": "stderr",
          "text": [
            "INFO:prophet:Disabling yearly seasonality. Run prophet with yearly_seasonality=True to override this.\n",
            "INFO:prophet:Disabling daily seasonality. Run prophet with daily_seasonality=True to override this.\n",
            "DEBUG:cmdstanpy:input tempfile: /tmp/tmp7syr8mce/vd2de7de.json\n"
          ]
        },
        {
          "output_type": "stream",
          "name": "stdout",
          "text": [
            "Model Number: 1221 with model FBProphet in generation 10 of 10\n"
          ]
        },
        {
          "output_type": "stream",
          "name": "stderr",
          "text": [
            "DEBUG:cmdstanpy:input tempfile: /tmp/tmp7syr8mce/j0f9swul.json\n",
            "DEBUG:cmdstanpy:idx 0\n",
            "DEBUG:cmdstanpy:running CmdStan, num_threads: None\n",
            "DEBUG:cmdstanpy:CmdStan args: ['/usr/local/lib/python3.8/dist-packages/prophet/stan_model/prophet_model.bin', 'random', 'seed=38876', 'data', 'file=/tmp/tmp7syr8mce/vd2de7de.json', 'init=/tmp/tmp7syr8mce/j0f9swul.json', 'output', 'file=/tmp/tmp7syr8mce/prophet_modelm6mv9v8q/prophet_model-20230123225917.csv', 'method=optimize', 'algorithm=lbfgs', 'iter=10000']\n",
            "22:59:17 - cmdstanpy - INFO - Chain [1] start processing\n",
            "INFO:cmdstanpy:Chain [1] start processing\n",
            "22:59:18 - cmdstanpy - INFO - Chain [1] done processing\n",
            "INFO:cmdstanpy:Chain [1] done processing\n"
          ]
        },
        {
          "output_type": "stream",
          "name": "stdout",
          "text": [
            "Model Number: 1222 with model LastValueNaive in generation 10 of 10\n",
            "Model Number: 1223 with model UnivariateMotif in generation 10 of 10\n",
            "Model Number: 1224 with model AverageValueNaive in generation 10 of 10\n",
            "Template Eval Error: Exception('Transformer BTCD failed on fit') in model 1224: AverageValueNaive\n",
            "Model Number: 1225 with model MultivariateMotif in generation 10 of 10\n",
            "Model Number: 1226 with model MultivariateRegression in generation 10 of 10\n",
            "Model Number: 1227 with model ARIMA in generation 10 of 10\n",
            "Model Number: 1228 with model MultivariateMotif in generation 10 of 10\n",
            "Model Number: 1229 with model MultivariateRegression in generation 10 of 10\n",
            "Model Number: 1230 with model UnobservedComponents in generation 10 of 10\n",
            "Model Number: 1231 with model AverageValueNaive in generation 10 of 10\n",
            "Model Number: 1232 with model AverageValueNaive in generation 10 of 10\n",
            "Model Number: 1233 with model MetricMotif in generation 10 of 10\n"
          ]
        },
        {
          "output_type": "stream",
          "name": "stderr",
          "text": [
            "INFO:prophet:Disabling yearly seasonality. Run prophet with yearly_seasonality=True to override this.\n",
            "INFO:prophet:Disabling daily seasonality. Run prophet with daily_seasonality=True to override this.\n"
          ]
        },
        {
          "output_type": "stream",
          "name": "stdout",
          "text": [
            "Model Number: 1234 with model FBProphet in generation 10 of 10\n"
          ]
        },
        {
          "output_type": "stream",
          "name": "stderr",
          "text": [
            "DEBUG:cmdstanpy:input tempfile: /tmp/tmp7syr8mce/nj7a3lgm.json\n",
            "DEBUG:cmdstanpy:input tempfile: /tmp/tmp7syr8mce/jg0q_9l0.json\n",
            "DEBUG:cmdstanpy:idx 0\n",
            "DEBUG:cmdstanpy:running CmdStan, num_threads: None\n",
            "DEBUG:cmdstanpy:CmdStan args: ['/usr/local/lib/python3.8/dist-packages/prophet/stan_model/prophet_model.bin', 'random', 'seed=46904', 'data', 'file=/tmp/tmp7syr8mce/nj7a3lgm.json', 'init=/tmp/tmp7syr8mce/jg0q_9l0.json', 'output', 'file=/tmp/tmp7syr8mce/prophet_modelg0i5tq3u/prophet_model-20230123225930.csv', 'method=optimize', 'algorithm=lbfgs', 'iter=10000']\n",
            "22:59:30 - cmdstanpy - INFO - Chain [1] start processing\n",
            "INFO:cmdstanpy:Chain [1] start processing\n",
            "22:59:31 - cmdstanpy - INFO - Chain [1] done processing\n",
            "INFO:cmdstanpy:Chain [1] done processing\n"
          ]
        },
        {
          "output_type": "stream",
          "name": "stdout",
          "text": [
            "Model Number: 1235 with model UnivariateMotif in generation 10 of 10\n"
          ]
        },
        {
          "output_type": "stream",
          "name": "stderr",
          "text": [
            "INFO:prophet:Disabling yearly seasonality. Run prophet with yearly_seasonality=True to override this.\n",
            "INFO:prophet:Disabling daily seasonality. Run prophet with daily_seasonality=True to override this.\n"
          ]
        },
        {
          "output_type": "stream",
          "name": "stdout",
          "text": [
            "Model Number: 1236 with model MultivariateRegression in generation 10 of 10\n",
            "Template Eval Error: Exception('Transformer Cointegration failed on fit') in model 1236: MultivariateRegression\n",
            "Model Number: 1237 with model FBProphet in generation 10 of 10\n"
          ]
        },
        {
          "output_type": "stream",
          "name": "stderr",
          "text": [
            "DEBUG:cmdstanpy:input tempfile: /tmp/tmp7syr8mce/3k5z4n8a.json\n",
            "DEBUG:cmdstanpy:input tempfile: /tmp/tmp7syr8mce/zyscqa9z.json\n",
            "DEBUG:cmdstanpy:idx 0\n",
            "DEBUG:cmdstanpy:running CmdStan, num_threads: None\n",
            "DEBUG:cmdstanpy:CmdStan args: ['/usr/local/lib/python3.8/dist-packages/prophet/stan_model/prophet_model.bin', 'random', 'seed=41704', 'data', 'file=/tmp/tmp7syr8mce/3k5z4n8a.json', 'init=/tmp/tmp7syr8mce/zyscqa9z.json', 'output', 'file=/tmp/tmp7syr8mce/prophet_modelk5pn98yd/prophet_model-20230123225932.csv', 'method=optimize', 'algorithm=lbfgs', 'iter=10000']\n",
            "22:59:32 - cmdstanpy - INFO - Chain [1] start processing\n",
            "INFO:cmdstanpy:Chain [1] start processing\n",
            "22:59:32 - cmdstanpy - INFO - Chain [1] done processing\n",
            "INFO:cmdstanpy:Chain [1] done processing\n",
            "INFO:prophet:Disabling yearly seasonality. Run prophet with yearly_seasonality=True to override this.\n",
            "INFO:prophet:Disabling daily seasonality. Run prophet with daily_seasonality=True to override this.\n",
            "DEBUG:cmdstanpy:input tempfile: /tmp/tmp7syr8mce/m3bj4i2e.json\n",
            "DEBUG:cmdstanpy:input tempfile: /tmp/tmp7syr8mce/7rsh37c4.json\n",
            "DEBUG:cmdstanpy:idx 0\n",
            "DEBUG:cmdstanpy:running CmdStan, num_threads: None\n",
            "DEBUG:cmdstanpy:CmdStan args: ['/usr/local/lib/python3.8/dist-packages/prophet/stan_model/prophet_model.bin', 'random', 'seed=83206', 'data', 'file=/tmp/tmp7syr8mce/m3bj4i2e.json', 'init=/tmp/tmp7syr8mce/7rsh37c4.json', 'output', 'file=/tmp/tmp7syr8mce/prophet_modelx28lyxhk/prophet_model-20230123225933.csv', 'method=optimize', 'algorithm=lbfgs', 'iter=10000']\n",
            "22:59:33 - cmdstanpy - INFO - Chain [1] start processing\n",
            "INFO:cmdstanpy:Chain [1] start processing\n"
          ]
        },
        {
          "output_type": "stream",
          "name": "stdout",
          "text": [
            "Model Number: 1238 with model MetricMotif in generation 10 of 10\n",
            "Template Eval Error: Exception('Transformer BTCD failed on fit') in model 1238: MetricMotif\n",
            "Model Number: 1239 with model FBProphet in generation 10 of 10\n"
          ]
        },
        {
          "output_type": "stream",
          "name": "stderr",
          "text": [
            "22:59:33 - cmdstanpy - INFO - Chain [1] done processing\n",
            "INFO:cmdstanpy:Chain [1] done processing\n"
          ]
        },
        {
          "output_type": "stream",
          "name": "stdout",
          "text": [
            "Model Number: 1240 with model UnobservedComponents in generation 10 of 10\n",
            "Model Number: 1241 with model NVAR in generation 10 of 10\n",
            "Model Number: 1242 with model UnivariateMotif in generation 10 of 10\n",
            "Model Number: 1243 with model AverageValueNaive in generation 10 of 10\n",
            "Model Number: 1244 with model MetricMotif in generation 10 of 10\n",
            "Model Number: 1245 with model ARIMA in generation 10 of 10\n",
            "Model Number: 1246 with model LastValueNaive in generation 10 of 10\n",
            "Model Number: 1247 with model ETS in generation 10 of 10\n",
            "Model Number: 1248 with model MultivariateMotif in generation 10 of 10\n",
            "Model Number: 1249 with model LastValueNaive in generation 10 of 10\n",
            "Model Number: 1250 with model SectionalMotif in generation 10 of 10\n",
            "Model Number: 1251 with model LastValueNaive in generation 10 of 10\n",
            "Model Number: 1252 with model MultivariateRegression in generation 10 of 10\n",
            "Model Number: 1253 with model UnivariateMotif in generation 10 of 10\n",
            "Model Number: 1254 with model ConstantNaive in generation 10 of 10\n",
            "Model Number: 1255 with model UnobservedComponents in generation 10 of 10\n",
            "Model Number: 1256 with model MultivariateMotif in generation 10 of 10\n",
            "Model Number: 1257 with model FBProphet in generation 10 of 10\n",
            "Template Eval Error: ValueError(\"regression_type='User' but no future_regressor passed\") in model 1257: FBProphet\n",
            "Model Number: 1258 with model ETS in generation 10 of 10\n",
            "Model Number: 1259 with model MetricMotif in generation 10 of 10\n",
            "Template Eval Error: Exception('Transformer Cointegration failed on fit') in model 1259: MetricMotif\n",
            "Model Number: 1260 with model MultivariateRegression in generation 10 of 10\n",
            "Model Number: 1261 with model LastValueNaive in generation 10 of 10\n",
            "Model Number: 1262 with model SectionalMotif in generation 10 of 10\n",
            "Model Number: 1263 with model Theta in generation 10 of 10\n",
            "Model Number: 1264 with model Ensemble in generation 11 of Ensembles\n",
            "Model Number: 1265 with model Ensemble in generation 11 of Ensembles\n",
            "Model Number: 1266 with model Ensemble in generation 11 of Ensembles\n",
            "Model Number: 1267 with model Ensemble in generation 11 of Ensembles\n",
            "Model Number: 1268 with model Ensemble in generation 11 of Ensembles\n",
            "Model Number: 1269 with model Ensemble in generation 11 of Ensembles\n",
            "Model Number: 1270 with model Ensemble in generation 11 of Ensembles\n",
            "Model Number: 1271 with model Ensemble in generation 11 of Ensembles\n",
            "Validation Round: 1\n",
            "Model Number: 1 of 184 with model Ensemble for Validation 1\n",
            "📈 1 - Ensemble with avg smape 33.67: \n",
            "Model Number: 2 of 184 with model Ensemble for Validation 1\n",
            "2 - Ensemble with avg smape 37.19: \n",
            "Model Number: 3 of 184 with model Ensemble for Validation 1\n",
            "3 - Ensemble with avg smape 37.31: \n",
            "Model Number: 4 of 184 with model Ensemble for Validation 1\n",
            "4 - Ensemble with avg smape 37.31: \n",
            "Model Number: 5 of 184 with model Ensemble for Validation 1\n",
            "5 - Ensemble with avg smape 37.64: \n",
            "Model Number: 6 of 184 with model MultivariateMotif for Validation 1\n",
            "6 - MultivariateMotif with avg smape 44.14: \n",
            "Model Number: 7 of 184 with model Ensemble for Validation 1\n",
            "7 - Ensemble with avg smape 44.16: \n",
            "Model Number: 8 of 184 with model Ensemble for Validation 1\n",
            "8 - Ensemble with avg smape 44.39: \n",
            "Model Number: 9 of 184 with model UnivariateMotif for Validation 1\n",
            "9 - UnivariateMotif with avg smape 44.39: \n",
            "Model Number: 10 of 184 with model MultivariateMotif for Validation 1\n",
            "10 - MultivariateMotif with avg smape 44.65: \n",
            "Model Number: 11 of 184 with model LastValueNaive for Validation 1\n",
            "11 - LastValueNaive with avg smape 34.71: \n",
            "Model Number: 12 of 184 with model AverageValueNaive for Validation 1\n",
            "12 - AverageValueNaive with avg smape 39.92: \n",
            "Model Number: 13 of 184 with model LastValueNaive for Validation 1\n",
            "13 - LastValueNaive with avg smape 39.8: \n",
            "Model Number: 14 of 184 with model LastValueNaive for Validation 1\n",
            "14 - LastValueNaive with avg smape 39.8: \n",
            "Model Number: 15 of 184 with model AverageValueNaive for Validation 1\n",
            "15 - AverageValueNaive with avg smape 35.02: \n",
            "Model Number: 16 of 184 with model LastValueNaive for Validation 1\n",
            "📈 16 - LastValueNaive with avg smape 33.15: \n",
            "Model Number: 17 of 184 with model MetricMotif for Validation 1\n",
            "17 - MetricMotif with avg smape 36.36: \n",
            "Model Number: 18 of 184 with model UnivariateMotif for Validation 1\n",
            "18 - UnivariateMotif with avg smape 33.25: \n",
            "Model Number: 19 of 184 with model UnivariateMotif for Validation 1\n",
            "19 - UnivariateMotif with avg smape 33.25: \n",
            "Model Number: 20 of 184 with model UnivariateMotif for Validation 1\n",
            "20 - UnivariateMotif with avg smape 44.91: \n",
            "Model Number: 21 of 184 with model LastValueNaive for Validation 1\n",
            "21 - LastValueNaive with avg smape 33.98: \n",
            "Model Number: 22 of 184 with model LastValueNaive for Validation 1\n",
            "22 - LastValueNaive with avg smape 35.99: \n",
            "Model Number: 23 of 184 with model FBProphet for Validation 1\n"
          ]
        },
        {
          "output_type": "stream",
          "name": "stderr",
          "text": [
            "INFO:prophet:Disabling yearly seasonality. Run prophet with yearly_seasonality=True to override this.\n",
            "INFO:prophet:Disabling daily seasonality. Run prophet with daily_seasonality=True to override this.\n",
            "DEBUG:cmdstanpy:input tempfile: /tmp/tmp7syr8mce/rjdyatsd.json\n",
            "DEBUG:cmdstanpy:input tempfile: /tmp/tmp7syr8mce/4wzzu8qs.json\n",
            "DEBUG:cmdstanpy:idx 0\n",
            "DEBUG:cmdstanpy:running CmdStan, num_threads: None\n",
            "DEBUG:cmdstanpy:CmdStan args: ['/usr/local/lib/python3.8/dist-packages/prophet/stan_model/prophet_model.bin', 'random', 'seed=46423', 'data', 'file=/tmp/tmp7syr8mce/rjdyatsd.json', 'init=/tmp/tmp7syr8mce/4wzzu8qs.json', 'output', 'file=/tmp/tmp7syr8mce/prophet_modelnkiiowtl/prophet_model-20230123225944.csv', 'method=optimize', 'algorithm=lbfgs', 'iter=10000']\n",
            "22:59:45 - cmdstanpy - INFO - Chain [1] start processing\n",
            "INFO:cmdstanpy:Chain [1] start processing\n",
            "22:59:45 - cmdstanpy - INFO - Chain [1] done processing\n",
            "INFO:cmdstanpy:Chain [1] done processing\n",
            "INFO:prophet:Disabling yearly seasonality. Run prophet with yearly_seasonality=True to override this.\n",
            "INFO:prophet:Disabling daily seasonality. Run prophet with daily_seasonality=True to override this.\n",
            "DEBUG:cmdstanpy:input tempfile: /tmp/tmp7syr8mce/iv2i1rwc.json\n",
            "DEBUG:cmdstanpy:input tempfile: /tmp/tmp7syr8mce/ic2l8wvx.json\n",
            "DEBUG:cmdstanpy:idx 0\n",
            "DEBUG:cmdstanpy:running CmdStan, num_threads: None\n",
            "DEBUG:cmdstanpy:CmdStan args: ['/usr/local/lib/python3.8/dist-packages/prophet/stan_model/prophet_model.bin', 'random', 'seed=31681', 'data', 'file=/tmp/tmp7syr8mce/iv2i1rwc.json', 'init=/tmp/tmp7syr8mce/ic2l8wvx.json', 'output', 'file=/tmp/tmp7syr8mce/prophet_model8ifdz4p2/prophet_model-20230123225946.csv', 'method=optimize', 'algorithm=lbfgs', 'iter=10000']\n",
            "22:59:46 - cmdstanpy - INFO - Chain [1] start processing\n",
            "INFO:cmdstanpy:Chain [1] start processing\n"
          ]
        },
        {
          "output_type": "stream",
          "name": "stdout",
          "text": [
            "23 - FBProphet with avg smape 35.32: \n",
            "Model Number: 24 of 184 with model FBProphet for Validation 1\n"
          ]
        },
        {
          "output_type": "stream",
          "name": "stderr",
          "text": [
            "22:59:46 - cmdstanpy - INFO - Chain [1] done processing\n",
            "INFO:cmdstanpy:Chain [1] done processing\n"
          ]
        },
        {
          "output_type": "stream",
          "name": "stdout",
          "text": [
            "24 - FBProphet with avg smape 35.24: \n",
            "Model Number: 25 of 184 with model AverageValueNaive for Validation 1\n",
            "25 - AverageValueNaive with avg smape 35.18: \n",
            "Model Number: 26 of 184 with model AverageValueNaive for Validation 1\n",
            "26 - AverageValueNaive with avg smape 35.18: \n",
            "Model Number: 27 of 184 with model MetricMotif for Validation 1\n",
            "27 - MetricMotif with avg smape 35.35: \n",
            "Model Number: 28 of 184 with model LastValueNaive for Validation 1\n",
            "28 - LastValueNaive with avg smape 36.66: \n",
            "Model Number: 29 of 184 with model LastValueNaive for Validation 1\n",
            "29 - LastValueNaive with avg smape 36.66: \n",
            "Model Number: 30 of 184 with model LastValueNaive for Validation 1\n",
            "30 - LastValueNaive with avg smape 34.91: \n",
            "Model Number: 31 of 184 with model FBProphet for Validation 1\n"
          ]
        },
        {
          "output_type": "stream",
          "name": "stderr",
          "text": [
            "INFO:prophet:Disabling yearly seasonality. Run prophet with yearly_seasonality=True to override this.\n",
            "INFO:prophet:Disabling daily seasonality. Run prophet with daily_seasonality=True to override this.\n",
            "DEBUG:cmdstanpy:input tempfile: /tmp/tmp7syr8mce/ir85ssm1.json\n",
            "DEBUG:cmdstanpy:input tempfile: /tmp/tmp7syr8mce/l1wf7a8_.json\n",
            "DEBUG:cmdstanpy:idx 0\n",
            "DEBUG:cmdstanpy:running CmdStan, num_threads: None\n",
            "DEBUG:cmdstanpy:CmdStan args: ['/usr/local/lib/python3.8/dist-packages/prophet/stan_model/prophet_model.bin', 'random', 'seed=36824', 'data', 'file=/tmp/tmp7syr8mce/ir85ssm1.json', 'init=/tmp/tmp7syr8mce/l1wf7a8_.json', 'output', 'file=/tmp/tmp7syr8mce/prophet_modelfpg82bq7/prophet_model-20230123225948.csv', 'method=optimize', 'algorithm=lbfgs', 'iter=10000']\n",
            "22:59:48 - cmdstanpy - INFO - Chain [1] start processing\n",
            "INFO:cmdstanpy:Chain [1] start processing\n",
            "22:59:48 - cmdstanpy - INFO - Chain [1] done processing\n",
            "INFO:cmdstanpy:Chain [1] done processing\n"
          ]
        },
        {
          "output_type": "stream",
          "name": "stdout",
          "text": [
            "31 - FBProphet with avg smape 42.37: \n",
            "Model Number: 32 of 184 with model AverageValueNaive for Validation 1\n",
            "32 - AverageValueNaive with avg smape 35.58: \n",
            "Model Number: 33 of 184 with model UnivariateMotif for Validation 1\n",
            "33 - UnivariateMotif with avg smape 44.91: \n",
            "Model Number: 34 of 184 with model UnivariateMotif for Validation 1\n"
          ]
        },
        {
          "output_type": "stream",
          "name": "stderr",
          "text": [
            "INFO:prophet:Disabling yearly seasonality. Run prophet with yearly_seasonality=True to override this.\n",
            "INFO:prophet:Disabling daily seasonality. Run prophet with daily_seasonality=True to override this.\n"
          ]
        },
        {
          "output_type": "stream",
          "name": "stdout",
          "text": [
            "34 - UnivariateMotif with avg smape 44.91: \n",
            "Model Number: 35 of 184 with model FBProphet for Validation 1\n"
          ]
        },
        {
          "output_type": "stream",
          "name": "stderr",
          "text": [
            "DEBUG:cmdstanpy:input tempfile: /tmp/tmp7syr8mce/di7wh4sn.json\n",
            "DEBUG:cmdstanpy:input tempfile: /tmp/tmp7syr8mce/rrg_7y91.json\n",
            "DEBUG:cmdstanpy:idx 0\n",
            "DEBUG:cmdstanpy:running CmdStan, num_threads: None\n",
            "DEBUG:cmdstanpy:CmdStan args: ['/usr/local/lib/python3.8/dist-packages/prophet/stan_model/prophet_model.bin', 'random', 'seed=15810', 'data', 'file=/tmp/tmp7syr8mce/di7wh4sn.json', 'init=/tmp/tmp7syr8mce/rrg_7y91.json', 'output', 'file=/tmp/tmp7syr8mce/prophet_modelug2_jusr/prophet_model-20230123225949.csv', 'method=optimize', 'algorithm=lbfgs', 'iter=10000']\n",
            "22:59:49 - cmdstanpy - INFO - Chain [1] start processing\n",
            "INFO:cmdstanpy:Chain [1] start processing\n",
            "22:59:49 - cmdstanpy - INFO - Chain [1] done processing\n",
            "INFO:cmdstanpy:Chain [1] done processing\n"
          ]
        },
        {
          "output_type": "stream",
          "name": "stdout",
          "text": [
            "35 - FBProphet with avg smape 42.89: \n",
            "Model Number: 36 of 184 with model MetricMotif for Validation 1\n",
            "36 - MetricMotif with avg smape 36.01: \n",
            "Model Number: 37 of 184 with model SectionalMotif for Validation 1\n",
            "37 - SectionalMotif with avg smape 36.45: \n",
            "Model Number: 38 of 184 with model AverageValueNaive for Validation 1\n",
            "38 - AverageValueNaive with avg smape 36.9: \n",
            "Model Number: 39 of 184 with model AverageValueNaive for Validation 1\n",
            "39 - AverageValueNaive with avg smape 36.9: \n",
            "Model Number: 40 of 184 with model AverageValueNaive for Validation 1\n",
            "40 - AverageValueNaive with avg smape 36.9: \n",
            "Model Number: 41 of 184 with model AverageValueNaive for Validation 1\n",
            "41 - AverageValueNaive with avg smape 36.9: \n",
            "Model Number: 42 of 184 with model FBProphet for Validation 1\n"
          ]
        },
        {
          "output_type": "stream",
          "name": "stderr",
          "text": [
            "INFO:prophet:Disabling yearly seasonality. Run prophet with yearly_seasonality=True to override this.\n",
            "INFO:prophet:Disabling daily seasonality. Run prophet with daily_seasonality=True to override this.\n",
            "DEBUG:cmdstanpy:input tempfile: /tmp/tmp7syr8mce/xoy02ly7.json\n",
            "DEBUG:cmdstanpy:input tempfile: /tmp/tmp7syr8mce/ucluqqua.json\n",
            "DEBUG:cmdstanpy:idx 0\n",
            "DEBUG:cmdstanpy:running CmdStan, num_threads: None\n",
            "DEBUG:cmdstanpy:CmdStan args: ['/usr/local/lib/python3.8/dist-packages/prophet/stan_model/prophet_model.bin', 'random', 'seed=53824', 'data', 'file=/tmp/tmp7syr8mce/xoy02ly7.json', 'init=/tmp/tmp7syr8mce/ucluqqua.json', 'output', 'file=/tmp/tmp7syr8mce/prophet_modelczkbj4ro/prophet_model-20230123225950.csv', 'method=optimize', 'algorithm=lbfgs', 'iter=10000']\n",
            "22:59:50 - cmdstanpy - INFO - Chain [1] start processing\n",
            "INFO:cmdstanpy:Chain [1] start processing\n",
            "22:59:51 - cmdstanpy - INFO - Chain [1] done processing\n",
            "INFO:cmdstanpy:Chain [1] done processing\n",
            "INFO:prophet:Disabling yearly seasonality. Run prophet with yearly_seasonality=True to override this.\n",
            "INFO:prophet:Disabling daily seasonality. Run prophet with daily_seasonality=True to override this.\n",
            "DEBUG:cmdstanpy:input tempfile: /tmp/tmp7syr8mce/g_wd3y7h.json\n",
            "DEBUG:cmdstanpy:input tempfile: /tmp/tmp7syr8mce/jbjn4fpx.json\n",
            "DEBUG:cmdstanpy:idx 0\n",
            "DEBUG:cmdstanpy:running CmdStan, num_threads: None\n",
            "DEBUG:cmdstanpy:CmdStan args: ['/usr/local/lib/python3.8/dist-packages/prophet/stan_model/prophet_model.bin', 'random', 'seed=45813', 'data', 'file=/tmp/tmp7syr8mce/g_wd3y7h.json', 'init=/tmp/tmp7syr8mce/jbjn4fpx.json', 'output', 'file=/tmp/tmp7syr8mce/prophet_modeltxzl6w69/prophet_model-20230123225952.csv', 'method=optimize', 'algorithm=lbfgs', 'iter=10000']\n",
            "22:59:52 - cmdstanpy - INFO - Chain [1] start processing\n",
            "INFO:cmdstanpy:Chain [1] start processing\n"
          ]
        },
        {
          "output_type": "stream",
          "name": "stdout",
          "text": [
            "42 - FBProphet with avg smape 42.56: \n",
            "Model Number: 43 of 184 with model FBProphet for Validation 1\n"
          ]
        },
        {
          "output_type": "stream",
          "name": "stderr",
          "text": [
            "22:59:52 - cmdstanpy - INFO - Chain [1] done processing\n",
            "INFO:cmdstanpy:Chain [1] done processing\n",
            "INFO:prophet:Disabling yearly seasonality. Run prophet with yearly_seasonality=True to override this.\n",
            "INFO:prophet:Disabling daily seasonality. Run prophet with daily_seasonality=True to override this.\n",
            "DEBUG:cmdstanpy:input tempfile: /tmp/tmp7syr8mce/z2i9e7z4.json\n",
            "DEBUG:cmdstanpy:input tempfile: /tmp/tmp7syr8mce/llb9tpto.json\n",
            "DEBUG:cmdstanpy:idx 0\n",
            "DEBUG:cmdstanpy:running CmdStan, num_threads: None\n",
            "DEBUG:cmdstanpy:CmdStan args: ['/usr/local/lib/python3.8/dist-packages/prophet/stan_model/prophet_model.bin', 'random', 'seed=53305', 'data', 'file=/tmp/tmp7syr8mce/z2i9e7z4.json', 'init=/tmp/tmp7syr8mce/llb9tpto.json', 'output', 'file=/tmp/tmp7syr8mce/prophet_modelqfuet1zk/prophet_model-20230123225953.csv', 'method=optimize', 'algorithm=lbfgs', 'iter=10000']\n",
            "22:59:53 - cmdstanpy - INFO - Chain [1] start processing\n",
            "INFO:cmdstanpy:Chain [1] start processing\n"
          ]
        },
        {
          "output_type": "stream",
          "name": "stdout",
          "text": [
            "43 - FBProphet with avg smape 42.59: \n",
            "Model Number: 44 of 184 with model FBProphet for Validation 1\n"
          ]
        },
        {
          "output_type": "stream",
          "name": "stderr",
          "text": [
            "22:59:54 - cmdstanpy - INFO - Chain [1] done processing\n",
            "INFO:cmdstanpy:Chain [1] done processing\n"
          ]
        },
        {
          "output_type": "stream",
          "name": "stdout",
          "text": [
            "44 - FBProphet with avg smape 45.6: \n",
            "Model Number: 45 of 184 with model MetricMotif for Validation 1\n",
            "45 - MetricMotif with avg smape 39.06: \n",
            "Model Number: 46 of 184 with model Theta for Validation 1\n",
            "46 - Theta with avg smape 38.02: \n",
            "Model Number: 47 of 184 with model MultivariateMotif for Validation 1\n",
            "📈 47 - MultivariateMotif with avg smape 31.44: \n",
            "Model Number: 48 of 184 with model ARIMA for Validation 1\n",
            "48 - ARIMA with avg smape 39.8: \n",
            "Model Number: 49 of 184 with model Ensemble for Validation 1\n",
            "49 - Ensemble with avg smape 40.36: \n",
            "Model Number: 50 of 184 with model UnivariateMotif for Validation 1\n",
            "50 - UnivariateMotif with avg smape 31.89: \n",
            "Model Number: 51 of 184 with model SectionalMotif for Validation 1\n",
            "51 - SectionalMotif with avg smape 40.98: \n",
            "Model Number: 52 of 184 with model MultivariateMotif for Validation 1\n",
            "52 - MultivariateMotif with avg smape 31.57: \n",
            "Model Number: 53 of 184 with model ARIMA for Validation 1\n",
            "53 - ARIMA with avg smape 39.22: \n",
            "Model Number: 54 of 184 with model SectionalMotif for Validation 1\n",
            "54 - SectionalMotif with avg smape 34.93: \n",
            "Model Number: 55 of 184 with model UnivariateMotif for Validation 1\n",
            "55 - UnivariateMotif with avg smape 31.63: \n",
            "Model Number: 56 of 184 with model UnivariateMotif for Validation 1\n",
            "56 - UnivariateMotif with avg smape 31.63: \n",
            "Model Number: 57 of 184 with model ARIMA for Validation 1\n",
            "57 - ARIMA with avg smape 37.63: \n",
            "Model Number: 58 of 184 with model ARIMA for Validation 1\n",
            "58 - ARIMA with avg smape 38.58: \n",
            "Model Number: 59 of 184 with model MultivariateMotif for Validation 1\n",
            "59 - MultivariateMotif with avg smape 41.99: \n",
            "Model Number: 60 of 184 with model MultivariateMotif for Validation 1\n",
            "60 - MultivariateMotif with avg smape 41.99: \n",
            "Model Number: 61 of 184 with model MetricMotif for Validation 1\n",
            "61 - MetricMotif with avg smape 64.47: \n",
            "Model Number: 62 of 184 with model MetricMotif for Validation 1\n",
            "62 - MetricMotif with avg smape 34.55: \n",
            "Model Number: 63 of 184 with model MetricMotif for Validation 1\n",
            "63 - MetricMotif with avg smape 36.61: \n",
            "Model Number: 64 of 184 with model ARIMA for Validation 1\n"
          ]
        },
        {
          "output_type": "stream",
          "name": "stderr",
          "text": [
            "INFO:prophet:Disabling yearly seasonality. Run prophet with yearly_seasonality=True to override this.\n",
            "INFO:prophet:Disabling daily seasonality. Run prophet with daily_seasonality=True to override this.\n",
            "DEBUG:cmdstanpy:input tempfile: /tmp/tmp7syr8mce/yz565xuy.json\n",
            "DEBUG:cmdstanpy:input tempfile: /tmp/tmp7syr8mce/ojrf5qqy.json\n",
            "DEBUG:cmdstanpy:idx 0\n",
            "DEBUG:cmdstanpy:running CmdStan, num_threads: None\n",
            "DEBUG:cmdstanpy:CmdStan args: ['/usr/local/lib/python3.8/dist-packages/prophet/stan_model/prophet_model.bin', 'random', 'seed=51506', 'data', 'file=/tmp/tmp7syr8mce/yz565xuy.json', 'init=/tmp/tmp7syr8mce/ojrf5qqy.json', 'output', 'file=/tmp/tmp7syr8mce/prophet_modeli2k0qlly/prophet_model-20230123230019.csv', 'method=optimize', 'algorithm=lbfgs', 'iter=10000']\n",
            "23:00:19 - cmdstanpy - INFO - Chain [1] start processing\n",
            "INFO:cmdstanpy:Chain [1] start processing\n"
          ]
        },
        {
          "output_type": "stream",
          "name": "stdout",
          "text": [
            "64 - ARIMA with avg smape 32.41: \n",
            "Model Number: 65 of 184 with model FBProphet for Validation 1\n"
          ]
        },
        {
          "output_type": "stream",
          "name": "stderr",
          "text": [
            "23:00:19 - cmdstanpy - INFO - Chain [1] done processing\n",
            "INFO:cmdstanpy:Chain [1] done processing\n",
            "INFO:prophet:Disabling yearly seasonality. Run prophet with yearly_seasonality=True to override this.\n",
            "INFO:prophet:Disabling daily seasonality. Run prophet with daily_seasonality=True to override this.\n",
            "DEBUG:cmdstanpy:input tempfile: /tmp/tmp7syr8mce/28nrcu3t.json\n"
          ]
        },
        {
          "output_type": "stream",
          "name": "stdout",
          "text": [
            "65 - FBProphet with avg smape 43.89: \n",
            "Model Number: 66 of 184 with model FBProphet for Validation 1\n"
          ]
        },
        {
          "output_type": "stream",
          "name": "stderr",
          "text": [
            "DEBUG:cmdstanpy:input tempfile: /tmp/tmp7syr8mce/55b7krmu.json\n",
            "DEBUG:cmdstanpy:idx 0\n",
            "DEBUG:cmdstanpy:running CmdStan, num_threads: None\n",
            "DEBUG:cmdstanpy:CmdStan args: ['/usr/local/lib/python3.8/dist-packages/prophet/stan_model/prophet_model.bin', 'random', 'seed=68584', 'data', 'file=/tmp/tmp7syr8mce/28nrcu3t.json', 'init=/tmp/tmp7syr8mce/55b7krmu.json', 'output', 'file=/tmp/tmp7syr8mce/prophet_modela95svt08/prophet_model-20230123230020.csv', 'method=optimize', 'algorithm=lbfgs', 'iter=10000']\n",
            "23:00:20 - cmdstanpy - INFO - Chain [1] start processing\n",
            "INFO:cmdstanpy:Chain [1] start processing\n",
            "23:00:21 - cmdstanpy - INFO - Chain [1] done processing\n",
            "INFO:cmdstanpy:Chain [1] done processing\n"
          ]
        },
        {
          "output_type": "stream",
          "name": "stdout",
          "text": [
            "66 - FBProphet with avg smape 43.68: \n",
            "Model Number: 67 of 184 with model Theta for Validation 1\n",
            "67 - Theta with avg smape 38.42: \n",
            "Model Number: 68 of 184 with model UnobservedComponents for Validation 1\n",
            "68 - UnobservedComponents with avg smape 41.49: \n",
            "Model Number: 69 of 184 with model MultivariateMotif for Validation 1\n",
            "69 - MultivariateMotif with avg smape 43.86: \n",
            "Model Number: 70 of 184 with model MultivariateMotif for Validation 1\n",
            "70 - MultivariateMotif with avg smape 43.86: \n",
            "Model Number: 71 of 184 with model MetricMotif for Validation 1\n",
            "71 - MetricMotif with avg smape 41.89: \n",
            "Model Number: 72 of 184 with model MetricMotif for Validation 1\n",
            "72 - MetricMotif with avg smape 35.33: \n",
            "Model Number: 73 of 184 with model SectionalMotif for Validation 1\n",
            "73 - SectionalMotif with avg smape 46.38: \n",
            "Model Number: 74 of 184 with model SectionalMotif for Validation 1\n",
            "74 - SectionalMotif with avg smape 42.78: \n",
            "Model Number: 75 of 184 with model GLS for Validation 1\n",
            "75 - GLS with avg smape 37.89: \n",
            "Model Number: 76 of 184 with model SectionalMotif for Validation 1\n",
            "76 - SectionalMotif with avg smape 38.12: \n",
            "Model Number: 77 of 184 with model MultivariateRegression for Validation 1\n",
            "77 - MultivariateRegression with avg smape 39.08: \n",
            "Model Number: 78 of 184 with model MultivariateRegression for Validation 1\n",
            "78 - MultivariateRegression with avg smape 39.08: \n",
            "Model Number: 79 of 184 with model MultivariateMotif for Validation 1\n",
            "79 - MultivariateMotif with avg smape 36.28: \n",
            "Model Number: 80 of 184 with model ARIMA for Validation 1\n",
            "80 - ARIMA with avg smape 35.52: \n",
            "Model Number: 81 of 184 with model SectionalMotif for Validation 1\n",
            "81 - SectionalMotif with avg smape 33.71: \n",
            "Model Number: 82 of 184 with model ARIMA for Validation 1\n",
            "82 - ARIMA with avg smape 35.29: \n",
            "Model Number: 83 of 184 with model ARIMA for Validation 1\n",
            "83 - ARIMA with avg smape 33.83: \n",
            "Model Number: 84 of 184 with model ARIMA for Validation 1\n",
            "84 - ARIMA with avg smape 36.23: \n",
            "Model Number: 85 of 184 with model MultivariateRegression for Validation 1\n",
            "85 - MultivariateRegression with avg smape 39.73: \n",
            "Model Number: 86 of 184 with model MultivariateRegression for Validation 1\n",
            "86 - MultivariateRegression with avg smape 39.73: \n",
            "Model Number: 87 of 184 with model MultivariateRegression for Validation 1\n",
            "87 - MultivariateRegression with avg smape 61.31: \n",
            "Model Number: 88 of 184 with model MultivariateRegression for Validation 1\n",
            "88 - MultivariateRegression with avg smape 39.73: \n",
            "Model Number: 89 of 184 with model MultivariateRegression for Validation 1\n",
            "89 - MultivariateRegression with avg smape 39.73: \n",
            "Model Number: 90 of 184 with model SectionalMotif for Validation 1\n",
            "90 - SectionalMotif with avg smape 41.49: \n",
            "Model Number: 91 of 184 with model SectionalMotif for Validation 1\n",
            "91 - SectionalMotif with avg smape 33.65: \n",
            "Model Number: 92 of 184 with model NVAR for Validation 1\n",
            "92 - NVAR with avg smape 37.33: \n",
            "Model Number: 93 of 184 with model MultivariateRegression for Validation 1\n",
            "93 - MultivariateRegression with avg smape 37.4: \n",
            "Model Number: 94 of 184 with model MultivariateRegression for Validation 1\n",
            "94 - MultivariateRegression with avg smape 37.4: \n",
            "Model Number: 95 of 184 with model NVAR for Validation 1\n",
            "95 - NVAR with avg smape 36.05: \n",
            "Model Number: 96 of 184 with model ETS for Validation 1\n",
            "96 - ETS with avg smape 37.3: \n",
            "Model Number: 97 of 184 with model ETS for Validation 1\n",
            "97 - ETS with avg smape 38.21: \n",
            "Model Number: 98 of 184 with model ETS for Validation 1\n",
            "98 - ETS with avg smape 38.92: \n",
            "Model Number: 99 of 184 with model NVAR for Validation 1\n",
            "99 - NVAR with avg smape 53.59: \n",
            "Model Number: 100 of 184 with model NVAR for Validation 1\n",
            "100 - NVAR with avg smape 39.41: \n",
            "Model Number: 101 of 184 with model NVAR for Validation 1\n",
            "101 - NVAR with avg smape 36.53: \n",
            "Model Number: 102 of 184 with model NVAR for Validation 1\n",
            "102 - NVAR with avg smape 36.14: \n",
            "Model Number: 103 of 184 with model UnobservedComponents for Validation 1\n",
            "103 - UnobservedComponents with avg smape 40.83: \n",
            "Model Number: 104 of 184 with model UnobservedComponents for Validation 1\n",
            "104 - UnobservedComponents with avg smape 37.18: \n",
            "Model Number: 105 of 184 with model NVAR for Validation 1\n",
            "105 - NVAR with avg smape 39.57: \n",
            "Model Number: 106 of 184 with model NVAR for Validation 1\n",
            "106 - NVAR with avg smape 37.7: \n",
            "Model Number: 107 of 184 with model ConstantNaive for Validation 1\n",
            "107 - ConstantNaive with avg smape 38.01: \n",
            "Model Number: 108 of 184 with model NVAR for Validation 1\n",
            "108 - NVAR with avg smape 43.46: \n",
            "Model Number: 109 of 184 with model UnobservedComponents for Validation 1\n",
            "109 - UnobservedComponents with avg smape 38.34: \n",
            "Model Number: 110 of 184 with model UnobservedComponents for Validation 1\n",
            "110 - UnobservedComponents with avg smape 37.78: \n",
            "Model Number: 111 of 184 with model ConstantNaive for Validation 1\n",
            "111 - ConstantNaive with avg smape 36.14: \n",
            "Model Number: 112 of 184 with model UnobservedComponents for Validation 1\n",
            "112 - UnobservedComponents with avg smape 37.02: \n",
            "Model Number: 113 of 184 with model UnobservedComponents for Validation 1\n",
            "113 - UnobservedComponents with avg smape 38.17: \n",
            "Model Number: 114 of 184 with model ConstantNaive for Validation 1\n",
            "114 - ConstantNaive with avg smape 38.0: \n",
            "Model Number: 115 of 184 with model ConstantNaive for Validation 1\n",
            "115 - ConstantNaive with avg smape 38.01: \n",
            "Model Number: 116 of 184 with model ETS for Validation 1\n",
            "116 - ETS with avg smape 43.32: \n",
            "Model Number: 117 of 184 with model ConstantNaive for Validation 1\n",
            "117 - ConstantNaive with avg smape 38.01: \n",
            "Model Number: 118 of 184 with model ConstantNaive for Validation 1\n",
            "118 - ConstantNaive with avg smape 38.01: \n",
            "Model Number: 119 of 184 with model ConstantNaive for Validation 1\n",
            "119 - ConstantNaive with avg smape 38.01: \n",
            "Model Number: 120 of 184 with model ConstantNaive for Validation 1\n",
            "120 - ConstantNaive with avg smape 38.03: \n",
            "Model Number: 121 of 184 with model ETS for Validation 1\n",
            "121 - ETS with avg smape 37.67: \n",
            "Model Number: 122 of 184 with model ETS for Validation 1\n",
            "122 - ETS with avg smape 37.67: \n",
            "Model Number: 123 of 184 with model ConstantNaive for Validation 1\n",
            "123 - ConstantNaive with avg smape 38.03: \n",
            "Model Number: 124 of 184 with model UnobservedComponents for Validation 1\n",
            "124 - UnobservedComponents with avg smape 39.94: \n",
            "Model Number: 125 of 184 with model UnobservedComponents for Validation 1\n",
            "125 - UnobservedComponents with avg smape 36.49: \n",
            "Model Number: 126 of 184 with model ETS for Validation 1\n",
            "126 - ETS with avg smape 36.67: \n",
            "Model Number: 127 of 184 with model ETS for Validation 1\n",
            "127 - ETS with avg smape 36.7: \n",
            "Model Number: 128 of 184 with model WindowRegression for Validation 1\n",
            "128 - WindowRegression with avg smape 40.37: \n",
            "Model Number: 129 of 184 with model WindowRegression for Validation 1\n",
            "129 - WindowRegression with avg smape 44.65: \n",
            "Model Number: 130 of 184 with model GLS for Validation 1\n",
            "130 - GLS with avg smape 41.32: \n",
            "Model Number: 131 of 184 with model SeasonalNaive for Validation 1\n",
            "131 - SeasonalNaive with avg smape 45.6: \n",
            "Model Number: 132 of 184 with model WindowRegression for Validation 1\n",
            "132 - WindowRegression with avg smape 46.19: \n",
            "Model Number: 133 of 184 with model ETS for Validation 1\n",
            "133 - ETS with avg smape 32.54: \n",
            "Model Number: 134 of 184 with model SeasonalNaive for Validation 1\n",
            "134 - SeasonalNaive with avg smape 43.38: \n",
            "Model Number: 135 of 184 with model SeasonalNaive for Validation 1\n",
            "135 - SeasonalNaive with avg smape 43.38: \n",
            "Model Number: 136 of 184 with model SeasonalNaive for Validation 1\n",
            "136 - SeasonalNaive with avg smape 39.6: \n",
            "Model Number: 137 of 184 with model WindowRegression for Validation 1\n",
            "137 - WindowRegression with avg smape 35.29: \n",
            "Model Number: 138 of 184 with model SeasonalNaive for Validation 1\n",
            "138 - SeasonalNaive with avg smape 52.87: \n",
            "Model Number: 139 of 184 with model SeasonalNaive for Validation 1\n",
            "139 - SeasonalNaive with avg smape 72.19: \n",
            "Model Number: 140 of 184 with model WindowRegression for Validation 1\n",
            "140 - WindowRegression with avg smape 47.23: \n",
            "Model Number: 141 of 184 with model SeasonalNaive for Validation 1\n",
            "141 - SeasonalNaive with avg smape 39.72: \n",
            "Model Number: 142 of 184 with model SeasonalNaive for Validation 1\n",
            "142 - SeasonalNaive with avg smape 35.2: \n",
            "Model Number: 143 of 184 with model SeasonalNaive for Validation 1\n",
            "143 - SeasonalNaive with avg smape 35.31: \n",
            "Model Number: 144 of 184 with model WindowRegression for Validation 1\n",
            "144 - WindowRegression with avg smape 45.5: \n",
            "Model Number: 145 of 184 with model UnivariateRegression for Validation 1\n",
            "145 - UnivariateRegression with avg smape 40.97: \n",
            "Model Number: 146 of 184 with model WindowRegression for Validation 1\n",
            "146 - WindowRegression with avg smape 42.95: \n",
            "Model Number: 147 of 184 with model WindowRegression for Validation 1\n",
            "147 - WindowRegression with avg smape 42.95: \n",
            "Model Number: 148 of 184 with model WindowRegression for Validation 1\n",
            "148 - WindowRegression with avg smape 43.78: \n",
            "Model Number: 149 of 184 with model Theta for Validation 1\n",
            "149 - Theta with avg smape 41.33: \n",
            "Model Number: 150 of 184 with model DatepartRegression for Validation 1\n",
            "150 - DatepartRegression with avg smape 34.26: \n",
            "Model Number: 151 of 184 with model GLS for Validation 1\n",
            "151 - GLS with avg smape 41.53: \n",
            "Model Number: 152 of 184 with model GLS for Validation 1\n",
            "152 - GLS with avg smape 41.23: \n",
            "Model Number: 153 of 184 with model Theta for Validation 1\n"
          ]
        },
        {
          "output_type": "stream",
          "name": "stderr",
          "text": [
            "/usr/local/lib/python3.8/dist-packages/autots/tools/probabilistic.py:67: RuntimeWarning:\n",
            "\n",
            "invalid value encountered in true_divide\n",
            "\n",
            "/usr/local/lib/python3.8/dist-packages/autots/tools/probabilistic.py:68: RuntimeWarning:\n",
            "\n",
            "divide by zero encountered in true_divide\n",
            "\n"
          ]
        },
        {
          "output_type": "stream",
          "name": "stdout",
          "text": [
            "153 - Theta with avg smape 41.18: \n",
            "Model Number: 154 of 184 with model GLM for Validation 1\n",
            "154 - GLM with avg smape 33.39: \n",
            "Model Number: 155 of 184 with model Theta for Validation 1\n",
            "155 - Theta with avg smape 38.17: \n",
            "Model Number: 156 of 184 with model DatepartRegression for Validation 1\n"
          ]
        },
        {
          "output_type": "stream",
          "name": "stderr",
          "text": [
            "/usr/local/lib/python3.8/dist-packages/sklearn/neural_network/_multilayer_perceptron.py:549: ConvergenceWarning:\n",
            "\n",
            "lbfgs failed to converge (status=1):\n",
            "STOP: TOTAL NO. of ITERATIONS REACHED LIMIT.\n",
            "\n",
            "Increase the number of iterations (max_iter) or scale the data as shown in:\n",
            "    https://scikit-learn.org/stable/modules/preprocessing.html\n",
            "\n"
          ]
        },
        {
          "output_type": "stream",
          "name": "stdout",
          "text": [
            "156 - DatepartRegression with avg smape 38.8: \n",
            "Model Number: 157 of 184 with model Theta for Validation 1\n",
            "157 - Theta with avg smape 51.62: \n",
            "Model Number: 158 of 184 with model DatepartRegression for Validation 1\n"
          ]
        },
        {
          "output_type": "stream",
          "name": "stderr",
          "text": [
            "/usr/local/lib/python3.8/dist-packages/sklearn/neural_network/_multilayer_perceptron.py:549: ConvergenceWarning:\n",
            "\n",
            "lbfgs failed to converge (status=1):\n",
            "STOP: TOTAL NO. of ITERATIONS REACHED LIMIT.\n",
            "\n",
            "Increase the number of iterations (max_iter) or scale the data as shown in:\n",
            "    https://scikit-learn.org/stable/modules/preprocessing.html\n",
            "\n"
          ]
        },
        {
          "output_type": "stream",
          "name": "stdout",
          "text": [
            "158 - DatepartRegression with avg smape 40.48: \n",
            "Model Number: 159 of 184 with model DatepartRegression for Validation 1\n"
          ]
        },
        {
          "output_type": "stream",
          "name": "stderr",
          "text": [
            "/usr/local/lib/python3.8/dist-packages/sklearn/neural_network/_multilayer_perceptron.py:549: ConvergenceWarning:\n",
            "\n",
            "lbfgs failed to converge (status=1):\n",
            "STOP: TOTAL NO. of ITERATIONS REACHED LIMIT.\n",
            "\n",
            "Increase the number of iterations (max_iter) or scale the data as shown in:\n",
            "    https://scikit-learn.org/stable/modules/preprocessing.html\n",
            "\n"
          ]
        },
        {
          "output_type": "stream",
          "name": "stdout",
          "text": [
            "159 - DatepartRegression with avg smape 41.15: \n",
            "Model Number: 160 of 184 with model GLM for Validation 1\n"
          ]
        },
        {
          "output_type": "stream",
          "name": "stderr",
          "text": [
            "/usr/local/lib/python3.8/dist-packages/statsmodels/genmod/families/links.py:188: RuntimeWarning:\n",
            "\n",
            "overflow encountered in exp\n",
            "\n"
          ]
        },
        {
          "output_type": "stream",
          "name": "stdout",
          "text": [
            "160 - GLM with avg smape 41.61: \n",
            "Model Number: 161 of 184 with model GLM for Validation 1\n"
          ]
        },
        {
          "output_type": "stream",
          "name": "stderr",
          "text": [
            "/usr/local/lib/python3.8/dist-packages/statsmodels/genmod/families/links.py:188: RuntimeWarning:\n",
            "\n",
            "overflow encountered in exp\n",
            "\n"
          ]
        },
        {
          "output_type": "stream",
          "name": "stdout",
          "text": [
            "161 - GLM with avg smape 41.61: \n",
            "Model Number: 162 of 184 with model Theta for Validation 1\n",
            "162 - Theta with avg smape 54.89: \n",
            "Model Number: 163 of 184 with model GLS for Validation 1\n",
            "163 - GLS with avg smape 50.12: \n",
            "Model Number: 164 of 184 with model GLS for Validation 1\n",
            "164 - GLS with avg smape 38.99: \n",
            "Model Number: 165 of 184 with model GLS for Validation 1\n",
            "165 - GLS with avg smape 36.66: \n",
            "Model Number: 166 of 184 with model GLM for Validation 1\n",
            "166 - GLM with avg smape 41.54: \n",
            "Model Number: 167 of 184 with model UnivariateRegression for Validation 1\n",
            "167 - UnivariateRegression with avg smape 46.34: \n",
            "Model Number: 168 of 184 with model GLS for Validation 1\n",
            "168 - GLS with avg smape 37.63: \n",
            "Model Number: 169 of 184 with model Theta for Validation 1\n",
            "169 - Theta with avg smape 44.26: \n",
            "Model Number: 170 of 184 with model Theta for Validation 1\n",
            "170 - Theta with avg smape 38.52: \n",
            "Model Number: 171 of 184 with model DatepartRegression for Validation 1\n"
          ]
        },
        {
          "output_type": "stream",
          "name": "stderr",
          "text": [
            "/usr/local/lib/python3.8/dist-packages/sklearn/neural_network/_multilayer_perceptron.py:549: ConvergenceWarning:\n",
            "\n",
            "lbfgs failed to converge (status=1):\n",
            "STOP: TOTAL NO. of ITERATIONS REACHED LIMIT.\n",
            "\n",
            "Increase the number of iterations (max_iter) or scale the data as shown in:\n",
            "    https://scikit-learn.org/stable/modules/preprocessing.html\n",
            "\n"
          ]
        },
        {
          "output_type": "stream",
          "name": "stdout",
          "text": [
            "171 - DatepartRegression with avg smape 36.47: \n",
            "Model Number: 172 of 184 with model DatepartRegression for Validation 1\n"
          ]
        },
        {
          "output_type": "stream",
          "name": "stderr",
          "text": [
            "/usr/local/lib/python3.8/dist-packages/sklearn/neural_network/_multilayer_perceptron.py:549: ConvergenceWarning:\n",
            "\n",
            "lbfgs failed to converge (status=1):\n",
            "STOP: TOTAL NO. of ITERATIONS REACHED LIMIT.\n",
            "\n",
            "Increase the number of iterations (max_iter) or scale the data as shown in:\n",
            "    https://scikit-learn.org/stable/modules/preprocessing.html\n",
            "\n"
          ]
        },
        {
          "output_type": "stream",
          "name": "stdout",
          "text": [
            "172 - DatepartRegression with avg smape 40.97: \n",
            "Model Number: 173 of 184 with model GLM for Validation 1\n"
          ]
        },
        {
          "output_type": "stream",
          "name": "stderr",
          "text": [
            "/usr/local/lib/python3.8/dist-packages/statsmodels/genmod/families/links.py:188: RuntimeWarning:\n",
            "\n",
            "overflow encountered in exp\n",
            "\n"
          ]
        },
        {
          "output_type": "stream",
          "name": "stdout",
          "text": [
            "173 - GLM with avg smape 38.21: \n",
            "Model Number: 174 of 184 with model DatepartRegression for Validation 1\n"
          ]
        },
        {
          "output_type": "stream",
          "name": "stderr",
          "text": [
            "/usr/local/lib/python3.8/dist-packages/sklearn/neural_network/_multilayer_perceptron.py:549: ConvergenceWarning:\n",
            "\n",
            "lbfgs failed to converge (status=1):\n",
            "STOP: TOTAL NO. of ITERATIONS REACHED LIMIT.\n",
            "\n",
            "Increase the number of iterations (max_iter) or scale the data as shown in:\n",
            "    https://scikit-learn.org/stable/modules/preprocessing.html\n",
            "\n"
          ]
        },
        {
          "output_type": "stream",
          "name": "stdout",
          "text": [
            "174 - DatepartRegression with avg smape 41.07: \n",
            "Model Number: 175 of 184 with model GLS for Validation 1\n",
            "175 - GLS with avg smape 53.76: \n",
            "Model Number: 176 of 184 with model DatepartRegression for Validation 1\n",
            "176 - DatepartRegression with avg smape 45.65: \n",
            "Model Number: 177 of 184 with model DatepartRegression for Validation 1\n"
          ]
        },
        {
          "output_type": "stream",
          "name": "stderr",
          "text": [
            "[Parallel(n_jobs=-2)]: Using backend SequentialBackend with 1 concurrent workers.\n",
            "[Parallel(n_jobs=-2)]: Done 100 out of 100 | elapsed:    0.3s finished\n",
            "[Parallel(n_jobs=1)]: Using backend SequentialBackend with 1 concurrent workers.\n",
            "[Parallel(n_jobs=1)]: Done 100 out of 100 | elapsed:    0.0s finished\n"
          ]
        },
        {
          "output_type": "stream",
          "name": "stdout",
          "text": [
            "177 - DatepartRegression with avg smape 39.43: \n",
            "Model Number: 178 of 184 with model GLM for Validation 1\n"
          ]
        },
        {
          "output_type": "stream",
          "name": "stderr",
          "text": [
            "/usr/local/lib/python3.8/dist-packages/statsmodels/genmod/families/links.py:188: RuntimeWarning:\n",
            "\n",
            "overflow encountered in exp\n",
            "\n"
          ]
        },
        {
          "output_type": "stream",
          "name": "stdout",
          "text": [
            "178 - GLM with avg smape 38.21: \n",
            "Model Number: 179 of 184 with model GLM for Validation 1\n",
            "179 - GLM with avg smape 53.84: \n",
            "Model Number: 180 of 184 with model GLM for Validation 1\n",
            "180 - GLM with avg smape 52.6: \n",
            "Model Number: 181 of 184 with model GLM for Validation 1\n"
          ]
        },
        {
          "output_type": "stream",
          "name": "stderr",
          "text": [
            "/usr/local/lib/python3.8/dist-packages/statsmodels/genmod/generalized_linear_model.py:293: DomainWarning:\n",
            "\n",
            "The inverse_power link function does not respect the domain of the Gamma family.\n",
            "\n"
          ]
        },
        {
          "output_type": "stream",
          "name": "stdout",
          "text": [
            "181 - GLM with avg smape 36.66: \n",
            "Model Number: 182 of 184 with model UnivariateRegression for Validation 1\n",
            "182 - UnivariateRegression with avg smape 38.75: \n",
            "Model Number: 183 of 184 with model UnivariateRegression for Validation 1\n",
            "183 - UnivariateRegression with avg smape 69.9: \n",
            "Model Number: 184 of 184 with model UnivariateRegression for Validation 1\n"
          ]
        },
        {
          "output_type": "stream",
          "name": "stderr",
          "text": [
            "/usr/local/lib/python3.8/dist-packages/sklearn/linear_model/_ridge.py:157: LinAlgWarning:\n",
            "\n",
            "Ill-conditioned matrix (rcond=1.40754e-19): result may not be accurate.\n",
            "\n"
          ]
        },
        {
          "output_type": "stream",
          "name": "stdout",
          "text": [
            "184 - UnivariateRegression with avg smape 41.17: \n",
            "Validation Round: 2\n",
            "Model Number: 1 of 184 with model Ensemble for Validation 2\n",
            "📈 1 - Ensemble with avg smape 84.27: \n",
            "Model Number: 2 of 184 with model Ensemble for Validation 2\n",
            "2 - Ensemble with avg smape 89.38: \n",
            "Model Number: 3 of 184 with model Ensemble for Validation 2\n",
            "3 - Ensemble with avg smape 90.59: \n",
            "Model Number: 4 of 184 with model Ensemble for Validation 2\n",
            "4 - Ensemble with avg smape 90.59: \n",
            "Model Number: 5 of 184 with model Ensemble for Validation 2\n",
            "5 - Ensemble with avg smape 91.31: \n",
            "Model Number: 6 of 184 with model MultivariateMotif for Validation 2\n",
            "6 - MultivariateMotif with avg smape 104.53: \n",
            "Model Number: 7 of 184 with model Ensemble for Validation 2\n",
            "7 - Ensemble with avg smape 103.92: \n",
            "Model Number: 8 of 184 with model Ensemble for Validation 2\n",
            "8 - Ensemble with avg smape 104.71: \n",
            "Model Number: 9 of 184 with model UnivariateMotif for Validation 2\n",
            "9 - UnivariateMotif with avg smape 104.71: \n",
            "Model Number: 10 of 184 with model MultivariateMotif for Validation 2\n",
            "10 - MultivariateMotif with avg smape 104.89: \n",
            "Model Number: 11 of 184 with model LastValueNaive for Validation 2\n",
            "📈 11 - LastValueNaive with avg smape 70.16: \n",
            "Model Number: 12 of 184 with model AverageValueNaive for Validation 2\n",
            "📈 12 - AverageValueNaive with avg smape 45.03: \n",
            "Model Number: 13 of 184 with model LastValueNaive for Validation 2\n",
            "📈 13 - LastValueNaive with avg smape 44.57: \n",
            "Model Number: 14 of 184 with model LastValueNaive for Validation 2\n",
            "14 - LastValueNaive with avg smape 44.57: \n",
            "Model Number: 15 of 184 with model AverageValueNaive for Validation 2\n",
            "15 - AverageValueNaive with avg smape 70.46: \n",
            "Model Number: 16 of 184 with model LastValueNaive for Validation 2\n",
            "16 - LastValueNaive with avg smape 65.99: \n",
            "Model Number: 17 of 184 with model MetricMotif for Validation 2\n",
            "17 - MetricMotif with avg smape 104.66: \n",
            "Model Number: 18 of 184 with model UnivariateMotif for Validation 2\n",
            "18 - UnivariateMotif with avg smape 71.39: \n",
            "Model Number: 19 of 184 with model UnivariateMotif for Validation 2\n",
            "19 - UnivariateMotif with avg smape 71.39: \n",
            "Model Number: 20 of 184 with model UnivariateMotif for Validation 2\n",
            "20 - UnivariateMotif with avg smape 104.44: \n",
            "Model Number: 21 of 184 with model LastValueNaive for Validation 2\n",
            "21 - LastValueNaive with avg smape 66.01: \n",
            "Model Number: 22 of 184 with model LastValueNaive for Validation 2\n",
            "22 - LastValueNaive with avg smape 86.28: \n",
            "Model Number: 23 of 184 with model FBProphet for Validation 2\n"
          ]
        },
        {
          "output_type": "stream",
          "name": "stderr",
          "text": [
            "INFO:prophet:Disabling yearly seasonality. Run prophet with yearly_seasonality=True to override this.\n",
            "INFO:prophet:Disabling daily seasonality. Run prophet with daily_seasonality=True to override this.\n",
            "DEBUG:cmdstanpy:input tempfile: /tmp/tmp7syr8mce/19b95ok7.json\n",
            "DEBUG:cmdstanpy:input tempfile: /tmp/tmp7syr8mce/s46dvtna.json\n",
            "DEBUG:cmdstanpy:idx 0\n",
            "DEBUG:cmdstanpy:running CmdStan, num_threads: None\n",
            "DEBUG:cmdstanpy:CmdStan args: ['/usr/local/lib/python3.8/dist-packages/prophet/stan_model/prophet_model.bin', 'random', 'seed=62711', 'data', 'file=/tmp/tmp7syr8mce/19b95ok7.json', 'init=/tmp/tmp7syr8mce/s46dvtna.json', 'output', 'file=/tmp/tmp7syr8mce/prophet_modelhqpiogh4/prophet_model-20230123230124.csv', 'method=optimize', 'algorithm=lbfgs', 'iter=10000']\n",
            "23:01:24 - cmdstanpy - INFO - Chain [1] start processing\n",
            "INFO:cmdstanpy:Chain [1] start processing\n",
            "23:01:24 - cmdstanpy - INFO - Chain [1] done processing\n",
            "INFO:cmdstanpy:Chain [1] done processing\n",
            "INFO:prophet:Disabling yearly seasonality. Run prophet with yearly_seasonality=True to override this.\n",
            "INFO:prophet:Disabling daily seasonality. Run prophet with daily_seasonality=True to override this.\n",
            "DEBUG:cmdstanpy:input tempfile: /tmp/tmp7syr8mce/4fwgx_1d.json\n",
            "DEBUG:cmdstanpy:input tempfile: /tmp/tmp7syr8mce/d3d0mvx6.json\n",
            "DEBUG:cmdstanpy:idx 0\n",
            "DEBUG:cmdstanpy:running CmdStan, num_threads: None\n",
            "DEBUG:cmdstanpy:CmdStan args: ['/usr/local/lib/python3.8/dist-packages/prophet/stan_model/prophet_model.bin', 'random', 'seed=11394', 'data', 'file=/tmp/tmp7syr8mce/4fwgx_1d.json', 'init=/tmp/tmp7syr8mce/d3d0mvx6.json', 'output', 'file=/tmp/tmp7syr8mce/prophet_modell91jagl7/prophet_model-20230123230125.csv', 'method=optimize', 'algorithm=lbfgs', 'iter=10000']\n",
            "23:01:25 - cmdstanpy - INFO - Chain [1] start processing\n",
            "INFO:cmdstanpy:Chain [1] start processing\n"
          ]
        },
        {
          "output_type": "stream",
          "name": "stdout",
          "text": [
            "23 - FBProphet with avg smape 79.22: \n",
            "Model Number: 24 of 184 with model FBProphet for Validation 2\n"
          ]
        },
        {
          "output_type": "stream",
          "name": "stderr",
          "text": [
            "23:01:26 - cmdstanpy - INFO - Chain [1] done processing\n",
            "INFO:cmdstanpy:Chain [1] done processing\n"
          ]
        },
        {
          "output_type": "stream",
          "name": "stdout",
          "text": [
            "24 - FBProphet with avg smape 79.22: \n",
            "Model Number: 25 of 184 with model AverageValueNaive for Validation 2\n",
            "25 - AverageValueNaive with avg smape 67.22: \n",
            "Model Number: 26 of 184 with model AverageValueNaive for Validation 2\n",
            "26 - AverageValueNaive with avg smape 67.22: \n",
            "Model Number: 27 of 184 with model MetricMotif for Validation 2\n",
            "📈 27 - MetricMotif with avg smape 41.56: \n",
            "Model Number: 28 of 184 with model LastValueNaive for Validation 2\n",
            "28 - LastValueNaive with avg smape 49.88: \n",
            "Model Number: 29 of 184 with model LastValueNaive for Validation 2\n",
            "29 - LastValueNaive with avg smape 49.88: \n",
            "Model Number: 30 of 184 with model LastValueNaive for Validation 2\n"
          ]
        },
        {
          "output_type": "stream",
          "name": "stderr",
          "text": [
            "INFO:prophet:Disabling yearly seasonality. Run prophet with yearly_seasonality=True to override this.\n",
            "INFO:prophet:Disabling daily seasonality. Run prophet with daily_seasonality=True to override this.\n"
          ]
        },
        {
          "output_type": "stream",
          "name": "stdout",
          "text": [
            "30 - LastValueNaive with avg smape 64.61: \n",
            "Model Number: 31 of 184 with model FBProphet for Validation 2\n"
          ]
        },
        {
          "output_type": "stream",
          "name": "stderr",
          "text": [
            "DEBUG:cmdstanpy:input tempfile: /tmp/tmp7syr8mce/5e3_8rb1.json\n",
            "DEBUG:cmdstanpy:input tempfile: /tmp/tmp7syr8mce/1puti30r.json\n",
            "DEBUG:cmdstanpy:idx 0\n",
            "DEBUG:cmdstanpy:running CmdStan, num_threads: None\n",
            "DEBUG:cmdstanpy:CmdStan args: ['/usr/local/lib/python3.8/dist-packages/prophet/stan_model/prophet_model.bin', 'random', 'seed=51213', 'data', 'file=/tmp/tmp7syr8mce/5e3_8rb1.json', 'init=/tmp/tmp7syr8mce/1puti30r.json', 'output', 'file=/tmp/tmp7syr8mce/prophet_modelz59_byqx/prophet_model-20230123230127.csv', 'method=optimize', 'algorithm=lbfgs', 'iter=10000']\n",
            "23:01:27 - cmdstanpy - INFO - Chain [1] start processing\n",
            "INFO:cmdstanpy:Chain [1] start processing\n",
            "23:01:27 - cmdstanpy - INFO - Chain [1] done processing\n",
            "INFO:cmdstanpy:Chain [1] done processing\n"
          ]
        },
        {
          "output_type": "stream",
          "name": "stdout",
          "text": [
            "31 - FBProphet with avg smape 115.03: \n",
            "Model Number: 32 of 184 with model AverageValueNaive for Validation 2\n",
            "32 - AverageValueNaive with avg smape 71.65: \n",
            "Model Number: 33 of 184 with model UnivariateMotif for Validation 2\n",
            "33 - UnivariateMotif with avg smape 104.44: \n",
            "Model Number: 34 of 184 with model UnivariateMotif for Validation 2\n"
          ]
        },
        {
          "output_type": "stream",
          "name": "stderr",
          "text": [
            "INFO:prophet:Disabling yearly seasonality. Run prophet with yearly_seasonality=True to override this.\n",
            "INFO:prophet:Disabling daily seasonality. Run prophet with daily_seasonality=True to override this.\n"
          ]
        },
        {
          "output_type": "stream",
          "name": "stdout",
          "text": [
            "34 - UnivariateMotif with avg smape 104.44: \n",
            "Model Number: 35 of 184 with model FBProphet for Validation 2\n"
          ]
        },
        {
          "output_type": "stream",
          "name": "stderr",
          "text": [
            "DEBUG:cmdstanpy:input tempfile: /tmp/tmp7syr8mce/gppbuklj.json\n",
            "DEBUG:cmdstanpy:input tempfile: /tmp/tmp7syr8mce/9axug6pf.json\n",
            "DEBUG:cmdstanpy:idx 0\n",
            "DEBUG:cmdstanpy:running CmdStan, num_threads: None\n",
            "DEBUG:cmdstanpy:CmdStan args: ['/usr/local/lib/python3.8/dist-packages/prophet/stan_model/prophet_model.bin', 'random', 'seed=76292', 'data', 'file=/tmp/tmp7syr8mce/gppbuklj.json', 'init=/tmp/tmp7syr8mce/9axug6pf.json', 'output', 'file=/tmp/tmp7syr8mce/prophet_modelg8k5eadg/prophet_model-20230123230128.csv', 'method=optimize', 'algorithm=lbfgs', 'iter=10000']\n",
            "23:01:28 - cmdstanpy - INFO - Chain [1] start processing\n",
            "INFO:cmdstanpy:Chain [1] start processing\n",
            "23:01:29 - cmdstanpy - INFO - Chain [1] done processing\n",
            "INFO:cmdstanpy:Chain [1] done processing\n"
          ]
        },
        {
          "output_type": "stream",
          "name": "stdout",
          "text": [
            "35 - FBProphet with avg smape 114.71: \n",
            "Model Number: 36 of 184 with model MetricMotif for Validation 2\n",
            "36 - MetricMotif with avg smape 42.25: \n",
            "Model Number: 37 of 184 with model SectionalMotif for Validation 2\n",
            "37 - SectionalMotif with avg smape 41.67: \n",
            "Model Number: 38 of 184 with model AverageValueNaive for Validation 2\n",
            "38 - AverageValueNaive with avg smape 49.96: \n",
            "Model Number: 39 of 184 with model AverageValueNaive for Validation 2\n",
            "39 - AverageValueNaive with avg smape 49.96: \n",
            "Model Number: 40 of 184 with model AverageValueNaive for Validation 2\n",
            "40 - AverageValueNaive with avg smape 49.96: \n",
            "Model Number: 41 of 184 with model AverageValueNaive for Validation 2\n",
            "41 - AverageValueNaive with avg smape 49.96: \n",
            "Model Number: 42 of 184 with model FBProphet for Validation 2\n"
          ]
        },
        {
          "output_type": "stream",
          "name": "stderr",
          "text": [
            "INFO:prophet:Disabling yearly seasonality. Run prophet with yearly_seasonality=True to override this.\n",
            "INFO:prophet:Disabling daily seasonality. Run prophet with daily_seasonality=True to override this.\n",
            "DEBUG:cmdstanpy:input tempfile: /tmp/tmp7syr8mce/1kma77wu.json\n",
            "DEBUG:cmdstanpy:input tempfile: /tmp/tmp7syr8mce/x65gcaj_.json\n",
            "DEBUG:cmdstanpy:idx 0\n",
            "DEBUG:cmdstanpy:running CmdStan, num_threads: None\n",
            "DEBUG:cmdstanpy:CmdStan args: ['/usr/local/lib/python3.8/dist-packages/prophet/stan_model/prophet_model.bin', 'random', 'seed=16968', 'data', 'file=/tmp/tmp7syr8mce/1kma77wu.json', 'init=/tmp/tmp7syr8mce/x65gcaj_.json', 'output', 'file=/tmp/tmp7syr8mce/prophet_model0nkwc0pm/prophet_model-20230123230130.csv', 'method=optimize', 'algorithm=lbfgs', 'iter=10000']\n",
            "23:01:30 - cmdstanpy - INFO - Chain [1] start processing\n",
            "INFO:cmdstanpy:Chain [1] start processing\n",
            "23:01:31 - cmdstanpy - INFO - Chain [1] done processing\n",
            "INFO:cmdstanpy:Chain [1] done processing\n",
            "INFO:prophet:Disabling yearly seasonality. Run prophet with yearly_seasonality=True to override this.\n",
            "INFO:prophet:Disabling daily seasonality. Run prophet with daily_seasonality=True to override this.\n",
            "DEBUG:cmdstanpy:input tempfile: /tmp/tmp7syr8mce/xtbj5vpk.json\n",
            "DEBUG:cmdstanpy:input tempfile: /tmp/tmp7syr8mce/xy3pk_iu.json\n",
            "DEBUG:cmdstanpy:idx 0\n",
            "DEBUG:cmdstanpy:running CmdStan, num_threads: None\n",
            "DEBUG:cmdstanpy:CmdStan args: ['/usr/local/lib/python3.8/dist-packages/prophet/stan_model/prophet_model.bin', 'random', 'seed=65816', 'data', 'file=/tmp/tmp7syr8mce/xtbj5vpk.json', 'init=/tmp/tmp7syr8mce/xy3pk_iu.json', 'output', 'file=/tmp/tmp7syr8mce/prophet_modelsvd5qu8v/prophet_model-20230123230131.csv', 'method=optimize', 'algorithm=lbfgs', 'iter=10000']\n",
            "23:01:32 - cmdstanpy - INFO - Chain [1] start processing\n",
            "INFO:cmdstanpy:Chain [1] start processing\n"
          ]
        },
        {
          "output_type": "stream",
          "name": "stdout",
          "text": [
            "42 - FBProphet with avg smape 114.91: \n",
            "Model Number: 43 of 184 with model FBProphet for Validation 2\n"
          ]
        },
        {
          "output_type": "stream",
          "name": "stderr",
          "text": [
            "23:01:32 - cmdstanpy - INFO - Chain [1] done processing\n",
            "INFO:cmdstanpy:Chain [1] done processing\n",
            "INFO:prophet:Disabling yearly seasonality. Run prophet with yearly_seasonality=True to override this.\n",
            "INFO:prophet:Disabling daily seasonality. Run prophet with daily_seasonality=True to override this.\n",
            "DEBUG:cmdstanpy:input tempfile: /tmp/tmp7syr8mce/36je73oc.json\n",
            "DEBUG:cmdstanpy:input tempfile: /tmp/tmp7syr8mce/80bzae22.json\n",
            "DEBUG:cmdstanpy:idx 0\n",
            "DEBUG:cmdstanpy:running CmdStan, num_threads: None\n",
            "DEBUG:cmdstanpy:CmdStan args: ['/usr/local/lib/python3.8/dist-packages/prophet/stan_model/prophet_model.bin', 'random', 'seed=38613', 'data', 'file=/tmp/tmp7syr8mce/36je73oc.json', 'init=/tmp/tmp7syr8mce/80bzae22.json', 'output', 'file=/tmp/tmp7syr8mce/prophet_modelbb5jynjv/prophet_model-20230123230133.csv', 'method=optimize', 'algorithm=lbfgs', 'iter=10000']\n",
            "23:01:33 - cmdstanpy - INFO - Chain [1] start processing\n",
            "INFO:cmdstanpy:Chain [1] start processing\n"
          ]
        },
        {
          "output_type": "stream",
          "name": "stdout",
          "text": [
            "43 - FBProphet with avg smape 114.79: \n",
            "Model Number: 44 of 184 with model FBProphet for Validation 2\n"
          ]
        },
        {
          "output_type": "stream",
          "name": "stderr",
          "text": [
            "23:01:33 - cmdstanpy - INFO - Chain [1] done processing\n",
            "INFO:cmdstanpy:Chain [1] done processing\n"
          ]
        },
        {
          "output_type": "stream",
          "name": "stdout",
          "text": [
            "44 - FBProphet with avg smape 118.91: \n",
            "Model Number: 45 of 184 with model MetricMotif for Validation 2\n",
            "📈 45 - MetricMotif with avg smape 34.61: \n",
            "Model Number: 46 of 184 with model Theta for Validation 2\n",
            "46 - Theta with avg smape 62.6: \n",
            "Model Number: 47 of 184 with model MultivariateMotif for Validation 2\n",
            "47 - MultivariateMotif with avg smape 76.78: \n",
            "Model Number: 48 of 184 with model ARIMA for Validation 2\n",
            "48 - ARIMA with avg smape 73.19: \n",
            "Model Number: 49 of 184 with model Ensemble for Validation 2\n",
            "49 - Ensemble with avg smape 99.15: \n",
            "Model Number: 50 of 184 with model UnivariateMotif for Validation 2\n",
            "50 - UnivariateMotif with avg smape 73.83: \n",
            "Model Number: 51 of 184 with model SectionalMotif for Validation 2\n",
            "51 - SectionalMotif with avg smape 43.05: \n",
            "Model Number: 52 of 184 with model MultivariateMotif for Validation 2\n",
            "52 - MultivariateMotif with avg smape 78.91: \n",
            "Model Number: 53 of 184 with model ARIMA for Validation 2\n",
            "53 - ARIMA with avg smape 94.96: \n",
            "Model Number: 54 of 184 with model SectionalMotif for Validation 2\n",
            "54 - SectionalMotif with avg smape 44.19: \n",
            "Model Number: 55 of 184 with model UnivariateMotif for Validation 2\n",
            "55 - UnivariateMotif with avg smape 75.91: \n",
            "Model Number: 56 of 184 with model UnivariateMotif for Validation 2\n",
            "56 - UnivariateMotif with avg smape 75.91: \n",
            "Model Number: 57 of 184 with model ARIMA for Validation 2\n",
            "57 - ARIMA with avg smape 74.96: \n",
            "Model Number: 58 of 184 with model ARIMA for Validation 2\n",
            "58 - ARIMA with avg smape 63.72: \n",
            "Model Number: 59 of 184 with model MultivariateMotif for Validation 2\n",
            "59 - MultivariateMotif with avg smape 105.26: \n",
            "Model Number: 60 of 184 with model MultivariateMotif for Validation 2\n",
            "60 - MultivariateMotif with avg smape 105.26: \n",
            "Model Number: 61 of 184 with model MetricMotif for Validation 2\n",
            "61 - MetricMotif with avg smape 39.04: \n",
            "Model Number: 62 of 184 with model MetricMotif for Validation 2\n",
            "62 - MetricMotif with avg smape 61.24: \n",
            "Model Number: 63 of 184 with model MetricMotif for Validation 2\n",
            "63 - MetricMotif with avg smape 42.81: \n",
            "Model Number: 64 of 184 with model ARIMA for Validation 2\n"
          ]
        },
        {
          "output_type": "stream",
          "name": "stderr",
          "text": [
            "INFO:prophet:Disabling yearly seasonality. Run prophet with yearly_seasonality=True to override this.\n",
            "INFO:prophet:Disabling daily seasonality. Run prophet with daily_seasonality=True to override this.\n",
            "DEBUG:cmdstanpy:input tempfile: /tmp/tmp7syr8mce/zwcyijz5.json\n",
            "DEBUG:cmdstanpy:input tempfile: /tmp/tmp7syr8mce/j3gbhvmq.json\n",
            "DEBUG:cmdstanpy:idx 0\n",
            "DEBUG:cmdstanpy:running CmdStan, num_threads: None\n",
            "DEBUG:cmdstanpy:CmdStan args: ['/usr/local/lib/python3.8/dist-packages/prophet/stan_model/prophet_model.bin', 'random', 'seed=79810', 'data', 'file=/tmp/tmp7syr8mce/zwcyijz5.json', 'init=/tmp/tmp7syr8mce/j3gbhvmq.json', 'output', 'file=/tmp/tmp7syr8mce/prophet_modeldk954ksv/prophet_model-20230123230156.csv', 'method=optimize', 'algorithm=lbfgs', 'iter=10000']\n",
            "23:01:56 - cmdstanpy - INFO - Chain [1] start processing\n",
            "INFO:cmdstanpy:Chain [1] start processing\n"
          ]
        },
        {
          "output_type": "stream",
          "name": "stdout",
          "text": [
            "64 - ARIMA with avg smape 54.62: \n",
            "Model Number: 65 of 184 with model FBProphet for Validation 2\n"
          ]
        },
        {
          "output_type": "stream",
          "name": "stderr",
          "text": [
            "23:01:56 - cmdstanpy - INFO - Chain [1] done processing\n",
            "INFO:cmdstanpy:Chain [1] done processing\n",
            "INFO:prophet:Disabling yearly seasonality. Run prophet with yearly_seasonality=True to override this.\n",
            "INFO:prophet:Disabling daily seasonality. Run prophet with daily_seasonality=True to override this.\n",
            "DEBUG:cmdstanpy:input tempfile: /tmp/tmp7syr8mce/6me7drwf.json\n",
            "DEBUG:cmdstanpy:input tempfile: /tmp/tmp7syr8mce/_cjornst.json\n",
            "DEBUG:cmdstanpy:idx 0\n",
            "DEBUG:cmdstanpy:running CmdStan, num_threads: None\n",
            "DEBUG:cmdstanpy:CmdStan args: ['/usr/local/lib/python3.8/dist-packages/prophet/stan_model/prophet_model.bin', 'random', 'seed=85065', 'data', 'file=/tmp/tmp7syr8mce/6me7drwf.json', 'init=/tmp/tmp7syr8mce/_cjornst.json', 'output', 'file=/tmp/tmp7syr8mce/prophet_modelnvyh6o0k/prophet_model-20230123230157.csv', 'method=optimize', 'algorithm=lbfgs', 'iter=10000']\n",
            "23:01:57 - cmdstanpy - INFO - Chain [1] start processing\n",
            "INFO:cmdstanpy:Chain [1] start processing\n"
          ]
        },
        {
          "output_type": "stream",
          "name": "stdout",
          "text": [
            "65 - FBProphet with avg smape 115.31: \n",
            "Model Number: 66 of 184 with model FBProphet for Validation 2\n"
          ]
        },
        {
          "output_type": "stream",
          "name": "stderr",
          "text": [
            "23:01:57 - cmdstanpy - INFO - Chain [1] done processing\n",
            "INFO:cmdstanpy:Chain [1] done processing\n"
          ]
        },
        {
          "output_type": "stream",
          "name": "stdout",
          "text": [
            "66 - FBProphet with avg smape 200.0: \n",
            "Model Number: 67 of 184 with model Theta for Validation 2\n",
            "67 - Theta with avg smape 63.6: \n",
            "Model Number: 68 of 184 with model UnobservedComponents for Validation 2\n",
            "68 - UnobservedComponents with avg smape 139.85: \n",
            "Model Number: 69 of 184 with model MultivariateMotif for Validation 2\n",
            "69 - MultivariateMotif with avg smape 104.99: \n",
            "Model Number: 70 of 184 with model MultivariateMotif for Validation 2\n",
            "70 - MultivariateMotif with avg smape 104.99: \n",
            "Model Number: 71 of 184 with model MetricMotif for Validation 2\n",
            "71 - MetricMotif with avg smape 46.11: \n",
            "Model Number: 72 of 184 with model MetricMotif for Validation 2\n",
            "72 - MetricMotif with avg smape 41.06: \n",
            "Model Number: 73 of 184 with model SectionalMotif for Validation 2\n",
            "73 - SectionalMotif with avg smape 61.67: \n",
            "Model Number: 74 of 184 with model SectionalMotif for Validation 2\n",
            "74 - SectionalMotif with avg smape 84.89: \n",
            "Model Number: 75 of 184 with model GLS for Validation 2\n",
            "📈 75 - GLS with avg smape 33.48: \n",
            "Model Number: 76 of 184 with model SectionalMotif for Validation 2\n",
            "76 - SectionalMotif with avg smape 54.81: \n",
            "Model Number: 77 of 184 with model MultivariateRegression for Validation 2\n",
            "77 - MultivariateRegression with avg smape 67.42: \n",
            "Model Number: 78 of 184 with model MultivariateRegression for Validation 2\n",
            "78 - MultivariateRegression with avg smape 67.42: \n",
            "Model Number: 79 of 184 with model MultivariateMotif for Validation 2\n",
            "79 - MultivariateMotif with avg smape 99.31: \n",
            "Model Number: 80 of 184 with model ARIMA for Validation 2\n",
            "80 - ARIMA with avg smape 54.51: \n",
            "Model Number: 81 of 184 with model SectionalMotif for Validation 2\n",
            "81 - SectionalMotif with avg smape 43.04: \n",
            "Model Number: 82 of 184 with model ARIMA for Validation 2\n",
            "82 - ARIMA with avg smape 58.25: \n",
            "Model Number: 83 of 184 with model ARIMA for Validation 2\n",
            "83 - ARIMA with avg smape 87.03: \n",
            "Model Number: 84 of 184 with model ARIMA for Validation 2\n",
            "84 - ARIMA with avg smape 94.28: \n",
            "Model Number: 85 of 184 with model MultivariateRegression for Validation 2\n",
            "85 - MultivariateRegression with avg smape 45.69: \n",
            "Model Number: 86 of 184 with model MultivariateRegression for Validation 2\n",
            "86 - MultivariateRegression with avg smape 45.69: \n",
            "Model Number: 87 of 184 with model MultivariateRegression for Validation 2\n",
            "87 - MultivariateRegression with avg smape 88.7: \n",
            "Model Number: 88 of 184 with model MultivariateRegression for Validation 2\n",
            "88 - MultivariateRegression with avg smape 45.69: \n",
            "Model Number: 89 of 184 with model MultivariateRegression for Validation 2\n",
            "89 - MultivariateRegression with avg smape 45.69: \n",
            "Model Number: 90 of 184 with model SectionalMotif for Validation 2\n",
            "90 - SectionalMotif with avg smape 40.92: \n",
            "Model Number: 91 of 184 with model SectionalMotif for Validation 2\n",
            "91 - SectionalMotif with avg smape 63.39: \n",
            "Model Number: 92 of 184 with model NVAR for Validation 2\n",
            "92 - NVAR with avg smape 77.91: \n",
            "Model Number: 93 of 184 with model MultivariateRegression for Validation 2\n",
            "93 - MultivariateRegression with avg smape 49.83: \n",
            "Model Number: 94 of 184 with model MultivariateRegression for Validation 2\n",
            "94 - MultivariateRegression with avg smape 49.83: \n",
            "Model Number: 95 of 184 with model NVAR for Validation 2\n",
            "95 - NVAR with avg smape 77.69: \n",
            "Model Number: 96 of 184 with model ETS for Validation 2\n",
            "96 - ETS with avg smape 158.39: \n",
            "Model Number: 97 of 184 with model ETS for Validation 2\n",
            "97 - ETS with avg smape 85.51: \n",
            "Model Number: 98 of 184 with model ETS for Validation 2\n",
            "98 - ETS with avg smape 51.13: \n",
            "Model Number: 99 of 184 with model NVAR for Validation 2\n",
            "99 - NVAR with avg smape 56.81: \n",
            "Model Number: 100 of 184 with model NVAR for Validation 2\n",
            "100 - NVAR with avg smape 58.03: \n",
            "Model Number: 101 of 184 with model NVAR for Validation 2\n",
            "101 - NVAR with avg smape 68.53: \n",
            "Model Number: 102 of 184 with model NVAR for Validation 2\n",
            "102 - NVAR with avg smape 65.48: \n",
            "Model Number: 103 of 184 with model UnobservedComponents for Validation 2\n",
            "103 - UnobservedComponents with avg smape 74.85: \n",
            "Model Number: 104 of 184 with model UnobservedComponents for Validation 2\n",
            "104 - UnobservedComponents with avg smape 50.68: \n",
            "Model Number: 105 of 184 with model NVAR for Validation 2\n",
            "105 - NVAR with avg smape 65.55: \n",
            "Model Number: 106 of 184 with model NVAR for Validation 2\n",
            "106 - NVAR with avg smape 74.83: \n",
            "Model Number: 107 of 184 with model ConstantNaive for Validation 2\n",
            "107 - ConstantNaive with avg smape 62.11: \n",
            "Model Number: 108 of 184 with model NVAR for Validation 2\n",
            "108 - NVAR with avg smape 52.13: \n",
            "Model Number: 109 of 184 with model UnobservedComponents for Validation 2\n",
            "109 - UnobservedComponents with avg smape 75.54: \n",
            "Model Number: 110 of 184 with model UnobservedComponents for Validation 2\n",
            "110 - UnobservedComponents with avg smape 38.48: \n",
            "Model Number: 111 of 184 with model ConstantNaive for Validation 2\n",
            "111 - ConstantNaive with avg smape 42.52: \n",
            "Model Number: 112 of 184 with model UnobservedComponents for Validation 2\n",
            "112 - UnobservedComponents with avg smape 50.5: \n",
            "Model Number: 113 of 184 with model UnobservedComponents for Validation 2\n",
            "113 - UnobservedComponents with avg smape 79.09: \n",
            "Model Number: 114 of 184 with model ConstantNaive for Validation 2\n",
            "114 - ConstantNaive with avg smape 57.54: \n",
            "Model Number: 115 of 184 with model ConstantNaive for Validation 2\n",
            "115 - ConstantNaive with avg smape 57.54: \n",
            "Model Number: 116 of 184 with model ETS for Validation 2\n",
            "116 - ETS with avg smape 53.15: \n",
            "Model Number: 117 of 184 with model ConstantNaive for Validation 2\n",
            "117 - ConstantNaive with avg smape 44.15: \n",
            "Model Number: 118 of 184 with model ConstantNaive for Validation 2\n",
            "118 - ConstantNaive with avg smape 44.15: \n",
            "Model Number: 119 of 184 with model ConstantNaive for Validation 2\n",
            "119 - ConstantNaive with avg smape 44.15: \n",
            "Model Number: 120 of 184 with model ConstantNaive for Validation 2\n",
            "120 - ConstantNaive with avg smape 57.17: \n",
            "Model Number: 121 of 184 with model ETS for Validation 2\n",
            "121 - ETS with avg smape 33.78: \n",
            "Model Number: 122 of 184 with model ETS for Validation 2\n",
            "122 - ETS with avg smape 33.77: \n",
            "Model Number: 123 of 184 with model ConstantNaive for Validation 2\n",
            "123 - ConstantNaive with avg smape 56.08: \n",
            "Model Number: 124 of 184 with model UnobservedComponents for Validation 2\n",
            "124 - UnobservedComponents with avg smape 61.0: \n",
            "Model Number: 125 of 184 with model UnobservedComponents for Validation 2\n",
            "125 - UnobservedComponents with avg smape 48.98: \n",
            "Model Number: 126 of 184 with model ETS for Validation 2\n",
            "126 - ETS with avg smape 96.82: \n",
            "Model Number: 127 of 184 with model ETS for Validation 2\n",
            "127 - ETS with avg smape 71.78: \n",
            "Model Number: 128 of 184 with model WindowRegression for Validation 2\n",
            "128 - WindowRegression with avg smape 65.06: \n",
            "Model Number: 129 of 184 with model WindowRegression for Validation 2\n",
            "129 - WindowRegression with avg smape 52.63: \n",
            "Model Number: 130 of 184 with model GLS for Validation 2\n",
            "130 - GLS with avg smape 36.83: \n",
            "Model Number: 131 of 184 with model SeasonalNaive for Validation 2\n",
            "131 - SeasonalNaive with avg smape 61.02: \n",
            "Model Number: 132 of 184 with model WindowRegression for Validation 2\n",
            "132 - WindowRegression with avg smape 52.86: \n",
            "Model Number: 133 of 184 with model ETS for Validation 2\n",
            "133 - ETS with avg smape 80.01: \n",
            "Model Number: 134 of 184 with model SeasonalNaive for Validation 2\n",
            "134 - SeasonalNaive with avg smape 56.39: \n",
            "Model Number: 135 of 184 with model SeasonalNaive for Validation 2\n",
            "135 - SeasonalNaive with avg smape 56.39: \n",
            "Model Number: 136 of 184 with model SeasonalNaive for Validation 2\n",
            "136 - SeasonalNaive with avg smape 68.52: \n",
            "Model Number: 137 of 184 with model WindowRegression for Validation 2\n",
            "137 - WindowRegression with avg smape 53.66: \n",
            "Model Number: 138 of 184 with model SeasonalNaive for Validation 2\n",
            "138 - SeasonalNaive with avg smape 78.24: \n",
            "Model Number: 139 of 184 with model SeasonalNaive for Validation 2\n",
            "139 - SeasonalNaive with avg smape 82.95: \n",
            "Model Number: 140 of 184 with model WindowRegression for Validation 2\n",
            "140 - WindowRegression with avg smape 42.74: \n",
            "Model Number: 141 of 184 with model SeasonalNaive for Validation 2\n",
            "141 - SeasonalNaive with avg smape 48.39: \n",
            "Model Number: 142 of 184 with model SeasonalNaive for Validation 2\n",
            "142 - SeasonalNaive with avg smape 41.98: \n",
            "Model Number: 143 of 184 with model SeasonalNaive for Validation 2\n",
            "143 - SeasonalNaive with avg smape 42.36: \n",
            "Model Number: 144 of 184 with model WindowRegression for Validation 2\n",
            "144 - WindowRegression with avg smape 42.74: \n",
            "Model Number: 145 of 184 with model UnivariateRegression for Validation 2\n",
            "145 - UnivariateRegression with avg smape 73.43: \n",
            "Model Number: 146 of 184 with model WindowRegression for Validation 2\n",
            "146 - WindowRegression with avg smape 55.18: \n",
            "Model Number: 147 of 184 with model WindowRegression for Validation 2\n",
            "147 - WindowRegression with avg smape 55.18: \n",
            "Model Number: 148 of 184 with model WindowRegression for Validation 2\n",
            "148 - WindowRegression with avg smape 52.11: \n",
            "Model Number: 149 of 184 with model Theta for Validation 2\n",
            "📈 149 - Theta with avg smape 29.69: \n",
            "Model Number: 150 of 184 with model DatepartRegression for Validation 2\n",
            "150 - DatepartRegression with avg smape 68.85: \n",
            "Model Number: 151 of 184 with model GLS for Validation 2\n",
            "151 - GLS with avg smape 37.02: \n",
            "Model Number: 152 of 184 with model GLS for Validation 2\n",
            "152 - GLS with avg smape 36.74: \n",
            "Model Number: 153 of 184 with model Theta for Validation 2\n"
          ]
        },
        {
          "output_type": "stream",
          "name": "stderr",
          "text": [
            "/usr/local/lib/python3.8/dist-packages/autots/tools/probabilistic.py:67: RuntimeWarning:\n",
            "\n",
            "invalid value encountered in true_divide\n",
            "\n",
            "/usr/local/lib/python3.8/dist-packages/autots/tools/probabilistic.py:68: RuntimeWarning:\n",
            "\n",
            "divide by zero encountered in true_divide\n",
            "\n"
          ]
        },
        {
          "output_type": "stream",
          "name": "stdout",
          "text": [
            "📈 153 - Theta with avg smape 29.52: \n",
            "Model Number: 154 of 184 with model GLM for Validation 2\n",
            "154 - GLM with avg smape 55.71: \n",
            "Model Number: 155 of 184 with model Theta for Validation 2\n",
            "155 - Theta with avg smape 70.5: \n",
            "Model Number: 156 of 184 with model DatepartRegression for Validation 2\n"
          ]
        },
        {
          "output_type": "stream",
          "name": "stderr",
          "text": [
            "/usr/local/lib/python3.8/dist-packages/sklearn/neural_network/_multilayer_perceptron.py:549: ConvergenceWarning:\n",
            "\n",
            "lbfgs failed to converge (status=1):\n",
            "STOP: TOTAL NO. of ITERATIONS REACHED LIMIT.\n",
            "\n",
            "Increase the number of iterations (max_iter) or scale the data as shown in:\n",
            "    https://scikit-learn.org/stable/modules/preprocessing.html\n",
            "\n"
          ]
        },
        {
          "output_type": "stream",
          "name": "stdout",
          "text": [
            "156 - DatepartRegression with avg smape 31.53: \n",
            "Model Number: 157 of 184 with model Theta for Validation 2\n",
            "157 - Theta with avg smape 43.06: \n",
            "Model Number: 158 of 184 with model DatepartRegression for Validation 2\n"
          ]
        },
        {
          "output_type": "stream",
          "name": "stderr",
          "text": [
            "/usr/local/lib/python3.8/dist-packages/sklearn/neural_network/_multilayer_perceptron.py:549: ConvergenceWarning:\n",
            "\n",
            "lbfgs failed to converge (status=1):\n",
            "STOP: TOTAL NO. of ITERATIONS REACHED LIMIT.\n",
            "\n",
            "Increase the number of iterations (max_iter) or scale the data as shown in:\n",
            "    https://scikit-learn.org/stable/modules/preprocessing.html\n",
            "\n"
          ]
        },
        {
          "output_type": "stream",
          "name": "stdout",
          "text": [
            "158 - DatepartRegression with avg smape 37.66: \n",
            "Model Number: 159 of 184 with model DatepartRegression for Validation 2\n"
          ]
        },
        {
          "output_type": "stream",
          "name": "stderr",
          "text": [
            "/usr/local/lib/python3.8/dist-packages/sklearn/neural_network/_multilayer_perceptron.py:549: ConvergenceWarning:\n",
            "\n",
            "lbfgs failed to converge (status=1):\n",
            "STOP: TOTAL NO. of ITERATIONS REACHED LIMIT.\n",
            "\n",
            "Increase the number of iterations (max_iter) or scale the data as shown in:\n",
            "    https://scikit-learn.org/stable/modules/preprocessing.html\n",
            "\n"
          ]
        },
        {
          "output_type": "stream",
          "name": "stdout",
          "text": [
            "159 - DatepartRegression with avg smape 61.04: \n",
            "Model Number: 160 of 184 with model GLM for Validation 2\n"
          ]
        },
        {
          "output_type": "stream",
          "name": "stderr",
          "text": [
            "/usr/local/lib/python3.8/dist-packages/statsmodels/genmod/families/links.py:188: RuntimeWarning:\n",
            "\n",
            "overflow encountered in exp\n",
            "\n"
          ]
        },
        {
          "output_type": "stream",
          "name": "stdout",
          "text": [
            "160 - GLM with avg smape 45.35: \n",
            "Model Number: 161 of 184 with model GLM for Validation 2\n"
          ]
        },
        {
          "output_type": "stream",
          "name": "stderr",
          "text": [
            "/usr/local/lib/python3.8/dist-packages/statsmodels/genmod/families/links.py:188: RuntimeWarning:\n",
            "\n",
            "overflow encountered in exp\n",
            "\n"
          ]
        },
        {
          "output_type": "stream",
          "name": "stdout",
          "text": [
            "161 - GLM with avg smape 45.35: \n",
            "Model Number: 162 of 184 with model Theta for Validation 2\n",
            "162 - Theta with avg smape 50.44: \n",
            "Model Number: 163 of 184 with model GLS for Validation 2\n",
            "163 - GLS with avg smape 36.39: \n",
            "Model Number: 164 of 184 with model GLS for Validation 2\n",
            "164 - GLS with avg smape 51.13: \n",
            "Model Number: 165 of 184 with model GLS for Validation 2\n",
            "165 - GLS with avg smape 49.9: \n",
            "Model Number: 166 of 184 with model GLM for Validation 2\n",
            "166 - GLM with avg smape 44.25: \n",
            "Model Number: 167 of 184 with model UnivariateRegression for Validation 2\n",
            "167 - UnivariateRegression with avg smape 45.23: \n",
            "Model Number: 168 of 184 with model GLS for Validation 2\n",
            "168 - GLS with avg smape 56.37: \n",
            "Model Number: 169 of 184 with model Theta for Validation 2\n",
            "169 - Theta with avg smape 49.38: \n",
            "Model Number: 170 of 184 with model Theta for Validation 2\n",
            "170 - Theta with avg smape 71.25: \n",
            "Model Number: 171 of 184 with model DatepartRegression for Validation 2\n"
          ]
        },
        {
          "output_type": "stream",
          "name": "stderr",
          "text": [
            "/usr/local/lib/python3.8/dist-packages/sklearn/neural_network/_multilayer_perceptron.py:549: ConvergenceWarning:\n",
            "\n",
            "lbfgs failed to converge (status=1):\n",
            "STOP: TOTAL NO. of ITERATIONS REACHED LIMIT.\n",
            "\n",
            "Increase the number of iterations (max_iter) or scale the data as shown in:\n",
            "    https://scikit-learn.org/stable/modules/preprocessing.html\n",
            "\n"
          ]
        },
        {
          "output_type": "stream",
          "name": "stdout",
          "text": [
            "171 - DatepartRegression with avg smape 57.09: \n",
            "Model Number: 172 of 184 with model DatepartRegression for Validation 2\n"
          ]
        },
        {
          "output_type": "stream",
          "name": "stderr",
          "text": [
            "/usr/local/lib/python3.8/dist-packages/sklearn/neural_network/_multilayer_perceptron.py:549: ConvergenceWarning:\n",
            "\n",
            "lbfgs failed to converge (status=1):\n",
            "STOP: TOTAL NO. of ITERATIONS REACHED LIMIT.\n",
            "\n",
            "Increase the number of iterations (max_iter) or scale the data as shown in:\n",
            "    https://scikit-learn.org/stable/modules/preprocessing.html\n",
            "\n"
          ]
        },
        {
          "output_type": "stream",
          "name": "stdout",
          "text": [
            "172 - DatepartRegression with avg smape 73.43: \n",
            "Model Number: 173 of 184 with model GLM for Validation 2\n"
          ]
        },
        {
          "output_type": "stream",
          "name": "stderr",
          "text": [
            "/usr/local/lib/python3.8/dist-packages/statsmodels/genmod/families/links.py:188: RuntimeWarning:\n",
            "\n",
            "overflow encountered in exp\n",
            "\n"
          ]
        },
        {
          "output_type": "stream",
          "name": "stdout",
          "text": [
            "173 - GLM with avg smape 80.26: \n",
            "Model Number: 174 of 184 with model DatepartRegression for Validation 2\n"
          ]
        },
        {
          "output_type": "stream",
          "name": "stderr",
          "text": [
            "/usr/local/lib/python3.8/dist-packages/sklearn/neural_network/_multilayer_perceptron.py:549: ConvergenceWarning:\n",
            "\n",
            "lbfgs failed to converge (status=1):\n",
            "STOP: TOTAL NO. of ITERATIONS REACHED LIMIT.\n",
            "\n",
            "Increase the number of iterations (max_iter) or scale the data as shown in:\n",
            "    https://scikit-learn.org/stable/modules/preprocessing.html\n",
            "\n"
          ]
        },
        {
          "output_type": "stream",
          "name": "stdout",
          "text": [
            "174 - DatepartRegression with avg smape 35.77: \n",
            "Model Number: 175 of 184 with model GLS for Validation 2\n",
            "175 - GLS with avg smape 37.34: \n",
            "Model Number: 176 of 184 with model DatepartRegression for Validation 2\n",
            "176 - DatepartRegression with avg smape 105.71: \n",
            "Model Number: 177 of 184 with model DatepartRegression for Validation 2\n"
          ]
        },
        {
          "output_type": "stream",
          "name": "stderr",
          "text": [
            "[Parallel(n_jobs=-2)]: Using backend SequentialBackend with 1 concurrent workers.\n",
            "[Parallel(n_jobs=-2)]: Done 100 out of 100 | elapsed:    0.3s finished\n",
            "[Parallel(n_jobs=1)]: Using backend SequentialBackend with 1 concurrent workers.\n",
            "[Parallel(n_jobs=1)]: Done 100 out of 100 | elapsed:    0.0s finished\n"
          ]
        },
        {
          "output_type": "stream",
          "name": "stdout",
          "text": [
            "177 - DatepartRegression with avg smape 81.01: \n",
            "Model Number: 178 of 184 with model GLM for Validation 2\n"
          ]
        },
        {
          "output_type": "stream",
          "name": "stderr",
          "text": [
            "/usr/local/lib/python3.8/dist-packages/statsmodels/genmod/families/links.py:188: RuntimeWarning:\n",
            "\n",
            "overflow encountered in exp\n",
            "\n"
          ]
        },
        {
          "output_type": "stream",
          "name": "stdout",
          "text": [
            "178 - GLM with avg smape 81.51: \n",
            "Model Number: 179 of 184 with model GLM for Validation 2\n",
            "179 - GLM with avg smape 63.43: \n",
            "Model Number: 180 of 184 with model GLM for Validation 2\n",
            "180 - GLM with avg smape 68.88: \n",
            "Model Number: 181 of 184 with model GLM for Validation 2\n",
            "181 - GLM with avg smape 193.83: \n",
            "Model Number: 182 of 184 with model UnivariateRegression for Validation 2\n"
          ]
        },
        {
          "output_type": "stream",
          "name": "stderr",
          "text": [
            "/usr/local/lib/python3.8/dist-packages/statsmodels/genmod/generalized_linear_model.py:293: DomainWarning:\n",
            "\n",
            "The inverse_power link function does not respect the domain of the Gamma family.\n",
            "\n"
          ]
        },
        {
          "output_type": "stream",
          "name": "stdout",
          "text": [
            "182 - UnivariateRegression with avg smape 100.93: \n",
            "Model Number: 183 of 184 with model UnivariateRegression for Validation 2\n",
            "183 - UnivariateRegression with avg smape 49.14: \n",
            "Model Number: 184 of 184 with model UnivariateRegression for Validation 2\n"
          ]
        },
        {
          "output_type": "stream",
          "name": "stderr",
          "text": [
            "/usr/local/lib/python3.8/dist-packages/sklearn/linear_model/_ridge.py:157: LinAlgWarning:\n",
            "\n",
            "Ill-conditioned matrix (rcond=1.50818e-19): result may not be accurate.\n",
            "\n"
          ]
        },
        {
          "output_type": "stream",
          "name": "stdout",
          "text": [
            "184 - UnivariateRegression with avg smape 32.55: \n",
            "Validation Round: 3\n",
            "Model Number: 1 of 184 with model Ensemble for Validation 3\n",
            "📈 1 - Ensemble with avg smape 17.37: \n",
            "Model Number: 2 of 184 with model Ensemble for Validation 3\n",
            "📈 2 - Ensemble with avg smape 16.25: \n",
            "Model Number: 3 of 184 with model Ensemble for Validation 3\n",
            "3 - Ensemble with avg smape 17.5: \n",
            "Model Number: 4 of 184 with model Ensemble for Validation 3\n",
            "4 - Ensemble with avg smape 17.5: \n",
            "Model Number: 5 of 184 with model Ensemble for Validation 3\n",
            "5 - Ensemble with avg smape 17.4: \n",
            "Model Number: 6 of 184 with model MultivariateMotif for Validation 3\n",
            "📈 6 - MultivariateMotif with avg smape 15.84: \n",
            "Model Number: 7 of 184 with model Ensemble for Validation 3\n",
            "7 - Ensemble with avg smape 15.98: \n",
            "Model Number: 8 of 184 with model Ensemble for Validation 3\n",
            "8 - Ensemble with avg smape 15.91: \n",
            "Model Number: 9 of 184 with model UnivariateMotif for Validation 3\n",
            "9 - UnivariateMotif with avg smape 15.92: \n",
            "Model Number: 10 of 184 with model MultivariateMotif for Validation 3\n",
            "10 - MultivariateMotif with avg smape 15.99: \n",
            "Model Number: 11 of 184 with model LastValueNaive for Validation 3\n",
            "11 - LastValueNaive with avg smape 23.71: \n",
            "Model Number: 12 of 184 with model AverageValueNaive for Validation 3\n",
            "12 - AverageValueNaive with avg smape 33.17: \n",
            "Model Number: 13 of 184 with model LastValueNaive for Validation 3\n",
            "13 - LastValueNaive with avg smape 33.99: \n",
            "Model Number: 14 of 184 with model LastValueNaive for Validation 3\n",
            "14 - LastValueNaive with avg smape 33.99: \n",
            "Model Number: 15 of 184 with model AverageValueNaive for Validation 3\n",
            "15 - AverageValueNaive with avg smape 25.48: \n",
            "Model Number: 16 of 184 with model LastValueNaive for Validation 3\n",
            "16 - LastValueNaive with avg smape 19.73: \n",
            "Model Number: 17 of 184 with model MetricMotif for Validation 3\n",
            "17 - MetricMotif with avg smape 19.87: \n",
            "Model Number: 18 of 184 with model UnivariateMotif for Validation 3\n",
            "18 - UnivariateMotif with avg smape 23.45: \n",
            "Model Number: 19 of 184 with model UnivariateMotif for Validation 3\n",
            "19 - UnivariateMotif with avg smape 23.45: \n",
            "Model Number: 20 of 184 with model UnivariateMotif for Validation 3\n",
            "20 - UnivariateMotif with avg smape 25.5: \n",
            "Model Number: 21 of 184 with model LastValueNaive for Validation 3\n",
            "21 - LastValueNaive with avg smape 31.07: \n",
            "Model Number: 22 of 184 with model LastValueNaive for Validation 3\n",
            "22 - LastValueNaive with avg smape 20.23: \n"
          ]
        },
        {
          "output_type": "stream",
          "name": "stderr",
          "text": [
            "INFO:prophet:Disabling yearly seasonality. Run prophet with yearly_seasonality=True to override this.\n",
            "INFO:prophet:Disabling daily seasonality. Run prophet with daily_seasonality=True to override this.\n",
            "DEBUG:cmdstanpy:input tempfile: /tmp/tmp7syr8mce/xfvo9dqe.json\n"
          ]
        },
        {
          "output_type": "stream",
          "name": "stdout",
          "text": [
            "Model Number: 23 of 184 with model FBProphet for Validation 3\n"
          ]
        },
        {
          "output_type": "stream",
          "name": "stderr",
          "text": [
            "DEBUG:cmdstanpy:input tempfile: /tmp/tmp7syr8mce/7m7gxoru.json\n",
            "DEBUG:cmdstanpy:idx 0\n",
            "DEBUG:cmdstanpy:running CmdStan, num_threads: None\n",
            "DEBUG:cmdstanpy:CmdStan args: ['/usr/local/lib/python3.8/dist-packages/prophet/stan_model/prophet_model.bin', 'random', 'seed=2919', 'data', 'file=/tmp/tmp7syr8mce/xfvo9dqe.json', 'init=/tmp/tmp7syr8mce/7m7gxoru.json', 'output', 'file=/tmp/tmp7syr8mce/prophet_modeljmc_7s86/prophet_model-20230123230304.csv', 'method=optimize', 'algorithm=lbfgs', 'iter=10000']\n",
            "23:03:04 - cmdstanpy - INFO - Chain [1] start processing\n",
            "INFO:cmdstanpy:Chain [1] start processing\n",
            "23:03:04 - cmdstanpy - INFO - Chain [1] done processing\n",
            "INFO:cmdstanpy:Chain [1] done processing\n",
            "INFO:prophet:Disabling yearly seasonality. Run prophet with yearly_seasonality=True to override this.\n",
            "INFO:prophet:Disabling daily seasonality. Run prophet with daily_seasonality=True to override this.\n",
            "DEBUG:cmdstanpy:input tempfile: /tmp/tmp7syr8mce/w9tj6ghm.json\n",
            "DEBUG:cmdstanpy:input tempfile: /tmp/tmp7syr8mce/faex31kb.json\n",
            "DEBUG:cmdstanpy:idx 0\n",
            "DEBUG:cmdstanpy:running CmdStan, num_threads: None\n",
            "DEBUG:cmdstanpy:CmdStan args: ['/usr/local/lib/python3.8/dist-packages/prophet/stan_model/prophet_model.bin', 'random', 'seed=43892', 'data', 'file=/tmp/tmp7syr8mce/w9tj6ghm.json', 'init=/tmp/tmp7syr8mce/faex31kb.json', 'output', 'file=/tmp/tmp7syr8mce/prophet_modelmi_rp2hm/prophet_model-20230123230305.csv', 'method=optimize', 'algorithm=lbfgs', 'iter=10000']\n",
            "23:03:05 - cmdstanpy - INFO - Chain [1] start processing\n",
            "INFO:cmdstanpy:Chain [1] start processing\n"
          ]
        },
        {
          "output_type": "stream",
          "name": "stdout",
          "text": [
            "23 - FBProphet with avg smape 28.47: \n",
            "Model Number: 24 of 184 with model FBProphet for Validation 3\n"
          ]
        },
        {
          "output_type": "stream",
          "name": "stderr",
          "text": [
            "23:03:05 - cmdstanpy - INFO - Chain [1] done processing\n",
            "INFO:cmdstanpy:Chain [1] done processing\n"
          ]
        },
        {
          "output_type": "stream",
          "name": "stdout",
          "text": [
            "24 - FBProphet with avg smape 28.72: \n",
            "Model Number: 25 of 184 with model AverageValueNaive for Validation 3\n",
            "25 - AverageValueNaive with avg smape 40.47: \n",
            "Model Number: 26 of 184 with model AverageValueNaive for Validation 3\n",
            "26 - AverageValueNaive with avg smape 40.47: \n",
            "Model Number: 27 of 184 with model MetricMotif for Validation 3\n",
            "27 - MetricMotif with avg smape 49.04: \n",
            "Model Number: 28 of 184 with model LastValueNaive for Validation 3\n",
            "28 - LastValueNaive with avg smape 26.46: \n",
            "Model Number: 29 of 184 with model LastValueNaive for Validation 3\n",
            "29 - LastValueNaive with avg smape 26.46: \n",
            "Model Number: 30 of 184 with model LastValueNaive for Validation 3\n",
            "30 - LastValueNaive with avg smape 30.2: \n",
            "Model Number: 31 of 184 with model FBProphet for Validation 3\n"
          ]
        },
        {
          "output_type": "stream",
          "name": "stderr",
          "text": [
            "INFO:prophet:Disabling yearly seasonality. Run prophet with yearly_seasonality=True to override this.\n",
            "INFO:prophet:Disabling daily seasonality. Run prophet with daily_seasonality=True to override this.\n",
            "DEBUG:cmdstanpy:input tempfile: /tmp/tmp7syr8mce/qacuxhby.json\n",
            "DEBUG:cmdstanpy:input tempfile: /tmp/tmp7syr8mce/u9b5q5zl.json\n",
            "DEBUG:cmdstanpy:idx 0\n",
            "DEBUG:cmdstanpy:running CmdStan, num_threads: None\n",
            "DEBUG:cmdstanpy:CmdStan args: ['/usr/local/lib/python3.8/dist-packages/prophet/stan_model/prophet_model.bin', 'random', 'seed=54889', 'data', 'file=/tmp/tmp7syr8mce/qacuxhby.json', 'init=/tmp/tmp7syr8mce/u9b5q5zl.json', 'output', 'file=/tmp/tmp7syr8mce/prophet_model8assynok/prophet_model-20230123230306.csv', 'method=optimize', 'algorithm=lbfgs', 'iter=10000']\n",
            "23:03:06 - cmdstanpy - INFO - Chain [1] start processing\n",
            "INFO:cmdstanpy:Chain [1] start processing\n",
            "23:03:07 - cmdstanpy - INFO - Chain [1] done processing\n",
            "INFO:cmdstanpy:Chain [1] done processing\n"
          ]
        },
        {
          "output_type": "stream",
          "name": "stdout",
          "text": [
            "31 - FBProphet with avg smape 60.03: \n",
            "Model Number: 32 of 184 with model AverageValueNaive for Validation 3\n",
            "32 - AverageValueNaive with avg smape 37.71: \n",
            "Model Number: 33 of 184 with model UnivariateMotif for Validation 3\n",
            "33 - UnivariateMotif with avg smape 25.5: \n",
            "Model Number: 34 of 184 with model UnivariateMotif for Validation 3\n"
          ]
        },
        {
          "output_type": "stream",
          "name": "stderr",
          "text": [
            "INFO:prophet:Disabling yearly seasonality. Run prophet with yearly_seasonality=True to override this.\n",
            "INFO:prophet:Disabling daily seasonality. Run prophet with daily_seasonality=True to override this.\n"
          ]
        },
        {
          "output_type": "stream",
          "name": "stdout",
          "text": [
            "34 - UnivariateMotif with avg smape 25.5: \n",
            "Model Number: 35 of 184 with model FBProphet for Validation 3\n"
          ]
        },
        {
          "output_type": "stream",
          "name": "stderr",
          "text": [
            "DEBUG:cmdstanpy:input tempfile: /tmp/tmp7syr8mce/zwcc9w6f.json\n",
            "DEBUG:cmdstanpy:input tempfile: /tmp/tmp7syr8mce/fi74yah5.json\n",
            "DEBUG:cmdstanpy:idx 0\n",
            "DEBUG:cmdstanpy:running CmdStan, num_threads: None\n",
            "DEBUG:cmdstanpy:CmdStan args: ['/usr/local/lib/python3.8/dist-packages/prophet/stan_model/prophet_model.bin', 'random', 'seed=10909', 'data', 'file=/tmp/tmp7syr8mce/zwcc9w6f.json', 'init=/tmp/tmp7syr8mce/fi74yah5.json', 'output', 'file=/tmp/tmp7syr8mce/prophet_model41rm9cp4/prophet_model-20230123230308.csv', 'method=optimize', 'algorithm=lbfgs', 'iter=10000']\n",
            "23:03:08 - cmdstanpy - INFO - Chain [1] start processing\n",
            "INFO:cmdstanpy:Chain [1] start processing\n",
            "23:03:09 - cmdstanpy - INFO - Chain [1] done processing\n",
            "INFO:cmdstanpy:Chain [1] done processing\n"
          ]
        },
        {
          "output_type": "stream",
          "name": "stdout",
          "text": [
            "35 - FBProphet with avg smape 46.27: \n",
            "Model Number: 36 of 184 with model MetricMotif for Validation 3\n",
            "36 - MetricMotif with avg smape 51.4: \n",
            "Model Number: 37 of 184 with model SectionalMotif for Validation 3\n",
            "37 - SectionalMotif with avg smape 48.1: \n",
            "Model Number: 38 of 184 with model AverageValueNaive for Validation 3\n",
            "38 - AverageValueNaive with avg smape 25.82: \n",
            "Model Number: 39 of 184 with model AverageValueNaive for Validation 3\n",
            "39 - AverageValueNaive with avg smape 25.82: \n",
            "Model Number: 40 of 184 with model AverageValueNaive for Validation 3\n",
            "40 - AverageValueNaive with avg smape 25.82: \n",
            "Model Number: 41 of 184 with model AverageValueNaive for Validation 3\n",
            "41 - AverageValueNaive with avg smape 25.82: \n",
            "Model Number: 42 of 184 with model FBProphet for Validation 3\n"
          ]
        },
        {
          "output_type": "stream",
          "name": "stderr",
          "text": [
            "INFO:prophet:Disabling yearly seasonality. Run prophet with yearly_seasonality=True to override this.\n",
            "INFO:prophet:Disabling daily seasonality. Run prophet with daily_seasonality=True to override this.\n",
            "DEBUG:cmdstanpy:input tempfile: /tmp/tmp7syr8mce/zw8vb3ed.json\n",
            "DEBUG:cmdstanpy:input tempfile: /tmp/tmp7syr8mce/y6oy7qt8.json\n",
            "DEBUG:cmdstanpy:idx 0\n",
            "DEBUG:cmdstanpy:running CmdStan, num_threads: None\n",
            "DEBUG:cmdstanpy:CmdStan args: ['/usr/local/lib/python3.8/dist-packages/prophet/stan_model/prophet_model.bin', 'random', 'seed=53027', 'data', 'file=/tmp/tmp7syr8mce/zw8vb3ed.json', 'init=/tmp/tmp7syr8mce/y6oy7qt8.json', 'output', 'file=/tmp/tmp7syr8mce/prophet_modelwoezaunt/prophet_model-20230123230310.csv', 'method=optimize', 'algorithm=lbfgs', 'iter=10000']\n",
            "23:03:10 - cmdstanpy - INFO - Chain [1] start processing\n",
            "INFO:cmdstanpy:Chain [1] start processing\n",
            "23:03:10 - cmdstanpy - INFO - Chain [1] done processing\n",
            "INFO:cmdstanpy:Chain [1] done processing\n",
            "INFO:prophet:Disabling yearly seasonality. Run prophet with yearly_seasonality=True to override this.\n",
            "INFO:prophet:Disabling daily seasonality. Run prophet with daily_seasonality=True to override this.\n",
            "DEBUG:cmdstanpy:input tempfile: /tmp/tmp7syr8mce/xrnrb67l.json\n",
            "DEBUG:cmdstanpy:input tempfile: /tmp/tmp7syr8mce/6pnq3bf2.json\n",
            "DEBUG:cmdstanpy:idx 0\n",
            "DEBUG:cmdstanpy:running CmdStan, num_threads: None\n",
            "DEBUG:cmdstanpy:CmdStan args: ['/usr/local/lib/python3.8/dist-packages/prophet/stan_model/prophet_model.bin', 'random', 'seed=44165', 'data', 'file=/tmp/tmp7syr8mce/xrnrb67l.json', 'init=/tmp/tmp7syr8mce/6pnq3bf2.json', 'output', 'file=/tmp/tmp7syr8mce/prophet_model7mt2abqj/prophet_model-20230123230311.csv', 'method=optimize', 'algorithm=lbfgs', 'iter=10000']\n",
            "23:03:11 - cmdstanpy - INFO - Chain [1] start processing\n",
            "INFO:cmdstanpy:Chain [1] start processing\n"
          ]
        },
        {
          "output_type": "stream",
          "name": "stdout",
          "text": [
            "42 - FBProphet with avg smape 46.39: \n",
            "Model Number: 43 of 184 with model FBProphet for Validation 3\n"
          ]
        },
        {
          "output_type": "stream",
          "name": "stderr",
          "text": [
            "23:03:11 - cmdstanpy - INFO - Chain [1] done processing\n",
            "INFO:cmdstanpy:Chain [1] done processing\n",
            "INFO:prophet:Disabling yearly seasonality. Run prophet with yearly_seasonality=True to override this.\n",
            "INFO:prophet:Disabling daily seasonality. Run prophet with daily_seasonality=True to override this.\n",
            "DEBUG:cmdstanpy:input tempfile: /tmp/tmp7syr8mce/xo8nryfp.json\n",
            "DEBUG:cmdstanpy:input tempfile: /tmp/tmp7syr8mce/x19ctkha.json\n",
            "DEBUG:cmdstanpy:idx 0\n",
            "DEBUG:cmdstanpy:running CmdStan, num_threads: None\n",
            "DEBUG:cmdstanpy:CmdStan args: ['/usr/local/lib/python3.8/dist-packages/prophet/stan_model/prophet_model.bin', 'random', 'seed=30026', 'data', 'file=/tmp/tmp7syr8mce/xo8nryfp.json', 'init=/tmp/tmp7syr8mce/x19ctkha.json', 'output', 'file=/tmp/tmp7syr8mce/prophet_modeljh13f1_i/prophet_model-20230123230312.csv', 'method=optimize', 'algorithm=lbfgs', 'iter=10000']\n",
            "23:03:12 - cmdstanpy - INFO - Chain [1] start processing\n",
            "INFO:cmdstanpy:Chain [1] start processing\n"
          ]
        },
        {
          "output_type": "stream",
          "name": "stdout",
          "text": [
            "43 - FBProphet with avg smape 46.15: \n",
            "Model Number: 44 of 184 with model FBProphet for Validation 3\n"
          ]
        },
        {
          "output_type": "stream",
          "name": "stderr",
          "text": [
            "23:03:13 - cmdstanpy - INFO - Chain [1] done processing\n",
            "INFO:cmdstanpy:Chain [1] done processing\n"
          ]
        },
        {
          "output_type": "stream",
          "name": "stdout",
          "text": [
            "44 - FBProphet with avg smape 45.54: \n",
            "Model Number: 45 of 184 with model MetricMotif for Validation 3\n",
            "45 - MetricMotif with avg smape 65.23: \n",
            "Model Number: 46 of 184 with model Theta for Validation 3\n",
            "46 - Theta with avg smape 25.28: \n",
            "Model Number: 47 of 184 with model MultivariateMotif for Validation 3\n",
            "📈 47 - MultivariateMotif with avg smape 15.13: \n",
            "Model Number: 48 of 184 with model ARIMA for Validation 3\n",
            "48 - ARIMA with avg smape 35.61: \n",
            "Model Number: 49 of 184 with model Ensemble for Validation 3\n",
            "49 - Ensemble with avg smape 15.76: \n",
            "Model Number: 50 of 184 with model UnivariateMotif for Validation 3\n",
            "50 - UnivariateMotif with avg smape 15.39: \n",
            "Model Number: 51 of 184 with model SectionalMotif for Validation 3\n",
            "51 - SectionalMotif with avg smape 54.77: \n",
            "Model Number: 52 of 184 with model MultivariateMotif for Validation 3\n",
            "52 - MultivariateMotif with avg smape 16.9: \n",
            "Model Number: 53 of 184 with model ARIMA for Validation 3\n",
            "53 - ARIMA with avg smape 33.5: \n",
            "Model Number: 54 of 184 with model SectionalMotif for Validation 3\n",
            "54 - SectionalMotif with avg smape 33.96: \n",
            "Model Number: 55 of 184 with model UnivariateMotif for Validation 3\n",
            "55 - UnivariateMotif with avg smape 21.67: \n",
            "Model Number: 56 of 184 with model UnivariateMotif for Validation 3\n",
            "56 - UnivariateMotif with avg smape 21.67: \n",
            "Model Number: 57 of 184 with model ARIMA for Validation 3\n",
            "57 - ARIMA with avg smape 53.43: \n",
            "Model Number: 58 of 184 with model ARIMA for Validation 3\n",
            "58 - ARIMA with avg smape 33.02: \n",
            "Model Number: 59 of 184 with model MultivariateMotif for Validation 3\n",
            "59 - MultivariateMotif with avg smape 17.59: \n",
            "Model Number: 60 of 184 with model MultivariateMotif for Validation 3\n",
            "60 - MultivariateMotif with avg smape 17.59: \n",
            "Model Number: 61 of 184 with model MetricMotif for Validation 3\n",
            "61 - MetricMotif with avg smape 16.41: \n",
            "Model Number: 62 of 184 with model MetricMotif for Validation 3\n",
            "62 - MetricMotif with avg smape 28.38: \n",
            "Model Number: 63 of 184 with model MetricMotif for Validation 3\n",
            "63 - MetricMotif with avg smape 60.59: \n",
            "Model Number: 64 of 184 with model ARIMA for Validation 3\n"
          ]
        },
        {
          "output_type": "stream",
          "name": "stderr",
          "text": [
            "INFO:prophet:Disabling yearly seasonality. Run prophet with yearly_seasonality=True to override this.\n",
            "INFO:prophet:Disabling daily seasonality. Run prophet with daily_seasonality=True to override this.\n",
            "DEBUG:cmdstanpy:input tempfile: /tmp/tmp7syr8mce/o9je1dgk.json\n",
            "DEBUG:cmdstanpy:input tempfile: /tmp/tmp7syr8mce/qrre6zjb.json\n",
            "DEBUG:cmdstanpy:idx 0\n",
            "DEBUG:cmdstanpy:running CmdStan, num_threads: None\n",
            "DEBUG:cmdstanpy:CmdStan args: ['/usr/local/lib/python3.8/dist-packages/prophet/stan_model/prophet_model.bin', 'random', 'seed=26084', 'data', 'file=/tmp/tmp7syr8mce/o9je1dgk.json', 'init=/tmp/tmp7syr8mce/qrre6zjb.json', 'output', 'file=/tmp/tmp7syr8mce/prophet_modelzixsk4fg/prophet_model-20230123230329.csv', 'method=optimize', 'algorithm=lbfgs', 'iter=10000']\n",
            "23:03:29 - cmdstanpy - INFO - Chain [1] start processing\n",
            "INFO:cmdstanpy:Chain [1] start processing\n"
          ]
        },
        {
          "output_type": "stream",
          "name": "stdout",
          "text": [
            "64 - ARIMA with avg smape 35.94: \n",
            "Model Number: 65 of 184 with model FBProphet for Validation 3\n"
          ]
        },
        {
          "output_type": "stream",
          "name": "stderr",
          "text": [
            "23:03:29 - cmdstanpy - INFO - Chain [1] done processing\n",
            "INFO:cmdstanpy:Chain [1] done processing\n",
            "INFO:prophet:Disabling yearly seasonality. Run prophet with yearly_seasonality=True to override this.\n",
            "INFO:prophet:Disabling daily seasonality. Run prophet with daily_seasonality=True to override this.\n",
            "DEBUG:cmdstanpy:input tempfile: /tmp/tmp7syr8mce/oslon6fl.json\n",
            "DEBUG:cmdstanpy:input tempfile: /tmp/tmp7syr8mce/0uhqtq62.json\n"
          ]
        },
        {
          "output_type": "stream",
          "name": "stdout",
          "text": [
            "65 - FBProphet with avg smape 45.68: \n",
            "Model Number: 66 of 184 with model FBProphet for Validation 3\n"
          ]
        },
        {
          "output_type": "stream",
          "name": "stderr",
          "text": [
            "DEBUG:cmdstanpy:idx 0\n",
            "DEBUG:cmdstanpy:running CmdStan, num_threads: None\n",
            "DEBUG:cmdstanpy:CmdStan args: ['/usr/local/lib/python3.8/dist-packages/prophet/stan_model/prophet_model.bin', 'random', 'seed=90870', 'data', 'file=/tmp/tmp7syr8mce/oslon6fl.json', 'init=/tmp/tmp7syr8mce/0uhqtq62.json', 'output', 'file=/tmp/tmp7syr8mce/prophet_model5tj0bdsz/prophet_model-20230123230330.csv', 'method=optimize', 'algorithm=lbfgs', 'iter=10000']\n",
            "23:03:30 - cmdstanpy - INFO - Chain [1] start processing\n",
            "INFO:cmdstanpy:Chain [1] start processing\n",
            "23:03:30 - cmdstanpy - INFO - Chain [1] done processing\n",
            "INFO:cmdstanpy:Chain [1] done processing\n"
          ]
        },
        {
          "output_type": "stream",
          "name": "stdout",
          "text": [
            "66 - FBProphet with avg smape 196.55: \n",
            "Model Number: 67 of 184 with model Theta for Validation 3\n",
            "67 - Theta with avg smape 31.92: \n",
            "Model Number: 68 of 184 with model UnobservedComponents for Validation 3\n",
            "68 - UnobservedComponents with avg smape 129.46: \n",
            "Model Number: 69 of 184 with model MultivariateMotif for Validation 3\n",
            "69 - MultivariateMotif with avg smape 26.74: \n",
            "Model Number: 70 of 184 with model MultivariateMotif for Validation 3\n",
            "70 - MultivariateMotif with avg smape 26.74: \n",
            "Model Number: 71 of 184 with model MetricMotif for Validation 3\n",
            "71 - MetricMotif with avg smape 44.44: \n",
            "Model Number: 72 of 184 with model MetricMotif for Validation 3\n",
            "72 - MetricMotif with avg smape 58.37: \n",
            "Model Number: 73 of 184 with model SectionalMotif for Validation 3\n",
            "73 - SectionalMotif with avg smape 25.56: \n",
            "Model Number: 74 of 184 with model SectionalMotif for Validation 3\n",
            "74 - SectionalMotif with avg smape 20.59: \n",
            "Model Number: 75 of 184 with model GLS for Validation 3\n",
            "75 - GLS with avg smape 93.26: \n",
            "Model Number: 76 of 184 with model SectionalMotif for Validation 3\n",
            "76 - SectionalMotif with avg smape 26.3: \n",
            "Model Number: 77 of 184 with model MultivariateRegression for Validation 3\n",
            "77 - MultivariateRegression with avg smape 36.99: \n",
            "Model Number: 78 of 184 with model MultivariateRegression for Validation 3\n",
            "78 - MultivariateRegression with avg smape 36.99: \n",
            "Model Number: 79 of 184 with model MultivariateMotif for Validation 3\n",
            "79 - MultivariateMotif with avg smape 29.43: \n",
            "Model Number: 80 of 184 with model ARIMA for Validation 3\n",
            "80 - ARIMA with avg smape 42.53: \n",
            "Model Number: 81 of 184 with model SectionalMotif for Validation 3\n",
            "81 - SectionalMotif with avg smape 103.56: \n",
            "Model Number: 82 of 184 with model ARIMA for Validation 3\n",
            "82 - ARIMA with avg smape 38.44: \n",
            "Model Number: 83 of 184 with model ARIMA for Validation 3\n",
            "83 - ARIMA with avg smape 35.37: \n",
            "Model Number: 84 of 184 with model ARIMA for Validation 3\n",
            "84 - ARIMA with avg smape 36.29: \n",
            "Model Number: 85 of 184 with model MultivariateRegression for Validation 3\n",
            "85 - MultivariateRegression with avg smape 32.26: \n",
            "Model Number: 86 of 184 with model MultivariateRegression for Validation 3\n",
            "86 - MultivariateRegression with avg smape 32.26: \n",
            "Model Number: 87 of 184 with model MultivariateRegression for Validation 3\n",
            "87 - MultivariateRegression with avg smape 29.12: \n",
            "Model Number: 88 of 184 with model MultivariateRegression for Validation 3\n",
            "88 - MultivariateRegression with avg smape 32.26: \n",
            "Model Number: 89 of 184 with model MultivariateRegression for Validation 3\n",
            "89 - MultivariateRegression with avg smape 32.26: \n",
            "Model Number: 90 of 184 with model SectionalMotif for Validation 3\n",
            "90 - SectionalMotif with avg smape 22.82: \n",
            "Model Number: 91 of 184 with model SectionalMotif for Validation 3\n",
            "91 - SectionalMotif with avg smape 26.96: \n",
            "Model Number: 92 of 184 with model NVAR for Validation 3\n",
            "92 - NVAR with avg smape 52.28: \n",
            "Model Number: 93 of 184 with model MultivariateRegression for Validation 3\n",
            "93 - MultivariateRegression with avg smape 25.61: \n",
            "Model Number: 94 of 184 with model MultivariateRegression for Validation 3\n",
            "94 - MultivariateRegression with avg smape 25.61: \n",
            "Model Number: 95 of 184 with model NVAR for Validation 3\n",
            "95 - NVAR with avg smape 46.08: \n",
            "Model Number: 96 of 184 with model ETS for Validation 3\n",
            "96 - ETS with avg smape 135.12: \n",
            "Model Number: 97 of 184 with model ETS for Validation 3\n",
            "97 - ETS with avg smape 109.47: \n",
            "Model Number: 98 of 184 with model ETS for Validation 3\n",
            "98 - ETS with avg smape 27.6: \n",
            "Model Number: 99 of 184 with model NVAR for Validation 3\n",
            "99 - NVAR with avg smape 50.55: \n",
            "Model Number: 100 of 184 with model NVAR for Validation 3\n",
            "100 - NVAR with avg smape 55.27: \n",
            "Model Number: 101 of 184 with model NVAR for Validation 3\n",
            "101 - NVAR with avg smape 48.59: \n",
            "Model Number: 102 of 184 with model NVAR for Validation 3\n",
            "102 - NVAR with avg smape 38.13: \n",
            "Model Number: 103 of 184 with model UnobservedComponents for Validation 3\n",
            "103 - UnobservedComponents with avg smape 34.41: \n",
            "Model Number: 104 of 184 with model UnobservedComponents for Validation 3\n",
            "104 - UnobservedComponents with avg smape 42.23: \n",
            "Model Number: 105 of 184 with model NVAR for Validation 3\n",
            "105 - NVAR with avg smape 31.06: \n",
            "Model Number: 106 of 184 with model NVAR for Validation 3\n",
            "106 - NVAR with avg smape 24.68: \n",
            "Model Number: 107 of 184 with model ConstantNaive for Validation 3\n",
            "107 - ConstantNaive with avg smape 29.1: \n",
            "Model Number: 108 of 184 with model NVAR for Validation 3\n",
            "108 - NVAR with avg smape 40.14: \n",
            "Model Number: 109 of 184 with model UnobservedComponents for Validation 3\n",
            "109 - UnobservedComponents with avg smape 20.04: \n",
            "Model Number: 110 of 184 with model UnobservedComponents for Validation 3\n",
            "110 - UnobservedComponents with avg smape 64.83: \n",
            "Model Number: 111 of 184 with model ConstantNaive for Validation 3\n",
            "111 - ConstantNaive with avg smape 26.8: \n",
            "Model Number: 112 of 184 with model UnobservedComponents for Validation 3\n",
            "112 - UnobservedComponents with avg smape 43.07: \n",
            "Model Number: 113 of 184 with model UnobservedComponents for Validation 3\n",
            "113 - UnobservedComponents with avg smape 19.24: \n",
            "Model Number: 114 of 184 with model ConstantNaive for Validation 3\n",
            "114 - ConstantNaive with avg smape 33.69: \n",
            "Model Number: 115 of 184 with model ConstantNaive for Validation 3\n",
            "115 - ConstantNaive with avg smape 33.69: \n",
            "Model Number: 116 of 184 with model ETS for Validation 3\n",
            "116 - ETS with avg smape 28.52: \n",
            "Model Number: 117 of 184 with model ConstantNaive for Validation 3\n",
            "117 - ConstantNaive with avg smape 23.73: \n",
            "Model Number: 118 of 184 with model ConstantNaive for Validation 3\n",
            "118 - ConstantNaive with avg smape 23.73: \n",
            "Model Number: 119 of 184 with model ConstantNaive for Validation 3\n",
            "119 - ConstantNaive with avg smape 23.73: \n",
            "Model Number: 120 of 184 with model ConstantNaive for Validation 3\n",
            "120 - ConstantNaive with avg smape 34.01: \n",
            "Model Number: 121 of 184 with model ETS for Validation 3\n",
            "121 - ETS with avg smape 24.47: \n",
            "Model Number: 122 of 184 with model ETS for Validation 3\n",
            "122 - ETS with avg smape 23.63: \n",
            "Model Number: 123 of 184 with model ConstantNaive for Validation 3\n",
            "123 - ConstantNaive with avg smape 34.64: \n",
            "Model Number: 124 of 184 with model UnobservedComponents for Validation 3\n",
            "124 - UnobservedComponents with avg smape 42.31: \n",
            "Model Number: 125 of 184 with model UnobservedComponents for Validation 3\n",
            "125 - UnobservedComponents with avg smape 27.55: \n",
            "Model Number: 126 of 184 with model ETS for Validation 3\n",
            "126 - ETS with avg smape 25.85: \n",
            "Model Number: 127 of 184 with model ETS for Validation 3\n",
            "127 - ETS with avg smape 19.11: \n",
            "Model Number: 128 of 184 with model WindowRegression for Validation 3\n",
            "128 - WindowRegression with avg smape 40.22: \n",
            "Model Number: 129 of 184 with model WindowRegression for Validation 3\n",
            "129 - WindowRegression with avg smape 75.26: \n",
            "Model Number: 130 of 184 with model GLS for Validation 3\n",
            "130 - GLS with avg smape 115.91: \n",
            "Model Number: 131 of 184 with model SeasonalNaive for Validation 3\n",
            "131 - SeasonalNaive with avg smape 32.15: \n",
            "Model Number: 132 of 184 with model WindowRegression for Validation 3\n",
            "132 - WindowRegression with avg smape 75.63: \n",
            "Model Number: 133 of 184 with model ETS for Validation 3\n",
            "133 - ETS with avg smape 29.49: \n",
            "Model Number: 134 of 184 with model SeasonalNaive for Validation 3\n",
            "134 - SeasonalNaive with avg smape 26.77: \n",
            "Model Number: 135 of 184 with model SeasonalNaive for Validation 3\n",
            "135 - SeasonalNaive with avg smape 26.77: \n",
            "Model Number: 136 of 184 with model SeasonalNaive for Validation 3\n",
            "136 - SeasonalNaive with avg smape 25.14: \n",
            "Model Number: 137 of 184 with model WindowRegression for Validation 3\n",
            "137 - WindowRegression with avg smape 35.78: \n",
            "Model Number: 138 of 184 with model SeasonalNaive for Validation 3\n",
            "138 - SeasonalNaive with avg smape 24.76: \n",
            "Model Number: 139 of 184 with model SeasonalNaive for Validation 3\n",
            "139 - SeasonalNaive with avg smape 25.67: \n",
            "Model Number: 140 of 184 with model WindowRegression for Validation 3\n",
            "140 - WindowRegression with avg smape 50.21: \n",
            "Model Number: 141 of 184 with model SeasonalNaive for Validation 3\n",
            "141 - SeasonalNaive with avg smape 27.65: \n",
            "Model Number: 142 of 184 with model SeasonalNaive for Validation 3\n",
            "142 - SeasonalNaive with avg smape 88.63: \n",
            "Model Number: 143 of 184 with model SeasonalNaive for Validation 3\n",
            "143 - SeasonalNaive with avg smape 89.77: \n",
            "Model Number: 144 of 184 with model WindowRegression for Validation 3\n",
            "144 - WindowRegression with avg smape 50.02: \n",
            "Model Number: 145 of 184 with model UnivariateRegression for Validation 3\n",
            "145 - UnivariateRegression with avg smape 30.56: \n",
            "Model Number: 146 of 184 with model WindowRegression for Validation 3\n",
            "146 - WindowRegression with avg smape 43.28: \n",
            "Model Number: 147 of 184 with model WindowRegression for Validation 3\n",
            "147 - WindowRegression with avg smape 43.28: \n",
            "Model Number: 148 of 184 with model WindowRegression for Validation 3\n",
            "148 - WindowRegression with avg smape 44.3: \n",
            "Model Number: 149 of 184 with model Theta for Validation 3\n",
            "149 - Theta with avg smape 89.81: \n",
            "Model Number: 150 of 184 with model DatepartRegression for Validation 3\n",
            "150 - DatepartRegression with avg smape 31.62: \n",
            "Model Number: 151 of 184 with model GLS for Validation 3\n",
            "151 - GLS with avg smape 116.05: \n",
            "Model Number: 152 of 184 with model GLS for Validation 3\n",
            "152 - GLS with avg smape 115.73: \n",
            "Model Number: 153 of 184 with model Theta for Validation 3\n"
          ]
        },
        {
          "output_type": "stream",
          "name": "stderr",
          "text": [
            "/usr/local/lib/python3.8/dist-packages/autots/tools/probabilistic.py:67: RuntimeWarning:\n",
            "\n",
            "invalid value encountered in true_divide\n",
            "\n",
            "/usr/local/lib/python3.8/dist-packages/autots/tools/probabilistic.py:68: RuntimeWarning:\n",
            "\n",
            "divide by zero encountered in true_divide\n",
            "\n"
          ]
        },
        {
          "output_type": "stream",
          "name": "stdout",
          "text": [
            "153 - Theta with avg smape 90.08: \n",
            "Model Number: 154 of 184 with model GLM for Validation 3\n",
            "154 - GLM with avg smape 40.43: \n",
            "Model Number: 155 of 184 with model Theta for Validation 3\n",
            "155 - Theta with avg smape 27.78: \n",
            "Model Number: 156 of 184 with model DatepartRegression for Validation 3\n"
          ]
        },
        {
          "output_type": "stream",
          "name": "stderr",
          "text": [
            "/usr/local/lib/python3.8/dist-packages/sklearn/neural_network/_multilayer_perceptron.py:549: ConvergenceWarning:\n",
            "\n",
            "lbfgs failed to converge (status=1):\n",
            "STOP: TOTAL NO. of ITERATIONS REACHED LIMIT.\n",
            "\n",
            "Increase the number of iterations (max_iter) or scale the data as shown in:\n",
            "    https://scikit-learn.org/stable/modules/preprocessing.html\n",
            "\n"
          ]
        },
        {
          "output_type": "stream",
          "name": "stdout",
          "text": [
            "156 - DatepartRegression with avg smape 109.9: \n",
            "Model Number: 157 of 184 with model Theta for Validation 3\n",
            "157 - Theta with avg smape 109.23: \n",
            "Model Number: 158 of 184 with model DatepartRegression for Validation 3\n"
          ]
        },
        {
          "output_type": "stream",
          "name": "stderr",
          "text": [
            "/usr/local/lib/python3.8/dist-packages/sklearn/neural_network/_multilayer_perceptron.py:549: ConvergenceWarning:\n",
            "\n",
            "lbfgs failed to converge (status=1):\n",
            "STOP: TOTAL NO. of ITERATIONS REACHED LIMIT.\n",
            "\n",
            "Increase the number of iterations (max_iter) or scale the data as shown in:\n",
            "    https://scikit-learn.org/stable/modules/preprocessing.html\n",
            "\n"
          ]
        },
        {
          "output_type": "stream",
          "name": "stdout",
          "text": [
            "158 - DatepartRegression with avg smape 113.32: \n",
            "Model Number: 159 of 184 with model DatepartRegression for Validation 3\n"
          ]
        },
        {
          "output_type": "stream",
          "name": "stderr",
          "text": [
            "/usr/local/lib/python3.8/dist-packages/sklearn/neural_network/_multilayer_perceptron.py:549: ConvergenceWarning:\n",
            "\n",
            "lbfgs failed to converge (status=1):\n",
            "STOP: TOTAL NO. of ITERATIONS REACHED LIMIT.\n",
            "\n",
            "Increase the number of iterations (max_iter) or scale the data as shown in:\n",
            "    https://scikit-learn.org/stable/modules/preprocessing.html\n",
            "\n"
          ]
        },
        {
          "output_type": "stream",
          "name": "stdout",
          "text": [
            "159 - DatepartRegression with avg smape 118.72: \n",
            "Model Number: 160 of 184 with model GLM for Validation 3\n"
          ]
        },
        {
          "output_type": "stream",
          "name": "stderr",
          "text": [
            "/usr/local/lib/python3.8/dist-packages/statsmodels/genmod/families/links.py:188: RuntimeWarning:\n",
            "\n",
            "overflow encountered in exp\n",
            "\n"
          ]
        },
        {
          "output_type": "stream",
          "name": "stdout",
          "text": [
            "160 - GLM with avg smape 35.29: \n",
            "Model Number: 161 of 184 with model GLM for Validation 3\n"
          ]
        },
        {
          "output_type": "stream",
          "name": "stderr",
          "text": [
            "/usr/local/lib/python3.8/dist-packages/statsmodels/genmod/families/links.py:188: RuntimeWarning:\n",
            "\n",
            "overflow encountered in exp\n",
            "\n"
          ]
        },
        {
          "output_type": "stream",
          "name": "stdout",
          "text": [
            "161 - GLM with avg smape 35.29: \n",
            "Model Number: 162 of 184 with model Theta for Validation 3\n",
            "162 - Theta with avg smape 116.52: \n",
            "Model Number: 163 of 184 with model GLS for Validation 3\n",
            "163 - GLS with avg smape 73.56: \n",
            "Model Number: 164 of 184 with model GLS for Validation 3\n",
            "164 - GLS with avg smape 27.82: \n",
            "Model Number: 165 of 184 with model GLS for Validation 3\n",
            "165 - GLS with avg smape 26.45: \n",
            "Model Number: 166 of 184 with model GLM for Validation 3\n",
            "166 - GLM with avg smape 32.6: \n",
            "Model Number: 167 of 184 with model UnivariateRegression for Validation 3\n",
            "167 - UnivariateRegression with avg smape 41.95: \n",
            "Model Number: 168 of 184 with model GLS for Validation 3\n",
            "168 - GLS with avg smape 23.0: \n",
            "Model Number: 169 of 184 with model Theta for Validation 3\n",
            "169 - Theta with avg smape 30.79: \n",
            "Model Number: 170 of 184 with model Theta for Validation 3\n",
            "170 - Theta with avg smape 35.08: \n",
            "Model Number: 171 of 184 with model DatepartRegression for Validation 3\n"
          ]
        },
        {
          "output_type": "stream",
          "name": "stderr",
          "text": [
            "/usr/local/lib/python3.8/dist-packages/sklearn/neural_network/_multilayer_perceptron.py:549: ConvergenceWarning:\n",
            "\n",
            "lbfgs failed to converge (status=1):\n",
            "STOP: TOTAL NO. of ITERATIONS REACHED LIMIT.\n",
            "\n",
            "Increase the number of iterations (max_iter) or scale the data as shown in:\n",
            "    https://scikit-learn.org/stable/modules/preprocessing.html\n",
            "\n"
          ]
        },
        {
          "output_type": "stream",
          "name": "stdout",
          "text": [
            "171 - DatepartRegression with avg smape 132.02: \n",
            "Model Number: 172 of 184 with model DatepartRegression for Validation 3\n"
          ]
        },
        {
          "output_type": "stream",
          "name": "stderr",
          "text": [
            "/usr/local/lib/python3.8/dist-packages/sklearn/neural_network/_multilayer_perceptron.py:549: ConvergenceWarning:\n",
            "\n",
            "lbfgs failed to converge (status=1):\n",
            "STOP: TOTAL NO. of ITERATIONS REACHED LIMIT.\n",
            "\n",
            "Increase the number of iterations (max_iter) or scale the data as shown in:\n",
            "    https://scikit-learn.org/stable/modules/preprocessing.html\n",
            "\n"
          ]
        },
        {
          "output_type": "stream",
          "name": "stdout",
          "text": [
            "172 - DatepartRegression with avg smape 30.56: \n",
            "Model Number: 173 of 184 with model GLM for Validation 3\n"
          ]
        },
        {
          "output_type": "stream",
          "name": "stderr",
          "text": [
            "/usr/local/lib/python3.8/dist-packages/statsmodels/genmod/families/links.py:188: RuntimeWarning:\n",
            "\n",
            "overflow encountered in exp\n",
            "\n"
          ]
        },
        {
          "output_type": "stream",
          "name": "stdout",
          "text": [
            "173 - GLM with avg smape 23.45: \n",
            "Model Number: 174 of 184 with model DatepartRegression for Validation 3\n"
          ]
        },
        {
          "output_type": "stream",
          "name": "stderr",
          "text": [
            "/usr/local/lib/python3.8/dist-packages/sklearn/neural_network/_multilayer_perceptron.py:549: ConvergenceWarning:\n",
            "\n",
            "lbfgs failed to converge (status=1):\n",
            "STOP: TOTAL NO. of ITERATIONS REACHED LIMIT.\n",
            "\n",
            "Increase the number of iterations (max_iter) or scale the data as shown in:\n",
            "    https://scikit-learn.org/stable/modules/preprocessing.html\n",
            "\n"
          ]
        },
        {
          "output_type": "stream",
          "name": "stdout",
          "text": [
            "174 - DatepartRegression with avg smape 29.98: \n",
            "Model Number: 175 of 184 with model GLS for Validation 3\n",
            "175 - GLS with avg smape 78.97: \n",
            "Model Number: 176 of 184 with model DatepartRegression for Validation 3\n",
            "176 - DatepartRegression with avg smape 47.8: \n",
            "Model Number: 177 of 184 with model DatepartRegression for Validation 3\n"
          ]
        },
        {
          "output_type": "stream",
          "name": "stderr",
          "text": [
            "[Parallel(n_jobs=-2)]: Using backend SequentialBackend with 1 concurrent workers.\n",
            "[Parallel(n_jobs=-2)]: Done 100 out of 100 | elapsed:    0.3s finished\n",
            "[Parallel(n_jobs=1)]: Using backend SequentialBackend with 1 concurrent workers.\n",
            "[Parallel(n_jobs=1)]: Done 100 out of 100 | elapsed:    0.0s finished\n"
          ]
        },
        {
          "output_type": "stream",
          "name": "stdout",
          "text": [
            "177 - DatepartRegression with avg smape 21.54: \n",
            "Model Number: 178 of 184 with model GLM for Validation 3\n"
          ]
        },
        {
          "output_type": "stream",
          "name": "stderr",
          "text": [
            "/usr/local/lib/python3.8/dist-packages/statsmodels/genmod/families/links.py:188: RuntimeWarning:\n",
            "\n",
            "overflow encountered in exp\n",
            "\n"
          ]
        },
        {
          "output_type": "stream",
          "name": "stdout",
          "text": [
            "178 - GLM with avg smape 22.57: \n",
            "Model Number: 179 of 184 with model GLM for Validation 3\n",
            "179 - GLM with avg smape 128.41: \n",
            "Model Number: 180 of 184 with model GLM for Validation 3\n",
            "180 - GLM with avg smape 166.59: \n",
            "Model Number: 181 of 184 with model GLM for Validation 3\n",
            "181 - GLM with avg smape 195.64: \n",
            "Model Number: 182 of 184 with model UnivariateRegression for Validation 3\n"
          ]
        },
        {
          "output_type": "stream",
          "name": "stderr",
          "text": [
            "/usr/local/lib/python3.8/dist-packages/statsmodels/genmod/generalized_linear_model.py:293: DomainWarning:\n",
            "\n",
            "The inverse_power link function does not respect the domain of the Gamma family.\n",
            "\n"
          ]
        },
        {
          "output_type": "stream",
          "name": "stdout",
          "text": [
            "182 - UnivariateRegression with avg smape 45.27: \n",
            "Model Number: 183 of 184 with model UnivariateRegression for Validation 3\n",
            "183 - UnivariateRegression with avg smape 75.52: \n",
            "Model Number: 184 of 184 with model UnivariateRegression for Validation 3\n"
          ]
        },
        {
          "output_type": "stream",
          "name": "stderr",
          "text": [
            "/usr/local/lib/python3.8/dist-packages/sklearn/linear_model/_ridge.py:157: LinAlgWarning:\n",
            "\n",
            "Ill-conditioned matrix (rcond=1.69981e-19): result may not be accurate.\n",
            "\n"
          ]
        },
        {
          "output_type": "stream",
          "name": "stdout",
          "text": [
            "184 - UnivariateRegression with avg smape 87.6: \n",
            "            Daily Deceased\n",
            "2022-01-19      329.375002\n",
            "2022-01-20      311.689542\n",
            "2022-01-21      329.685536\n",
            "2022-01-22      318.237237\n",
            "2022-01-23      274.625587\n",
            "2022-01-24      244.949981\n",
            "2022-01-25      350.437115\n",
            "2022-01-26      329.375002\n",
            "2022-01-27      311.689542\n",
            "2022-01-28      329.685536\n",
            "2022-01-29      318.237237\n",
            "2022-01-30      274.625587\n",
            "2022-01-31      244.949981\n",
            "2022-02-01      350.437115\n",
            "2022-02-02      329.375002\n",
            "2022-02-03      311.689542\n",
            "2022-02-04      329.685536\n",
            "2022-02-05      318.237237\n",
            "2022-02-06      274.625587\n",
            "2022-02-07      244.949981\n",
            "2022-02-08      350.437115\n",
            "2022-02-09      329.375002\n",
            "2022-02-10      311.689542\n",
            "2022-02-11      329.685536\n",
            "2022-02-12      318.237237\n",
            "2022-02-13      274.625587\n",
            "2022-02-14      244.949981\n",
            "2022-02-15      350.437115\n",
            "2022-02-16      329.375002\n",
            "2022-02-17      311.689542\n"
          ]
        }
      ]
    },
    {
      "cell_type": "code",
      "source": [],
      "metadata": {
        "id": "xFhIV9YjsDqD"
      },
      "execution_count": null,
      "outputs": []
    }
  ]
}